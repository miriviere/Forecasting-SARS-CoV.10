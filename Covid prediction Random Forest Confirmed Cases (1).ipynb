{
 "cells": [
  {
   "cell_type": "markdown",
   "metadata": {},
   "source": [
    "# Covid prediction Random Forest Confirmed Cases"
   ]
  },
  {
   "cell_type": "markdown",
   "metadata": {},
   "source": [
    "### Loading libraries"
   ]
  },
  {
   "cell_type": "code",
   "execution_count": 2,
   "metadata": {},
   "outputs": [],
   "source": [
    "import pandas as pd\n",
    "import pandas as pd \n",
    "import random"
   ]
  },
  {
   "cell_type": "code",
   "execution_count": 3,
   "metadata": {},
   "outputs": [],
   "source": [
    "import math\n",
    "import time\n",
    "import datetime\n",
    "import operator \n",
    "import statsmodels.api as sm\n",
    "from statsmodels.tsa.stattools import adfuller"
   ]
  },
  {
   "cell_type": "code",
   "execution_count": 4,
   "metadata": {},
   "outputs": [],
   "source": [
    "from sklearn.linear_model import LinearRegression, BayesianRidge\n",
    "from sklearn.model_selection import RandomizedSearchCV, train_test_split\n",
    "from sklearn.preprocessing import PolynomialFeatures\n",
    "from sklearn.tree import DecisionTreeRegressor\n",
    "from sklearn.svm import SVR\n",
    "from sklearn.metrics import mean_squared_error, mean_absolute_error, explained_variance_score"
   ]
  },
  {
   "cell_type": "code",
   "execution_count": 5,
   "metadata": {},
   "outputs": [],
   "source": [
    "import numpy as np \n",
    "import matplotlib.pyplot as plt\n",
    "import matplotlib.colors as mcolors\n",
    "import seaborn as sns\n",
    "plt.style.use('seaborn-dark')\n",
    "#print(plt.style.available)\n",
    "%matplotlib inline\n",
    "\n",
    "from sklearn import metrics"
   ]
  },
  {
   "cell_type": "code",
   "execution_count": 6,
   "metadata": {},
   "outputs": [],
   "source": [
    "from sklearn.ensemble import RandomForestRegressor \n",
    "from sklearn.model_selection import GridSearchCV"
   ]
  },
  {
   "cell_type": "code",
   "execution_count": 7,
   "metadata": {},
   "outputs": [],
   "source": [
    "import warnings\n",
    "warnings.filterwarnings(\"ignore\")"
   ]
  },
  {
   "cell_type": "markdown",
   "metadata": {},
   "source": [
    "### Preparation for predictions"
   ]
  },
  {
   "cell_type": "markdown",
   "metadata": {},
   "source": [
    "#### Data Loading"
   ]
  },
  {
   "cell_type": "code",
   "execution_count": 8,
   "metadata": {},
   "outputs": [
    {
     "data": {
      "text/html": [
       "<div>\n",
       "<style scoped>\n",
       "    .dataframe tbody tr th:only-of-type {\n",
       "        vertical-align: middle;\n",
       "    }\n",
       "\n",
       "    .dataframe tbody tr th {\n",
       "        vertical-align: top;\n",
       "    }\n",
       "\n",
       "    .dataframe thead th {\n",
       "        text-align: right;\n",
       "    }\n",
       "</style>\n",
       "<table border=\"1\" class=\"dataframe\">\n",
       "  <thead>\n",
       "    <tr style=\"text-align: right;\">\n",
       "      <th></th>\n",
       "      <th>ObservationDate</th>\n",
       "      <th>Country</th>\n",
       "      <th>Continent</th>\n",
       "      <th>Confirmed</th>\n",
       "      <th>Deaths</th>\n",
       "      <th>Recovered</th>\n",
       "      <th>Active Cases</th>\n",
       "      <th>Population</th>\n",
       "      <th>Area (sq. mi.)</th>\n",
       "      <th>Pop. Density (per sq. mi.)</th>\n",
       "      <th>Net migration</th>\n",
       "      <th>GDP ($ per capita)</th>\n",
       "    </tr>\n",
       "  </thead>\n",
       "  <tbody>\n",
       "    <tr>\n",
       "      <th>0</th>\n",
       "      <td>01/22/2020</td>\n",
       "      <td>Hong Kong</td>\n",
       "      <td>Asia</td>\n",
       "      <td>0.0</td>\n",
       "      <td>0.0</td>\n",
       "      <td>0.0</td>\n",
       "      <td>0.0</td>\n",
       "      <td>6940432.0</td>\n",
       "      <td>1092.0</td>\n",
       "      <td>6355,7</td>\n",
       "      <td>5,24</td>\n",
       "      <td>28800.0</td>\n",
       "    </tr>\n",
       "    <tr>\n",
       "      <th>1</th>\n",
       "      <td>01/22/2020</td>\n",
       "      <td>Japan</td>\n",
       "      <td>Asia</td>\n",
       "      <td>2.0</td>\n",
       "      <td>0.0</td>\n",
       "      <td>0.0</td>\n",
       "      <td>2.0</td>\n",
       "      <td>127463611.0</td>\n",
       "      <td>377835.0</td>\n",
       "      <td>337,4</td>\n",
       "      <td>0</td>\n",
       "      <td>28200.0</td>\n",
       "    </tr>\n",
       "    <tr>\n",
       "      <th>2</th>\n",
       "      <td>01/22/2020</td>\n",
       "      <td>Macao</td>\n",
       "      <td>Asia</td>\n",
       "      <td>1.0</td>\n",
       "      <td>0.0</td>\n",
       "      <td>0.0</td>\n",
       "      <td>1.0</td>\n",
       "      <td>453125.0</td>\n",
       "      <td>28.0</td>\n",
       "      <td>16183,0</td>\n",
       "      <td>4,86</td>\n",
       "      <td>19400.0</td>\n",
       "    </tr>\n",
       "    <tr>\n",
       "      <th>3</th>\n",
       "      <td>01/22/2020</td>\n",
       "      <td>South Korea</td>\n",
       "      <td>Asia</td>\n",
       "      <td>1.0</td>\n",
       "      <td>0.0</td>\n",
       "      <td>0.0</td>\n",
       "      <td>1.0</td>\n",
       "      <td>48846823.0</td>\n",
       "      <td>98480.0</td>\n",
       "      <td>496,0</td>\n",
       "      <td>0</td>\n",
       "      <td>17800.0</td>\n",
       "    </tr>\n",
       "    <tr>\n",
       "      <th>4</th>\n",
       "      <td>01/22/2020</td>\n",
       "      <td>Taiwan</td>\n",
       "      <td>Asia</td>\n",
       "      <td>1.0</td>\n",
       "      <td>0.0</td>\n",
       "      <td>0.0</td>\n",
       "      <td>1.0</td>\n",
       "      <td>23036087.0</td>\n",
       "      <td>35980.0</td>\n",
       "      <td>640,3</td>\n",
       "      <td>0</td>\n",
       "      <td>23400.0</td>\n",
       "    </tr>\n",
       "  </tbody>\n",
       "</table>\n",
       "</div>"
      ],
      "text/plain": [
       "  ObservationDate      Country Continent  Confirmed  Deaths  Recovered  \\\n",
       "0      01/22/2020    Hong Kong      Asia        0.0     0.0        0.0   \n",
       "1      01/22/2020        Japan      Asia        2.0     0.0        0.0   \n",
       "2      01/22/2020        Macao      Asia        1.0     0.0        0.0   \n",
       "3      01/22/2020  South Korea      Asia        1.0     0.0        0.0   \n",
       "4      01/22/2020       Taiwan      Asia        1.0     0.0        0.0   \n",
       "\n",
       "   Active Cases   Population  Area (sq. mi.) Pop. Density (per sq. mi.)  \\\n",
       "0           0.0    6940432.0          1092.0                     6355,7   \n",
       "1           2.0  127463611.0        377835.0                      337,4   \n",
       "2           1.0     453125.0            28.0                    16183,0   \n",
       "3           1.0   48846823.0         98480.0                      496,0   \n",
       "4           1.0   23036087.0         35980.0                      640,3   \n",
       "\n",
       "  Net migration  GDP ($ per capita)  \n",
       "0          5,24             28800.0  \n",
       "1             0             28200.0  \n",
       "2          4,86             19400.0  \n",
       "3             0             17800.0  \n",
       "4             0             23400.0  "
      ]
     },
     "execution_count": 8,
     "metadata": {},
     "output_type": "execute_result"
    }
   ],
   "source": [
    "#dataset\n",
    "covid_df= pd.read_csv(\"corona_pred_china-2.csv\")\n",
    "covid_df.head()"
   ]
  },
  {
   "cell_type": "markdown",
   "metadata": {},
   "source": [
    "#### Data transformations"
   ]
  },
  {
   "cell_type": "code",
   "execution_count": 9,
   "metadata": {},
   "outputs": [
    {
     "name": "stdout",
     "output_type": "stream",
     "text": [
      "<class 'pandas.core.frame.DataFrame'>\n",
      "RangeIndex: 10022 entries, 0 to 10021\n",
      "Data columns (total 12 columns):\n",
      " #   Column                      Non-Null Count  Dtype         \n",
      "---  ------                      --------------  -----         \n",
      " 0   ObservationDate             10022 non-null  datetime64[ns]\n",
      " 1   Country                     10022 non-null  object        \n",
      " 2   Continent                   10022 non-null  object        \n",
      " 3   Confirmed                   10022 non-null  float64       \n",
      " 4   Deaths                      10022 non-null  float64       \n",
      " 5   Recovered                   10022 non-null  float64       \n",
      " 6   Active Cases                10022 non-null  float64       \n",
      " 7   Population                  10022 non-null  float64       \n",
      " 8   Area (sq. mi.)              10022 non-null  float64       \n",
      " 9   Pop. Density (per sq. mi.)  10022 non-null  object        \n",
      " 10  Net migration               10022 non-null  object        \n",
      " 11  GDP ($ per capita)          10022 non-null  float64       \n",
      "dtypes: datetime64[ns](1), float64(7), object(4)\n",
      "memory usage: 939.7+ KB\n"
     ]
    }
   ],
   "source": [
    "#Converting \"Observation Date\" into Datetime format\n",
    "covid_df[\"ObservationDate\"]=pd.to_datetime(covid_df[\"ObservationDate\"])\n",
    "covid_df.info()"
   ]
  },
  {
   "cell_type": "code",
   "execution_count": 10,
   "metadata": {},
   "outputs": [
    {
     "name": "stdout",
     "output_type": "stream",
     "text": [
      "<class 'pandas.core.frame.DataFrame'>\n",
      "RangeIndex: 10022 entries, 0 to 10021\n",
      "Data columns (total 12 columns):\n",
      " #   Column                      Non-Null Count  Dtype         \n",
      "---  ------                      --------------  -----         \n",
      " 0   ObservationDate             10022 non-null  datetime64[ns]\n",
      " 1   Country                     10022 non-null  object        \n",
      " 2   Continent                   10022 non-null  object        \n",
      " 3   Confirmed                   10022 non-null  float64       \n",
      " 4   Deaths                      10022 non-null  float64       \n",
      " 5   Recovered                   10022 non-null  float64       \n",
      " 6   Active Cases                10022 non-null  float64       \n",
      " 7   Population                  10022 non-null  float64       \n",
      " 8   Area (sq. mi.)              10022 non-null  float64       \n",
      " 9   Pop. Density (per sq. mi.)  10022 non-null  float64       \n",
      " 10  Net migration               10022 non-null  float64       \n",
      " 11  GDP ($ per capita)          10022 non-null  float64       \n",
      "dtypes: datetime64[ns](1), float64(9), object(2)\n",
      "memory usage: 939.7+ KB\n"
     ]
    }
   ],
   "source": [
    "# Changing datatype of Population density and Net Migration columns as float\n",
    "cols=[\"Pop. Density (per sq. mi.)\",\"Net migration\"]                             \n",
    "for i in cols:\n",
    "    covid_df[i]=covid_df[i].str.replace(\",\",\"\").astype(float)\n",
    "covid_df.info()    "
   ]
  },
  {
   "cell_type": "code",
   "execution_count": 11,
   "metadata": {},
   "outputs": [
    {
     "data": {
      "text/html": [
       "<div>\n",
       "<style scoped>\n",
       "    .dataframe tbody tr th:only-of-type {\n",
       "        vertical-align: middle;\n",
       "    }\n",
       "\n",
       "    .dataframe tbody tr th {\n",
       "        vertical-align: top;\n",
       "    }\n",
       "\n",
       "    .dataframe thead th {\n",
       "        text-align: right;\n",
       "    }\n",
       "</style>\n",
       "<table border=\"1\" class=\"dataframe\">\n",
       "  <thead>\n",
       "    <tr style=\"text-align: right;\">\n",
       "      <th></th>\n",
       "      <th>ObservationDate</th>\n",
       "      <th>Country</th>\n",
       "      <th>Continent</th>\n",
       "      <th>Confirmed</th>\n",
       "      <th>Deaths</th>\n",
       "      <th>Recovered</th>\n",
       "      <th>Active Cases</th>\n",
       "      <th>Population</th>\n",
       "      <th>Area (sq. mi.)</th>\n",
       "      <th>Pop. Density (per sq. mi.)</th>\n",
       "      <th>Net migration</th>\n",
       "      <th>GDP ($ per capita)</th>\n",
       "    </tr>\n",
       "  </thead>\n",
       "  <tbody>\n",
       "    <tr>\n",
       "      <th>0</th>\n",
       "      <td>2020-01-22</td>\n",
       "      <td>Hong Kong</td>\n",
       "      <td>Asia</td>\n",
       "      <td>0.0</td>\n",
       "      <td>0.0</td>\n",
       "      <td>0.0</td>\n",
       "      <td>0.0</td>\n",
       "      <td>6940432.0</td>\n",
       "      <td>1092.0</td>\n",
       "      <td>63557.0</td>\n",
       "      <td>524.0</td>\n",
       "      <td>28800.0</td>\n",
       "    </tr>\n",
       "    <tr>\n",
       "      <th>1</th>\n",
       "      <td>2020-01-22</td>\n",
       "      <td>Japan</td>\n",
       "      <td>Asia</td>\n",
       "      <td>2.0</td>\n",
       "      <td>0.0</td>\n",
       "      <td>0.0</td>\n",
       "      <td>2.0</td>\n",
       "      <td>127463611.0</td>\n",
       "      <td>377835.0</td>\n",
       "      <td>3374.0</td>\n",
       "      <td>0.0</td>\n",
       "      <td>28200.0</td>\n",
       "    </tr>\n",
       "    <tr>\n",
       "      <th>2</th>\n",
       "      <td>2020-01-22</td>\n",
       "      <td>Macao</td>\n",
       "      <td>Asia</td>\n",
       "      <td>1.0</td>\n",
       "      <td>0.0</td>\n",
       "      <td>0.0</td>\n",
       "      <td>1.0</td>\n",
       "      <td>453125.0</td>\n",
       "      <td>28.0</td>\n",
       "      <td>161830.0</td>\n",
       "      <td>486.0</td>\n",
       "      <td>19400.0</td>\n",
       "    </tr>\n",
       "    <tr>\n",
       "      <th>3</th>\n",
       "      <td>2020-01-22</td>\n",
       "      <td>South Korea</td>\n",
       "      <td>Asia</td>\n",
       "      <td>1.0</td>\n",
       "      <td>0.0</td>\n",
       "      <td>0.0</td>\n",
       "      <td>1.0</td>\n",
       "      <td>48846823.0</td>\n",
       "      <td>98480.0</td>\n",
       "      <td>4960.0</td>\n",
       "      <td>0.0</td>\n",
       "      <td>17800.0</td>\n",
       "    </tr>\n",
       "    <tr>\n",
       "      <th>4</th>\n",
       "      <td>2020-01-22</td>\n",
       "      <td>Taiwan</td>\n",
       "      <td>Asia</td>\n",
       "      <td>1.0</td>\n",
       "      <td>0.0</td>\n",
       "      <td>0.0</td>\n",
       "      <td>1.0</td>\n",
       "      <td>23036087.0</td>\n",
       "      <td>35980.0</td>\n",
       "      <td>6403.0</td>\n",
       "      <td>0.0</td>\n",
       "      <td>23400.0</td>\n",
       "    </tr>\n",
       "  </tbody>\n",
       "</table>\n",
       "</div>"
      ],
      "text/plain": [
       "  ObservationDate      Country Continent  Confirmed  Deaths  Recovered  \\\n",
       "0      2020-01-22    Hong Kong      Asia        0.0     0.0        0.0   \n",
       "1      2020-01-22        Japan      Asia        2.0     0.0        0.0   \n",
       "2      2020-01-22        Macao      Asia        1.0     0.0        0.0   \n",
       "3      2020-01-22  South Korea      Asia        1.0     0.0        0.0   \n",
       "4      2020-01-22       Taiwan      Asia        1.0     0.0        0.0   \n",
       "\n",
       "   Active Cases   Population  Area (sq. mi.)  Pop. Density (per sq. mi.)  \\\n",
       "0           0.0    6940432.0          1092.0                     63557.0   \n",
       "1           2.0  127463611.0        377835.0                      3374.0   \n",
       "2           1.0     453125.0            28.0                    161830.0   \n",
       "3           1.0   48846823.0         98480.0                      4960.0   \n",
       "4           1.0   23036087.0         35980.0                      6403.0   \n",
       "\n",
       "   Net migration  GDP ($ per capita)  \n",
       "0          524.0             28800.0  \n",
       "1            0.0             28200.0  \n",
       "2          486.0             19400.0  \n",
       "3            0.0             17800.0  \n",
       "4            0.0             23400.0  "
      ]
     },
     "execution_count": 11,
     "metadata": {},
     "output_type": "execute_result"
    }
   ],
   "source": [
    "covid_df.head()"
   ]
  },
  {
   "cell_type": "code",
   "execution_count": 12,
   "metadata": {},
   "outputs": [],
   "source": [
    "# Sorting based on the country names\n",
    "covid_df = covid_df.sort_values([\"Country\", \"ObservationDate\"]).reset_index(drop=True)"
   ]
  },
  {
   "cell_type": "code",
   "execution_count": 13,
   "metadata": {},
   "outputs": [
    {
     "name": "stdout",
     "output_type": "stream",
     "text": [
      "<class 'pandas.core.frame.DataFrame'>\n",
      "RangeIndex: 10022 entries, 0 to 10021\n",
      "Data columns (total 12 columns):\n",
      " #   Column                      Non-Null Count  Dtype         \n",
      "---  ------                      --------------  -----         \n",
      " 0   ObservationDate             10022 non-null  datetime64[ns]\n",
      " 1   Country                     10022 non-null  object        \n",
      " 2   Continent                   10022 non-null  object        \n",
      " 3   Confirmed                   10022 non-null  float64       \n",
      " 4   Deaths                      10022 non-null  float64       \n",
      " 5   Recovered                   10022 non-null  float64       \n",
      " 6   Active Cases                10022 non-null  float64       \n",
      " 7   Population                  10022 non-null  float64       \n",
      " 8   Area (sq. mi.)              10022 non-null  float64       \n",
      " 9   Pop. Density (per sq. mi.)  10022 non-null  float64       \n",
      " 10  Net migration               10022 non-null  float64       \n",
      " 11  GDP ($ per capita)          10022 non-null  float64       \n",
      "dtypes: datetime64[ns](1), float64(9), object(2)\n",
      "memory usage: 939.7+ KB\n"
     ]
    }
   ],
   "source": [
    "covid_df.info()"
   ]
  },
  {
   "cell_type": "code",
   "execution_count": 14,
   "metadata": {},
   "outputs": [
    {
     "data": {
      "text/plain": [
       "(10022, 12)"
      ]
     },
     "execution_count": 14,
     "metadata": {},
     "output_type": "execute_result"
    }
   ],
   "source": [
    "covid_df.shape"
   ]
  },
  {
   "cell_type": "code",
   "execution_count": 15,
   "metadata": {
    "scrolled": false
   },
   "outputs": [],
   "source": [
    "# Calculating days since the first occurance for each country\n",
    "covid_df['days_since_first']=0\n",
    "covid_df['previous_Confirmed'] = 0\n",
    "#covid_df['increase_rate'] = 0\n",
    "previous_Confirmed=0\n",
    "confirm_difference=0\n",
    "\n",
    "for i in covid_df.index[1:]:\n",
    "    if covid_df['Country'][i]==covid_df['Country'][i-1]:\n",
    "        covid_df.loc[i,'days_since_first']=(covid_df.at[i-1,'days_since_first']+1)\n",
    "        previous_Confirmed=covid_df.at[i-1,'Confirmed']\n",
    "        confirm_difference= covid_df.at[i,'Confirmed']-previous_Confirmed\n",
    "        covid_df.loc[i,'previous_Confirmed']=previous_Confirmed        \n",
    "#        if ((previous_Confirmed!=0) & (confirm_difference>0) ):\n",
    "#            covid_df.loc[i,'increase_rate']=((confirm_difference/previous_Confirmed))       \n",
    "#        else:\n",
    "#            covid_df.loc[i,'increase_rate']=0\n",
    "    else:\n",
    "        covid_df.loc[i,'days_since_first'] = 0\n",
    "        covid_df.loc[i,'previous_Confirmed'] = 0\n",
    "#        covid_df.loc[i,'increase_rate'] = 0  "
   ]
  },
  {
   "cell_type": "code",
   "execution_count": 16,
   "metadata": {},
   "outputs": [
    {
     "data": {
      "text/html": [
       "<div>\n",
       "<style scoped>\n",
       "    .dataframe tbody tr th:only-of-type {\n",
       "        vertical-align: middle;\n",
       "    }\n",
       "\n",
       "    .dataframe tbody tr th {\n",
       "        vertical-align: top;\n",
       "    }\n",
       "\n",
       "    .dataframe thead th {\n",
       "        text-align: right;\n",
       "    }\n",
       "</style>\n",
       "<table border=\"1\" class=\"dataframe\">\n",
       "  <thead>\n",
       "    <tr style=\"text-align: right;\">\n",
       "      <th></th>\n",
       "      <th>ObservationDate</th>\n",
       "      <th>Country</th>\n",
       "      <th>Continent</th>\n",
       "      <th>Confirmed</th>\n",
       "      <th>Deaths</th>\n",
       "      <th>Recovered</th>\n",
       "      <th>Active Cases</th>\n",
       "      <th>Population</th>\n",
       "      <th>Area (sq. mi.)</th>\n",
       "      <th>Pop. Density (per sq. mi.)</th>\n",
       "      <th>Net migration</th>\n",
       "      <th>GDP ($ per capita)</th>\n",
       "      <th>days_since_first</th>\n",
       "      <th>previous_Confirmed</th>\n",
       "    </tr>\n",
       "  </thead>\n",
       "  <tbody>\n",
       "    <tr>\n",
       "      <th>0</th>\n",
       "      <td>2020-02-24</td>\n",
       "      <td>Afghanistan</td>\n",
       "      <td>Asia</td>\n",
       "      <td>1.0</td>\n",
       "      <td>0.0</td>\n",
       "      <td>0.0</td>\n",
       "      <td>1.0</td>\n",
       "      <td>31056997.0</td>\n",
       "      <td>647500.0</td>\n",
       "      <td>480.0</td>\n",
       "      <td>2306.0</td>\n",
       "      <td>700.0</td>\n",
       "      <td>0</td>\n",
       "      <td>0.0</td>\n",
       "    </tr>\n",
       "    <tr>\n",
       "      <th>1</th>\n",
       "      <td>2020-02-25</td>\n",
       "      <td>Afghanistan</td>\n",
       "      <td>Asia</td>\n",
       "      <td>1.0</td>\n",
       "      <td>0.0</td>\n",
       "      <td>0.0</td>\n",
       "      <td>1.0</td>\n",
       "      <td>31056997.0</td>\n",
       "      <td>647500.0</td>\n",
       "      <td>480.0</td>\n",
       "      <td>2306.0</td>\n",
       "      <td>700.0</td>\n",
       "      <td>1</td>\n",
       "      <td>1.0</td>\n",
       "    </tr>\n",
       "    <tr>\n",
       "      <th>2</th>\n",
       "      <td>2020-02-26</td>\n",
       "      <td>Afghanistan</td>\n",
       "      <td>Asia</td>\n",
       "      <td>1.0</td>\n",
       "      <td>0.0</td>\n",
       "      <td>0.0</td>\n",
       "      <td>1.0</td>\n",
       "      <td>31056997.0</td>\n",
       "      <td>647500.0</td>\n",
       "      <td>480.0</td>\n",
       "      <td>2306.0</td>\n",
       "      <td>700.0</td>\n",
       "      <td>2</td>\n",
       "      <td>1.0</td>\n",
       "    </tr>\n",
       "    <tr>\n",
       "      <th>3</th>\n",
       "      <td>2020-02-27</td>\n",
       "      <td>Afghanistan</td>\n",
       "      <td>Asia</td>\n",
       "      <td>1.0</td>\n",
       "      <td>0.0</td>\n",
       "      <td>0.0</td>\n",
       "      <td>1.0</td>\n",
       "      <td>31056997.0</td>\n",
       "      <td>647500.0</td>\n",
       "      <td>480.0</td>\n",
       "      <td>2306.0</td>\n",
       "      <td>700.0</td>\n",
       "      <td>3</td>\n",
       "      <td>1.0</td>\n",
       "    </tr>\n",
       "    <tr>\n",
       "      <th>4</th>\n",
       "      <td>2020-02-28</td>\n",
       "      <td>Afghanistan</td>\n",
       "      <td>Asia</td>\n",
       "      <td>1.0</td>\n",
       "      <td>0.0</td>\n",
       "      <td>0.0</td>\n",
       "      <td>1.0</td>\n",
       "      <td>31056997.0</td>\n",
       "      <td>647500.0</td>\n",
       "      <td>480.0</td>\n",
       "      <td>2306.0</td>\n",
       "      <td>700.0</td>\n",
       "      <td>4</td>\n",
       "      <td>1.0</td>\n",
       "    </tr>\n",
       "  </tbody>\n",
       "</table>\n",
       "</div>"
      ],
      "text/plain": [
       "  ObservationDate      Country Continent  Confirmed  Deaths  Recovered  \\\n",
       "0      2020-02-24  Afghanistan      Asia        1.0     0.0        0.0   \n",
       "1      2020-02-25  Afghanistan      Asia        1.0     0.0        0.0   \n",
       "2      2020-02-26  Afghanistan      Asia        1.0     0.0        0.0   \n",
       "3      2020-02-27  Afghanistan      Asia        1.0     0.0        0.0   \n",
       "4      2020-02-28  Afghanistan      Asia        1.0     0.0        0.0   \n",
       "\n",
       "   Active Cases  Population  Area (sq. mi.)  Pop. Density (per sq. mi.)  \\\n",
       "0           1.0  31056997.0        647500.0                       480.0   \n",
       "1           1.0  31056997.0        647500.0                       480.0   \n",
       "2           1.0  31056997.0        647500.0                       480.0   \n",
       "3           1.0  31056997.0        647500.0                       480.0   \n",
       "4           1.0  31056997.0        647500.0                       480.0   \n",
       "\n",
       "   Net migration  GDP ($ per capita)  days_since_first  previous_Confirmed  \n",
       "0         2306.0               700.0                 0                 0.0  \n",
       "1         2306.0               700.0                 1                 1.0  \n",
       "2         2306.0               700.0                 2                 1.0  \n",
       "3         2306.0               700.0                 3                 1.0  \n",
       "4         2306.0               700.0                 4                 1.0  "
      ]
     },
     "execution_count": 16,
     "metadata": {},
     "output_type": "execute_result"
    }
   ],
   "source": [
    "covid_df.head()"
   ]
  },
  {
   "cell_type": "code",
   "execution_count": 20,
   "metadata": {},
   "outputs": [
    {
     "data": {
      "text/plain": [
       "0          0\n",
       "1          1\n",
       "2          1\n",
       "3          1\n",
       "4          1\n",
       "        ... \n",
       "10017    712\n",
       "10018      9\n",
       "10019    712\n",
       "10020      9\n",
       "10021    712\n",
       "Name: previous_Confirmed, Length: 10022, dtype: int32"
      ]
     },
     "execution_count": 20,
     "metadata": {},
     "output_type": "execute_result"
    }
   ],
   "source": [
    "# Ensuring that previous confirmed column type is int\n",
    "covid_df['previous_Confirmed'].astype(int)\n",
    "#covid_df=covid_df[covid_df['increase_rate']>=0]"
   ]
  },
  {
   "cell_type": "code",
   "execution_count": 21,
   "metadata": {},
   "outputs": [],
   "source": [
    "covid_df.set_index('Country',inplace=True)"
   ]
  },
  {
   "cell_type": "markdown",
   "metadata": {},
   "source": [
    "#### Check for highest number of confirmed cases in Europe"
   ]
  },
  {
   "cell_type": "code",
   "execution_count": 22,
   "metadata": {},
   "outputs": [
    {
     "data": {
      "text/html": [
       "<div>\n",
       "<style scoped>\n",
       "    .dataframe tbody tr th:only-of-type {\n",
       "        vertical-align: middle;\n",
       "    }\n",
       "\n",
       "    .dataframe tbody tr th {\n",
       "        vertical-align: top;\n",
       "    }\n",
       "\n",
       "    .dataframe thead th {\n",
       "        text-align: right;\n",
       "    }\n",
       "</style>\n",
       "<table border=\"1\" class=\"dataframe\">\n",
       "  <thead>\n",
       "    <tr style=\"text-align: right;\">\n",
       "      <th></th>\n",
       "      <th>Confirmed</th>\n",
       "      <th>days_since_first</th>\n",
       "    </tr>\n",
       "    <tr>\n",
       "      <th>Country</th>\n",
       "      <th></th>\n",
       "      <th></th>\n",
       "    </tr>\n",
       "  </thead>\n",
       "  <tbody>\n",
       "    <tr>\n",
       "      <th>United Kingdom</th>\n",
       "      <td>149569.0</td>\n",
       "      <td>85</td>\n",
       "    </tr>\n",
       "    <tr>\n",
       "      <th>Germany</th>\n",
       "      <td>156513.0</td>\n",
       "      <td>88</td>\n",
       "    </tr>\n",
       "    <tr>\n",
       "      <th>France</th>\n",
       "      <td>161644.0</td>\n",
       "      <td>92</td>\n",
       "    </tr>\n",
       "    <tr>\n",
       "      <th>Italy</th>\n",
       "      <td>195351.0</td>\n",
       "      <td>85</td>\n",
       "    </tr>\n",
       "    <tr>\n",
       "      <th>Spain</th>\n",
       "      <td>223759.0</td>\n",
       "      <td>84</td>\n",
       "    </tr>\n",
       "  </tbody>\n",
       "</table>\n",
       "</div>"
      ],
      "text/plain": [
       "                Confirmed  days_since_first\n",
       "Country                                    \n",
       "United Kingdom   149569.0                85\n",
       "Germany          156513.0                88\n",
       "France           161644.0                92\n",
       "Italy            195351.0                85\n",
       "Spain            223759.0                84"
      ]
     },
     "execution_count": 22,
     "metadata": {},
     "output_type": "execute_result"
    }
   ],
   "source": [
    "covid_df[covid_df['Continent'] == \"Europe\"].groupby('Country').agg(\n",
    "                {\n",
    "                     'Confirmed':max,    # Sum duration per group\n",
    "                     'days_since_first': max,  # get the max of days\n",
    "                }).sort_values([\"Confirmed\", \"days_since_first\"]).tail()"
   ]
  },
  {
   "cell_type": "code",
   "execution_count": 23,
   "metadata": {},
   "outputs": [
    {
     "data": {
      "text/plain": [
       "Index(['ObservationDate', 'Continent', 'Confirmed', 'Deaths', 'Recovered',\n",
       "       'Active Cases', 'Population', 'Area (sq. mi.)',\n",
       "       'Pop. Density (per sq. mi.)', 'Net migration', 'GDP ($ per capita)',\n",
       "       'days_since_first', 'previous_Confirmed'],\n",
       "      dtype='object')"
      ]
     },
     "execution_count": 23,
     "metadata": {},
     "output_type": "execute_result"
    }
   ],
   "source": [
    "covid_df.columns"
   ]
  },
  {
   "cell_type": "code",
   "execution_count": 24,
   "metadata": {},
   "outputs": [],
   "source": [
    "covid_df.to_csv(\"COVID_For_Orange.csv\")"
   ]
  },
  {
   "cell_type": "markdown",
   "metadata": {},
   "source": [
    "### Random Forest Regressor"
   ]
  },
  {
   "cell_type": "code",
   "execution_count": 25,
   "metadata": {},
   "outputs": [],
   "source": [
    "X=covid_df.copy()\n",
    "del X['Continent']\n",
    "del X['ObservationDate']\n",
    "del X['Deaths']\n",
    "del X['Recovered']\n",
    "del X['Active Cases']\n",
    "del X['GDP ($ per capita)']\n",
    "#del X['Population']\n",
    "#del X['Area (sq. mi.)']\n",
    "#del X['Pop. Density (per sq. mi.)']\n",
    "#del X['Net migration']\n",
    "\n"
   ]
  },
  {
   "cell_type": "code",
   "execution_count": 26,
   "metadata": {},
   "outputs": [
    {
     "name": "stdout",
     "output_type": "stream",
     "text": [
      "<class 'pandas.core.frame.DataFrame'>\n",
      "Index: 10022 entries, Afghanistan to not found\n",
      "Data columns (total 7 columns):\n",
      " #   Column                      Non-Null Count  Dtype  \n",
      "---  ------                      --------------  -----  \n",
      " 0   Confirmed                   10022 non-null  float64\n",
      " 1   Population                  10022 non-null  float64\n",
      " 2   Area (sq. mi.)              10022 non-null  float64\n",
      " 3   Pop. Density (per sq. mi.)  10022 non-null  float64\n",
      " 4   Net migration               10022 non-null  float64\n",
      " 5   days_since_first            10022 non-null  int64  \n",
      " 6   previous_Confirmed          10022 non-null  float64\n",
      "dtypes: float64(6), int64(1)\n",
      "memory usage: 626.4+ KB\n"
     ]
    }
   ],
   "source": [
    "X.info()"
   ]
  },
  {
   "cell_type": "code",
   "execution_count": 27,
   "metadata": {},
   "outputs": [],
   "source": [
    "X[\"Net migration\"].fillna(0, inplace=True)\n",
    "X[\"Pop. Density (per sq. mi.)\"].fillna(0, inplace=True)"
   ]
  },
  {
   "cell_type": "code",
   "execution_count": 28,
   "metadata": {},
   "outputs": [
    {
     "data": {
      "text/plain": [
       "Confirmed                     False\n",
       "Population                    False\n",
       "Area (sq. mi.)                False\n",
       "Pop. Density (per sq. mi.)    False\n",
       "Net migration                 False\n",
       "days_since_first              False\n",
       "previous_Confirmed            False\n",
       "dtype: bool"
      ]
     },
     "execution_count": 28,
     "metadata": {},
     "output_type": "execute_result"
    }
   ],
   "source": [
    "X.isnull().any()"
   ]
  },
  {
   "cell_type": "code",
   "execution_count": 29,
   "metadata": {},
   "outputs": [
    {
     "data": {
      "text/html": [
       "<style  type=\"text/css\" >\n",
       "    #T_28b8b68c_8c4c_11ea_8cc4_d0c5d384fb94row0_col0 {\n",
       "            background-color:  #b40426;\n",
       "            color:  #f1f1f1;\n",
       "        }    #T_28b8b68c_8c4c_11ea_8cc4_d0c5d384fb94row0_col1 {\n",
       "            background-color:  #7093f3;\n",
       "            color:  #000000;\n",
       "        }    #T_28b8b68c_8c4c_11ea_8cc4_d0c5d384fb94row0_col2 {\n",
       "            background-color:  #8caffe;\n",
       "            color:  #000000;\n",
       "        }    #T_28b8b68c_8c4c_11ea_8cc4_d0c5d384fb94row0_col3 {\n",
       "            background-color:  #4961d2;\n",
       "            color:  #f1f1f1;\n",
       "        }    #T_28b8b68c_8c4c_11ea_8cc4_d0c5d384fb94row0_col4 {\n",
       "            background-color:  #4c66d6;\n",
       "            color:  #000000;\n",
       "        }    #T_28b8b68c_8c4c_11ea_8cc4_d0c5d384fb94row0_col5 {\n",
       "            background-color:  #7b9ff9;\n",
       "            color:  #000000;\n",
       "        }    #T_28b8b68c_8c4c_11ea_8cc4_d0c5d384fb94row0_col6 {\n",
       "            background-color:  #b40426;\n",
       "            color:  #f1f1f1;\n",
       "        }    #T_28b8b68c_8c4c_11ea_8cc4_d0c5d384fb94row1_col0 {\n",
       "            background-color:  #6b8df0;\n",
       "            color:  #000000;\n",
       "        }    #T_28b8b68c_8c4c_11ea_8cc4_d0c5d384fb94row1_col1 {\n",
       "            background-color:  #b40426;\n",
       "            color:  #f1f1f1;\n",
       "        }    #T_28b8b68c_8c4c_11ea_8cc4_d0c5d384fb94row1_col2 {\n",
       "            background-color:  #b7cff9;\n",
       "            color:  #000000;\n",
       "        }    #T_28b8b68c_8c4c_11ea_8cc4_d0c5d384fb94row1_col3 {\n",
       "            background-color:  #445acc;\n",
       "            color:  #f1f1f1;\n",
       "        }    #T_28b8b68c_8c4c_11ea_8cc4_d0c5d384fb94row1_col4 {\n",
       "            background-color:  #3b4cc0;\n",
       "            color:  #f1f1f1;\n",
       "        }    #T_28b8b68c_8c4c_11ea_8cc4_d0c5d384fb94row1_col5 {\n",
       "            background-color:  #4257c9;\n",
       "            color:  #f1f1f1;\n",
       "        }    #T_28b8b68c_8c4c_11ea_8cc4_d0c5d384fb94row1_col6 {\n",
       "            background-color:  #6a8bef;\n",
       "            color:  #000000;\n",
       "        }    #T_28b8b68c_8c4c_11ea_8cc4_d0c5d384fb94row2_col0 {\n",
       "            background-color:  #7ea1fa;\n",
       "            color:  #000000;\n",
       "        }    #T_28b8b68c_8c4c_11ea_8cc4_d0c5d384fb94row2_col1 {\n",
       "            background-color:  #afcafc;\n",
       "            color:  #000000;\n",
       "        }    #T_28b8b68c_8c4c_11ea_8cc4_d0c5d384fb94row2_col2 {\n",
       "            background-color:  #b40426;\n",
       "            color:  #f1f1f1;\n",
       "        }    #T_28b8b68c_8c4c_11ea_8cc4_d0c5d384fb94row2_col3 {\n",
       "            background-color:  #3b4cc0;\n",
       "            color:  #f1f1f1;\n",
       "        }    #T_28b8b68c_8c4c_11ea_8cc4_d0c5d384fb94row2_col4 {\n",
       "            background-color:  #5875e1;\n",
       "            color:  #000000;\n",
       "        }    #T_28b8b68c_8c4c_11ea_8cc4_d0c5d384fb94row2_col5 {\n",
       "            background-color:  #4257c9;\n",
       "            color:  #f1f1f1;\n",
       "        }    #T_28b8b68c_8c4c_11ea_8cc4_d0c5d384fb94row2_col6 {\n",
       "            background-color:  #7da0f9;\n",
       "            color:  #000000;\n",
       "        }    #T_28b8b68c_8c4c_11ea_8cc4_d0c5d384fb94row3_col0 {\n",
       "            background-color:  #3b4cc0;\n",
       "            color:  #f1f1f1;\n",
       "        }    #T_28b8b68c_8c4c_11ea_8cc4_d0c5d384fb94row3_col1 {\n",
       "            background-color:  #3b4cc0;\n",
       "            color:  #f1f1f1;\n",
       "        }    #T_28b8b68c_8c4c_11ea_8cc4_d0c5d384fb94row3_col2 {\n",
       "            background-color:  #3b4cc0;\n",
       "            color:  #f1f1f1;\n",
       "        }    #T_28b8b68c_8c4c_11ea_8cc4_d0c5d384fb94row3_col3 {\n",
       "            background-color:  #b40426;\n",
       "            color:  #f1f1f1;\n",
       "        }    #T_28b8b68c_8c4c_11ea_8cc4_d0c5d384fb94row3_col4 {\n",
       "            background-color:  #92b4fe;\n",
       "            color:  #000000;\n",
       "        }    #T_28b8b68c_8c4c_11ea_8cc4_d0c5d384fb94row3_col5 {\n",
       "            background-color:  #3b4cc0;\n",
       "            color:  #f1f1f1;\n",
       "        }    #T_28b8b68c_8c4c_11ea_8cc4_d0c5d384fb94row3_col6 {\n",
       "            background-color:  #3b4cc0;\n",
       "            color:  #f1f1f1;\n",
       "        }    #T_28b8b68c_8c4c_11ea_8cc4_d0c5d384fb94row4_col0 {\n",
       "            background-color:  #516ddb;\n",
       "            color:  #000000;\n",
       "        }    #T_28b8b68c_8c4c_11ea_8cc4_d0c5d384fb94row4_col1 {\n",
       "            background-color:  #455cce;\n",
       "            color:  #f1f1f1;\n",
       "        }    #T_28b8b68c_8c4c_11ea_8cc4_d0c5d384fb94row4_col2 {\n",
       "            background-color:  #6c8ff1;\n",
       "            color:  #000000;\n",
       "        }    #T_28b8b68c_8c4c_11ea_8cc4_d0c5d384fb94row4_col3 {\n",
       "            background-color:  #a3c2fe;\n",
       "            color:  #000000;\n",
       "        }    #T_28b8b68c_8c4c_11ea_8cc4_d0c5d384fb94row4_col4 {\n",
       "            background-color:  #b40426;\n",
       "            color:  #f1f1f1;\n",
       "        }    #T_28b8b68c_8c4c_11ea_8cc4_d0c5d384fb94row4_col5 {\n",
       "            background-color:  #445acc;\n",
       "            color:  #f1f1f1;\n",
       "        }    #T_28b8b68c_8c4c_11ea_8cc4_d0c5d384fb94row4_col6 {\n",
       "            background-color:  #516ddb;\n",
       "            color:  #000000;\n",
       "        }    #T_28b8b68c_8c4c_11ea_8cc4_d0c5d384fb94row5_col0 {\n",
       "            background-color:  #a1c0ff;\n",
       "            color:  #000000;\n",
       "        }    #T_28b8b68c_8c4c_11ea_8cc4_d0c5d384fb94row5_col1 {\n",
       "            background-color:  #7093f3;\n",
       "            color:  #000000;\n",
       "        }    #T_28b8b68c_8c4c_11ea_8cc4_d0c5d384fb94row5_col2 {\n",
       "            background-color:  #799cf8;\n",
       "            color:  #000000;\n",
       "        }    #T_28b8b68c_8c4c_11ea_8cc4_d0c5d384fb94row5_col3 {\n",
       "            background-color:  #7295f4;\n",
       "            color:  #000000;\n",
       "        }    #T_28b8b68c_8c4c_11ea_8cc4_d0c5d384fb94row5_col4 {\n",
       "            background-color:  #6788ee;\n",
       "            color:  #000000;\n",
       "        }    #T_28b8b68c_8c4c_11ea_8cc4_d0c5d384fb94row5_col5 {\n",
       "            background-color:  #b40426;\n",
       "            color:  #f1f1f1;\n",
       "        }    #T_28b8b68c_8c4c_11ea_8cc4_d0c5d384fb94row5_col6 {\n",
       "            background-color:  #a1c0ff;\n",
       "            color:  #000000;\n",
       "        }    #T_28b8b68c_8c4c_11ea_8cc4_d0c5d384fb94row6_col0 {\n",
       "            background-color:  #b40426;\n",
       "            color:  #f1f1f1;\n",
       "        }    #T_28b8b68c_8c4c_11ea_8cc4_d0c5d384fb94row6_col1 {\n",
       "            background-color:  #6f92f3;\n",
       "            color:  #000000;\n",
       "        }    #T_28b8b68c_8c4c_11ea_8cc4_d0c5d384fb94row6_col2 {\n",
       "            background-color:  #8badfd;\n",
       "            color:  #000000;\n",
       "        }    #T_28b8b68c_8c4c_11ea_8cc4_d0c5d384fb94row6_col3 {\n",
       "            background-color:  #4961d2;\n",
       "            color:  #f1f1f1;\n",
       "        }    #T_28b8b68c_8c4c_11ea_8cc4_d0c5d384fb94row6_col4 {\n",
       "            background-color:  #4c66d6;\n",
       "            color:  #000000;\n",
       "        }    #T_28b8b68c_8c4c_11ea_8cc4_d0c5d384fb94row6_col5 {\n",
       "            background-color:  #7b9ff9;\n",
       "            color:  #000000;\n",
       "        }    #T_28b8b68c_8c4c_11ea_8cc4_d0c5d384fb94row6_col6 {\n",
       "            background-color:  #b40426;\n",
       "            color:  #f1f1f1;\n",
       "        }</style><table id=\"T_28b8b68c_8c4c_11ea_8cc4_d0c5d384fb94\" ><thead>    <tr>        <th class=\"blank level0\" ></th>        <th class=\"col_heading level0 col0\" >Confirmed</th>        <th class=\"col_heading level0 col1\" >Population</th>        <th class=\"col_heading level0 col2\" >Area (sq. mi.)</th>        <th class=\"col_heading level0 col3\" >Pop. Density (per sq. mi.)</th>        <th class=\"col_heading level0 col4\" >Net migration</th>        <th class=\"col_heading level0 col5\" >days_since_first</th>        <th class=\"col_heading level0 col6\" >previous_Confirmed</th>    </tr></thead><tbody>\n",
       "                <tr>\n",
       "                        <th id=\"T_28b8b68c_8c4c_11ea_8cc4_d0c5d384fb94level0_row0\" class=\"row_heading level0 row0\" >Confirmed</th>\n",
       "                        <td id=\"T_28b8b68c_8c4c_11ea_8cc4_d0c5d384fb94row0_col0\" class=\"data row0 col0\" >1.00</td>\n",
       "                        <td id=\"T_28b8b68c_8c4c_11ea_8cc4_d0c5d384fb94row0_col1\" class=\"data row0 col1\" >0.13</td>\n",
       "                        <td id=\"T_28b8b68c_8c4c_11ea_8cc4_d0c5d384fb94row0_col2\" class=\"data row0 col2\" >0.19</td>\n",
       "                        <td id=\"T_28b8b68c_8c4c_11ea_8cc4_d0c5d384fb94row0_col3\" class=\"data row0 col3\" >-0.03</td>\n",
       "                        <td id=\"T_28b8b68c_8c4c_11ea_8cc4_d0c5d384fb94row0_col4\" class=\"data row0 col4\" >0.05</td>\n",
       "                        <td id=\"T_28b8b68c_8c4c_11ea_8cc4_d0c5d384fb94row0_col5\" class=\"data row0 col5\" >0.29</td>\n",
       "                        <td id=\"T_28b8b68c_8c4c_11ea_8cc4_d0c5d384fb94row0_col6\" class=\"data row0 col6\" >1.00</td>\n",
       "            </tr>\n",
       "            <tr>\n",
       "                        <th id=\"T_28b8b68c_8c4c_11ea_8cc4_d0c5d384fb94level0_row1\" class=\"row_heading level0 row1\" >Population</th>\n",
       "                        <td id=\"T_28b8b68c_8c4c_11ea_8cc4_d0c5d384fb94row1_col0\" class=\"data row1 col0\" >0.13</td>\n",
       "                        <td id=\"T_28b8b68c_8c4c_11ea_8cc4_d0c5d384fb94row1_col1\" class=\"data row1 col1\" >1.00</td>\n",
       "                        <td id=\"T_28b8b68c_8c4c_11ea_8cc4_d0c5d384fb94row1_col2\" class=\"data row1 col2\" >0.32</td>\n",
       "                        <td id=\"T_28b8b68c_8c4c_11ea_8cc4_d0c5d384fb94row1_col3\" class=\"data row1 col3\" >-0.05</td>\n",
       "                        <td id=\"T_28b8b68c_8c4c_11ea_8cc4_d0c5d384fb94row1_col4\" class=\"data row1 col4\" >-0.01</td>\n",
       "                        <td id=\"T_28b8b68c_8c4c_11ea_8cc4_d0c5d384fb94row1_col5\" class=\"data row1 col5\" >0.13</td>\n",
       "                        <td id=\"T_28b8b68c_8c4c_11ea_8cc4_d0c5d384fb94row1_col6\" class=\"data row1 col6\" >0.13</td>\n",
       "            </tr>\n",
       "            <tr>\n",
       "                        <th id=\"T_28b8b68c_8c4c_11ea_8cc4_d0c5d384fb94level0_row2\" class=\"row_heading level0 row2\" >Area (sq. mi.)</th>\n",
       "                        <td id=\"T_28b8b68c_8c4c_11ea_8cc4_d0c5d384fb94row2_col0\" class=\"data row2 col0\" >0.19</td>\n",
       "                        <td id=\"T_28b8b68c_8c4c_11ea_8cc4_d0c5d384fb94row2_col1\" class=\"data row2 col1\" >0.32</td>\n",
       "                        <td id=\"T_28b8b68c_8c4c_11ea_8cc4_d0c5d384fb94row2_col2\" class=\"data row2 col2\" >1.00</td>\n",
       "                        <td id=\"T_28b8b68c_8c4c_11ea_8cc4_d0c5d384fb94row2_col3\" class=\"data row2 col3\" >-0.08</td>\n",
       "                        <td id=\"T_28b8b68c_8c4c_11ea_8cc4_d0c5d384fb94row2_col4\" class=\"data row2 col4\" >0.09</td>\n",
       "                        <td id=\"T_28b8b68c_8c4c_11ea_8cc4_d0c5d384fb94row2_col5\" class=\"data row2 col5\" >0.13</td>\n",
       "                        <td id=\"T_28b8b68c_8c4c_11ea_8cc4_d0c5d384fb94row2_col6\" class=\"data row2 col6\" >0.18</td>\n",
       "            </tr>\n",
       "            <tr>\n",
       "                        <th id=\"T_28b8b68c_8c4c_11ea_8cc4_d0c5d384fb94level0_row3\" class=\"row_heading level0 row3\" >Pop. Density (per sq. mi.)</th>\n",
       "                        <td id=\"T_28b8b68c_8c4c_11ea_8cc4_d0c5d384fb94row3_col0\" class=\"data row3 col0\" >-0.03</td>\n",
       "                        <td id=\"T_28b8b68c_8c4c_11ea_8cc4_d0c5d384fb94row3_col1\" class=\"data row3 col1\" >-0.05</td>\n",
       "                        <td id=\"T_28b8b68c_8c4c_11ea_8cc4_d0c5d384fb94row3_col2\" class=\"data row3 col2\" >-0.08</td>\n",
       "                        <td id=\"T_28b8b68c_8c4c_11ea_8cc4_d0c5d384fb94row3_col3\" class=\"data row3 col3\" >1.00</td>\n",
       "                        <td id=\"T_28b8b68c_8c4c_11ea_8cc4_d0c5d384fb94row3_col4\" class=\"data row3 col4\" >0.26</td>\n",
       "                        <td id=\"T_28b8b68c_8c4c_11ea_8cc4_d0c5d384fb94row3_col5\" class=\"data row3 col5\" >0.11</td>\n",
       "                        <td id=\"T_28b8b68c_8c4c_11ea_8cc4_d0c5d384fb94row3_col6\" class=\"data row3 col6\" >-0.03</td>\n",
       "            </tr>\n",
       "            <tr>\n",
       "                        <th id=\"T_28b8b68c_8c4c_11ea_8cc4_d0c5d384fb94level0_row4\" class=\"row_heading level0 row4\" >Net migration</th>\n",
       "                        <td id=\"T_28b8b68c_8c4c_11ea_8cc4_d0c5d384fb94row4_col0\" class=\"data row4 col0\" >0.05</td>\n",
       "                        <td id=\"T_28b8b68c_8c4c_11ea_8cc4_d0c5d384fb94row4_col1\" class=\"data row4 col1\" >-0.01</td>\n",
       "                        <td id=\"T_28b8b68c_8c4c_11ea_8cc4_d0c5d384fb94row4_col2\" class=\"data row4 col2\" >0.09</td>\n",
       "                        <td id=\"T_28b8b68c_8c4c_11ea_8cc4_d0c5d384fb94row4_col3\" class=\"data row4 col3\" >0.26</td>\n",
       "                        <td id=\"T_28b8b68c_8c4c_11ea_8cc4_d0c5d384fb94row4_col4\" class=\"data row4 col4\" >1.00</td>\n",
       "                        <td id=\"T_28b8b68c_8c4c_11ea_8cc4_d0c5d384fb94row4_col5\" class=\"data row4 col5\" >0.14</td>\n",
       "                        <td id=\"T_28b8b68c_8c4c_11ea_8cc4_d0c5d384fb94row4_col6\" class=\"data row4 col6\" >0.05</td>\n",
       "            </tr>\n",
       "            <tr>\n",
       "                        <th id=\"T_28b8b68c_8c4c_11ea_8cc4_d0c5d384fb94level0_row5\" class=\"row_heading level0 row5\" >days_since_first</th>\n",
       "                        <td id=\"T_28b8b68c_8c4c_11ea_8cc4_d0c5d384fb94row5_col0\" class=\"data row5 col0\" >0.29</td>\n",
       "                        <td id=\"T_28b8b68c_8c4c_11ea_8cc4_d0c5d384fb94row5_col1\" class=\"data row5 col1\" >0.13</td>\n",
       "                        <td id=\"T_28b8b68c_8c4c_11ea_8cc4_d0c5d384fb94row5_col2\" class=\"data row5 col2\" >0.13</td>\n",
       "                        <td id=\"T_28b8b68c_8c4c_11ea_8cc4_d0c5d384fb94row5_col3\" class=\"data row5 col3\" >0.11</td>\n",
       "                        <td id=\"T_28b8b68c_8c4c_11ea_8cc4_d0c5d384fb94row5_col4\" class=\"data row5 col4\" >0.14</td>\n",
       "                        <td id=\"T_28b8b68c_8c4c_11ea_8cc4_d0c5d384fb94row5_col5\" class=\"data row5 col5\" >1.00</td>\n",
       "                        <td id=\"T_28b8b68c_8c4c_11ea_8cc4_d0c5d384fb94row5_col6\" class=\"data row5 col6\" >0.29</td>\n",
       "            </tr>\n",
       "            <tr>\n",
       "                        <th id=\"T_28b8b68c_8c4c_11ea_8cc4_d0c5d384fb94level0_row6\" class=\"row_heading level0 row6\" >previous_Confirmed</th>\n",
       "                        <td id=\"T_28b8b68c_8c4c_11ea_8cc4_d0c5d384fb94row6_col0\" class=\"data row6 col0\" >1.00</td>\n",
       "                        <td id=\"T_28b8b68c_8c4c_11ea_8cc4_d0c5d384fb94row6_col1\" class=\"data row6 col1\" >0.13</td>\n",
       "                        <td id=\"T_28b8b68c_8c4c_11ea_8cc4_d0c5d384fb94row6_col2\" class=\"data row6 col2\" >0.18</td>\n",
       "                        <td id=\"T_28b8b68c_8c4c_11ea_8cc4_d0c5d384fb94row6_col3\" class=\"data row6 col3\" >-0.03</td>\n",
       "                        <td id=\"T_28b8b68c_8c4c_11ea_8cc4_d0c5d384fb94row6_col4\" class=\"data row6 col4\" >0.05</td>\n",
       "                        <td id=\"T_28b8b68c_8c4c_11ea_8cc4_d0c5d384fb94row6_col5\" class=\"data row6 col5\" >0.29</td>\n",
       "                        <td id=\"T_28b8b68c_8c4c_11ea_8cc4_d0c5d384fb94row6_col6\" class=\"data row6 col6\" >1.00</td>\n",
       "            </tr>\n",
       "    </tbody></table>"
      ],
      "text/plain": [
       "<pandas.io.formats.style.Styler at 0x273d8a80108>"
      ]
     },
     "execution_count": 29,
     "metadata": {},
     "output_type": "execute_result"
    }
   ],
   "source": [
    "corr = X.corr()\n",
    "corr.style.background_gradient(cmap='coolwarm').set_precision(2)"
   ]
  },
  {
   "cell_type": "code",
   "execution_count": 30,
   "metadata": {},
   "outputs": [
    {
     "data": {
      "text/html": [
       "<div>\n",
       "<style scoped>\n",
       "    .dataframe tbody tr th:only-of-type {\n",
       "        vertical-align: middle;\n",
       "    }\n",
       "\n",
       "    .dataframe tbody tr th {\n",
       "        vertical-align: top;\n",
       "    }\n",
       "\n",
       "    .dataframe thead th {\n",
       "        text-align: right;\n",
       "    }\n",
       "</style>\n",
       "<table border=\"1\" class=\"dataframe\">\n",
       "  <thead>\n",
       "    <tr style=\"text-align: right;\">\n",
       "      <th></th>\n",
       "      <th>Confirmed</th>\n",
       "    </tr>\n",
       "    <tr>\n",
       "      <th>Country</th>\n",
       "      <th></th>\n",
       "    </tr>\n",
       "  </thead>\n",
       "  <tbody>\n",
       "    <tr>\n",
       "      <th>Afghanistan</th>\n",
       "      <td>1.0</td>\n",
       "    </tr>\n",
       "    <tr>\n",
       "      <th>Afghanistan</th>\n",
       "      <td>1.0</td>\n",
       "    </tr>\n",
       "    <tr>\n",
       "      <th>Afghanistan</th>\n",
       "      <td>1.0</td>\n",
       "    </tr>\n",
       "    <tr>\n",
       "      <th>Afghanistan</th>\n",
       "      <td>1.0</td>\n",
       "    </tr>\n",
       "    <tr>\n",
       "      <th>Afghanistan</th>\n",
       "      <td>1.0</td>\n",
       "    </tr>\n",
       "  </tbody>\n",
       "</table>\n",
       "</div>"
      ],
      "text/plain": [
       "             Confirmed\n",
       "Country               \n",
       "Afghanistan        1.0\n",
       "Afghanistan        1.0\n",
       "Afghanistan        1.0\n",
       "Afghanistan        1.0\n",
       "Afghanistan        1.0"
      ]
     },
     "execution_count": 30,
     "metadata": {},
     "output_type": "execute_result"
    }
   ],
   "source": [
    "# Pick only features that are correlated more than 0.2\n",
    "y=X[['Confirmed']].copy()  \n",
    "y.head()  "
   ]
  },
  {
   "cell_type": "code",
   "execution_count": 31,
   "metadata": {},
   "outputs": [
    {
     "name": "stdout",
     "output_type": "stream",
     "text": [
      "(10022, 7)\n"
     ]
    },
    {
     "data": {
      "text/html": [
       "<div>\n",
       "<style scoped>\n",
       "    .dataframe tbody tr th:only-of-type {\n",
       "        vertical-align: middle;\n",
       "    }\n",
       "\n",
       "    .dataframe tbody tr th {\n",
       "        vertical-align: top;\n",
       "    }\n",
       "\n",
       "    .dataframe thead th {\n",
       "        text-align: right;\n",
       "    }\n",
       "</style>\n",
       "<table border=\"1\" class=\"dataframe\">\n",
       "  <thead>\n",
       "    <tr style=\"text-align: right;\">\n",
       "      <th></th>\n",
       "      <th>Confirmed</th>\n",
       "      <th>Population</th>\n",
       "      <th>Area (sq. mi.)</th>\n",
       "      <th>Pop. Density (per sq. mi.)</th>\n",
       "      <th>Net migration</th>\n",
       "      <th>days_since_first</th>\n",
       "      <th>previous_Confirmed</th>\n",
       "    </tr>\n",
       "    <tr>\n",
       "      <th>Country</th>\n",
       "      <th></th>\n",
       "      <th></th>\n",
       "      <th></th>\n",
       "      <th></th>\n",
       "      <th></th>\n",
       "      <th></th>\n",
       "      <th></th>\n",
       "    </tr>\n",
       "  </thead>\n",
       "  <tbody>\n",
       "    <tr>\n",
       "      <th>Afghanistan</th>\n",
       "      <td>1.0</td>\n",
       "      <td>31056997.0</td>\n",
       "      <td>647500.0</td>\n",
       "      <td>480.0</td>\n",
       "      <td>2306.0</td>\n",
       "      <td>0</td>\n",
       "      <td>0.0</td>\n",
       "    </tr>\n",
       "    <tr>\n",
       "      <th>Afghanistan</th>\n",
       "      <td>1.0</td>\n",
       "      <td>31056997.0</td>\n",
       "      <td>647500.0</td>\n",
       "      <td>480.0</td>\n",
       "      <td>2306.0</td>\n",
       "      <td>1</td>\n",
       "      <td>1.0</td>\n",
       "    </tr>\n",
       "    <tr>\n",
       "      <th>Afghanistan</th>\n",
       "      <td>1.0</td>\n",
       "      <td>31056997.0</td>\n",
       "      <td>647500.0</td>\n",
       "      <td>480.0</td>\n",
       "      <td>2306.0</td>\n",
       "      <td>2</td>\n",
       "      <td>1.0</td>\n",
       "    </tr>\n",
       "    <tr>\n",
       "      <th>Afghanistan</th>\n",
       "      <td>1.0</td>\n",
       "      <td>31056997.0</td>\n",
       "      <td>647500.0</td>\n",
       "      <td>480.0</td>\n",
       "      <td>2306.0</td>\n",
       "      <td>3</td>\n",
       "      <td>1.0</td>\n",
       "    </tr>\n",
       "    <tr>\n",
       "      <th>Afghanistan</th>\n",
       "      <td>1.0</td>\n",
       "      <td>31056997.0</td>\n",
       "      <td>647500.0</td>\n",
       "      <td>480.0</td>\n",
       "      <td>2306.0</td>\n",
       "      <td>4</td>\n",
       "      <td>1.0</td>\n",
       "    </tr>\n",
       "  </tbody>\n",
       "</table>\n",
       "</div>"
      ],
      "text/plain": [
       "             Confirmed  Population  Area (sq. mi.)  \\\n",
       "Country                                              \n",
       "Afghanistan        1.0  31056997.0        647500.0   \n",
       "Afghanistan        1.0  31056997.0        647500.0   \n",
       "Afghanistan        1.0  31056997.0        647500.0   \n",
       "Afghanistan        1.0  31056997.0        647500.0   \n",
       "Afghanistan        1.0  31056997.0        647500.0   \n",
       "\n",
       "             Pop. Density (per sq. mi.)  Net migration  days_since_first  \\\n",
       "Country                                                                    \n",
       "Afghanistan                       480.0         2306.0                 0   \n",
       "Afghanistan                       480.0         2306.0                 1   \n",
       "Afghanistan                       480.0         2306.0                 2   \n",
       "Afghanistan                       480.0         2306.0                 3   \n",
       "Afghanistan                       480.0         2306.0                 4   \n",
       "\n",
       "             previous_Confirmed  \n",
       "Country                          \n",
       "Afghanistan                 0.0  \n",
       "Afghanistan                 1.0  \n",
       "Afghanistan                 1.0  \n",
       "Afghanistan                 1.0  \n",
       "Afghanistan                 1.0  "
      ]
     },
     "execution_count": 31,
     "metadata": {},
     "output_type": "execute_result"
    }
   ],
   "source": [
    "print(X.shape)\n",
    "X.head()"
   ]
  },
  {
   "cell_type": "code",
   "execution_count": 32,
   "metadata": {},
   "outputs": [],
   "source": [
    "# To get rid of +e format\n",
    "pd.options.display.float_format = '{:20,.0f}'.format"
   ]
  },
  {
   "cell_type": "markdown",
   "metadata": {},
   "source": [
    "#### Train Test Split"
   ]
  },
  {
   "cell_type": "code",
   "execution_count": 33,
   "metadata": {},
   "outputs": [],
   "source": [
    "X.drop(['Confirmed'], axis=1, inplace=True)\n",
    "X.reset_index(drop=True)\n",
    "\n",
    "X_train = X.iloc[0:0,:].copy()\n",
    "X_test = X.iloc[0:0,:].copy() \n",
    "X_val = X.iloc[0:0,:].copy()\n",
    "y_train = y.iloc[0:0,:].copy()\n",
    "y_test = y.iloc[0:0,:].copy()\n",
    "y_val = y.iloc[0:0,:].copy()\n",
    "for country in covid_df.index.unique()[0:]:\n",
    "    country_df = covid_df[covid_df.index == country] \n",
    "    filter = (country_df.days_since_first >= country_df.days_since_first.max()-3) & (country_df.days_since_first < country_df.days_since_first.max()-1)\n",
    "    X_train = X_train.append(country_df[country_df.days_since_first < country_df.days_since_first.max()-3][['Population','Area (sq. mi.)','Pop. Density (per sq. mi.)','Net migration','days_since_first','previous_Confirmed']])\n",
    "    X_val = X_val.append(country_df[filter])[['Population','Area (sq. mi.)','Pop. Density (per sq. mi.)','Net migration','days_since_first','previous_Confirmed']]\n",
    "    X_test = X_test.append(country_df[country_df.days_since_first >= country_df.days_since_first.max()-1][['Population','Area (sq. mi.)','Pop. Density (per sq. mi.)','Net migration','days_since_first','previous_Confirmed']])    \n",
    "\n",
    "    y_train = y_train.append(country_df[country_df.days_since_first < country_df.days_since_first.max()-3])[['Confirmed']]\n",
    "    y_val = y_val.append(country_df[filter])[['Confirmed']]    \n",
    "    y_test = y_test.append(country_df[country_df.days_since_first >= country_df.days_since_first.max()-1][['Confirmed']])"
   ]
  },
  {
   "cell_type": "code",
   "execution_count": 80,
   "metadata": {},
   "outputs": [
    {
     "data": {
      "text/html": [
       "<div>\n",
       "<style scoped>\n",
       "    .dataframe tbody tr th:only-of-type {\n",
       "        vertical-align: middle;\n",
       "    }\n",
       "\n",
       "    .dataframe tbody tr th {\n",
       "        vertical-align: top;\n",
       "    }\n",
       "\n",
       "    .dataframe thead th {\n",
       "        text-align: right;\n",
       "    }\n",
       "</style>\n",
       "<table border=\"1\" class=\"dataframe\">\n",
       "  <thead>\n",
       "    <tr style=\"text-align: right;\">\n",
       "      <th></th>\n",
       "      <th>Population</th>\n",
       "      <th>Area (sq. mi.)</th>\n",
       "      <th>Pop. Density (per sq. mi.)</th>\n",
       "      <th>Net migration</th>\n",
       "      <th>days_since_first</th>\n",
       "      <th>previous_Confirmed</th>\n",
       "    </tr>\n",
       "    <tr>\n",
       "      <th>Country</th>\n",
       "      <th></th>\n",
       "      <th></th>\n",
       "      <th></th>\n",
       "      <th></th>\n",
       "      <th></th>\n",
       "      <th></th>\n",
       "    </tr>\n",
       "  </thead>\n",
       "  <tbody>\n",
       "    <tr>\n",
       "      <th>Italy</th>\n",
       "      <td>58,133,509</td>\n",
       "      <td>301,230</td>\n",
       "      <td>1,930</td>\n",
       "      <td>207</td>\n",
       "      <td>84</td>\n",
       "      <td>189,973</td>\n",
       "    </tr>\n",
       "    <tr>\n",
       "      <th>Italy</th>\n",
       "      <td>58,133,509</td>\n",
       "      <td>301,230</td>\n",
       "      <td>1,930</td>\n",
       "      <td>207</td>\n",
       "      <td>85</td>\n",
       "      <td>192,994</td>\n",
       "    </tr>\n",
       "  </tbody>\n",
       "</table>\n",
       "</div>"
      ],
      "text/plain": [
       "                  Population       Area (sq. mi.)  Pop. Density (per sq. mi.)  \\\n",
       "Country                                                                         \n",
       "Italy             58,133,509              301,230                       1,930   \n",
       "Italy             58,133,509              301,230                       1,930   \n",
       "\n",
       "               Net migration  days_since_first   previous_Confirmed  \n",
       "Country                                                              \n",
       "Italy                    207                84              189,973  \n",
       "Italy                    207                85              192,994  "
      ]
     },
     "execution_count": 80,
     "metadata": {},
     "output_type": "execute_result"
    }
   ],
   "source": [
    " \n",
    "X_test[X_test.index == \"Italy\"]"
   ]
  },
  {
   "cell_type": "code",
   "execution_count": 35,
   "metadata": {},
   "outputs": [
    {
     "name": "stdout",
     "output_type": "stream",
     "text": [
      "X_train shape is (9219, 6)\n",
      "X_test shape is (404, 6)\n",
      "y_train is (9219, 1)\n",
      "y_test shape is (404, 1)\n"
     ]
    }
   ],
   "source": [
    "print(f\"X_train shape is {X_train.shape}\")\n",
    "print(f\"X_test shape is {X_test.shape}\")\n",
    "# print(f\"X_validate shape is {X_validate.shape}\")\n",
    "print(f\"y_train is {y_train.shape}\")\n",
    "# print(f\"y_validate shape is {y_validate.shape}\")\n",
    "print(f\"y_test shape is {y_test.shape}\")"
   ]
  },
  {
   "cell_type": "markdown",
   "metadata": {},
   "source": [
    "## Random Forest"
   ]
  },
  {
   "cell_type": "markdown",
   "metadata": {},
   "source": [
    "#### Defining the model and checking the best score"
   ]
  },
  {
   "cell_type": "code",
   "execution_count": 36,
   "metadata": {},
   "outputs": [],
   "source": [
    "#DEFINE YOUR REGRESSOR and THE PARAMETERS GRID\n",
    "\n",
    "regressor = RandomForestRegressor()\n",
    "parameters = {\"criterion\": ['mse'], \n",
    "              \"n_estimators\":[10, 100, 400], \n",
    "              \"min_samples_leaf\": [0.1, 1, 5, 10, 20, 50], \n",
    "              \"random_state\" : [1]\n",
    "            #  \"max_features\": \"auto\"\n",
    "            # \"oob_score \": TRUE\n",
    "             }"
   ]
  },
  {
   "cell_type": "code",
   "execution_count": 37,
   "metadata": {},
   "outputs": [],
   "source": [
    "#DEFINE YOUR GRIDSEARCH \n",
    "gs = GridSearchCV(regressor, parameters, cv=3) #with no params it reduces to a CV\n",
    "\n",
    "gs = gs.fit(X_train.to_numpy(),y_train.to_numpy())"
   ]
  },
  {
   "cell_type": "code",
   "execution_count": 38,
   "metadata": {},
   "outputs": [
    {
     "name": "stdout",
     "output_type": "stream",
     "text": [
      "***GRIDSEARCH RESULTS***\n",
      "Best score: 0.854576 using {'criterion': 'mse', 'min_samples_leaf': 1, 'n_estimators': 400, 'random_state': 1}\n"
     ]
    }
   ],
   "source": [
    "#summarize the results of your GRIDSEARCH\n",
    "print('***GRIDSEARCH RESULTS***')\n",
    "print(\"Best score: %f using %s\" % (gs.best_score_, gs.best_params_))\n",
    "means = gs.cv_results_['mean_test_score']\n",
    "stds = gs.cv_results_['std_test_score']\n",
    "params = gs.cv_results_['params']\n"
   ]
  },
  {
   "cell_type": "code",
   "execution_count": 39,
   "metadata": {},
   "outputs": [
    {
     "name": "stdout",
     "output_type": "stream",
     "text": [
      "|--- previous_Confirmed <= 259592.50\n",
      "|   |--- previous_Confirmed <= 57767.50\n",
      "|   |   |--- previous_Confirmed <= 13950.50\n",
      "|   |   |   |--- previous_Confirmed <= 3577.00\n",
      "|   |   |   |   |--- truncated branch of depth 36\n",
      "|   |   |   |--- previous_Confirmed >  3577.00\n",
      "|   |   |   |   |--- truncated branch of depth 17\n",
      "|   |   |--- previous_Confirmed >  13950.50\n",
      "|   |   |   |--- previous_Confirmed <= 33972.00\n",
      "|   |   |   |   |--- truncated branch of depth 12\n",
      "|   |   |   |--- previous_Confirmed >  33972.00\n",
      "|   |   |   |   |--- truncated branch of depth 9\n",
      "|   |--- previous_Confirmed >  57767.50\n",
      "|   |   |--- previous_Confirmed <= 118481.00\n",
      "|   |   |   |--- previous_Confirmed <= 84149.50\n",
      "|   |   |   |   |--- truncated branch of depth 10\n",
      "|   |   |   |--- previous_Confirmed >  84149.50\n",
      "|   |   |   |   |--- truncated branch of depth 8\n",
      "|   |   |--- previous_Confirmed >  118481.00\n",
      "|   |   |   |--- previous_Confirmed <= 160673.50\n",
      "|   |   |   |   |--- truncated branch of depth 9\n",
      "|   |   |   |--- previous_Confirmed >  160673.50\n",
      "|   |   |   |   |--- truncated branch of depth 8\n",
      "|--- previous_Confirmed >  259592.50\n",
      "|   |--- days_since_first <= 80.00\n",
      "|   |   |--- days_since_first <= 77.00\n",
      "|   |   |   |--- previous_Confirmed <= 322962.50\n",
      "|   |   |   |   |--- truncated branch of depth 2\n",
      "|   |   |   |--- previous_Confirmed >  322962.50\n",
      "|   |   |   |   |--- truncated branch of depth 2\n",
      "|   |   |--- days_since_first >  77.00\n",
      "|   |   |   |--- days_since_first <= 78.50\n",
      "|   |   |   |   |--- value: [461437.00]\n",
      "|   |   |   |--- days_since_first >  78.50\n",
      "|   |   |   |   |--- value: [496535.00]\n",
      "|   |--- days_since_first >  80.00\n",
      "|   |   |--- previous_Confirmed <= 622010.00\n",
      "|   |   |   |--- days_since_first <= 83.00\n",
      "|   |   |   |   |--- truncated branch of depth 2\n",
      "|   |   |   |--- days_since_first >  83.00\n",
      "|   |   |   |   |--- value: [636350.00]\n",
      "|   |   |--- previous_Confirmed >  622010.00\n",
      "|   |   |   |--- previous_Confirmed <= 683753.50\n",
      "|   |   |   |   |--- truncated branch of depth 2\n",
      "|   |   |   |--- previous_Confirmed >  683753.50\n",
      "|   |   |   |   |--- truncated branch of depth 3\n",
      "\n"
     ]
    }
   ],
   "source": [
    "columns = np.asarray(X.columns)\n",
    "#columns = np.asarray([columns])\n",
    "from sklearn import tree\n",
    "r = tree.export_text(gs.best_estimator_.estimators_[0],feature_names=columns.tolist(), max_depth=3)\n",
    "print(r)"
   ]
  },
  {
   "cell_type": "code",
   "execution_count": 40,
   "metadata": {},
   "outputs": [
    {
     "data": {
      "text/plain": [
       "RandomForestRegressor(bootstrap=True, ccp_alpha=0.0, criterion='mse',\n",
       "                      max_depth=None, max_features='auto', max_leaf_nodes=None,\n",
       "                      max_samples=None, min_impurity_decrease=0.0,\n",
       "                      min_impurity_split=None, min_samples_leaf=1,\n",
       "                      min_samples_split=2, min_weight_fraction_leaf=0.0,\n",
       "                      n_estimators=400, n_jobs=None, oob_score=False,\n",
       "                      random_state=1, verbose=0, warm_start=False)"
      ]
     },
     "execution_count": 40,
     "metadata": {},
     "output_type": "execute_result"
    }
   ],
   "source": [
    "gs.best_estimator_"
   ]
  },
  {
   "cell_type": "markdown",
   "metadata": {},
   "source": [
    "####  Training the model"
   ]
  },
  {
   "cell_type": "code",
   "execution_count": 41,
   "metadata": {},
   "outputs": [],
   "source": [
    "#we establish the model with the best estimator according to Gridsearch results\n",
    "gs = gs.best_estimator_ \n",
    "\n",
    "gs = gs.fit(X_train.to_numpy(),y_train.to_numpy())"
   ]
  },
  {
   "cell_type": "code",
   "execution_count": 42,
   "metadata": {},
   "outputs": [
    {
     "data": {
      "text/plain": [
       "0.9835149921883828"
      ]
     },
     "execution_count": 42,
     "metadata": {},
     "output_type": "execute_result"
    }
   ],
   "source": [
    "#Returns the coefficient of determination R^2 of the prediction.\n",
    "#Explained variance score: 1 is perfect prediction\n",
    "gs.score(X_test.to_numpy(), y_test.to_numpy())"
   ]
  },
  {
   "cell_type": "markdown",
   "metadata": {},
   "source": [
    "#### Testing the model"
   ]
  },
  {
   "cell_type": "code",
   "execution_count": 43,
   "metadata": {},
   "outputs": [],
   "source": [
    "y_pred = gs.predict(X_test.to_numpy())"
   ]
  },
  {
   "cell_type": "code",
   "execution_count": 45,
   "metadata": {},
   "outputs": [
    {
     "data": {
      "text/html": [
       "<div>\n",
       "<style scoped>\n",
       "    .dataframe tbody tr th:only-of-type {\n",
       "        vertical-align: middle;\n",
       "    }\n",
       "\n",
       "    .dataframe tbody tr th {\n",
       "        vertical-align: top;\n",
       "    }\n",
       "\n",
       "    .dataframe thead th {\n",
       "        text-align: right;\n",
       "    }\n",
       "</style>\n",
       "<table border=\"1\" class=\"dataframe\">\n",
       "  <thead>\n",
       "    <tr style=\"text-align: right;\">\n",
       "      <th></th>\n",
       "      <th>Actual</th>\n",
       "      <th>Pred</th>\n",
       "    </tr>\n",
       "    <tr>\n",
       "      <th>Country</th>\n",
       "      <th></th>\n",
       "      <th></th>\n",
       "    </tr>\n",
       "  </thead>\n",
       "  <tbody>\n",
       "    <tr>\n",
       "      <th>Afghanistan</th>\n",
       "      <td>1,351</td>\n",
       "      <td>1,475</td>\n",
       "    </tr>\n",
       "    <tr>\n",
       "      <th>Afghanistan</th>\n",
       "      <td>1,463</td>\n",
       "      <td>1,478</td>\n",
       "    </tr>\n",
       "    <tr>\n",
       "      <th>Albania</th>\n",
       "      <td>678</td>\n",
       "      <td>684</td>\n",
       "    </tr>\n",
       "    <tr>\n",
       "      <th>Albania</th>\n",
       "      <td>712</td>\n",
       "      <td>694</td>\n",
       "    </tr>\n",
       "    <tr>\n",
       "      <th>Algeria</th>\n",
       "      <td>3,127</td>\n",
       "      <td>3,302</td>\n",
       "    </tr>\n",
       "    <tr>\n",
       "      <th>...</th>\n",
       "      <td>...</td>\n",
       "      <td>...</td>\n",
       "    </tr>\n",
       "    <tr>\n",
       "      <th>Zambia</th>\n",
       "      <td>84</td>\n",
       "      <td>97</td>\n",
       "    </tr>\n",
       "    <tr>\n",
       "      <th>Zimbabwe</th>\n",
       "      <td>29</td>\n",
       "      <td>31</td>\n",
       "    </tr>\n",
       "    <tr>\n",
       "      <th>Zimbabwe</th>\n",
       "      <td>31</td>\n",
       "      <td>32</td>\n",
       "    </tr>\n",
       "    <tr>\n",
       "      <th>not found</th>\n",
       "      <td>712</td>\n",
       "      <td>708</td>\n",
       "    </tr>\n",
       "    <tr>\n",
       "      <th>not found</th>\n",
       "      <td>9</td>\n",
       "      <td>11</td>\n",
       "    </tr>\n",
       "  </tbody>\n",
       "</table>\n",
       "<p>404 rows × 2 columns</p>\n",
       "</div>"
      ],
      "text/plain": [
       "                          Actual                 Pred\n",
       "Country                                              \n",
       "Afghanistan                1,351                1,475\n",
       "Afghanistan                1,463                1,478\n",
       "Albania                      678                  684\n",
       "Albania                      712                  694\n",
       "Algeria                    3,127                3,302\n",
       "...                          ...                  ...\n",
       "Zambia                        84                   97\n",
       "Zimbabwe                      29                   31\n",
       "Zimbabwe                      31                   32\n",
       "not found                    712                  708\n",
       "not found                      9                   11\n",
       "\n",
       "[404 rows x 2 columns]"
      ]
     },
     "execution_count": 45,
     "metadata": {},
     "output_type": "execute_result"
    }
   ],
   "source": [
    "pred_df = pd.DataFrame({'Actual':y_test['Confirmed'], 'Pred':y_pred}) \n",
    "pred_df"
   ]
  },
  {
   "cell_type": "markdown",
   "metadata": {},
   "source": [
    "#### Evaluation results"
   ]
  },
  {
   "cell_type": "code",
   "execution_count": 46,
   "metadata": {},
   "outputs": [
    {
     "name": "stdout",
     "output_type": "stream",
     "text": [
      "explained_variance_score:  0.9835403223780614\n"
     ]
    }
   ],
   "source": [
    "print(\"explained_variance_score: \",explained_variance_score(y_test, y_pred))"
   ]
  },
  {
   "cell_type": "code",
   "execution_count": 47,
   "metadata": {},
   "outputs": [
    {
     "name": "stdout",
     "output_type": "stream",
     "text": [
      "MAE train:  49.492801943294516\n",
      "MSE train:  146165.00424848273\n",
      "RMSE train:  382.31532044698747\n",
      "r2:  0.9999215830469456\n",
      "MAE test:  997.1308605257504\n",
      "MSE test:  82436529.67864618\n",
      "RMSE test:  9079.456463833403\n",
      "r2:  0.9917232437471569\n"
     ]
    }
   ],
   "source": [
    "print(\"MAE train: \", metrics.mean_absolute_error(y_train.to_numpy(), gs.predict(X_train.to_numpy()))) \n",
    "print(\"MSE train: \",metrics.mean_squared_error(y_train.to_numpy(), gs.predict(X_train.to_numpy())))\n",
    "print(\"RMSE train: \",np.sqrt(metrics.mean_squared_error(y_train.to_numpy(), gs.predict(X_train.to_numpy()))))\n",
    "print(\"r2: \",np.sqrt(metrics.r2_score(y_train.to_numpy(), gs.predict(X_train.to_numpy()))))\n",
    "\n",
    "print(\"MAE test: \", metrics.mean_absolute_error(y_test.to_numpy(), gs.predict(X_test.to_numpy()))) \n",
    "print(\"MSE test: \",metrics.mean_squared_error(y_test.to_numpy(), gs.predict(X_test.to_numpy())))\n",
    "print(\"RMSE test: \",np.sqrt(metrics.mean_squared_error(y_test.to_numpy(), gs.predict(X_test.to_numpy()))))\n",
    "print(\"r2: \",np.sqrt(metrics.r2_score(y_test.to_numpy(), gs.predict(X_test.to_numpy()))))"
   ]
  },
  {
   "cell_type": "markdown",
   "metadata": {},
   "source": [
    "## Random Forest Regression -  For different countries"
   ]
  },
  {
   "cell_type": "code",
   "execution_count": 48,
   "metadata": {},
   "outputs": [],
   "source": [
    "import plotly.io as pio"
   ]
  },
  {
   "cell_type": "code",
   "execution_count": 49,
   "metadata": {},
   "outputs": [],
   "source": [
    "plt.style.use('dark_background')"
   ]
  },
  {
   "cell_type": "markdown",
   "metadata": {},
   "source": [
    "### Using Kaggle dataset to cross check the results of future prediction "
   ]
  },
  {
   "cell_type": "code",
   "execution_count": 50,
   "metadata": {},
   "outputs": [],
   "source": [
    "covid_df_kaggle= pd.read_csv(\"covid_19_data_Kaggle.csv\")"
   ]
  },
  {
   "cell_type": "code",
   "execution_count": 51,
   "metadata": {},
   "outputs": [],
   "source": [
    "covid_df_kaggle[\"ObservationDate\"]=pd.to_datetime(covid_df_kaggle[\"ObservationDate\"])"
   ]
  },
  {
   "cell_type": "code",
   "execution_count": 52,
   "metadata": {},
   "outputs": [
    {
     "data": {
      "text/plain": [
       "(20574, 8)"
      ]
     },
     "execution_count": 52,
     "metadata": {},
     "output_type": "execute_result"
    }
   ],
   "source": [
    "covid_df_kaggle.shape"
   ]
  },
  {
   "cell_type": "markdown",
   "metadata": {},
   "source": [
    "### Random Forest Regression - France"
   ]
  },
  {
   "cell_type": "code",
   "execution_count": 58,
   "metadata": {},
   "outputs": [],
   "source": [
    "covid_df_kaggle_France = covid_df_kaggle[covid_df_kaggle[\"Country/Region\"] == \"France\"].groupby(\"ObservationDate\").agg(\n",
    "                {\n",
    "                     'Confirmed':sum,    # Sum duration per group\n",
    "                     'Deaths':sum,    # Sum duration per group\n",
    "                     'Recovered':sum    # Sum duration per group\n",
    "                }).sort_values([\"ObservationDate\"]).reset_index()"
   ]
  },
  {
   "cell_type": "code",
   "execution_count": 59,
   "metadata": {},
   "outputs": [],
   "source": [
    "covid_df_kaggle_France_plt = covid_df_kaggle_France[covid_df_kaggle_France['ObservationDate'] <= '2020-04-30'].reset_index(drop=True)"
   ]
  },
  {
   "cell_type": "code",
   "execution_count": 60,
   "metadata": {},
   "outputs": [
    {
     "data": {
      "text/html": [
       "<div>\n",
       "<style scoped>\n",
       "    .dataframe tbody tr th:only-of-type {\n",
       "        vertical-align: middle;\n",
       "    }\n",
       "\n",
       "    .dataframe tbody tr th {\n",
       "        vertical-align: top;\n",
       "    }\n",
       "\n",
       "    .dataframe thead th {\n",
       "        text-align: right;\n",
       "    }\n",
       "</style>\n",
       "<table border=\"1\" class=\"dataframe\">\n",
       "  <thead>\n",
       "    <tr style=\"text-align: right;\">\n",
       "      <th></th>\n",
       "      <th>predicted_infections</th>\n",
       "      <th>Actual infections</th>\n",
       "      <th>Date</th>\n",
       "    </tr>\n",
       "  </thead>\n",
       "  <tbody>\n",
       "    <tr>\n",
       "      <th>0</th>\n",
       "      <td>169,490</td>\n",
       "      <td>162,220</td>\n",
       "      <td>2020-04-26</td>\n",
       "    </tr>\n",
       "    <tr>\n",
       "      <th>1</th>\n",
       "      <td>173,631</td>\n",
       "      <td>165,963</td>\n",
       "      <td>2020-04-27</td>\n",
       "    </tr>\n",
       "    <tr>\n",
       "      <th>2</th>\n",
       "      <td>178,264</td>\n",
       "      <td>169,053</td>\n",
       "      <td>2020-04-28</td>\n",
       "    </tr>\n",
       "    <tr>\n",
       "      <th>3</th>\n",
       "      <td>183,713</td>\n",
       "      <td>166,543</td>\n",
       "      <td>2020-04-29</td>\n",
       "    </tr>\n",
       "    <tr>\n",
       "      <th>4</th>\n",
       "      <td>191,633</td>\n",
       "      <td>167,299</td>\n",
       "      <td>2020-04-30</td>\n",
       "    </tr>\n",
       "  </tbody>\n",
       "</table>\n",
       "</div>"
      ],
      "text/plain": [
       "   predicted_infections    Actual infections       Date\n",
       "0               169,490              162,220 2020-04-26\n",
       "1               173,631              165,963 2020-04-27\n",
       "2               178,264              169,053 2020-04-28\n",
       "3               183,713              166,543 2020-04-29\n",
       "4               191,633              167,299 2020-04-30"
      ]
     },
     "execution_count": 60,
     "metadata": {},
     "output_type": "execute_result"
    }
   ],
   "source": [
    "filter_condn = (covid_df_kaggle_France['ObservationDate'] > '2020-04-25') & (covid_df_kaggle_France['ObservationDate'] <= '2020-04-30')\n",
    "covid_df_kaggle_France = covid_df_kaggle_France[filter_condn].reset_index(drop=True)\n",
    "covid_df_kaggle_France\n",
    "\n",
    "X_France_df = X[X.index == \"France\"].copy()\n",
    "X_France_test = X_France_df.head().copy()\n",
    "X_France_test=X_France_test.reset_index(drop=True)\n",
    "X_France_test['days_since_first'] = X_France_test['previous_Confirmed'] =  0\n",
    "X_France_test.loc[0,'days_since_first'] =  X_France_df[\"days_since_first\"].iloc[-1]+1\n",
    "#X_France_test.loc[0,'increase_rate']=X_France_df[\"increase_rate\"].iloc[-1]+1\n",
    "X_France_test.loc[0,'previous_Confirmed'] = y[y.index == \"France\"].max()[0]\n",
    "\n",
    "#X_France_test['increase_rate']=X_France_df[\"increase_rate\"].max()\n",
    "\n",
    "\n",
    "for i in range(0,5):\n",
    "    X_France_test.loc[i,'days_since_first'] = X_France_test.loc[0,'days_since_first'] + i\n",
    "\n",
    "X_France_test\n",
    "\n",
    "predictions=[]\n",
    "\n",
    "for i in range(0,5):\n",
    "    pred=int(gs.predict([X_France_test.iloc[i].to_numpy()]))\n",
    "    X_France_test.loc[i+1,'previous_Confirmed']=pred    \n",
    "    predictions.append(pred)\n",
    "\n",
    "pred = pd.DataFrame(predictions)\n",
    "\n",
    "#### Prediction results\n",
    "X_France_test['predicted_infections']= pred.iloc[:, 0] \n",
    "\n",
    "X_France_test[\"ObservationDate\"] = covid_df_kaggle_France[\"ObservationDate\"]\n",
    "covid_df_kaggle_France_plt[\"predicted_infections\"] = covid_df_kaggle_France_plt[\"Confirmed\"] \n",
    "\n",
    "covid_df_kaggle_France_plt.iloc[-5,4] = X_France_test.loc[0,'predicted_infections']\n",
    "covid_df_kaggle_France_plt.iloc[-4,4] = X_France_test.loc[1,'predicted_infections']\n",
    "covid_df_kaggle_France_plt.iloc[-3,4] = X_France_test.loc[2,'predicted_infections']\n",
    "covid_df_kaggle_France_plt.iloc[-2,4] = X_France_test.loc[3,'predicted_infections']\n",
    "covid_df_kaggle_France_plt.iloc[-1,4] = X_France_test.loc[4,'predicted_infections']\n",
    "    \n",
    "\n",
    "X_France_test=X_France_test[{'predicted_infections'}]\n",
    "# Creating new column to have actual predictions and date from Kaggle dataset\n",
    "X_France_test[\"Actual infections\"] = covid_df_kaggle_France[\"Confirmed\"]\n",
    "X_France_test[\"Date\"] = covid_df_kaggle_France[\"ObservationDate\"]\n",
    "X_France_test = X_France_test.iloc[0:5]\n",
    "X_France_test "
   ]
  },
  {
   "cell_type": "code",
   "execution_count": 61,
   "metadata": {},
   "outputs": [
    {
     "data": {
      "text/plain": [
       "(array([737456., 737470., 737485., 737499., 737516., 737530., 737546.]),\n",
       " <a list of 7 Text major ticklabel objects>)"
      ]
     },
     "execution_count": 61,
     "metadata": {},
     "output_type": "execute_result"
    },
    {
     "data": {
      "image/png": "[encoded data removed]",
      "text/plain": [
       "<Figure size 720x360 with 1 Axes>"
      ]
     },
     "metadata": {},
     "output_type": "display_data"
    }
   ],
   "source": [
    "import matplotlib.pyplot as plt\n",
    "\n",
    "plt.figure(figsize=(10,5))\n",
    "plt.plot(covid_df_kaggle_France_plt[\"ObservationDate\"],covid_df_kaggle_France_plt[\"Confirmed\"],label=\"Actual values\",color = \"#9400D3\", marker='o')\n",
    "plt.plot(covid_df_kaggle_France_plt[\"ObservationDate\"],covid_df_kaggle_France_plt[\"predicted_infections\"],color = \"#05eeff\",label=\"Predicted Values\",marker='*')\n",
    "plt.legend()\n",
    "plt.xlabel(\"Date Time\")\n",
    "plt.ylabel('Confirmed Cases')\n",
    "plt.title(\"Confirmed Cases Random Forest Regressor Forecasting\")\n",
    "plt.xticks(rotation=90)"
   ]
  },
  {
   "cell_type": "markdown",
   "metadata": {},
   "source": [
    "### Random Forest Regression - Spain"
   ]
  },
  {
   "cell_type": "code",
   "execution_count": 74,
   "metadata": {},
   "outputs": [],
   "source": [
    "covid_df_kaggle_Spain = covid_df_kaggle[covid_df_kaggle[\"Country/Region\"] == \"Spain\"].groupby(\"ObservationDate\").agg(\n",
    "                {\n",
    "                     'Confirmed':sum,    # Sum duration per group\n",
    "                     'Deaths':sum,    # Sum duration per group\n",
    "                     'Recovered':sum    # Sum duration per group\n",
    "                }).sort_values([\"ObservationDate\"]).reset_index()"
   ]
  },
  {
   "cell_type": "code",
   "execution_count": 75,
   "metadata": {},
   "outputs": [],
   "source": [
    "covid_df_kaggle_Spain_plt = covid_df_kaggle_Spain[covid_df_kaggle_Spain['ObservationDate'] <= '2020-04-30'].reset_index(drop=True)"
   ]
  },
  {
   "cell_type": "code",
   "execution_count": 76,
   "metadata": {},
   "outputs": [
    {
     "data": {
      "text/html": [
       "<div>\n",
       "<style scoped>\n",
       "    .dataframe tbody tr th:only-of-type {\n",
       "        vertical-align: middle;\n",
       "    }\n",
       "\n",
       "    .dataframe tbody tr th {\n",
       "        vertical-align: top;\n",
       "    }\n",
       "\n",
       "    .dataframe thead th {\n",
       "        text-align: right;\n",
       "    }\n",
       "</style>\n",
       "<table border=\"1\" class=\"dataframe\">\n",
       "  <thead>\n",
       "    <tr style=\"text-align: right;\">\n",
       "      <th></th>\n",
       "      <th>predicted_infections</th>\n",
       "      <th>Actual infections</th>\n",
       "      <th>Date</th>\n",
       "    </tr>\n",
       "  </thead>\n",
       "  <tbody>\n",
       "    <tr>\n",
       "      <th>0</th>\n",
       "      <td>268,699</td>\n",
       "      <td>226,629</td>\n",
       "      <td>2020-04-26</td>\n",
       "    </tr>\n",
       "    <tr>\n",
       "      <th>1</th>\n",
       "      <td>442,879</td>\n",
       "      <td>229,422</td>\n",
       "      <td>2020-04-27</td>\n",
       "    </tr>\n",
       "    <tr>\n",
       "      <th>2</th>\n",
       "      <td>581,703</td>\n",
       "      <td>232,128</td>\n",
       "      <td>2020-04-28</td>\n",
       "    </tr>\n",
       "    <tr>\n",
       "      <th>3</th>\n",
       "      <td>682,578</td>\n",
       "      <td>236,899</td>\n",
       "      <td>2020-04-29</td>\n",
       "    </tr>\n",
       "    <tr>\n",
       "      <th>4</th>\n",
       "      <td>742,185</td>\n",
       "      <td>213,435</td>\n",
       "      <td>2020-04-30</td>\n",
       "    </tr>\n",
       "  </tbody>\n",
       "</table>\n",
       "</div>"
      ],
      "text/plain": [
       "   predicted_infections    Actual infections       Date\n",
       "0               268,699              226,629 2020-04-26\n",
       "1               442,879              229,422 2020-04-27\n",
       "2               581,703              232,128 2020-04-28\n",
       "3               682,578              236,899 2020-04-29\n",
       "4               742,185              213,435 2020-04-30"
      ]
     },
     "execution_count": 76,
     "metadata": {},
     "output_type": "execute_result"
    }
   ],
   "source": [
    "filter_condn = (covid_df_kaggle_Spain['ObservationDate'] > '2020-04-25') & (covid_df_kaggle_Spain['ObservationDate'] <= '2020-04-30')\n",
    "covid_df_kaggle_Spain = covid_df_kaggle_Spain[filter_condn].reset_index(drop=True)\n",
    "covid_df_kaggle_Spain\n",
    "\n",
    "X_Spain_df = X[X.index == \"Spain\"].copy()\n",
    "X_Spain_test = X_Spain_df.head().copy()\n",
    "X_Spain_test=X_Spain_test.reset_index(drop=True)\n",
    "X_Spain_test['days_since_first'] = X_Spain_test['previous_Confirmed'] =  0\n",
    "X_Spain_test.loc[0,'days_since_first'] =  X_Spain_df[\"days_since_first\"].iloc[-1]+1\n",
    "#X_Spain_test.loc[0,'increase_rate']=X_Spain_df[\"increase_rate\"].iloc[-1]+1\n",
    "X_Spain_test.loc[0,'previous_Confirmed'] = y[y.index == \"Spain\"].max()[0]\n",
    "\n",
    "#X_Spain_test['increase_rate']=X_Spain_df[\"increase_rate\"].max()\n",
    "\n",
    "\n",
    "for i in range(0,5):\n",
    "    X_Spain_test.loc[i,'days_since_first'] = X_Spain_test.loc[0,'days_since_first'] + i\n",
    "\n",
    "X_Spain_test\n",
    "\n",
    "predictions=[]\n",
    "\n",
    "for i in range(0,5):\n",
    "    pred=int(gs.predict([X_Spain_test.iloc[i].to_numpy()]))\n",
    "    X_Spain_test.loc[i+1,'previous_Confirmed']=pred    \n",
    "    predictions.append(pred)\n",
    "\n",
    "pred = pd.DataFrame(predictions)\n",
    "\n",
    "#### Prediction results\n",
    "X_Spain_test['predicted_infections']= pred.iloc[:, 0] \n",
    "\n",
    "X_Spain_test[\"ObservationDate\"] = covid_df_kaggle_Spain[\"ObservationDate\"]\n",
    "covid_df_kaggle_Spain_plt[\"predicted_infections\"] = covid_df_kaggle_Spain_plt[\"Confirmed\"] \n",
    "\n",
    "covid_df_kaggle_Spain_plt.iloc[-5,4] = X_Spain_test.loc[0,'predicted_infections']\n",
    "covid_df_kaggle_Spain_plt.iloc[-4,4] = X_Spain_test.loc[1,'predicted_infections']\n",
    "covid_df_kaggle_Spain_plt.iloc[-3,4] = X_Spain_test.loc[2,'predicted_infections']\n",
    "covid_df_kaggle_Spain_plt.iloc[-2,4] = X_Spain_test.loc[3,'predicted_infections']\n",
    "covid_df_kaggle_Spain_plt.iloc[-1,4] = X_Spain_test.loc[4,'predicted_infections']\n",
    "    \n",
    "\n",
    "X_Spain_test=X_Spain_test[{'predicted_infections'}]\n",
    "# Creating new column to have actual predictions and date from Kaggle dataset\n",
    "X_Spain_test[\"Actual infections\"] = covid_df_kaggle_Spain[\"Confirmed\"]\n",
    "X_Spain_test[\"Date\"] = covid_df_kaggle_Spain[\"ObservationDate\"]\n",
    "X_Spain_test = X_Spain_test.iloc[0:5]\n",
    "X_Spain_test "
   ]
  },
  {
   "cell_type": "code",
   "execution_count": 77,
   "metadata": {},
   "outputs": [
    {
     "data": {
      "text/plain": [
       "(array([737456., 737470., 737485., 737499., 737516., 737530., 737546.]),\n",
       " <a list of 7 Text major ticklabel objects>)"
      ]
     },
     "execution_count": 77,
     "metadata": {},
     "output_type": "execute_result"
    },
    {
     "data": {
      "image/png": "[encoded data removed]",
      "text/plain": [
       "<Figure size 720x360 with 1 Axes>"
      ]
     },
     "metadata": {},
     "output_type": "display_data"
    }
   ],
   "source": [
    "import matplotlib.pyplot as plt\n",
    "\n",
    "plt.figure(figsize=(10,5))\n",
    "plt.plot(covid_df_kaggle_Spain_plt[\"ObservationDate\"],covid_df_kaggle_Spain_plt[\"Confirmed\"],label=\"Actual values\",color = \"#9400D3\", marker='o')\n",
    "plt.plot(covid_df_kaggle_Spain_plt[\"ObservationDate\"],covid_df_kaggle_Spain_plt[\"predicted_infections\"],color = \"#05eeff\",label=\"Predicted Values\",marker='*')\n",
    "plt.legend()\n",
    "plt.xlabel(\"Date Time\")\n",
    "plt.ylabel('Confirmed Cases')\n",
    "plt.title(\"Confirmed Cases Random Forest Regressor Forecasting\")\n",
    "plt.xticks(rotation=90)"
   ]
  },
  {
   "cell_type": "code",
   "execution_count": null,
   "metadata": {},
   "outputs": [],
   "source": []
  },
  {
   "cell_type": "markdown",
   "metadata": {},
   "source": [
    "### Random Forest Regression - Germany"
   ]
  },
  {
   "cell_type": "code",
   "execution_count": 70,
   "metadata": {},
   "outputs": [],
   "source": [
    "covid_df_kaggle_Germany = covid_df_kaggle[covid_df_kaggle[\"Country/Region\"] == \"Germany\"].groupby(\"ObservationDate\").agg(\n",
    "                {\n",
    "                     'Confirmed':sum,    # Sum duration per group\n",
    "                     'Deaths':sum,    # Sum duration per group\n",
    "                     'Recovered':sum    # Sum duration per group\n",
    "                }).sort_values([\"ObservationDate\"]).reset_index()"
   ]
  },
  {
   "cell_type": "code",
   "execution_count": 71,
   "metadata": {},
   "outputs": [],
   "source": [
    "covid_df_kaggle_Germany_plt = covid_df_kaggle_Germany[covid_df_kaggle_Germany['ObservationDate'] <= '2020-04-30'].reset_index(drop=True)"
   ]
  },
  {
   "cell_type": "code",
   "execution_count": 72,
   "metadata": {},
   "outputs": [
    {
     "data": {
      "text/html": [
       "<div>\n",
       "<style scoped>\n",
       "    .dataframe tbody tr th:only-of-type {\n",
       "        vertical-align: middle;\n",
       "    }\n",
       "\n",
       "    .dataframe tbody tr th {\n",
       "        vertical-align: top;\n",
       "    }\n",
       "\n",
       "    .dataframe thead th {\n",
       "        text-align: right;\n",
       "    }\n",
       "</style>\n",
       "<table border=\"1\" class=\"dataframe\">\n",
       "  <thead>\n",
       "    <tr style=\"text-align: right;\">\n",
       "      <th></th>\n",
       "      <th>predicted_infections</th>\n",
       "      <th>Actual infections</th>\n",
       "      <th>Date</th>\n",
       "    </tr>\n",
       "  </thead>\n",
       "  <tbody>\n",
       "    <tr>\n",
       "      <th>0</th>\n",
       "      <td>158,889</td>\n",
       "      <td>157,770</td>\n",
       "      <td>2020-04-26</td>\n",
       "    </tr>\n",
       "    <tr>\n",
       "      <th>1</th>\n",
       "      <td>162,221</td>\n",
       "      <td>158,758</td>\n",
       "      <td>2020-04-27</td>\n",
       "    </tr>\n",
       "    <tr>\n",
       "      <th>2</th>\n",
       "      <td>168,330</td>\n",
       "      <td>159,912</td>\n",
       "      <td>2020-04-28</td>\n",
       "    </tr>\n",
       "    <tr>\n",
       "      <th>3</th>\n",
       "      <td>172,880</td>\n",
       "      <td>161,539</td>\n",
       "      <td>2020-04-29</td>\n",
       "    </tr>\n",
       "    <tr>\n",
       "      <th>4</th>\n",
       "      <td>177,857</td>\n",
       "      <td>163,009</td>\n",
       "      <td>2020-04-30</td>\n",
       "    </tr>\n",
       "  </tbody>\n",
       "</table>\n",
       "</div>"
      ],
      "text/plain": [
       "   predicted_infections    Actual infections       Date\n",
       "0               158,889              157,770 2020-04-26\n",
       "1               162,221              158,758 2020-04-27\n",
       "2               168,330              159,912 2020-04-28\n",
       "3               172,880              161,539 2020-04-29\n",
       "4               177,857              163,009 2020-04-30"
      ]
     },
     "execution_count": 72,
     "metadata": {},
     "output_type": "execute_result"
    }
   ],
   "source": [
    "filter_condn = (covid_df_kaggle_Germany['ObservationDate'] > '2020-04-25') & (covid_df_kaggle_Germany['ObservationDate'] <= '2020-04-30')\n",
    "covid_df_kaggle_Germany = covid_df_kaggle_Germany[filter_condn].reset_index(drop=True)\n",
    "covid_df_kaggle_Germany\n",
    "\n",
    "X_Germany_df = X[X.index == \"Germany\"].copy()\n",
    "X_Germany_test = X_Germany_df.head().copy()\n",
    "X_Germany_test=X_Germany_test.reset_index(drop=True)\n",
    "X_Germany_test['days_since_first'] = X_Germany_test['previous_Confirmed'] =  0\n",
    "X_Germany_test.loc[0,'days_since_first'] =  X_Germany_df[\"days_since_first\"].iloc[-1]+1\n",
    "#X_Germany_test.loc[0,'increase_rate']=X_Germany_df[\"increase_rate\"].iloc[-1]+1\n",
    "X_Germany_test.loc[0,'previous_Confirmed'] = y[y.index == \"Germany\"].max()[0]\n",
    "\n",
    "#X_Germany_test['increase_rate']=X_Germany_df[\"increase_rate\"].max()\n",
    "\n",
    "\n",
    "for i in range(0,5):\n",
    "    X_Germany_test.loc[i,'days_since_first'] = X_Germany_test.loc[0,'days_since_first'] + i\n",
    "\n",
    "X_Germany_test\n",
    "\n",
    "predictions=[]\n",
    "\n",
    "for i in range(0,5):\n",
    "    pred=int(gs.predict([X_Germany_test.iloc[i].to_numpy()]))\n",
    "    X_Germany_test.loc[i+1,'previous_Confirmed']=pred    \n",
    "    predictions.append(pred)\n",
    "\n",
    "pred = pd.DataFrame(predictions)\n",
    "\n",
    "#### Prediction results\n",
    "X_Germany_test['predicted_infections']= pred.iloc[:, 0] \n",
    "\n",
    "X_Germany_test[\"ObservationDate\"] = covid_df_kaggle_Germany[\"ObservationDate\"]\n",
    "covid_df_kaggle_Germany_plt[\"predicted_infections\"] = covid_df_kaggle_Germany_plt[\"Confirmed\"] \n",
    "\n",
    "covid_df_kaggle_Germany_plt.iloc[-5,4] = X_Germany_test.loc[0,'predicted_infections']\n",
    "covid_df_kaggle_Germany_plt.iloc[-4,4] = X_Germany_test.loc[1,'predicted_infections']\n",
    "covid_df_kaggle_Germany_plt.iloc[-3,4] = X_Germany_test.loc[2,'predicted_infections']\n",
    "covid_df_kaggle_Germany_plt.iloc[-2,4] = X_Germany_test.loc[3,'predicted_infections']\n",
    "covid_df_kaggle_Germany_plt.iloc[-1,4] = X_Germany_test.loc[4,'predicted_infections']\n",
    "    \n",
    "\n",
    "X_Germany_test=X_Germany_test[{'predicted_infections'}]\n",
    "# Creating new column to have actual predictions and date from Kaggle dataset\n",
    "X_Germany_test[\"Actual infections\"] = covid_df_kaggle_Germany[\"Confirmed\"]\n",
    "X_Germany_test[\"Date\"] = covid_df_kaggle_Germany[\"ObservationDate\"]\n",
    "X_Germany_test = X_Germany_test.iloc[0:5]\n",
    "X_Germany_test "
   ]
  },
  {
   "cell_type": "code",
   "execution_count": 73,
   "metadata": {},
   "outputs": [
    {
     "data": {
      "text/plain": [
       "(array([737456., 737470., 737485., 737499., 737516., 737530., 737546.]),\n",
       " <a list of 7 Text major ticklabel objects>)"
      ]
     },
     "execution_count": 73,
     "metadata": {},
     "output_type": "execute_result"
    },
    {
     "data": {
      "image/png": "[encoded data removed]",
      "text/plain": [
       "<Figure size 720x360 with 1 Axes>"
      ]
     },
     "metadata": {},
     "output_type": "display_data"
    }
   ],
   "source": [
    "import matplotlib.pyplot as plt\n",
    "\n",
    "plt.figure(figsize=(10,5))\n",
    "plt.plot(covid_df_kaggle_Germany_plt[\"ObservationDate\"],covid_df_kaggle_Germany_plt[\"Confirmed\"],label=\"Actual values\",color = \"#9400D3\", marker='o')\n",
    "plt.plot(covid_df_kaggle_Germany_plt[\"ObservationDate\"],covid_df_kaggle_Germany_plt[\"predicted_infections\"],color = \"#05eeff\",label=\"Predicted Values\",marker='*')\n",
    "plt.legend()\n",
    "plt.xlabel(\"Date Time\")\n",
    "plt.ylabel('Confirmed Cases')\n",
    "plt.title(\"Confirmed Cases Random Forest Regressor Forecasting\")\n",
    "plt.xticks(rotation=90)"
   ]
  },
  {
   "cell_type": "code",
   "execution_count": null,
   "metadata": {},
   "outputs": [],
   "source": []
  },
  {
   "cell_type": "markdown",
   "metadata": {},
   "source": [
    "### Random Forest Regression - Switzerland"
   ]
  },
  {
   "cell_type": "code",
   "execution_count": 66,
   "metadata": {},
   "outputs": [],
   "source": [
    "covid_df_kaggle_Switzerland = covid_df_kaggle[covid_df_kaggle[\"Country/Region\"] == \"Switzerland\"].groupby(\"ObservationDate\").agg(\n",
    "                {\n",
    "                     'Confirmed':sum,    # Sum duration per group\n",
    "                     'Deaths':sum,    # Sum duration per group\n",
    "                     'Recovered':sum    # Sum duration per group\n",
    "                }).sort_values([\"ObservationDate\"]).reset_index()"
   ]
  },
  {
   "cell_type": "code",
   "execution_count": 67,
   "metadata": {},
   "outputs": [],
   "source": [
    "covid_df_kaggle_Switzerland_plt = covid_df_kaggle_Switzerland[covid_df_kaggle_Switzerland['ObservationDate'] <= '2020-04-30'].reset_index(drop=True)"
   ]
  },
  {
   "cell_type": "code",
   "execution_count": 68,
   "metadata": {},
   "outputs": [
    {
     "data": {
      "text/html": [
       "<div>\n",
       "<style scoped>\n",
       "    .dataframe tbody tr th:only-of-type {\n",
       "        vertical-align: middle;\n",
       "    }\n",
       "\n",
       "    .dataframe tbody tr th {\n",
       "        vertical-align: top;\n",
       "    }\n",
       "\n",
       "    .dataframe thead th {\n",
       "        text-align: right;\n",
       "    }\n",
       "</style>\n",
       "<table border=\"1\" class=\"dataframe\">\n",
       "  <thead>\n",
       "    <tr style=\"text-align: right;\">\n",
       "      <th></th>\n",
       "      <th>predicted_infections</th>\n",
       "      <th>Actual infections</th>\n",
       "      <th>Date</th>\n",
       "    </tr>\n",
       "  </thead>\n",
       "  <tbody>\n",
       "    <tr>\n",
       "      <th>0</th>\n",
       "      <td>31,372</td>\n",
       "      <td>29,061</td>\n",
       "      <td>2020-04-26</td>\n",
       "    </tr>\n",
       "    <tr>\n",
       "      <th>1</th>\n",
       "      <td>33,610</td>\n",
       "      <td>29,164</td>\n",
       "      <td>2020-04-27</td>\n",
       "    </tr>\n",
       "    <tr>\n",
       "      <th>2</th>\n",
       "      <td>35,341</td>\n",
       "      <td>29,264</td>\n",
       "      <td>2020-04-28</td>\n",
       "    </tr>\n",
       "    <tr>\n",
       "      <th>3</th>\n",
       "      <td>38,217</td>\n",
       "      <td>29,407</td>\n",
       "      <td>2020-04-29</td>\n",
       "    </tr>\n",
       "    <tr>\n",
       "      <th>4</th>\n",
       "      <td>40,463</td>\n",
       "      <td>29,586</td>\n",
       "      <td>2020-04-30</td>\n",
       "    </tr>\n",
       "  </tbody>\n",
       "</table>\n",
       "</div>"
      ],
      "text/plain": [
       "   predicted_infections    Actual infections       Date\n",
       "0                31,372               29,061 2020-04-26\n",
       "1                33,610               29,164 2020-04-27\n",
       "2                35,341               29,264 2020-04-28\n",
       "3                38,217               29,407 2020-04-29\n",
       "4                40,463               29,586 2020-04-30"
      ]
     },
     "execution_count": 68,
     "metadata": {},
     "output_type": "execute_result"
    }
   ],
   "source": [
    "filter_condn = (covid_df_kaggle_Switzerland['ObservationDate'] > '2020-04-25') & (covid_df_kaggle_Switzerland['ObservationDate'] <= '2020-04-30')\n",
    "covid_df_kaggle_Switzerland = covid_df_kaggle_Switzerland[filter_condn].reset_index(drop=True)\n",
    "covid_df_kaggle_Switzerland\n",
    "\n",
    "X_Switzerland_df = X[X.index == \"Switzerland\"].copy()\n",
    "X_Switzerland_test = X_Switzerland_df.head().copy()\n",
    "X_Switzerland_test=X_Switzerland_test.reset_index(drop=True)\n",
    "X_Switzerland_test['days_since_first'] = X_Switzerland_test['previous_Confirmed'] =  0\n",
    "X_Switzerland_test.loc[0,'days_since_first'] =  X_Switzerland_df[\"days_since_first\"].iloc[-1]+1\n",
    "#X_Switzerland_test.loc[0,'increase_rate']=X_Switzerland_df[\"increase_rate\"].iloc[-1]+1\n",
    "X_Switzerland_test.loc[0,'previous_Confirmed'] = y[y.index == \"Switzerland\"].max()[0]\n",
    "\n",
    "#X_Switzerland_test['increase_rate']=X_Switzerland_df[\"increase_rate\"].max()\n",
    "\n",
    "\n",
    "for i in range(0,5):\n",
    "    X_Switzerland_test.loc[i,'days_since_first'] = X_Switzerland_test.loc[0,'days_since_first'] + i\n",
    "\n",
    "X_Switzerland_test\n",
    "\n",
    "predictions=[]\n",
    "\n",
    "for i in range(0,5):\n",
    "    pred=int(gs.predict([X_Switzerland_test.iloc[i].to_numpy()]))\n",
    "    X_Switzerland_test.loc[i+1,'previous_Confirmed']=pred    \n",
    "    predictions.append(pred)\n",
    "\n",
    "pred = pd.DataFrame(predictions)\n",
    "\n",
    "#### Prediction results\n",
    "X_Switzerland_test['predicted_infections']= pred.iloc[:, 0] \n",
    "\n",
    "X_Switzerland_test[\"ObservationDate\"] = covid_df_kaggle_Switzerland[\"ObservationDate\"]\n",
    "covid_df_kaggle_Switzerland_plt[\"predicted_infections\"] = covid_df_kaggle_Switzerland_plt[\"Confirmed\"] \n",
    "\n",
    "covid_df_kaggle_Switzerland_plt.iloc[-5,4] = X_Switzerland_test.loc[0,'predicted_infections']\n",
    "covid_df_kaggle_Switzerland_plt.iloc[-4,4] = X_Switzerland_test.loc[1,'predicted_infections']\n",
    "covid_df_kaggle_Switzerland_plt.iloc[-3,4] = X_Switzerland_test.loc[2,'predicted_infections']\n",
    "covid_df_kaggle_Switzerland_plt.iloc[-2,4] = X_Switzerland_test.loc[3,'predicted_infections']\n",
    "covid_df_kaggle_Switzerland_plt.iloc[-1,4] = X_Switzerland_test.loc[4,'predicted_infections']\n",
    "    \n",
    "\n",
    "X_Switzerland_test=X_Switzerland_test[{'predicted_infections'}]\n",
    "# Creating new column to have actual predictions and date from Kaggle dataset\n",
    "X_Switzerland_test[\"Actual infections\"] = covid_df_kaggle_Switzerland[\"Confirmed\"]\n",
    "X_Switzerland_test[\"Date\"] = covid_df_kaggle_Switzerland[\"ObservationDate\"]\n",
    "X_Switzerland_test = X_Switzerland_test.iloc[0:5]\n",
    "X_Switzerland_test "
   ]
  },
  {
   "cell_type": "code",
   "execution_count": 69,
   "metadata": {
    "scrolled": true
   },
   "outputs": [
    {
     "data": {
      "text/plain": [
       "(array([737485., 737499., 737516., 737530., 737546.]),\n",
       " <a list of 5 Text major ticklabel objects>)"
      ]
     },
     "execution_count": 69,
     "metadata": {},
     "output_type": "execute_result"
    },
    {
     "data": {
      "image/png": "[encoded data removed]",
      "text/plain": [
       "<Figure size 720x360 with 1 Axes>"
      ]
     },
     "metadata": {},
     "output_type": "display_data"
    }
   ],
   "source": [
    "import matplotlib.pyplot as plt\n",
    "\n",
    "plt.figure(figsize=(10,5))\n",
    "plt.plot(covid_df_kaggle_Switzerland_plt[\"ObservationDate\"],covid_df_kaggle_Switzerland_plt[\"Confirmed\"],label=\"Actual values\",color = \"#9400D3\", marker='o')\n",
    "plt.plot(covid_df_kaggle_Switzerland_plt[\"ObservationDate\"],covid_df_kaggle_Switzerland_plt[\"predicted_infections\"],color = \"#05eeff\",label=\"Predicted Values\",marker='*')\n",
    "plt.legend()\n",
    "plt.xlabel(\"Date Time\")\n",
    "plt.ylabel('Confirmed Cases')\n",
    "plt.title(\"Confirmed Cases Random Forest Regressor Forecasting\")\n",
    "plt.xticks(rotation=90)"
   ]
  },
  {
   "cell_type": "code",
   "execution_count": null,
   "metadata": {},
   "outputs": [],
   "source": []
  },
  {
   "cell_type": "code",
   "execution_count": null,
   "metadata": {},
   "outputs": [],
   "source": []
  },
  {
   "cell_type": "markdown",
   "metadata": {},
   "source": [
    "### Random Forest Regression - Italy"
   ]
  },
  {
   "cell_type": "code",
   "execution_count": 62,
   "metadata": {},
   "outputs": [],
   "source": [
    "covid_df_kaggle_Italy = covid_df_kaggle[covid_df_kaggle[\"Country/Region\"] == \"Italy\"].groupby(\"ObservationDate\").agg(\n",
    "                {\n",
    "                     'Confirmed':sum,    # Sum duration per group\n",
    "                     'Deaths':sum,    # Sum duration per group\n",
    "                     'Recovered':sum    # Sum duration per group\n",
    "                }).sort_values([\"ObservationDate\"]).reset_index()"
   ]
  },
  {
   "cell_type": "code",
   "execution_count": 63,
   "metadata": {},
   "outputs": [],
   "source": [
    "covid_df_kaggle_Italy_plt = covid_df_kaggle_Italy[covid_df_kaggle_Italy['ObservationDate'] <= '2020-04-30'].reset_index(drop=True)"
   ]
  },
  {
   "cell_type": "code",
   "execution_count": 64,
   "metadata": {},
   "outputs": [
    {
     "data": {
      "text/html": [
       "<div>\n",
       "<style scoped>\n",
       "    .dataframe tbody tr th:only-of-type {\n",
       "        vertical-align: middle;\n",
       "    }\n",
       "\n",
       "    .dataframe tbody tr th {\n",
       "        vertical-align: top;\n",
       "    }\n",
       "\n",
       "    .dataframe thead th {\n",
       "        text-align: right;\n",
       "    }\n",
       "</style>\n",
       "<table border=\"1\" class=\"dataframe\">\n",
       "  <thead>\n",
       "    <tr style=\"text-align: right;\">\n",
       "      <th></th>\n",
       "      <th>predicted_infections</th>\n",
       "      <th>Actual infections</th>\n",
       "      <th>Date</th>\n",
       "    </tr>\n",
       "  </thead>\n",
       "  <tbody>\n",
       "    <tr>\n",
       "      <th>0</th>\n",
       "      <td>200,397</td>\n",
       "      <td>197,675</td>\n",
       "      <td>2020-04-26</td>\n",
       "    </tr>\n",
       "    <tr>\n",
       "      <th>1</th>\n",
       "      <td>201,930</td>\n",
       "      <td>199,414</td>\n",
       "      <td>2020-04-27</td>\n",
       "    </tr>\n",
       "    <tr>\n",
       "      <th>2</th>\n",
       "      <td>202,235</td>\n",
       "      <td>201,505</td>\n",
       "      <td>2020-04-28</td>\n",
       "    </tr>\n",
       "    <tr>\n",
       "      <th>3</th>\n",
       "      <td>203,063</td>\n",
       "      <td>203,591</td>\n",
       "      <td>2020-04-29</td>\n",
       "    </tr>\n",
       "    <tr>\n",
       "      <th>4</th>\n",
       "      <td>205,292</td>\n",
       "      <td>205,463</td>\n",
       "      <td>2020-04-30</td>\n",
       "    </tr>\n",
       "  </tbody>\n",
       "</table>\n",
       "</div>"
      ],
      "text/plain": [
       "   predicted_infections    Actual infections       Date\n",
       "0               200,397              197,675 2020-04-26\n",
       "1               201,930              199,414 2020-04-27\n",
       "2               202,235              201,505 2020-04-28\n",
       "3               203,063              203,591 2020-04-29\n",
       "4               205,292              205,463 2020-04-30"
      ]
     },
     "execution_count": 64,
     "metadata": {},
     "output_type": "execute_result"
    }
   ],
   "source": [
    "filter_condn = (covid_df_kaggle_Italy['ObservationDate'] > '2020-04-25') & (covid_df_kaggle_Italy['ObservationDate'] <= '2020-04-30')\n",
    "covid_df_kaggle_Italy = covid_df_kaggle_Italy[filter_condn].reset_index(drop=True)\n",
    "covid_df_kaggle_Italy\n",
    "\n",
    "X_Italy_df = X[X.index == \"Italy\"].copy()\n",
    "X_Italy_test = X_Italy_df.head().copy()\n",
    "X_Italy_test=X_Italy_test.reset_index(drop=True)\n",
    "X_Italy_test['days_since_first'] = X_Italy_test['previous_Confirmed'] =  0\n",
    "X_Italy_test.loc[0,'days_since_first'] =  X_Italy_df[\"days_since_first\"].iloc[-1]+1\n",
    "#X_Italy_test.loc[0,'increase_rate']=X_Italy_df[\"increase_rate\"].iloc[-1]+1\n",
    "X_Italy_test.loc[0,'previous_Confirmed'] = y[y.index == \"Italy\"].max()[0]\n",
    "\n",
    "#X_Italy_test['increase_rate']=X_Italy_df[\"increase_rate\"].max()\n",
    "\n",
    "\n",
    "for i in range(0,5):\n",
    "    X_Italy_test.loc[i,'days_since_first'] = X_Italy_test.loc[0,'days_since_first'] + i\n",
    "\n",
    "X_Italy_test\n",
    "\n",
    "predictions=[]\n",
    "\n",
    "for i in range(0,5):\n",
    "    pred=int(gs.predict([X_Italy_test.iloc[i].to_numpy()]))\n",
    "    X_Italy_test.loc[i+1,'previous_Confirmed']=pred    \n",
    "    predictions.append(pred)\n",
    "\n",
    "pred = pd.DataFrame(predictions)\n",
    "\n",
    "#### Prediction results\n",
    "X_Italy_test['predicted_infections']= pred.iloc[:, 0] \n",
    "\n",
    "X_Italy_test[\"ObservationDate\"] = covid_df_kaggle_Italy[\"ObservationDate\"]\n",
    "covid_df_kaggle_Italy_plt[\"predicted_infections\"] = covid_df_kaggle_Italy_plt[\"Confirmed\"] \n",
    "\n",
    "covid_df_kaggle_Italy_plt.iloc[-5,4] = X_Italy_test.loc[0,'predicted_infections']\n",
    "covid_df_kaggle_Italy_plt.iloc[-4,4] = X_Italy_test.loc[1,'predicted_infections']\n",
    "covid_df_kaggle_Italy_plt.iloc[-3,4] = X_Italy_test.loc[2,'predicted_infections']\n",
    "covid_df_kaggle_Italy_plt.iloc[-2,4] = X_Italy_test.loc[3,'predicted_infections']\n",
    "covid_df_kaggle_Italy_plt.iloc[-1,4] = X_Italy_test.loc[4,'predicted_infections']\n",
    "    \n",
    "\n",
    "X_Italy_test=X_Italy_test[{'predicted_infections'}]\n",
    "# Creating new column to have actual predictions and date from Kaggle dataset\n",
    "X_Italy_test[\"Actual infections\"] = covid_df_kaggle_Italy[\"Confirmed\"]\n",
    "X_Italy_test[\"Date\"] = covid_df_kaggle_Italy[\"ObservationDate\"]\n",
    "X_Italy_test = X_Italy_test.iloc[0:5]\n",
    "X_Italy_test "
   ]
  },
  {
   "cell_type": "code",
   "execution_count": 65,
   "metadata": {
    "scrolled": true
   },
   "outputs": [
    {
     "data": {
      "text/plain": [
       "(array([737456., 737470., 737485., 737499., 737516., 737530., 737546.]),\n",
       " <a list of 7 Text major ticklabel objects>)"
      ]
     },
     "execution_count": 65,
     "metadata": {},
     "output_type": "execute_result"
    },
    {
     "data": {
      "image/png": "[encoded data removed]",
      "text/plain": [
       "<Figure size 720x360 with 1 Axes>"
      ]
     },
     "metadata": {},
     "output_type": "display_data"
    }
   ],
   "source": [
    "import matplotlib.pyplot as plt\n",
    "\n",
    "plt.figure(figsize=(10,5))\n",
    "plt.plot(covid_df_kaggle_Italy_plt[\"ObservationDate\"],covid_df_kaggle_Italy_plt[\"Confirmed\"],label=\"Actual values\",color = \"#9400D3\", marker='o')\n",
    "plt.plot(covid_df_kaggle_Italy_plt[\"ObservationDate\"],covid_df_kaggle_Italy_plt[\"predicted_infections\"],color = \"#05eeff\",label=\"Predicted Values\",marker='*')\n",
    "plt.legend()\n",
    "plt.xlabel(\"Date Time\")\n",
    "plt.ylabel('Confirmed Cases')\n",
    "plt.title(\"Confirmed Cases Random Forest Regressor Forecasting\")\n",
    "plt.xticks(rotation=90)"
   ]
  },
  {
   "cell_type": "code",
   "execution_count": null,
   "metadata": {},
   "outputs": [],
   "source": []
  }
 ],
 "metadata": {
  "kernelspec": {
   "display_name": "Python 3",
   "language": "python",
   "name": "python3"
  },
  "language_info": {
   "codemirror_mode": {
    "name": "ipython",
    "version": 3
   },
   "file_extension": ".py",
   "mimetype": "text/x-python",
   "name": "python",
   "nbconvert_exporter": "python",
   "pygments_lexer": "ipython3",
   "version": "3.7.6"
  }
 },
 "nbformat": 4,
 "nbformat_minor": 2
}
