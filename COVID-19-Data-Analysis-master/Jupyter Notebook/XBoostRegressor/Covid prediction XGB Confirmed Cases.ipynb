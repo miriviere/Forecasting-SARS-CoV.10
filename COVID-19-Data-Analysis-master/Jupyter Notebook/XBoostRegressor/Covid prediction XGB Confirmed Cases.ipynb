{
 "cells": [
  {
   "cell_type": "markdown",
   "metadata": {},
   "source": [
    "# Covid prediction Random Forest Confirmed Cases"
   ]
  },
  {
   "cell_type": "markdown",
   "metadata": {},
   "source": [
    "### Loading libraries"
   ]
  },
  {
   "cell_type": "code",
   "execution_count": 10,
   "metadata": {},
   "outputs": [],
   "source": [
    "import pandas as pd\n",
    "import pandas as pd \n",
    "import random"
   ]
  },
  {
   "cell_type": "code",
   "execution_count": 11,
   "metadata": {},
   "outputs": [],
   "source": [
    "import math\n",
    "import time\n",
    "import datetime\n",
    "import operator \n",
    "import statsmodels.api as sm\n",
    "from statsmodels.tsa.stattools import adfuller"
   ]
  },
  {
   "cell_type": "code",
   "execution_count": 12,
   "metadata": {},
   "outputs": [],
   "source": [
    "from sklearn.linear_model import LinearRegression, BayesianRidge\n",
    "from sklearn.model_selection import RandomizedSearchCV, train_test_split\n",
    "from sklearn.preprocessing import PolynomialFeatures\n",
    "from sklearn.tree import DecisionTreeRegressor\n",
    "from sklearn.svm import SVR\n",
    "from sklearn.metrics import mean_squared_error, mean_absolute_error"
   ]
  },
  {
   "cell_type": "code",
   "execution_count": 13,
   "metadata": {},
   "outputs": [],
   "source": [
    "import numpy as np \n",
    "import matplotlib.pyplot as plt\n",
    "import matplotlib.colors as mcolors\n",
    "import seaborn as sns\n",
    "plt.style.use('seaborn-dark')\n",
    "#print(plt.style.available)\n",
    "%matplotlib inline\n",
    "\n",
    "from sklearn import metrics"
   ]
  },
  {
   "cell_type": "code",
   "execution_count": 14,
   "metadata": {},
   "outputs": [],
   "source": [
    "from sklearn.ensemble import RandomForestRegressor \n",
    "from sklearn.model_selection import GridSearchCV"
   ]
  },
  {
   "cell_type": "code",
   "execution_count": 15,
   "metadata": {},
   "outputs": [],
   "source": [
    "import warnings\n",
    "warnings.filterwarnings(\"ignore\")"
   ]
  },
  {
   "cell_type": "markdown",
   "metadata": {},
   "source": [
    "### Preparation for predictions"
   ]
  },
  {
   "cell_type": "markdown",
   "metadata": {},
   "source": [
    "#### Data Loading"
   ]
  },
  {
   "cell_type": "code",
   "execution_count": 16,
   "metadata": {},
   "outputs": [
    {
     "data": {
      "text/html": [
       "<div>\n",
       "<style scoped>\n",
       "    .dataframe tbody tr th:only-of-type {\n",
       "        vertical-align: middle;\n",
       "    }\n",
       "\n",
       "    .dataframe tbody tr th {\n",
       "        vertical-align: top;\n",
       "    }\n",
       "\n",
       "    .dataframe thead th {\n",
       "        text-align: right;\n",
       "    }\n",
       "</style>\n",
       "<table border=\"1\" class=\"dataframe\">\n",
       "  <thead>\n",
       "    <tr style=\"text-align: right;\">\n",
       "      <th></th>\n",
       "      <th>ObservationDate</th>\n",
       "      <th>Country</th>\n",
       "      <th>Continent</th>\n",
       "      <th>Confirmed</th>\n",
       "      <th>Deaths</th>\n",
       "      <th>Recovered</th>\n",
       "      <th>Active Cases</th>\n",
       "      <th>Population</th>\n",
       "      <th>Area (sq. mi.)</th>\n",
       "      <th>Pop. Density (per sq. mi.)</th>\n",
       "      <th>Net migration</th>\n",
       "      <th>GDP ($ per capita)</th>\n",
       "    </tr>\n",
       "  </thead>\n",
       "  <tbody>\n",
       "    <tr>\n",
       "      <th>0</th>\n",
       "      <td>2020-01-22</td>\n",
       "      <td>Hong Kong</td>\n",
       "      <td>Asia</td>\n",
       "      <td>0.0</td>\n",
       "      <td>0.0</td>\n",
       "      <td>0.0</td>\n",
       "      <td>0.0</td>\n",
       "      <td>6940432.0</td>\n",
       "      <td>1092.0</td>\n",
       "      <td>6355,7</td>\n",
       "      <td>5,24</td>\n",
       "      <td>28800.0</td>\n",
       "    </tr>\n",
       "    <tr>\n",
       "      <th>1</th>\n",
       "      <td>2020-01-22</td>\n",
       "      <td>Japan</td>\n",
       "      <td>Asia</td>\n",
       "      <td>2.0</td>\n",
       "      <td>0.0</td>\n",
       "      <td>0.0</td>\n",
       "      <td>2.0</td>\n",
       "      <td>127463611.0</td>\n",
       "      <td>377835.0</td>\n",
       "      <td>337,4</td>\n",
       "      <td>0</td>\n",
       "      <td>28200.0</td>\n",
       "    </tr>\n",
       "    <tr>\n",
       "      <th>2</th>\n",
       "      <td>2020-01-22</td>\n",
       "      <td>Macao</td>\n",
       "      <td>Asia</td>\n",
       "      <td>1.0</td>\n",
       "      <td>0.0</td>\n",
       "      <td>0.0</td>\n",
       "      <td>1.0</td>\n",
       "      <td>453125.0</td>\n",
       "      <td>28.0</td>\n",
       "      <td>16183,0</td>\n",
       "      <td>4,86</td>\n",
       "      <td>19400.0</td>\n",
       "    </tr>\n",
       "    <tr>\n",
       "      <th>3</th>\n",
       "      <td>2020-01-22</td>\n",
       "      <td>South Korea</td>\n",
       "      <td>Asia</td>\n",
       "      <td>1.0</td>\n",
       "      <td>0.0</td>\n",
       "      <td>0.0</td>\n",
       "      <td>1.0</td>\n",
       "      <td>48846823.0</td>\n",
       "      <td>98480.0</td>\n",
       "      <td>496,0</td>\n",
       "      <td>0</td>\n",
       "      <td>17800.0</td>\n",
       "    </tr>\n",
       "    <tr>\n",
       "      <th>4</th>\n",
       "      <td>2020-01-22</td>\n",
       "      <td>Taiwan</td>\n",
       "      <td>Asia</td>\n",
       "      <td>1.0</td>\n",
       "      <td>0.0</td>\n",
       "      <td>0.0</td>\n",
       "      <td>1.0</td>\n",
       "      <td>23036087.0</td>\n",
       "      <td>35980.0</td>\n",
       "      <td>640,3</td>\n",
       "      <td>0</td>\n",
       "      <td>23400.0</td>\n",
       "    </tr>\n",
       "  </tbody>\n",
       "</table>\n",
       "</div>"
      ],
      "text/plain": [
       "  ObservationDate      Country Continent  Confirmed  Deaths  Recovered  \\\n",
       "0      2020-01-22    Hong Kong      Asia        0.0     0.0        0.0   \n",
       "1      2020-01-22        Japan      Asia        2.0     0.0        0.0   \n",
       "2      2020-01-22        Macao      Asia        1.0     0.0        0.0   \n",
       "3      2020-01-22  South Korea      Asia        1.0     0.0        0.0   \n",
       "4      2020-01-22       Taiwan      Asia        1.0     0.0        0.0   \n",
       "\n",
       "   Active Cases   Population  Area (sq. mi.) Pop. Density (per sq. mi.)  \\\n",
       "0           0.0    6940432.0          1092.0                     6355,7   \n",
       "1           2.0  127463611.0        377835.0                      337,4   \n",
       "2           1.0     453125.0            28.0                    16183,0   \n",
       "3           1.0   48846823.0         98480.0                      496,0   \n",
       "4           1.0   23036087.0         35980.0                      640,3   \n",
       "\n",
       "  Net migration  GDP ($ per capita)  \n",
       "0          5,24             28800.0  \n",
       "1             0             28200.0  \n",
       "2          4,86             19400.0  \n",
       "3             0             17800.0  \n",
       "4             0             23400.0  "
      ]
     },
     "execution_count": 16,
     "metadata": {},
     "output_type": "execute_result"
    }
   ],
   "source": [
    "#dataset\n",
    "covid_df= pd.read_csv(\"corona_pred_china.csv\")\n",
    "covid_df.head()"
   ]
  },
  {
   "cell_type": "markdown",
   "metadata": {},
   "source": [
    "#### Data transformations"
   ]
  },
  {
   "cell_type": "code",
   "execution_count": 17,
   "metadata": {},
   "outputs": [
    {
     "name": "stdout",
     "output_type": "stream",
     "text": [
      "<class 'pandas.core.frame.DataFrame'>\n",
      "RangeIndex: 3811 entries, 0 to 3810\n",
      "Data columns (total 12 columns):\n",
      " #   Column                      Non-Null Count  Dtype         \n",
      "---  ------                      --------------  -----         \n",
      " 0   ObservationDate             3811 non-null   datetime64[ns]\n",
      " 1   Country                     3811 non-null   object        \n",
      " 2   Continent                   3811 non-null   object        \n",
      " 3   Confirmed                   3811 non-null   float64       \n",
      " 4   Deaths                      3811 non-null   float64       \n",
      " 5   Recovered                   3811 non-null   float64       \n",
      " 6   Active Cases                3811 non-null   float64       \n",
      " 7   Population                  3811 non-null   float64       \n",
      " 8   Area (sq. mi.)              3811 non-null   float64       \n",
      " 9   Pop. Density (per sq. mi.)  3811 non-null   object        \n",
      " 10  Net migration               3811 non-null   object        \n",
      " 11  GDP ($ per capita)          3811 non-null   float64       \n",
      "dtypes: datetime64[ns](1), float64(7), object(4)\n",
      "memory usage: 357.4+ KB\n"
     ]
    }
   ],
   "source": [
    "#Converting \"Observation Date\" into Datetime format\n",
    "covid_df[\"ObservationDate\"]=pd.to_datetime(covid_df[\"ObservationDate\"])\n",
    "covid_df.info()"
   ]
  },
  {
   "cell_type": "code",
   "execution_count": 18,
   "metadata": {},
   "outputs": [
    {
     "name": "stdout",
     "output_type": "stream",
     "text": [
      "<class 'pandas.core.frame.DataFrame'>\n",
      "RangeIndex: 3811 entries, 0 to 3810\n",
      "Data columns (total 12 columns):\n",
      " #   Column                      Non-Null Count  Dtype         \n",
      "---  ------                      --------------  -----         \n",
      " 0   ObservationDate             3811 non-null   datetime64[ns]\n",
      " 1   Country                     3811 non-null   object        \n",
      " 2   Continent                   3811 non-null   object        \n",
      " 3   Confirmed                   3811 non-null   float64       \n",
      " 4   Deaths                      3811 non-null   float64       \n",
      " 5   Recovered                   3811 non-null   float64       \n",
      " 6   Active Cases                3811 non-null   float64       \n",
      " 7   Population                  3811 non-null   float64       \n",
      " 8   Area (sq. mi.)              3811 non-null   float64       \n",
      " 9   Pop. Density (per sq. mi.)  3811 non-null   float64       \n",
      " 10  Net migration               3811 non-null   float64       \n",
      " 11  GDP ($ per capita)          3811 non-null   float64       \n",
      "dtypes: datetime64[ns](1), float64(9), object(2)\n",
      "memory usage: 357.4+ KB\n"
     ]
    }
   ],
   "source": [
    "# Changing datatype of Population density and Net Migration columns as float\n",
    "cols=[\"Pop. Density (per sq. mi.)\",\"Net migration\"]                             \n",
    "for i in cols:\n",
    "    covid_df[i]=covid_df[i].str.replace(\",\",\"\").astype(float)\n",
    "covid_df.info()    "
   ]
  },
  {
   "cell_type": "code",
   "execution_count": 19,
   "metadata": {},
   "outputs": [
    {
     "data": {
      "text/html": [
       "<div>\n",
       "<style scoped>\n",
       "    .dataframe tbody tr th:only-of-type {\n",
       "        vertical-align: middle;\n",
       "    }\n",
       "\n",
       "    .dataframe tbody tr th {\n",
       "        vertical-align: top;\n",
       "    }\n",
       "\n",
       "    .dataframe thead th {\n",
       "        text-align: right;\n",
       "    }\n",
       "</style>\n",
       "<table border=\"1\" class=\"dataframe\">\n",
       "  <thead>\n",
       "    <tr style=\"text-align: right;\">\n",
       "      <th></th>\n",
       "      <th>ObservationDate</th>\n",
       "      <th>Country</th>\n",
       "      <th>Continent</th>\n",
       "      <th>Confirmed</th>\n",
       "      <th>Deaths</th>\n",
       "      <th>Recovered</th>\n",
       "      <th>Active Cases</th>\n",
       "      <th>Population</th>\n",
       "      <th>Area (sq. mi.)</th>\n",
       "      <th>Pop. Density (per sq. mi.)</th>\n",
       "      <th>Net migration</th>\n",
       "      <th>GDP ($ per capita)</th>\n",
       "    </tr>\n",
       "  </thead>\n",
       "  <tbody>\n",
       "    <tr>\n",
       "      <th>0</th>\n",
       "      <td>2020-01-22</td>\n",
       "      <td>Hong Kong</td>\n",
       "      <td>Asia</td>\n",
       "      <td>0.0</td>\n",
       "      <td>0.0</td>\n",
       "      <td>0.0</td>\n",
       "      <td>0.0</td>\n",
       "      <td>6940432.0</td>\n",
       "      <td>1092.0</td>\n",
       "      <td>63557.0</td>\n",
       "      <td>524.0</td>\n",
       "      <td>28800.0</td>\n",
       "    </tr>\n",
       "    <tr>\n",
       "      <th>1</th>\n",
       "      <td>2020-01-22</td>\n",
       "      <td>Japan</td>\n",
       "      <td>Asia</td>\n",
       "      <td>2.0</td>\n",
       "      <td>0.0</td>\n",
       "      <td>0.0</td>\n",
       "      <td>2.0</td>\n",
       "      <td>127463611.0</td>\n",
       "      <td>377835.0</td>\n",
       "      <td>3374.0</td>\n",
       "      <td>0.0</td>\n",
       "      <td>28200.0</td>\n",
       "    </tr>\n",
       "    <tr>\n",
       "      <th>2</th>\n",
       "      <td>2020-01-22</td>\n",
       "      <td>Macao</td>\n",
       "      <td>Asia</td>\n",
       "      <td>1.0</td>\n",
       "      <td>0.0</td>\n",
       "      <td>0.0</td>\n",
       "      <td>1.0</td>\n",
       "      <td>453125.0</td>\n",
       "      <td>28.0</td>\n",
       "      <td>161830.0</td>\n",
       "      <td>486.0</td>\n",
       "      <td>19400.0</td>\n",
       "    </tr>\n",
       "    <tr>\n",
       "      <th>3</th>\n",
       "      <td>2020-01-22</td>\n",
       "      <td>South Korea</td>\n",
       "      <td>Asia</td>\n",
       "      <td>1.0</td>\n",
       "      <td>0.0</td>\n",
       "      <td>0.0</td>\n",
       "      <td>1.0</td>\n",
       "      <td>48846823.0</td>\n",
       "      <td>98480.0</td>\n",
       "      <td>4960.0</td>\n",
       "      <td>0.0</td>\n",
       "      <td>17800.0</td>\n",
       "    </tr>\n",
       "    <tr>\n",
       "      <th>4</th>\n",
       "      <td>2020-01-22</td>\n",
       "      <td>Taiwan</td>\n",
       "      <td>Asia</td>\n",
       "      <td>1.0</td>\n",
       "      <td>0.0</td>\n",
       "      <td>0.0</td>\n",
       "      <td>1.0</td>\n",
       "      <td>23036087.0</td>\n",
       "      <td>35980.0</td>\n",
       "      <td>6403.0</td>\n",
       "      <td>0.0</td>\n",
       "      <td>23400.0</td>\n",
       "    </tr>\n",
       "  </tbody>\n",
       "</table>\n",
       "</div>"
      ],
      "text/plain": [
       "  ObservationDate      Country Continent  Confirmed  Deaths  Recovered  \\\n",
       "0      2020-01-22    Hong Kong      Asia        0.0     0.0        0.0   \n",
       "1      2020-01-22        Japan      Asia        2.0     0.0        0.0   \n",
       "2      2020-01-22        Macao      Asia        1.0     0.0        0.0   \n",
       "3      2020-01-22  South Korea      Asia        1.0     0.0        0.0   \n",
       "4      2020-01-22       Taiwan      Asia        1.0     0.0        0.0   \n",
       "\n",
       "   Active Cases   Population  Area (sq. mi.)  Pop. Density (per sq. mi.)  \\\n",
       "0           0.0    6940432.0          1092.0                     63557.0   \n",
       "1           2.0  127463611.0        377835.0                      3374.0   \n",
       "2           1.0     453125.0            28.0                    161830.0   \n",
       "3           1.0   48846823.0         98480.0                      4960.0   \n",
       "4           1.0   23036087.0         35980.0                      6403.0   \n",
       "\n",
       "   Net migration  GDP ($ per capita)  \n",
       "0          524.0             28800.0  \n",
       "1            0.0             28200.0  \n",
       "2          486.0             19400.0  \n",
       "3            0.0             17800.0  \n",
       "4            0.0             23400.0  "
      ]
     },
     "execution_count": 19,
     "metadata": {},
     "output_type": "execute_result"
    }
   ],
   "source": [
    "covid_df.head()"
   ]
  },
  {
   "cell_type": "code",
   "execution_count": 20,
   "metadata": {},
   "outputs": [],
   "source": [
    "# Sorting based on the country names\n",
    "covid_df = covid_df.sort_values([\"Country\", \"ObservationDate\"]).reset_index(drop=True)"
   ]
  },
  {
   "cell_type": "code",
   "execution_count": 21,
   "metadata": {},
   "outputs": [
    {
     "data": {
      "text/plain": [
       "(3811, 12)"
      ]
     },
     "execution_count": 21,
     "metadata": {},
     "output_type": "execute_result"
    }
   ],
   "source": [
    "covid_df.shape"
   ]
  },
  {
   "cell_type": "code",
   "execution_count": 22,
   "metadata": {
    "scrolled": false
   },
   "outputs": [],
   "source": [
    "# Calculating days since the first occurance for each country\n",
    "covid_df['days_since_first']=0\n",
    "covid_df['previous_Confirmed'] = 0\n",
    "covid_df['increase_rate'] = 0\n",
    "previous_Confirmed=0\n",
    "confirm_difference=0\n",
    "\n",
    "for i in covid_df.index[1:]:\n",
    "    if covid_df['Country'][i]==covid_df['Country'][i-1]:\n",
    "        covid_df.loc[i,'days_since_first']=(covid_df.at[i-1,'days_since_first']+1)\n",
    "        previous_Confirmed=covid_df.at[i-1,'Confirmed']\n",
    "        confirm_difference= covid_df.at[i,'Confirmed']-previous_Confirmed\n",
    "        covid_df.loc[i,'previous_Confirmed']=previous_Confirmed        \n",
    "        if ((previous_Confirmed!=0) & (confirm_difference>0) ):\n",
    "            covid_df.loc[i,'increase_rate']=((confirm_difference/previous_Confirmed))       \n",
    "        else:\n",
    "            covid_df.loc[i,'increase_rate']=0\n",
    "    else:\n",
    "        covid_df.loc[i,'days_since_first'] = 0\n",
    "        covid_df.loc[i,'previous_Confirmed'] = 0\n",
    "        covid_df.loc[i,'increase_rate'] = 0  "
   ]
  },
  {
   "cell_type": "code",
   "execution_count": 23,
   "metadata": {},
   "outputs": [],
   "source": [
    "# Ensuring that previous confirmed column type is int\n",
    "covid_df['previous_Confirmed'].astype(int)\n",
    "covid_df=covid_df[covid_df['increase_rate']>=0]"
   ]
  },
  {
   "cell_type": "code",
   "execution_count": 24,
   "metadata": {},
   "outputs": [],
   "source": [
    "covid_df.set_index('Country',inplace=True)"
   ]
  },
  {
   "cell_type": "markdown",
   "metadata": {},
   "source": [
    "#### Check for highest number of confirmed cases in Europe"
   ]
  },
  {
   "cell_type": "code",
   "execution_count": 25,
   "metadata": {},
   "outputs": [
    {
     "data": {
      "text/html": [
       "<div>\n",
       "<style scoped>\n",
       "    .dataframe tbody tr th:only-of-type {\n",
       "        vertical-align: middle;\n",
       "    }\n",
       "\n",
       "    .dataframe tbody tr th {\n",
       "        vertical-align: top;\n",
       "    }\n",
       "\n",
       "    .dataframe thead th {\n",
       "        text-align: right;\n",
       "    }\n",
       "</style>\n",
       "<table border=\"1\" class=\"dataframe\">\n",
       "  <thead>\n",
       "    <tr style=\"text-align: right;\">\n",
       "      <th></th>\n",
       "      <th>Confirmed</th>\n",
       "      <th>days_since_first</th>\n",
       "    </tr>\n",
       "    <tr>\n",
       "      <th>Country</th>\n",
       "      <th></th>\n",
       "      <th></th>\n",
       "    </tr>\n",
       "  </thead>\n",
       "  <tbody>\n",
       "    <tr>\n",
       "      <th>Italy</th>\n",
       "      <td>438821.0</td>\n",
       "      <td>51</td>\n",
       "    </tr>\n",
       "    <tr>\n",
       "      <th>Spain</th>\n",
       "      <td>157432.0</td>\n",
       "      <td>50</td>\n",
       "    </tr>\n",
       "    <tr>\n",
       "      <th>Germany</th>\n",
       "      <td>136100.0</td>\n",
       "      <td>54</td>\n",
       "    </tr>\n",
       "    <tr>\n",
       "      <th>France</th>\n",
       "      <td>101887.0</td>\n",
       "      <td>58</td>\n",
       "    </tr>\n",
       "    <tr>\n",
       "      <th>Switzerland</th>\n",
       "      <td>39168.0</td>\n",
       "      <td>26</td>\n",
       "    </tr>\n",
       "  </tbody>\n",
       "</table>\n",
       "</div>"
      ],
      "text/plain": [
       "             Confirmed  days_since_first\n",
       "Country                                 \n",
       "Italy         438821.0                51\n",
       "Spain         157432.0                50\n",
       "Germany       136100.0                54\n",
       "France        101887.0                58\n",
       "Switzerland    39168.0                26"
      ]
     },
     "execution_count": 25,
     "metadata": {},
     "output_type": "execute_result"
    }
   ],
   "source": [
    "covid_df_Europe = covid_df[covid_df['Continent'] == \"Europe\"].groupby('Country').agg(\n",
    "                {\n",
    "                     'Confirmed':sum,    # Sum duration per group\n",
    "                     'days_since_first': max,  # get the max of days\n",
    "                }).sort_values([\"Confirmed\", \"days_since_first\"]).tail()\n",
    "covid_df_Europe.sort_values([\"Confirmed\"], ascending=False)"
   ]
  },
  {
   "cell_type": "code",
   "execution_count": 26,
   "metadata": {},
   "outputs": [
    {
     "data": {
      "text/plain": [
       "Index(['ObservationDate', 'Continent', 'Confirmed', 'Deaths', 'Recovered',\n",
       "       'Active Cases', 'Population', 'Area (sq. mi.)',\n",
       "       'Pop. Density (per sq. mi.)', 'Net migration', 'GDP ($ per capita)',\n",
       "       'days_since_first', 'previous_Confirmed', 'increase_rate'],\n",
       "      dtype='object')"
      ]
     },
     "execution_count": 26,
     "metadata": {},
     "output_type": "execute_result"
    }
   ],
   "source": [
    "covid_df.columns"
   ]
  },
  {
   "cell_type": "markdown",
   "metadata": {},
   "source": [
    "### XGBoost Regressor"
   ]
  },
  {
   "cell_type": "code",
   "execution_count": 27,
   "metadata": {},
   "outputs": [],
   "source": [
    "X=covid_df.copy()\n",
    "del X['Continent']\n",
    "del X['ObservationDate']\n",
    "del X['Deaths']\n",
    "del X['Recovered']\n",
    "del X['Active Cases']\n",
    "del X['GDP ($ per capita)']\n",
    "#del X['previous_Activecases']\n",
    "#del X['previous_Death']\n",
    "#del X['previous_Recovered']\n",
    "\n"
   ]
  },
  {
   "cell_type": "code",
   "execution_count": 28,
   "metadata": {},
   "outputs": [
    {
     "name": "stdout",
     "output_type": "stream",
     "text": [
      "<class 'pandas.core.frame.DataFrame'>\n",
      "Index: 3811 entries, Afghanistan to Zimbabwe\n",
      "Data columns (total 8 columns):\n",
      " #   Column                      Non-Null Count  Dtype  \n",
      "---  ------                      --------------  -----  \n",
      " 0   Confirmed                   3811 non-null   float64\n",
      " 1   Population                  3811 non-null   float64\n",
      " 2   Area (sq. mi.)              3811 non-null   float64\n",
      " 3   Pop. Density (per sq. mi.)  3811 non-null   float64\n",
      " 4   Net migration               3811 non-null   float64\n",
      " 5   days_since_first            3811 non-null   int64  \n",
      " 6   previous_Confirmed          3811 non-null   float64\n",
      " 7   increase_rate               3811 non-null   float64\n",
      "dtypes: float64(7), int64(1)\n",
      "memory usage: 268.0+ KB\n"
     ]
    }
   ],
   "source": [
    "X.info()"
   ]
  },
  {
   "cell_type": "code",
   "execution_count": 29,
   "metadata": {},
   "outputs": [],
   "source": [
    "X[\"Net migration\"].fillna(0, inplace=True)\n",
    "X[\"Pop. Density (per sq. mi.)\"].fillna(0, inplace=True)"
   ]
  },
  {
   "cell_type": "code",
   "execution_count": 30,
   "metadata": {},
   "outputs": [
    {
     "data": {
      "text/plain": [
       "Confirmed                     False\n",
       "Population                    False\n",
       "Area (sq. mi.)                False\n",
       "Pop. Density (per sq. mi.)    False\n",
       "Net migration                 False\n",
       "days_since_first              False\n",
       "previous_Confirmed            False\n",
       "increase_rate                 False\n",
       "dtype: bool"
      ]
     },
     "execution_count": 30,
     "metadata": {},
     "output_type": "execute_result"
    }
   ],
   "source": [
    "X.isnull().any()"
   ]
  },
  {
   "cell_type": "code",
   "execution_count": 31,
   "metadata": {},
   "outputs": [
    {
     "data": {
      "text/html": [
       "<style  type=\"text/css\" >\n",
       "    #T_a2dbbc88_7fe3_11ea_9da2_d0c5d384fb94row0_col0 {\n",
       "            background-color:  #b40426;\n",
       "            color:  #f1f1f1;\n",
       "        }    #T_a2dbbc88_7fe3_11ea_9da2_d0c5d384fb94row0_col1 {\n",
       "            background-color:  #5673e0;\n",
       "            color:  #000000;\n",
       "        }    #T_a2dbbc88_7fe3_11ea_9da2_d0c5d384fb94row0_col2 {\n",
       "            background-color:  #5a78e4;\n",
       "            color:  #000000;\n",
       "        }    #T_a2dbbc88_7fe3_11ea_9da2_d0c5d384fb94row0_col3 {\n",
       "            background-color:  #4e68d8;\n",
       "            color:  #000000;\n",
       "        }    #T_a2dbbc88_7fe3_11ea_9da2_d0c5d384fb94row0_col4 {\n",
       "            background-color:  #4c66d6;\n",
       "            color:  #000000;\n",
       "        }    #T_a2dbbc88_7fe3_11ea_9da2_d0c5d384fb94row0_col5 {\n",
       "            background-color:  #a9c6fd;\n",
       "            color:  #000000;\n",
       "        }    #T_a2dbbc88_7fe3_11ea_9da2_d0c5d384fb94row0_col6 {\n",
       "            background-color:  #b40426;\n",
       "            color:  #f1f1f1;\n",
       "        }    #T_a2dbbc88_7fe3_11ea_9da2_d0c5d384fb94row0_col7 {\n",
       "            background-color:  #4a63d3;\n",
       "            color:  #f1f1f1;\n",
       "        }    #T_a2dbbc88_7fe3_11ea_9da2_d0c5d384fb94row1_col0 {\n",
       "            background-color:  #4c66d6;\n",
       "            color:  #000000;\n",
       "        }    #T_a2dbbc88_7fe3_11ea_9da2_d0c5d384fb94row1_col1 {\n",
       "            background-color:  #b40426;\n",
       "            color:  #f1f1f1;\n",
       "        }    #T_a2dbbc88_7fe3_11ea_9da2_d0c5d384fb94row1_col2 {\n",
       "            background-color:  #b5cdfa;\n",
       "            color:  #000000;\n",
       "        }    #T_a2dbbc88_7fe3_11ea_9da2_d0c5d384fb94row1_col3 {\n",
       "            background-color:  #4358cb;\n",
       "            color:  #f1f1f1;\n",
       "        }    #T_a2dbbc88_7fe3_11ea_9da2_d0c5d384fb94row1_col4 {\n",
       "            background-color:  #3b4cc0;\n",
       "            color:  #f1f1f1;\n",
       "        }    #T_a2dbbc88_7fe3_11ea_9da2_d0c5d384fb94row1_col5 {\n",
       "            background-color:  #7ea1fa;\n",
       "            color:  #000000;\n",
       "        }    #T_a2dbbc88_7fe3_11ea_9da2_d0c5d384fb94row1_col6 {\n",
       "            background-color:  #4b64d5;\n",
       "            color:  #f1f1f1;\n",
       "        }    #T_a2dbbc88_7fe3_11ea_9da2_d0c5d384fb94row1_col7 {\n",
       "            background-color:  #4961d2;\n",
       "            color:  #f1f1f1;\n",
       "        }    #T_a2dbbc88_7fe3_11ea_9da2_d0c5d384fb94row2_col0 {\n",
       "            background-color:  #485fd1;\n",
       "            color:  #f1f1f1;\n",
       "        }    #T_a2dbbc88_7fe3_11ea_9da2_d0c5d384fb94row2_col1 {\n",
       "            background-color:  #aec9fc;\n",
       "            color:  #000000;\n",
       "        }    #T_a2dbbc88_7fe3_11ea_9da2_d0c5d384fb94row2_col2 {\n",
       "            background-color:  #b40426;\n",
       "            color:  #f1f1f1;\n",
       "        }    #T_a2dbbc88_7fe3_11ea_9da2_d0c5d384fb94row2_col3 {\n",
       "            background-color:  #3b4cc0;\n",
       "            color:  #f1f1f1;\n",
       "        }    #T_a2dbbc88_7fe3_11ea_9da2_d0c5d384fb94row2_col4 {\n",
       "            background-color:  #6282ea;\n",
       "            color:  #000000;\n",
       "        }    #T_a2dbbc88_7fe3_11ea_9da2_d0c5d384fb94row2_col5 {\n",
       "            background-color:  #81a4fb;\n",
       "            color:  #000000;\n",
       "        }    #T_a2dbbc88_7fe3_11ea_9da2_d0c5d384fb94row2_col6 {\n",
       "            background-color:  #455cce;\n",
       "            color:  #f1f1f1;\n",
       "        }    #T_a2dbbc88_7fe3_11ea_9da2_d0c5d384fb94row2_col7 {\n",
       "            background-color:  #485fd1;\n",
       "            color:  #f1f1f1;\n",
       "        }    #T_a2dbbc88_7fe3_11ea_9da2_d0c5d384fb94row3_col0 {\n",
       "            background-color:  #3b4cc0;\n",
       "            color:  #f1f1f1;\n",
       "        }    #T_a2dbbc88_7fe3_11ea_9da2_d0c5d384fb94row3_col1 {\n",
       "            background-color:  #3b4cc0;\n",
       "            color:  #f1f1f1;\n",
       "        }    #T_a2dbbc88_7fe3_11ea_9da2_d0c5d384fb94row3_col2 {\n",
       "            background-color:  #3b4cc0;\n",
       "            color:  #f1f1f1;\n",
       "        }    #T_a2dbbc88_7fe3_11ea_9da2_d0c5d384fb94row3_col3 {\n",
       "            background-color:  #b40426;\n",
       "            color:  #f1f1f1;\n",
       "        }    #T_a2dbbc88_7fe3_11ea_9da2_d0c5d384fb94row3_col4 {\n",
       "            background-color:  #a7c5fe;\n",
       "            color:  #000000;\n",
       "        }    #T_a2dbbc88_7fe3_11ea_9da2_d0c5d384fb94row3_col5 {\n",
       "            background-color:  #7b9ff9;\n",
       "            color:  #000000;\n",
       "        }    #T_a2dbbc88_7fe3_11ea_9da2_d0c5d384fb94row3_col6 {\n",
       "            background-color:  #3b4cc0;\n",
       "            color:  #f1f1f1;\n",
       "        }    #T_a2dbbc88_7fe3_11ea_9da2_d0c5d384fb94row3_col7 {\n",
       "            background-color:  #4358cb;\n",
       "            color:  #f1f1f1;\n",
       "        }    #T_a2dbbc88_7fe3_11ea_9da2_d0c5d384fb94row4_col0 {\n",
       "            background-color:  #465ecf;\n",
       "            color:  #f1f1f1;\n",
       "        }    #T_a2dbbc88_7fe3_11ea_9da2_d0c5d384fb94row4_col1 {\n",
       "            background-color:  #3e51c5;\n",
       "            color:  #f1f1f1;\n",
       "        }    #T_a2dbbc88_7fe3_11ea_9da2_d0c5d384fb94row4_col2 {\n",
       "            background-color:  #6e90f2;\n",
       "            color:  #000000;\n",
       "        }    #T_a2dbbc88_7fe3_11ea_9da2_d0c5d384fb94row4_col3 {\n",
       "            background-color:  #b2ccfb;\n",
       "            color:  #000000;\n",
       "        }    #T_a2dbbc88_7fe3_11ea_9da2_d0c5d384fb94row4_col4 {\n",
       "            background-color:  #b40426;\n",
       "            color:  #f1f1f1;\n",
       "        }    #T_a2dbbc88_7fe3_11ea_9da2_d0c5d384fb94row4_col5 {\n",
       "            background-color:  #799cf8;\n",
       "            color:  #000000;\n",
       "        }    #T_a2dbbc88_7fe3_11ea_9da2_d0c5d384fb94row4_col6 {\n",
       "            background-color:  #455cce;\n",
       "            color:  #f1f1f1;\n",
       "        }    #T_a2dbbc88_7fe3_11ea_9da2_d0c5d384fb94row4_col7 {\n",
       "            background-color:  #4e68d8;\n",
       "            color:  #000000;\n",
       "        }    #T_a2dbbc88_7fe3_11ea_9da2_d0c5d384fb94row5_col0 {\n",
       "            background-color:  #9fbfff;\n",
       "            color:  #000000;\n",
       "        }    #T_a2dbbc88_7fe3_11ea_9da2_d0c5d384fb94row5_col1 {\n",
       "            background-color:  #7da0f9;\n",
       "            color:  #000000;\n",
       "        }    #T_a2dbbc88_7fe3_11ea_9da2_d0c5d384fb94row5_col2 {\n",
       "            background-color:  #88abfd;\n",
       "            color:  #000000;\n",
       "        }    #T_a2dbbc88_7fe3_11ea_9da2_d0c5d384fb94row5_col3 {\n",
       "            background-color:  #82a6fb;\n",
       "            color:  #000000;\n",
       "        }    #T_a2dbbc88_7fe3_11ea_9da2_d0c5d384fb94row5_col4 {\n",
       "            background-color:  #7295f4;\n",
       "            color:  #000000;\n",
       "        }    #T_a2dbbc88_7fe3_11ea_9da2_d0c5d384fb94row5_col5 {\n",
       "            background-color:  #b40426;\n",
       "            color:  #f1f1f1;\n",
       "        }    #T_a2dbbc88_7fe3_11ea_9da2_d0c5d384fb94row5_col6 {\n",
       "            background-color:  #9dbdff;\n",
       "            color:  #000000;\n",
       "        }    #T_a2dbbc88_7fe3_11ea_9da2_d0c5d384fb94row5_col7 {\n",
       "            background-color:  #3b4cc0;\n",
       "            color:  #f1f1f1;\n",
       "        }    #T_a2dbbc88_7fe3_11ea_9da2_d0c5d384fb94row6_col0 {\n",
       "            background-color:  #b40426;\n",
       "            color:  #f1f1f1;\n",
       "        }    #T_a2dbbc88_7fe3_11ea_9da2_d0c5d384fb94row6_col1 {\n",
       "            background-color:  #5572df;\n",
       "            color:  #000000;\n",
       "        }    #T_a2dbbc88_7fe3_11ea_9da2_d0c5d384fb94row6_col2 {\n",
       "            background-color:  #5977e3;\n",
       "            color:  #000000;\n",
       "        }    #T_a2dbbc88_7fe3_11ea_9da2_d0c5d384fb94row6_col3 {\n",
       "            background-color:  #4e68d8;\n",
       "            color:  #000000;\n",
       "        }    #T_a2dbbc88_7fe3_11ea_9da2_d0c5d384fb94row6_col4 {\n",
       "            background-color:  #4c66d6;\n",
       "            color:  #000000;\n",
       "        }    #T_a2dbbc88_7fe3_11ea_9da2_d0c5d384fb94row6_col5 {\n",
       "            background-color:  #a7c5fe;\n",
       "            color:  #000000;\n",
       "        }    #T_a2dbbc88_7fe3_11ea_9da2_d0c5d384fb94row6_col6 {\n",
       "            background-color:  #b40426;\n",
       "            color:  #f1f1f1;\n",
       "        }    #T_a2dbbc88_7fe3_11ea_9da2_d0c5d384fb94row6_col7 {\n",
       "            background-color:  #4961d2;\n",
       "            color:  #f1f1f1;\n",
       "        }    #T_a2dbbc88_7fe3_11ea_9da2_d0c5d384fb94row7_col0 {\n",
       "            background-color:  #3e51c5;\n",
       "            color:  #f1f1f1;\n",
       "        }    #T_a2dbbc88_7fe3_11ea_9da2_d0c5d384fb94row7_col1 {\n",
       "            background-color:  #465ecf;\n",
       "            color:  #f1f1f1;\n",
       "        }    #T_a2dbbc88_7fe3_11ea_9da2_d0c5d384fb94row7_col2 {\n",
       "            background-color:  #4e68d8;\n",
       "            color:  #000000;\n",
       "        }    #T_a2dbbc88_7fe3_11ea_9da2_d0c5d384fb94row7_col3 {\n",
       "            background-color:  #4a63d3;\n",
       "            color:  #f1f1f1;\n",
       "        }    #T_a2dbbc88_7fe3_11ea_9da2_d0c5d384fb94row7_col4 {\n",
       "            background-color:  #4961d2;\n",
       "            color:  #f1f1f1;\n",
       "        }    #T_a2dbbc88_7fe3_11ea_9da2_d0c5d384fb94row7_col5 {\n",
       "            background-color:  #3b4cc0;\n",
       "            color:  #f1f1f1;\n",
       "        }    #T_a2dbbc88_7fe3_11ea_9da2_d0c5d384fb94row7_col6 {\n",
       "            background-color:  #3d50c3;\n",
       "            color:  #f1f1f1;\n",
       "        }    #T_a2dbbc88_7fe3_11ea_9da2_d0c5d384fb94row7_col7 {\n",
       "            background-color:  #b40426;\n",
       "            color:  #f1f1f1;\n",
       "        }</style><table id=\"T_a2dbbc88_7fe3_11ea_9da2_d0c5d384fb94\" ><thead>    <tr>        <th class=\"blank level0\" ></th>        <th class=\"col_heading level0 col0\" >Confirmed</th>        <th class=\"col_heading level0 col1\" >Population</th>        <th class=\"col_heading level0 col2\" >Area (sq. mi.)</th>        <th class=\"col_heading level0 col3\" >Pop. Density (per sq. mi.)</th>        <th class=\"col_heading level0 col4\" >Net migration</th>        <th class=\"col_heading level0 col5\" >days_since_first</th>        <th class=\"col_heading level0 col6\" >previous_Confirmed</th>        <th class=\"col_heading level0 col7\" >increase_rate</th>    </tr></thead><tbody>\n",
       "                <tr>\n",
       "                        <th id=\"T_a2dbbc88_7fe3_11ea_9da2_d0c5d384fb94level0_row0\" class=\"row_heading level0 row0\" >Confirmed</th>\n",
       "                        <td id=\"T_a2dbbc88_7fe3_11ea_9da2_d0c5d384fb94row0_col0\" class=\"data row0 col0\" >1.00</td>\n",
       "                        <td id=\"T_a2dbbc88_7fe3_11ea_9da2_d0c5d384fb94row0_col1\" class=\"data row0 col1\" >0.03</td>\n",
       "                        <td id=\"T_a2dbbc88_7fe3_11ea_9da2_d0c5d384fb94row0_col2\" class=\"data row0 col2\" >0.01</td>\n",
       "                        <td id=\"T_a2dbbc88_7fe3_11ea_9da2_d0c5d384fb94row0_col3\" class=\"data row0 col3\" >-0.03</td>\n",
       "                        <td id=\"T_a2dbbc88_7fe3_11ea_9da2_d0c5d384fb94row0_col4\" class=\"data row0 col4\" >0.01</td>\n",
       "                        <td id=\"T_a2dbbc88_7fe3_11ea_9da2_d0c5d384fb94row0_col5\" class=\"data row0 col5\" >0.28</td>\n",
       "                        <td id=\"T_a2dbbc88_7fe3_11ea_9da2_d0c5d384fb94row0_col6\" class=\"data row0 col6\" >1.00</td>\n",
       "                        <td id=\"T_a2dbbc88_7fe3_11ea_9da2_d0c5d384fb94row0_col7\" class=\"data row0 col7\" >-0.02</td>\n",
       "            </tr>\n",
       "            <tr>\n",
       "                        <th id=\"T_a2dbbc88_7fe3_11ea_9da2_d0c5d384fb94level0_row1\" class=\"row_heading level0 row1\" >Population</th>\n",
       "                        <td id=\"T_a2dbbc88_7fe3_11ea_9da2_d0c5d384fb94row1_col0\" class=\"data row1 col0\" >0.03</td>\n",
       "                        <td id=\"T_a2dbbc88_7fe3_11ea_9da2_d0c5d384fb94row1_col1\" class=\"data row1 col1\" >1.00</td>\n",
       "                        <td id=\"T_a2dbbc88_7fe3_11ea_9da2_d0c5d384fb94row1_col2\" class=\"data row1 col2\" >0.30</td>\n",
       "                        <td id=\"T_a2dbbc88_7fe3_11ea_9da2_d0c5d384fb94row1_col3\" class=\"data row1 col3\" >-0.07</td>\n",
       "                        <td id=\"T_a2dbbc88_7fe3_11ea_9da2_d0c5d384fb94row1_col4\" class=\"data row1 col4\" >-0.06</td>\n",
       "                        <td id=\"T_a2dbbc88_7fe3_11ea_9da2_d0c5d384fb94row1_col5\" class=\"data row1 col5\" >0.15</td>\n",
       "                        <td id=\"T_a2dbbc88_7fe3_11ea_9da2_d0c5d384fb94row1_col6\" class=\"data row1 col6\" >0.03</td>\n",
       "                        <td id=\"T_a2dbbc88_7fe3_11ea_9da2_d0c5d384fb94row1_col7\" class=\"data row1 col7\" >-0.02</td>\n",
       "            </tr>\n",
       "            <tr>\n",
       "                        <th id=\"T_a2dbbc88_7fe3_11ea_9da2_d0c5d384fb94level0_row2\" class=\"row_heading level0 row2\" >Area (sq. mi.)</th>\n",
       "                        <td id=\"T_a2dbbc88_7fe3_11ea_9da2_d0c5d384fb94row2_col0\" class=\"data row2 col0\" >0.01</td>\n",
       "                        <td id=\"T_a2dbbc88_7fe3_11ea_9da2_d0c5d384fb94row2_col1\" class=\"data row2 col1\" >0.30</td>\n",
       "                        <td id=\"T_a2dbbc88_7fe3_11ea_9da2_d0c5d384fb94row2_col2\" class=\"data row2 col2\" >1.00</td>\n",
       "                        <td id=\"T_a2dbbc88_7fe3_11ea_9da2_d0c5d384fb94row2_col3\" class=\"data row2 col3\" >-0.10</td>\n",
       "                        <td id=\"T_a2dbbc88_7fe3_11ea_9da2_d0c5d384fb94row2_col4\" class=\"data row2 col4\" >0.08</td>\n",
       "                        <td id=\"T_a2dbbc88_7fe3_11ea_9da2_d0c5d384fb94row2_col5\" class=\"data row2 col5\" >0.16</td>\n",
       "                        <td id=\"T_a2dbbc88_7fe3_11ea_9da2_d0c5d384fb94row2_col6\" class=\"data row2 col6\" >0.01</td>\n",
       "                        <td id=\"T_a2dbbc88_7fe3_11ea_9da2_d0c5d384fb94row2_col7\" class=\"data row2 col7\" >-0.03</td>\n",
       "            </tr>\n",
       "            <tr>\n",
       "                        <th id=\"T_a2dbbc88_7fe3_11ea_9da2_d0c5d384fb94level0_row3\" class=\"row_heading level0 row3\" >Pop. Density (per sq. mi.)</th>\n",
       "                        <td id=\"T_a2dbbc88_7fe3_11ea_9da2_d0c5d384fb94row3_col0\" class=\"data row3 col0\" >-0.03</td>\n",
       "                        <td id=\"T_a2dbbc88_7fe3_11ea_9da2_d0c5d384fb94row3_col1\" class=\"data row3 col1\" >-0.07</td>\n",
       "                        <td id=\"T_a2dbbc88_7fe3_11ea_9da2_d0c5d384fb94row3_col2\" class=\"data row3 col2\" >-0.10</td>\n",
       "                        <td id=\"T_a2dbbc88_7fe3_11ea_9da2_d0c5d384fb94row3_col3\" class=\"data row3 col3\" >1.00</td>\n",
       "                        <td id=\"T_a2dbbc88_7fe3_11ea_9da2_d0c5d384fb94row3_col4\" class=\"data row3 col4\" >0.29</td>\n",
       "                        <td id=\"T_a2dbbc88_7fe3_11ea_9da2_d0c5d384fb94row3_col5\" class=\"data row3 col5\" >0.14</td>\n",
       "                        <td id=\"T_a2dbbc88_7fe3_11ea_9da2_d0c5d384fb94row3_col6\" class=\"data row3 col6\" >-0.03</td>\n",
       "                        <td id=\"T_a2dbbc88_7fe3_11ea_9da2_d0c5d384fb94row3_col7\" class=\"data row3 col7\" >-0.05</td>\n",
       "            </tr>\n",
       "            <tr>\n",
       "                        <th id=\"T_a2dbbc88_7fe3_11ea_9da2_d0c5d384fb94level0_row4\" class=\"row_heading level0 row4\" >Net migration</th>\n",
       "                        <td id=\"T_a2dbbc88_7fe3_11ea_9da2_d0c5d384fb94row4_col0\" class=\"data row4 col0\" >0.01</td>\n",
       "                        <td id=\"T_a2dbbc88_7fe3_11ea_9da2_d0c5d384fb94row4_col1\" class=\"data row4 col1\" >-0.06</td>\n",
       "                        <td id=\"T_a2dbbc88_7fe3_11ea_9da2_d0c5d384fb94row4_col2\" class=\"data row4 col2\" >0.08</td>\n",
       "                        <td id=\"T_a2dbbc88_7fe3_11ea_9da2_d0c5d384fb94row4_col3\" class=\"data row4 col3\" >0.29</td>\n",
       "                        <td id=\"T_a2dbbc88_7fe3_11ea_9da2_d0c5d384fb94row4_col4\" class=\"data row4 col4\" >1.00</td>\n",
       "                        <td id=\"T_a2dbbc88_7fe3_11ea_9da2_d0c5d384fb94row4_col5\" class=\"data row4 col5\" >0.13</td>\n",
       "                        <td id=\"T_a2dbbc88_7fe3_11ea_9da2_d0c5d384fb94row4_col6\" class=\"data row4 col6\" >0.01</td>\n",
       "                        <td id=\"T_a2dbbc88_7fe3_11ea_9da2_d0c5d384fb94row4_col7\" class=\"data row4 col7\" >-0.01</td>\n",
       "            </tr>\n",
       "            <tr>\n",
       "                        <th id=\"T_a2dbbc88_7fe3_11ea_9da2_d0c5d384fb94level0_row5\" class=\"row_heading level0 row5\" >days_since_first</th>\n",
       "                        <td id=\"T_a2dbbc88_7fe3_11ea_9da2_d0c5d384fb94row5_col0\" class=\"data row5 col0\" >0.28</td>\n",
       "                        <td id=\"T_a2dbbc88_7fe3_11ea_9da2_d0c5d384fb94row5_col1\" class=\"data row5 col1\" >0.15</td>\n",
       "                        <td id=\"T_a2dbbc88_7fe3_11ea_9da2_d0c5d384fb94row5_col2\" class=\"data row5 col2\" >0.16</td>\n",
       "                        <td id=\"T_a2dbbc88_7fe3_11ea_9da2_d0c5d384fb94row5_col3\" class=\"data row5 col3\" >0.14</td>\n",
       "                        <td id=\"T_a2dbbc88_7fe3_11ea_9da2_d0c5d384fb94row5_col4\" class=\"data row5 col4\" >0.13</td>\n",
       "                        <td id=\"T_a2dbbc88_7fe3_11ea_9da2_d0c5d384fb94row5_col5\" class=\"data row5 col5\" >1.00</td>\n",
       "                        <td id=\"T_a2dbbc88_7fe3_11ea_9da2_d0c5d384fb94row5_col6\" class=\"data row5 col6\" >0.27</td>\n",
       "                        <td id=\"T_a2dbbc88_7fe3_11ea_9da2_d0c5d384fb94row5_col7\" class=\"data row5 col7\" >-0.08</td>\n",
       "            </tr>\n",
       "            <tr>\n",
       "                        <th id=\"T_a2dbbc88_7fe3_11ea_9da2_d0c5d384fb94level0_row6\" class=\"row_heading level0 row6\" >previous_Confirmed</th>\n",
       "                        <td id=\"T_a2dbbc88_7fe3_11ea_9da2_d0c5d384fb94row6_col0\" class=\"data row6 col0\" >1.00</td>\n",
       "                        <td id=\"T_a2dbbc88_7fe3_11ea_9da2_d0c5d384fb94row6_col1\" class=\"data row6 col1\" >0.03</td>\n",
       "                        <td id=\"T_a2dbbc88_7fe3_11ea_9da2_d0c5d384fb94row6_col2\" class=\"data row6 col2\" >0.01</td>\n",
       "                        <td id=\"T_a2dbbc88_7fe3_11ea_9da2_d0c5d384fb94row6_col3\" class=\"data row6 col3\" >-0.03</td>\n",
       "                        <td id=\"T_a2dbbc88_7fe3_11ea_9da2_d0c5d384fb94row6_col4\" class=\"data row6 col4\" >0.01</td>\n",
       "                        <td id=\"T_a2dbbc88_7fe3_11ea_9da2_d0c5d384fb94row6_col5\" class=\"data row6 col5\" >0.27</td>\n",
       "                        <td id=\"T_a2dbbc88_7fe3_11ea_9da2_d0c5d384fb94row6_col6\" class=\"data row6 col6\" >1.00</td>\n",
       "                        <td id=\"T_a2dbbc88_7fe3_11ea_9da2_d0c5d384fb94row6_col7\" class=\"data row6 col7\" >-0.02</td>\n",
       "            </tr>\n",
       "            <tr>\n",
       "                        <th id=\"T_a2dbbc88_7fe3_11ea_9da2_d0c5d384fb94level0_row7\" class=\"row_heading level0 row7\" >increase_rate</th>\n",
       "                        <td id=\"T_a2dbbc88_7fe3_11ea_9da2_d0c5d384fb94row7_col0\" class=\"data row7 col0\" >-0.02</td>\n",
       "                        <td id=\"T_a2dbbc88_7fe3_11ea_9da2_d0c5d384fb94row7_col1\" class=\"data row7 col1\" >-0.02</td>\n",
       "                        <td id=\"T_a2dbbc88_7fe3_11ea_9da2_d0c5d384fb94row7_col2\" class=\"data row7 col2\" >-0.03</td>\n",
       "                        <td id=\"T_a2dbbc88_7fe3_11ea_9da2_d0c5d384fb94row7_col3\" class=\"data row7 col3\" >-0.05</td>\n",
       "                        <td id=\"T_a2dbbc88_7fe3_11ea_9da2_d0c5d384fb94row7_col4\" class=\"data row7 col4\" >-0.01</td>\n",
       "                        <td id=\"T_a2dbbc88_7fe3_11ea_9da2_d0c5d384fb94row7_col5\" class=\"data row7 col5\" >-0.08</td>\n",
       "                        <td id=\"T_a2dbbc88_7fe3_11ea_9da2_d0c5d384fb94row7_col6\" class=\"data row7 col6\" >-0.02</td>\n",
       "                        <td id=\"T_a2dbbc88_7fe3_11ea_9da2_d0c5d384fb94row7_col7\" class=\"data row7 col7\" >1.00</td>\n",
       "            </tr>\n",
       "    </tbody></table>"
      ],
      "text/plain": [
       "<pandas.io.formats.style.Styler at 0x21662784b88>"
      ]
     },
     "execution_count": 31,
     "metadata": {},
     "output_type": "execute_result"
    }
   ],
   "source": [
    "corr = X.corr()\n",
    "corr.style.background_gradient(cmap='coolwarm').set_precision(2)"
   ]
  },
  {
   "cell_type": "code",
   "execution_count": 32,
   "metadata": {},
   "outputs": [],
   "source": [
    "# Pick only features that are correlated more than 0.2\n",
    "y = X['Confirmed']     \n"
   ]
  },
  {
   "cell_type": "code",
   "execution_count": 33,
   "metadata": {},
   "outputs": [
    {
     "name": "stdout",
     "output_type": "stream",
     "text": [
      "(3811, 8)\n"
     ]
    },
    {
     "data": {
      "text/html": [
       "<div>\n",
       "<style scoped>\n",
       "    .dataframe tbody tr th:only-of-type {\n",
       "        vertical-align: middle;\n",
       "    }\n",
       "\n",
       "    .dataframe tbody tr th {\n",
       "        vertical-align: top;\n",
       "    }\n",
       "\n",
       "    .dataframe thead th {\n",
       "        text-align: right;\n",
       "    }\n",
       "</style>\n",
       "<table border=\"1\" class=\"dataframe\">\n",
       "  <thead>\n",
       "    <tr style=\"text-align: right;\">\n",
       "      <th></th>\n",
       "      <th>Confirmed</th>\n",
       "      <th>Population</th>\n",
       "      <th>Area (sq. mi.)</th>\n",
       "      <th>Pop. Density (per sq. mi.)</th>\n",
       "      <th>Net migration</th>\n",
       "      <th>days_since_first</th>\n",
       "      <th>previous_Confirmed</th>\n",
       "      <th>increase_rate</th>\n",
       "    </tr>\n",
       "    <tr>\n",
       "      <th>Country</th>\n",
       "      <th></th>\n",
       "      <th></th>\n",
       "      <th></th>\n",
       "      <th></th>\n",
       "      <th></th>\n",
       "      <th></th>\n",
       "      <th></th>\n",
       "      <th></th>\n",
       "    </tr>\n",
       "  </thead>\n",
       "  <tbody>\n",
       "    <tr>\n",
       "      <th>Afghanistan</th>\n",
       "      <td>1.0</td>\n",
       "      <td>31056997.0</td>\n",
       "      <td>647500.0</td>\n",
       "      <td>480.0</td>\n",
       "      <td>2306.0</td>\n",
       "      <td>0</td>\n",
       "      <td>0.0</td>\n",
       "      <td>0.0</td>\n",
       "    </tr>\n",
       "    <tr>\n",
       "      <th>Afghanistan</th>\n",
       "      <td>1.0</td>\n",
       "      <td>31056997.0</td>\n",
       "      <td>647500.0</td>\n",
       "      <td>480.0</td>\n",
       "      <td>2306.0</td>\n",
       "      <td>1</td>\n",
       "      <td>1.0</td>\n",
       "      <td>0.0</td>\n",
       "    </tr>\n",
       "    <tr>\n",
       "      <th>Afghanistan</th>\n",
       "      <td>1.0</td>\n",
       "      <td>31056997.0</td>\n",
       "      <td>647500.0</td>\n",
       "      <td>480.0</td>\n",
       "      <td>2306.0</td>\n",
       "      <td>2</td>\n",
       "      <td>1.0</td>\n",
       "      <td>0.0</td>\n",
       "    </tr>\n",
       "    <tr>\n",
       "      <th>Afghanistan</th>\n",
       "      <td>1.0</td>\n",
       "      <td>31056997.0</td>\n",
       "      <td>647500.0</td>\n",
       "      <td>480.0</td>\n",
       "      <td>2306.0</td>\n",
       "      <td>3</td>\n",
       "      <td>1.0</td>\n",
       "      <td>0.0</td>\n",
       "    </tr>\n",
       "    <tr>\n",
       "      <th>Afghanistan</th>\n",
       "      <td>1.0</td>\n",
       "      <td>31056997.0</td>\n",
       "      <td>647500.0</td>\n",
       "      <td>480.0</td>\n",
       "      <td>2306.0</td>\n",
       "      <td>4</td>\n",
       "      <td>1.0</td>\n",
       "      <td>0.0</td>\n",
       "    </tr>\n",
       "  </tbody>\n",
       "</table>\n",
       "</div>"
      ],
      "text/plain": [
       "             Confirmed  Population  Area (sq. mi.)  \\\n",
       "Country                                              \n",
       "Afghanistan        1.0  31056997.0        647500.0   \n",
       "Afghanistan        1.0  31056997.0        647500.0   \n",
       "Afghanistan        1.0  31056997.0        647500.0   \n",
       "Afghanistan        1.0  31056997.0        647500.0   \n",
       "Afghanistan        1.0  31056997.0        647500.0   \n",
       "\n",
       "             Pop. Density (per sq. mi.)  Net migration  days_since_first  \\\n",
       "Country                                                                    \n",
       "Afghanistan                       480.0         2306.0                 0   \n",
       "Afghanistan                       480.0         2306.0                 1   \n",
       "Afghanistan                       480.0         2306.0                 2   \n",
       "Afghanistan                       480.0         2306.0                 3   \n",
       "Afghanistan                       480.0         2306.0                 4   \n",
       "\n",
       "             previous_Confirmed  increase_rate  \n",
       "Country                                         \n",
       "Afghanistan                 0.0            0.0  \n",
       "Afghanistan                 1.0            0.0  \n",
       "Afghanistan                 1.0            0.0  \n",
       "Afghanistan                 1.0            0.0  \n",
       "Afghanistan                 1.0            0.0  "
      ]
     },
     "execution_count": 33,
     "metadata": {},
     "output_type": "execute_result"
    }
   ],
   "source": [
    "print(X.shape)\n",
    "X.head()"
   ]
  },
  {
   "cell_type": "code",
   "execution_count": 34,
   "metadata": {},
   "outputs": [],
   "source": [
    "# To get rid of +e format\n",
    "pd.options.display.float_format = '{:20,.0f}'.format"
   ]
  },
  {
   "cell_type": "markdown",
   "metadata": {},
   "source": [
    "#### Train Test Split"
   ]
  },
  {
   "cell_type": "code",
   "execution_count": 35,
   "metadata": {},
   "outputs": [],
   "source": [
    "X.drop(['Confirmed'], axis=1, inplace=True)\n",
    "X.reset_index(drop=True)\n",
    "\n",
    "# Break off validation set from training data\n",
    "\n",
    "X_train, X_test, y_train, y_test = train_test_split(X, y, train_size=0.85, test_size=0.15, random_state=1)\n",
    "\n",
    "X_train, X_val, y_train, y_val = train_test_split(X_train, y_train, train_size=0.85, test_size=0.15, random_state=1)"
   ]
  },
  {
   "cell_type": "code",
   "execution_count": 36,
   "metadata": {},
   "outputs": [
    {
     "name": "stdout",
     "output_type": "stream",
     "text": [
      "X_train shape is (2753, 7)\n",
      "X_test shape is (572, 7)\n",
      "y_train is (2753,)\n",
      "y_test shape is (572,)\n"
     ]
    }
   ],
   "source": [
    "print(f\"X_train shape is {X_train.shape}\")\n",
    "print(f\"X_test shape is {X_test.shape}\")\n",
    "# print(f\"X_validate shape is {X_validate.shape}\")\n",
    "print(f\"y_train is {y_train.shape}\")\n",
    "# print(f\"y_validate shape is {y_validate.shape}\")\n",
    "print(f\"y_test shape is {y_test.shape}\")"
   ]
  },
  {
   "cell_type": "markdown",
   "metadata": {},
   "source": [
    "### XGBoost implementation"
   ]
  },
  {
   "cell_type": "markdown",
   "metadata": {},
   "source": [
    "#### Defining the model and checking the best score"
   ]
  },
  {
   "cell_type": "code",
   "execution_count": 37,
   "metadata": {},
   "outputs": [],
   "source": [
    "import xgboost as xgb\n",
    "from xgboost.sklearn import XGBRegressor"
   ]
  },
  {
   "cell_type": "code",
   "execution_count": 38,
   "metadata": {},
   "outputs": [],
   "source": [
    "xgb_reg = xgb.XGBRegressor(n_estimators=100,  learning_rate=0.08, gamma=0, subsample=0.8,\n",
    "                           colsample_bytree=1, max_depth=10)"
   ]
  },
  {
   "cell_type": "code",
   "execution_count": 39,
   "metadata": {},
   "outputs": [
    {
     "name": "stdout",
     "output_type": "stream",
     "text": [
      "[0]\tvalidation_0-rmse:3220.98267\n",
      "Will train until validation_0-rmse hasn't improved in 50 rounds.\n",
      "[1]\tvalidation_0-rmse:2943.66821\n",
      "[2]\tvalidation_0-rmse:2752.31592\n",
      "[3]\tvalidation_0-rmse:2552.26172\n",
      "[4]\tvalidation_0-rmse:2418.23950\n",
      "[5]\tvalidation_0-rmse:2239.67236\n",
      "[6]\tvalidation_0-rmse:2102.28662\n",
      "[7]\tvalidation_0-rmse:1942.88709\n",
      "[8]\tvalidation_0-rmse:1785.35742\n",
      "[9]\tvalidation_0-rmse:1674.54773\n",
      "[10]\tvalidation_0-rmse:1563.02991\n",
      "[11]\tvalidation_0-rmse:1464.35071\n",
      "[12]\tvalidation_0-rmse:1375.71423\n",
      "[13]\tvalidation_0-rmse:1290.54504\n",
      "[14]\tvalidation_0-rmse:1225.43433\n",
      "[15]\tvalidation_0-rmse:1133.92578\n",
      "[16]\tvalidation_0-rmse:1067.88513\n",
      "[17]\tvalidation_0-rmse:1001.40558\n",
      "[18]\tvalidation_0-rmse:906.60761\n",
      "[19]\tvalidation_0-rmse:855.83704\n",
      "[20]\tvalidation_0-rmse:764.37195\n",
      "[21]\tvalidation_0-rmse:714.40308\n",
      "[22]\tvalidation_0-rmse:681.36774\n",
      "[23]\tvalidation_0-rmse:628.47217\n",
      "[24]\tvalidation_0-rmse:598.36389\n",
      "[25]\tvalidation_0-rmse:553.60223\n",
      "[26]\tvalidation_0-rmse:514.40747\n",
      "[27]\tvalidation_0-rmse:486.18131\n",
      "[28]\tvalidation_0-rmse:462.62054\n",
      "[29]\tvalidation_0-rmse:444.84610\n",
      "[30]\tvalidation_0-rmse:429.02112\n",
      "[31]\tvalidation_0-rmse:414.38794\n",
      "[32]\tvalidation_0-rmse:400.49136\n",
      "[33]\tvalidation_0-rmse:387.72375\n",
      "[34]\tvalidation_0-rmse:374.99274\n",
      "[35]\tvalidation_0-rmse:363.98846\n",
      "[36]\tvalidation_0-rmse:355.81723\n",
      "[37]\tvalidation_0-rmse:346.89743\n",
      "[38]\tvalidation_0-rmse:339.33447\n",
      "[39]\tvalidation_0-rmse:332.14368\n",
      "[40]\tvalidation_0-rmse:327.95844\n",
      "[41]\tvalidation_0-rmse:321.58499\n",
      "[42]\tvalidation_0-rmse:320.46222\n",
      "[43]\tvalidation_0-rmse:317.09747\n",
      "[44]\tvalidation_0-rmse:312.66312\n",
      "[45]\tvalidation_0-rmse:309.42554\n",
      "[46]\tvalidation_0-rmse:309.19040\n",
      "[47]\tvalidation_0-rmse:305.81293\n",
      "[48]\tvalidation_0-rmse:300.79221\n",
      "[49]\tvalidation_0-rmse:300.67578\n",
      "[50]\tvalidation_0-rmse:299.88257\n",
      "[51]\tvalidation_0-rmse:296.11694\n",
      "[52]\tvalidation_0-rmse:294.95038\n",
      "[53]\tvalidation_0-rmse:291.56824\n",
      "[54]\tvalidation_0-rmse:290.49811\n",
      "[55]\tvalidation_0-rmse:287.00278\n",
      "[56]\tvalidation_0-rmse:283.70966\n",
      "[57]\tvalidation_0-rmse:278.05267\n",
      "[58]\tvalidation_0-rmse:276.41562\n",
      "[59]\tvalidation_0-rmse:271.17288\n",
      "[60]\tvalidation_0-rmse:268.30597\n",
      "[61]\tvalidation_0-rmse:267.29721\n",
      "[62]\tvalidation_0-rmse:267.21289\n",
      "[63]\tvalidation_0-rmse:263.96936\n",
      "[64]\tvalidation_0-rmse:262.01977\n",
      "[65]\tvalidation_0-rmse:259.12881\n",
      "[66]\tvalidation_0-rmse:258.14691\n",
      "[67]\tvalidation_0-rmse:258.32678\n",
      "[68]\tvalidation_0-rmse:254.94125\n",
      "[69]\tvalidation_0-rmse:255.03268\n",
      "[70]\tvalidation_0-rmse:252.03488\n",
      "[71]\tvalidation_0-rmse:249.07202\n",
      "[72]\tvalidation_0-rmse:247.15358\n",
      "[73]\tvalidation_0-rmse:244.68683\n",
      "[74]\tvalidation_0-rmse:242.85542\n",
      "[75]\tvalidation_0-rmse:242.10895\n",
      "[76]\tvalidation_0-rmse:241.90730\n",
      "[77]\tvalidation_0-rmse:241.29388\n",
      "[78]\tvalidation_0-rmse:240.28604\n",
      "[79]\tvalidation_0-rmse:238.32008\n",
      "[80]\tvalidation_0-rmse:237.44694\n",
      "[81]\tvalidation_0-rmse:236.20618\n",
      "[82]\tvalidation_0-rmse:235.86423\n",
      "[83]\tvalidation_0-rmse:235.08511\n",
      "[84]\tvalidation_0-rmse:235.11597\n",
      "[85]\tvalidation_0-rmse:235.11235\n",
      "[86]\tvalidation_0-rmse:234.28017\n",
      "[87]\tvalidation_0-rmse:233.09892\n",
      "[88]\tvalidation_0-rmse:232.58038\n",
      "[89]\tvalidation_0-rmse:232.23193\n",
      "[90]\tvalidation_0-rmse:231.12904\n",
      "[91]\tvalidation_0-rmse:230.93321\n",
      "[92]\tvalidation_0-rmse:229.86771\n",
      "[93]\tvalidation_0-rmse:228.90820\n",
      "[94]\tvalidation_0-rmse:228.71539\n",
      "[95]\tvalidation_0-rmse:227.95360\n",
      "[96]\tvalidation_0-rmse:227.07404\n",
      "[97]\tvalidation_0-rmse:226.31813\n",
      "[98]\tvalidation_0-rmse:225.57396\n",
      "[99]\tvalidation_0-rmse:225.06155\n"
     ]
    },
    {
     "data": {
      "text/plain": [
       "XGBRegressor(base_score=0.5, booster=None, colsample_bylevel=1,\n",
       "             colsample_bynode=1, colsample_bytree=1, gamma=0, gpu_id=-1,\n",
       "             importance_type='gain', interaction_constraints=None,\n",
       "             learning_rate=0.08, max_delta_step=0, max_depth=10,\n",
       "             min_child_weight=1, missing=nan, monotone_constraints=None,\n",
       "             n_estimators=100, n_jobs=0, num_parallel_tree=1,\n",
       "             objective='reg:squarederror', random_state=0, reg_alpha=0,\n",
       "             reg_lambda=1, scale_pos_weight=1, subsample=0.8, tree_method=None,\n",
       "             validate_parameters=False, verbosity=None)"
      ]
     },
     "execution_count": 39,
     "metadata": {},
     "output_type": "execute_result"
    }
   ],
   "source": [
    "eval_set = [(X_val.to_numpy(), y_val.to_numpy())]\n",
    "\n",
    "xgb_reg.fit(X_train.to_numpy(),y_train.to_numpy(), early_stopping_rounds=50, eval_metric=\"rmse\", eval_set=eval_set, verbose=True)"
   ]
  },
  {
   "cell_type": "markdown",
   "metadata": {},
   "source": [
    "#### Feature importance"
   ]
  },
  {
   "cell_type": "code",
   "execution_count": 40,
   "metadata": {},
   "outputs": [
    {
     "data": {
      "image/png": "[encoded data removed]",
      "text/plain": [
       "<Figure size 432x288 with 1 Axes>"
      ]
     },
     "metadata": {
      "needs_background": "light"
     },
     "output_type": "display_data"
    }
   ],
   "source": [
    "from xgboost import plot_importance, plot_tree\n",
    "_ = plot_importance(xgb_reg, height=0.9)"
   ]
  },
  {
   "cell_type": "markdown",
   "metadata": {},
   "source": [
    "#### Testing the model"
   ]
  },
  {
   "cell_type": "code",
   "execution_count": 42,
   "metadata": {},
   "outputs": [],
   "source": [
    "from sklearn.metrics import explained_variance_score\n",
    "predictions = xgb_reg.predict(X_test.to_numpy())"
   ]
  },
  {
   "cell_type": "code",
   "execution_count": 43,
   "metadata": {},
   "outputs": [
    {
     "data": {
      "text/html": [
       "<div>\n",
       "<style scoped>\n",
       "    .dataframe tbody tr th:only-of-type {\n",
       "        vertical-align: middle;\n",
       "    }\n",
       "\n",
       "    .dataframe tbody tr th {\n",
       "        vertical-align: top;\n",
       "    }\n",
       "\n",
       "    .dataframe thead th {\n",
       "        text-align: right;\n",
       "    }\n",
       "</style>\n",
       "<table border=\"1\" class=\"dataframe\">\n",
       "  <thead>\n",
       "    <tr style=\"text-align: right;\">\n",
       "      <th></th>\n",
       "      <th>Actual</th>\n",
       "      <th>Pred</th>\n",
       "    </tr>\n",
       "  </thead>\n",
       "  <tbody>\n",
       "    <tr>\n",
       "      <th>0</th>\n",
       "      <td>133</td>\n",
       "      <td>129</td>\n",
       "    </tr>\n",
       "    <tr>\n",
       "      <th>1</th>\n",
       "      <td>1</td>\n",
       "      <td>1</td>\n",
       "    </tr>\n",
       "    <tr>\n",
       "      <th>2</th>\n",
       "      <td>109</td>\n",
       "      <td>100</td>\n",
       "    </tr>\n",
       "    <tr>\n",
       "      <th>3</th>\n",
       "      <td>1</td>\n",
       "      <td>1</td>\n",
       "    </tr>\n",
       "    <tr>\n",
       "      <th>4</th>\n",
       "      <td>10</td>\n",
       "      <td>10</td>\n",
       "    </tr>\n",
       "    <tr>\n",
       "      <th>...</th>\n",
       "      <td>...</td>\n",
       "      <td>...</td>\n",
       "    </tr>\n",
       "    <tr>\n",
       "      <th>567</th>\n",
       "      <td>1</td>\n",
       "      <td>1</td>\n",
       "    </tr>\n",
       "    <tr>\n",
       "      <th>568</th>\n",
       "      <td>134</td>\n",
       "      <td>134</td>\n",
       "    </tr>\n",
       "    <tr>\n",
       "      <th>569</th>\n",
       "      <td>4</td>\n",
       "      <td>4</td>\n",
       "    </tr>\n",
       "    <tr>\n",
       "      <th>570</th>\n",
       "      <td>1</td>\n",
       "      <td>1</td>\n",
       "    </tr>\n",
       "    <tr>\n",
       "      <th>571</th>\n",
       "      <td>15</td>\n",
       "      <td>15</td>\n",
       "    </tr>\n",
       "  </tbody>\n",
       "</table>\n",
       "<p>572 rows × 2 columns</p>\n",
       "</div>"
      ],
      "text/plain": [
       "                  Actual                 Pred\n",
       "0                    133                  129\n",
       "1                      1                    1\n",
       "2                    109                  100\n",
       "3                      1                    1\n",
       "4                     10                   10\n",
       "..                   ...                  ...\n",
       "567                    1                    1\n",
       "568                  134                  134\n",
       "569                    4                    4\n",
       "570                    1                    1\n",
       "571                   15                   15\n",
       "\n",
       "[572 rows x 2 columns]"
      ]
     },
     "execution_count": 43,
     "metadata": {},
     "output_type": "execute_result"
    }
   ],
   "source": [
    "pred_df = pd.DataFrame({'Actual':y_test.values, 'Pred':predictions}) \n",
    "pred_df"
   ]
  },
  {
   "cell_type": "markdown",
   "metadata": {},
   "source": [
    "#### Evaluation results"
   ]
  },
  {
   "cell_type": "code",
   "execution_count": 45,
   "metadata": {},
   "outputs": [
    {
     "name": "stdout",
     "output_type": "stream",
     "text": [
      "MAE train:  2.3677058369516675\n",
      "MSE train:  1361.1393502775222\n",
      "RMSE train:  36.893622081296414\n",
      "r2:  0.9999124978941143\n",
      "MAE test:  11.275512963116586\n",
      "MSE test:  6874.03235006801\n",
      "RMSE test:  82.90978440490609\n",
      "r2:  0.9979219081186896\n"
     ]
    }
   ],
   "source": [
    "print(\"MAE train: \", metrics.mean_absolute_error(y_train.to_numpy(), xgb_reg.predict(X_train.to_numpy()))) \n",
    "print(\"MSE train: \",metrics.mean_squared_error(y_train.to_numpy(), xgb_reg.predict(X_train.to_numpy())))\n",
    "print(\"RMSE train: \",np.sqrt(metrics.mean_squared_error(y_train.to_numpy(), xgb_reg.predict(X_train.to_numpy()))))\n",
    "print(\"r2: \",np.sqrt(metrics.r2_score(y_train.to_numpy(), xgb_reg.predict(X_train.to_numpy()))))\n",
    "\n",
    "print(\"MAE test: \", metrics.mean_absolute_error(y_test.to_numpy(), xgb_reg.predict(X_test.to_numpy()))) \n",
    "print(\"MSE test: \",metrics.mean_squared_error(y_test.to_numpy(), xgb_reg.predict(X_test.to_numpy())))\n",
    "print(\"RMSE test: \",np.sqrt(metrics.mean_squared_error(y_test.to_numpy(), xgb_reg.predict(X_test.to_numpy()))))\n",
    "print(\"r2: \",np.sqrt(metrics.r2_score(y_test.to_numpy(), xgb_reg.predict(X_test.to_numpy()))))"
   ]
  },
  {
   "cell_type": "markdown",
   "metadata": {},
   "source": [
    "## XGBoost Regression -  For different countries"
   ]
  },
  {
   "cell_type": "code",
   "execution_count": 49,
   "metadata": {},
   "outputs": [],
   "source": [
    "import plotly.io as pio"
   ]
  },
  {
   "cell_type": "code",
   "execution_count": 50,
   "metadata": {},
   "outputs": [],
   "source": [
    "plt.style.use('dark_background')"
   ]
  },
  {
   "cell_type": "markdown",
   "metadata": {},
   "source": [
    "### Using Kaggle dataset to cross check the results of future prediction "
   ]
  },
  {
   "cell_type": "code",
   "execution_count": 46,
   "metadata": {},
   "outputs": [],
   "source": [
    "covid_df_kaggle= pd.read_csv(\"covid_19_data_Kaggle.csv\")"
   ]
  },
  {
   "cell_type": "code",
   "execution_count": 47,
   "metadata": {},
   "outputs": [],
   "source": [
    "covid_df_kaggle[\"ObservationDate\"]=pd.to_datetime(covid_df_kaggle[\"ObservationDate\"])"
   ]
  },
  {
   "cell_type": "code",
   "execution_count": 48,
   "metadata": {},
   "outputs": [
    {
     "data": {
      "text/plain": [
       "(13850, 8)"
      ]
     },
     "execution_count": 48,
     "metadata": {},
     "output_type": "execute_result"
    }
   ],
   "source": [
    "covid_df_kaggle.shape"
   ]
  },
  {
   "cell_type": "markdown",
   "metadata": {},
   "source": [
    "### XGBoost Regression - France"
   ]
  },
  {
   "cell_type": "code",
   "execution_count": 59,
   "metadata": {},
   "outputs": [],
   "source": [
    "covid_df_kaggle_France = covid_df_kaggle[covid_df_kaggle[\"Country/Region\"] == \"France\"].groupby(\"ObservationDate\").agg(\n",
    "                {\n",
    "                     'Confirmed':sum,    # Sum duration per group\n",
    "                     'Deaths':sum,    # Sum duration per group\n",
    "                     'Recovered':sum    # Sum duration per group\n",
    "                }).sort_values([\"ObservationDate\"]).reset_index()"
   ]
  },
  {
   "cell_type": "code",
   "execution_count": 60,
   "metadata": {},
   "outputs": [],
   "source": [
    "covid_df_kaggle_France_plt = covid_df_kaggle_France[covid_df_kaggle_France['ObservationDate'] <= '2020-03-26'].reset_index(drop=True)"
   ]
  },
  {
   "cell_type": "code",
   "execution_count": 61,
   "metadata": {},
   "outputs": [
    {
     "data": {
      "text/html": [
       "<div>\n",
       "<style scoped>\n",
       "    .dataframe tbody tr th:only-of-type {\n",
       "        vertical-align: middle;\n",
       "    }\n",
       "\n",
       "    .dataframe tbody tr th {\n",
       "        vertical-align: top;\n",
       "    }\n",
       "\n",
       "    .dataframe thead th {\n",
       "        text-align: right;\n",
       "    }\n",
       "</style>\n",
       "<table border=\"1\" class=\"dataframe\">\n",
       "  <thead>\n",
       "    <tr style=\"text-align: right;\">\n",
       "      <th></th>\n",
       "      <th>predicted_infections</th>\n",
       "      <th>Actual infections</th>\n",
       "      <th>Date</th>\n",
       "    </tr>\n",
       "  </thead>\n",
       "  <tbody>\n",
       "    <tr>\n",
       "      <th>0</th>\n",
       "      <td>18,890</td>\n",
       "      <td>16,214</td>\n",
       "      <td>2020-03-22</td>\n",
       "    </tr>\n",
       "    <tr>\n",
       "      <th>1</th>\n",
       "      <td>23,527</td>\n",
       "      <td>20,123</td>\n",
       "      <td>2020-03-23</td>\n",
       "    </tr>\n",
       "    <tr>\n",
       "      <th>2</th>\n",
       "      <td>28,713</td>\n",
       "      <td>22,622</td>\n",
       "      <td>2020-03-24</td>\n",
       "    </tr>\n",
       "    <tr>\n",
       "      <th>3</th>\n",
       "      <td>35,670</td>\n",
       "      <td>25,600</td>\n",
       "      <td>2020-03-25</td>\n",
       "    </tr>\n",
       "    <tr>\n",
       "      <th>4</th>\n",
       "      <td>44,342</td>\n",
       "      <td>29,551</td>\n",
       "      <td>2020-03-26</td>\n",
       "    </tr>\n",
       "  </tbody>\n",
       "</table>\n",
       "</div>"
      ],
      "text/plain": [
       "   predicted_infections    Actual infections       Date\n",
       "0                18,890               16,214 2020-03-22\n",
       "1                23,527               20,123 2020-03-23\n",
       "2                28,713               22,622 2020-03-24\n",
       "3                35,670               25,600 2020-03-25\n",
       "4                44,342               29,551 2020-03-26"
      ]
     },
     "execution_count": 61,
     "metadata": {},
     "output_type": "execute_result"
    }
   ],
   "source": [
    "filter_condn = (covid_df_kaggle_France['ObservationDate'] > '2020-03-21') & (covid_df_kaggle_France['ObservationDate'] <= '2020-03-26')\n",
    "covid_df_kaggle_France = covid_df_kaggle_France[filter_condn].reset_index(drop=True)\n",
    "covid_df_kaggle_France\n",
    "\n",
    "X_France_df = X[X.index == \"France\"].copy()\n",
    "X_France_test = X_France_df.head().copy()\n",
    "X_France_test=X_France_test.reset_index(drop=True)\n",
    "X_France_test['days_since_first'] = X_France_test['previous_Confirmed'] = X_France_test['increase_rate'] = 0\n",
    "X_France_test.loc[0,'days_since_first'] =  X_France_df[\"days_since_first\"].iloc[-1]+1\n",
    "X_France_test.loc[0,'increase_rate']=X_France_df[\"increase_rate\"].iloc[-1]+1\n",
    "X_France_test.loc[0,'previous_Confirmed'] = y[y.index == \"France\"].max()\n",
    "\n",
    "X_France_test['increase_rate']=X_France_df[\"increase_rate\"].max()\n",
    "\n",
    "\n",
    "for i in range(0,5):\n",
    "    X_France_test.loc[i,'days_since_first'] = X_France_test.loc[0,'days_since_first'] + i\n",
    "\n",
    "X_France_test\n",
    "\n",
    "predictions=[]\n",
    "\n",
    "for i in range(0,5):\n",
    "    pred=int(xgb_reg.predict(X_France_test.iloc[i]))\n",
    "    X_France_test.loc[i+1,'previous_Confirmed']=pred    \n",
    "    predictions.append(pred)\n",
    "\n",
    "pred = pd.DataFrame(predictions)\n",
    "\n",
    "#### Prediction results\n",
    "X_France_test['predicted_infections']= pred.iloc[:, 0] \n",
    "\n",
    "X_France_test[\"ObservationDate\"] = covid_df_kaggle_France[\"ObservationDate\"]\n",
    "covid_df_kaggle_France_plt[\"predicted_infections\"] = covid_df_kaggle_France_plt[\"Confirmed\"] \n",
    "\n",
    "covid_df_kaggle_France_plt.iloc[-5,4] = X_France_test.loc[0,'predicted_infections']\n",
    "covid_df_kaggle_France_plt.iloc[-4,4] = X_France_test.loc[1,'predicted_infections']\n",
    "covid_df_kaggle_France_plt.iloc[-3,4] = X_France_test.loc[2,'predicted_infections']\n",
    "covid_df_kaggle_France_plt.iloc[-2,4] = X_France_test.loc[3,'predicted_infections']\n",
    "covid_df_kaggle_France_plt.iloc[-1,4] = X_France_test.loc[4,'predicted_infections']\n",
    "    \n",
    "\n",
    "X_France_test=X_France_test[{'predicted_infections'}]\n",
    "# Creating new column to have actual predictions and date from Kaggle dataset\n",
    "X_France_test[\"Actual infections\"] = covid_df_kaggle_France[\"Confirmed\"]\n",
    "X_France_test[\"Date\"] = covid_df_kaggle_France[\"ObservationDate\"]\n",
    "X_France_test = X_France_test.iloc[0:5]\n",
    "X_France_test  "
   ]
  },
  {
   "cell_type": "code",
   "execution_count": 63,
   "metadata": {},
   "outputs": [
    {
     "data": {
      "text/plain": [
       "(array([737446., 737456., 737463., 737470., 737477., 737485., 737492.,\n",
       "        737499., 737506.]),\n",
       " <a list of 9 Text major ticklabel objects>)"
      ]
     },
     "execution_count": 63,
     "metadata": {},
     "output_type": "execute_result"
    },
    {
     "data": {
      "image/png": "[encoded data removed]",
      "text/plain": [
       "<Figure size 720x360 with 1 Axes>"
      ]
     },
     "metadata": {},
     "output_type": "display_data"
    }
   ],
   "source": [
    "import matplotlib.pyplot as plt\n",
    "\n",
    "plt.figure(figsize=(10,5))\n",
    "plt.plot(covid_df_kaggle_France_plt[\"ObservationDate\"],covid_df_kaggle_France_plt[\"Confirmed\"],label=\"Actual values\",color = \"#9400D3\", marker='o')\n",
    "plt.plot(covid_df_kaggle_France_plt[\"ObservationDate\"],covid_df_kaggle_France_plt[\"predicted_infections\"],label=\"Predicted Values\", color = \"#05eeff\", marker='*')\n",
    "plt.legend()\n",
    "plt.xlabel(\"Date Time\")\n",
    "plt.ylabel('Confirmed Cases')\n",
    "plt.title(\"Confirmed Cases XGBoost Regressor Forecasting\")\n",
    "plt.xticks(rotation=90)"
   ]
  },
  {
   "cell_type": "markdown",
   "metadata": {},
   "source": [
    "### XGBoost Regression - Spain"
   ]
  },
  {
   "cell_type": "code",
   "execution_count": 64,
   "metadata": {},
   "outputs": [],
   "source": [
    "covid_df_kaggle_Spain = covid_df_kaggle[covid_df_kaggle[\"Country/Region\"] == \"Spain\"].groupby(\"ObservationDate\").agg(\n",
    "                {\n",
    "                     'Confirmed':sum,    # Sum duration per group\n",
    "                     'Deaths':sum,    # Sum duration per group\n",
    "                     'Recovered':sum    # Sum duration per group\n",
    "                }).sort_values([\"ObservationDate\"]).reset_index()"
   ]
  },
  {
   "cell_type": "code",
   "execution_count": 65,
   "metadata": {},
   "outputs": [],
   "source": [
    "covid_df_kaggle_Spain_plt = covid_df_kaggle_Spain[covid_df_kaggle_Spain['ObservationDate'] <= '2020-03-26'].reset_index(drop=True)"
   ]
  },
  {
   "cell_type": "code",
   "execution_count": 66,
   "metadata": {},
   "outputs": [
    {
     "data": {
      "text/html": [
       "<div>\n",
       "<style scoped>\n",
       "    .dataframe tbody tr th:only-of-type {\n",
       "        vertical-align: middle;\n",
       "    }\n",
       "\n",
       "    .dataframe tbody tr th {\n",
       "        vertical-align: top;\n",
       "    }\n",
       "\n",
       "    .dataframe thead th {\n",
       "        text-align: right;\n",
       "    }\n",
       "</style>\n",
       "<table border=\"1\" class=\"dataframe\">\n",
       "  <thead>\n",
       "    <tr style=\"text-align: right;\">\n",
       "      <th></th>\n",
       "      <th>predicted_infections</th>\n",
       "      <th>Actual infections</th>\n",
       "      <th>Date</th>\n",
       "    </tr>\n",
       "  </thead>\n",
       "  <tbody>\n",
       "    <tr>\n",
       "      <th>0</th>\n",
       "      <td>35,349</td>\n",
       "      <td>28,603</td>\n",
       "      <td>2020-03-22</td>\n",
       "    </tr>\n",
       "    <tr>\n",
       "      <th>1</th>\n",
       "      <td>43,918</td>\n",
       "      <td>35,136</td>\n",
       "      <td>2020-03-23</td>\n",
       "    </tr>\n",
       "    <tr>\n",
       "      <th>2</th>\n",
       "      <td>48,053</td>\n",
       "      <td>39,885</td>\n",
       "      <td>2020-03-24</td>\n",
       "    </tr>\n",
       "    <tr>\n",
       "      <th>3</th>\n",
       "      <td>54,364</td>\n",
       "      <td>49,515</td>\n",
       "      <td>2020-03-25</td>\n",
       "    </tr>\n",
       "    <tr>\n",
       "      <th>4</th>\n",
       "      <td>56,635</td>\n",
       "      <td>57,786</td>\n",
       "      <td>2020-03-26</td>\n",
       "    </tr>\n",
       "  </tbody>\n",
       "</table>\n",
       "</div>"
      ],
      "text/plain": [
       "   predicted_infections    Actual infections       Date\n",
       "0                35,349               28,603 2020-03-22\n",
       "1                43,918               35,136 2020-03-23\n",
       "2                48,053               39,885 2020-03-24\n",
       "3                54,364               49,515 2020-03-25\n",
       "4                56,635               57,786 2020-03-26"
      ]
     },
     "execution_count": 66,
     "metadata": {},
     "output_type": "execute_result"
    }
   ],
   "source": [
    "filter_condn = (covid_df_kaggle_Spain['ObservationDate'] > '2020-03-21') & (covid_df_kaggle_Spain['ObservationDate'] <= '2020-03-26')\n",
    "covid_df_kaggle_Spain = covid_df_kaggle_Spain[filter_condn].reset_index(drop=True)\n",
    "covid_df_kaggle_Spain\n",
    "\n",
    "X_Spain_df = X[X.index == \"Spain\"].copy()\n",
    "X_Spain_test = X_Spain_df.head().copy()\n",
    "X_Spain_test=X_Spain_test.reset_index(drop=True)\n",
    "X_Spain_test['days_since_first'] = X_Spain_test['previous_Confirmed'] = X_Spain_test['increase_rate'] = 0\n",
    "X_Spain_test.loc[0,'days_since_first'] =  X_Spain_df[\"days_since_first\"].iloc[-1]+1\n",
    "X_Spain_test.loc[0,'increase_rate']=X_Spain_df[\"increase_rate\"].iloc[-1]+1\n",
    "X_Spain_test.loc[0,'previous_Confirmed'] = y[y.index == \"Spain\"].max()\n",
    "\n",
    "X_Spain_test['increase_rate']=X_Spain_df[\"increase_rate\"].max()\n",
    "\n",
    "\n",
    "for i in range(0,5):\n",
    "    X_Spain_test.loc[i,'days_since_first'] = X_Spain_test.loc[0,'days_since_first'] + i\n",
    "\n",
    "X_Spain_test\n",
    "\n",
    "predictions=[]\n",
    "\n",
    "for i in range(0,5):\n",
    "    pred=int(xgb_reg.predict(X_Spain_test.iloc[i]))\n",
    "    X_Spain_test.loc[i+1,'previous_Confirmed']=pred    \n",
    "    predictions.append(pred)\n",
    "\n",
    "pred = pd.DataFrame(predictions)\n",
    "\n",
    "#### Prediction results\n",
    "X_Spain_test['predicted_infections']= pred.iloc[:, 0] \n",
    "\n",
    "X_Spain_test[\"ObservationDate\"] = covid_df_kaggle_Spain[\"ObservationDate\"]\n",
    "covid_df_kaggle_Spain_plt[\"predicted_infections\"] = covid_df_kaggle_Spain_plt[\"Confirmed\"] \n",
    "\n",
    "covid_df_kaggle_Spain_plt.iloc[-5,4] = X_Spain_test.loc[0,'predicted_infections']\n",
    "covid_df_kaggle_Spain_plt.iloc[-4,4] = X_Spain_test.loc[1,'predicted_infections']\n",
    "covid_df_kaggle_Spain_plt.iloc[-3,4] = X_Spain_test.loc[2,'predicted_infections']\n",
    "covid_df_kaggle_Spain_plt.iloc[-2,4] = X_Spain_test.loc[3,'predicted_infections']\n",
    "covid_df_kaggle_Spain_plt.iloc[-1,4] = X_Spain_test.loc[4,'predicted_infections']\n",
    "    \n",
    "\n",
    "X_Spain_test=X_Spain_test[{'predicted_infections'}]\n",
    "# Creating new column to have actual predictions and date from Kaggle dataset\n",
    "X_Spain_test[\"Actual infections\"] = covid_df_kaggle_Spain[\"Confirmed\"]\n",
    "X_Spain_test[\"Date\"] = covid_df_kaggle_Spain[\"ObservationDate\"]\n",
    "X_Spain_test = X_Spain_test.iloc[0:5]\n",
    "X_Spain_test  "
   ]
  },
  {
   "cell_type": "code",
   "execution_count": 67,
   "metadata": {},
   "outputs": [
    {
     "data": {
      "text/plain": [
       "(array([737456., 737463., 737470., 737477., 737485., 737492., 737499.,\n",
       "        737506.]),\n",
       " <a list of 8 Text major ticklabel objects>)"
      ]
     },
     "execution_count": 67,
     "metadata": {},
     "output_type": "execute_result"
    },
    {
     "data": {
      "image/png": "[encoded data removed]",
      "text/plain": [
       "<Figure size 720x360 with 1 Axes>"
      ]
     },
     "metadata": {},
     "output_type": "display_data"
    }
   ],
   "source": [
    "import matplotlib.pyplot as plt\n",
    "\n",
    "plt.figure(figsize=(10,5))\n",
    "plt.plot(covid_df_kaggle_Spain_plt[\"ObservationDate\"],covid_df_kaggle_Spain_plt[\"Confirmed\"],label=\"Actual values\",color = \"#9400D3\", marker='o')\n",
    "plt.plot(covid_df_kaggle_Spain_plt[\"ObservationDate\"],covid_df_kaggle_Spain_plt[\"predicted_infections\"],label=\"Predicted Values\", color = \"#05eeff\", marker='*')\n",
    "plt.legend()\n",
    "plt.xlabel(\"Date Time\")\n",
    "plt.ylabel('Confirmed Cases')\n",
    "plt.title(\"Confirmed Cases XGBoost Regressor Forecasting\")\n",
    "plt.xticks(rotation=90)"
   ]
  },
  {
   "cell_type": "markdown",
   "metadata": {},
   "source": [
    "### XGBoost Regression - Germany"
   ]
  },
  {
   "cell_type": "code",
   "execution_count": 68,
   "metadata": {},
   "outputs": [],
   "source": [
    "covid_df_kaggle_Germany = covid_df_kaggle[covid_df_kaggle[\"Country/Region\"] == \"Germany\"].groupby(\"ObservationDate\").agg(\n",
    "                {\n",
    "                     'Confirmed':sum,    # Sum duration per group\n",
    "                     'Deaths':sum,    # Sum duration per group\n",
    "                     'Recovered':sum    # Sum duration per group\n",
    "                }).sort_values([\"ObservationDate\"]).reset_index()"
   ]
  },
  {
   "cell_type": "code",
   "execution_count": 69,
   "metadata": {},
   "outputs": [],
   "source": [
    "covid_df_kaggle_Germany_plt = covid_df_kaggle_Germany[covid_df_kaggle_Germany['ObservationDate'] <= '2020-03-26'].reset_index(drop=True)"
   ]
  },
  {
   "cell_type": "code",
   "execution_count": 70,
   "metadata": {},
   "outputs": [
    {
     "data": {
      "text/html": [
       "<div>\n",
       "<style scoped>\n",
       "    .dataframe tbody tr th:only-of-type {\n",
       "        vertical-align: middle;\n",
       "    }\n",
       "\n",
       "    .dataframe tbody tr th {\n",
       "        vertical-align: top;\n",
       "    }\n",
       "\n",
       "    .dataframe thead th {\n",
       "        text-align: right;\n",
       "    }\n",
       "</style>\n",
       "<table border=\"1\" class=\"dataframe\">\n",
       "  <thead>\n",
       "    <tr style=\"text-align: right;\">\n",
       "      <th></th>\n",
       "      <th>predicted_infections</th>\n",
       "      <th>Actual infections</th>\n",
       "      <th>Date</th>\n",
       "    </tr>\n",
       "  </thead>\n",
       "  <tbody>\n",
       "    <tr>\n",
       "      <th>0</th>\n",
       "      <td>28,697</td>\n",
       "      <td>24,873</td>\n",
       "      <td>2020-03-22</td>\n",
       "    </tr>\n",
       "    <tr>\n",
       "      <th>1</th>\n",
       "      <td>35,055</td>\n",
       "      <td>29,056</td>\n",
       "      <td>2020-03-23</td>\n",
       "    </tr>\n",
       "    <tr>\n",
       "      <th>2</th>\n",
       "      <td>43,613</td>\n",
       "      <td>32,986</td>\n",
       "      <td>2020-03-24</td>\n",
       "    </tr>\n",
       "    <tr>\n",
       "      <th>3</th>\n",
       "      <td>47,824</td>\n",
       "      <td>37,323</td>\n",
       "      <td>2020-03-25</td>\n",
       "    </tr>\n",
       "    <tr>\n",
       "      <th>4</th>\n",
       "      <td>54,291</td>\n",
       "      <td>43,938</td>\n",
       "      <td>2020-03-26</td>\n",
       "    </tr>\n",
       "  </tbody>\n",
       "</table>\n",
       "</div>"
      ],
      "text/plain": [
       "   predicted_infections    Actual infections       Date\n",
       "0                28,697               24,873 2020-03-22\n",
       "1                35,055               29,056 2020-03-23\n",
       "2                43,613               32,986 2020-03-24\n",
       "3                47,824               37,323 2020-03-25\n",
       "4                54,291               43,938 2020-03-26"
      ]
     },
     "execution_count": 70,
     "metadata": {},
     "output_type": "execute_result"
    }
   ],
   "source": [
    "filter_condn = (covid_df_kaggle_Germany['ObservationDate'] > '2020-03-21') & (covid_df_kaggle_Germany['ObservationDate'] <= '2020-03-26')\n",
    "covid_df_kaggle_Germany = covid_df_kaggle_Germany[filter_condn].reset_index(drop=True)\n",
    "covid_df_kaggle_Germany\n",
    "\n",
    "X_Germany_df = X[X.index == \"Germany\"].copy()\n",
    "X_Germany_test = X_Germany_df.head().copy()\n",
    "X_Germany_test=X_Germany_test.reset_index(drop=True)\n",
    "X_Germany_test['days_since_first'] = X_Germany_test['previous_Confirmed'] = X_Germany_test['increase_rate'] = 0\n",
    "X_Germany_test.loc[0,'days_since_first'] =  X_Germany_df[\"days_since_first\"].iloc[-1]+1\n",
    "X_Germany_test.loc[0,'increase_rate']=X_Germany_df[\"increase_rate\"].iloc[-1]+1\n",
    "X_Germany_test.loc[0,'previous_Confirmed'] = y[y.index == \"Germany\"].max()\n",
    "\n",
    "X_Germany_test['increase_rate']=X_Germany_df[\"increase_rate\"].max()\n",
    "\n",
    "\n",
    "for i in range(0,5):\n",
    "    X_Germany_test.loc[i,'days_since_first'] = X_Germany_test.loc[0,'days_since_first'] + i\n",
    "\n",
    "X_Germany_test\n",
    "\n",
    "predictions=[]\n",
    "\n",
    "for i in range(0,5):\n",
    "    pred=int(xgb_reg.predict(X_Germany_test.iloc[i]))\n",
    "    X_Germany_test.loc[i+1,'previous_Confirmed']=pred    \n",
    "    predictions.append(pred)\n",
    "\n",
    "pred = pd.DataFrame(predictions)\n",
    "\n",
    "#### Prediction results\n",
    "X_Germany_test['predicted_infections']= pred.iloc[:, 0] \n",
    "\n",
    "X_Germany_test[\"ObservationDate\"] = covid_df_kaggle_Germany[\"ObservationDate\"]\n",
    "covid_df_kaggle_Germany_plt[\"predicted_infections\"] = covid_df_kaggle_Germany_plt[\"Confirmed\"] \n",
    "\n",
    "covid_df_kaggle_Germany_plt.iloc[-5,4] = X_Germany_test.loc[0,'predicted_infections']\n",
    "covid_df_kaggle_Germany_plt.iloc[-4,4] = X_Germany_test.loc[1,'predicted_infections']\n",
    "covid_df_kaggle_Germany_plt.iloc[-3,4] = X_Germany_test.loc[2,'predicted_infections']\n",
    "covid_df_kaggle_Germany_plt.iloc[-2,4] = X_Germany_test.loc[3,'predicted_infections']\n",
    "covid_df_kaggle_Germany_plt.iloc[-1,4] = X_Germany_test.loc[4,'predicted_infections']\n",
    "    \n",
    "\n",
    "X_Germany_test=X_Germany_test[{'predicted_infections'}]\n",
    "# Creating new column to have actual predictions and date from Kaggle dataset\n",
    "X_Germany_test[\"Actual infections\"] = covid_df_kaggle_Germany[\"Confirmed\"]\n",
    "X_Germany_test[\"Date\"] = covid_df_kaggle_Germany[\"ObservationDate\"]\n",
    "X_Germany_test = X_Germany_test.iloc[0:5]\n",
    "X_Germany_test  "
   ]
  },
  {
   "cell_type": "code",
   "execution_count": 71,
   "metadata": {},
   "outputs": [
    {
     "data": {
      "text/plain": [
       "(array([737456., 737463., 737470., 737477., 737485., 737492., 737499.,\n",
       "        737506.]),\n",
       " <a list of 8 Text major ticklabel objects>)"
      ]
     },
     "execution_count": 71,
     "metadata": {},
     "output_type": "execute_result"
    },
    {
     "data": {
      "image/png": "[encoded data removed]",
      "text/plain": [
       "<Figure size 720x360 with 1 Axes>"
      ]
     },
     "metadata": {},
     "output_type": "display_data"
    }
   ],
   "source": [
    "import matplotlib.pyplot as plt\n",
    "\n",
    "plt.figure(figsize=(10,5))\n",
    "plt.plot(covid_df_kaggle_Germany_plt[\"ObservationDate\"],covid_df_kaggle_Germany_plt[\"Confirmed\"],label=\"Actual values\",color = \"#9400D3\", marker='o')\n",
    "plt.plot(covid_df_kaggle_Germany_plt[\"ObservationDate\"],covid_df_kaggle_Germany_plt[\"predicted_infections\"],label=\"Predicted Values\", color = \"#05eeff\", marker='*')\n",
    "plt.legend()\n",
    "plt.xlabel(\"Date Time\")\n",
    "plt.ylabel('Confirmed Cases')\n",
    "plt.title(\"Confirmed Cases XGBoost Regressor Forecasting\")\n",
    "plt.xticks(rotation=90)"
   ]
  },
  {
   "cell_type": "markdown",
   "metadata": {},
   "source": [
    "### XGBoost Regression - Switzerland"
   ]
  },
  {
   "cell_type": "code",
   "execution_count": 72,
   "metadata": {},
   "outputs": [],
   "source": [
    "covid_df_kaggle_Switzerland = covid_df_kaggle[covid_df_kaggle[\"Country/Region\"] == \"Switzerland\"].groupby(\"ObservationDate\").agg(\n",
    "                {\n",
    "                     'Confirmed':sum,    # Sum duration per group\n",
    "                     'Deaths':sum,    # Sum duration per group\n",
    "                     'Recovered':sum    # Sum duration per group\n",
    "                }).sort_values([\"ObservationDate\"]).reset_index()"
   ]
  },
  {
   "cell_type": "code",
   "execution_count": 73,
   "metadata": {},
   "outputs": [],
   "source": [
    "covid_df_kaggle_Switzerland_plt = covid_df_kaggle_Switzerland[covid_df_kaggle_Switzerland['ObservationDate'] <= '2020-03-26'].reset_index(drop=True)"
   ]
  },
  {
   "cell_type": "code",
   "execution_count": 74,
   "metadata": {},
   "outputs": [
    {
     "data": {
      "text/html": [
       "<div>\n",
       "<style scoped>\n",
       "    .dataframe tbody tr th:only-of-type {\n",
       "        vertical-align: middle;\n",
       "    }\n",
       "\n",
       "    .dataframe tbody tr th {\n",
       "        vertical-align: top;\n",
       "    }\n",
       "\n",
       "    .dataframe thead th {\n",
       "        text-align: right;\n",
       "    }\n",
       "</style>\n",
       "<table border=\"1\" class=\"dataframe\">\n",
       "  <thead>\n",
       "    <tr style=\"text-align: right;\">\n",
       "      <th></th>\n",
       "      <th>predicted_infections</th>\n",
       "      <th>Actual infections</th>\n",
       "      <th>Date</th>\n",
       "    </tr>\n",
       "  </thead>\n",
       "  <tbody>\n",
       "    <tr>\n",
       "      <th>0</th>\n",
       "      <td>9,575</td>\n",
       "      <td>7,474</td>\n",
       "      <td>2020-03-22</td>\n",
       "    </tr>\n",
       "    <tr>\n",
       "      <th>1</th>\n",
       "      <td>12,778</td>\n",
       "      <td>8,795</td>\n",
       "      <td>2020-03-23</td>\n",
       "    </tr>\n",
       "    <tr>\n",
       "      <th>2</th>\n",
       "      <td>16,042</td>\n",
       "      <td>9,877</td>\n",
       "      <td>2020-03-24</td>\n",
       "    </tr>\n",
       "    <tr>\n",
       "      <th>3</th>\n",
       "      <td>19,718</td>\n",
       "      <td>10,897</td>\n",
       "      <td>2020-03-25</td>\n",
       "    </tr>\n",
       "    <tr>\n",
       "      <th>4</th>\n",
       "      <td>23,728</td>\n",
       "      <td>11,811</td>\n",
       "      <td>2020-03-26</td>\n",
       "    </tr>\n",
       "  </tbody>\n",
       "</table>\n",
       "</div>"
      ],
      "text/plain": [
       "   predicted_infections    Actual infections       Date\n",
       "0                 9,575                7,474 2020-03-22\n",
       "1                12,778                8,795 2020-03-23\n",
       "2                16,042                9,877 2020-03-24\n",
       "3                19,718               10,897 2020-03-25\n",
       "4                23,728               11,811 2020-03-26"
      ]
     },
     "execution_count": 74,
     "metadata": {},
     "output_type": "execute_result"
    }
   ],
   "source": [
    "filter_condn = (covid_df_kaggle_Switzerland['ObservationDate'] > '2020-03-21') & (covid_df_kaggle_Switzerland['ObservationDate'] <= '2020-03-26')\n",
    "covid_df_kaggle_Switzerland = covid_df_kaggle_Switzerland[filter_condn].reset_index(drop=True)\n",
    "covid_df_kaggle_Switzerland\n",
    "\n",
    "X_Switzerland_df = X[X.index == \"Switzerland\"].copy()\n",
    "X_Switzerland_test = X_Switzerland_df.head().copy()\n",
    "X_Switzerland_test=X_Switzerland_test.reset_index(drop=True)\n",
    "X_Switzerland_test['days_since_first'] = X_Switzerland_test['previous_Confirmed'] = X_Switzerland_test['increase_rate'] = 0\n",
    "X_Switzerland_test.loc[0,'days_since_first'] =  X_Switzerland_df[\"days_since_first\"].iloc[-1]+1\n",
    "X_Switzerland_test.loc[0,'increase_rate']=X_Switzerland_df[\"increase_rate\"].iloc[-1]+1\n",
    "X_Switzerland_test.loc[0,'previous_Confirmed'] = y[y.index == \"Switzerland\"].max()\n",
    "\n",
    "X_Switzerland_test['increase_rate']=X_Switzerland_df[\"increase_rate\"].max()\n",
    "\n",
    "\n",
    "for i in range(0,5):\n",
    "    X_Switzerland_test.loc[i,'days_since_first'] = X_Switzerland_test.loc[0,'days_since_first'] + i\n",
    "\n",
    "X_Switzerland_test\n",
    "\n",
    "predictions=[]\n",
    "\n",
    "for i in range(0,5):\n",
    "    pred=int(xgb_reg.predict(X_Switzerland_test.iloc[i]))\n",
    "    X_Switzerland_test.loc[i+1,'previous_Confirmed']=pred    \n",
    "    predictions.append(pred)\n",
    "\n",
    "pred = pd.DataFrame(predictions)\n",
    "\n",
    "#### Prediction results\n",
    "X_Switzerland_test['predicted_infections']= pred.iloc[:, 0] \n",
    "\n",
    "X_Switzerland_test[\"ObservationDate\"] = covid_df_kaggle_Switzerland[\"ObservationDate\"]\n",
    "covid_df_kaggle_Switzerland_plt[\"predicted_infections\"] = covid_df_kaggle_Switzerland_plt[\"Confirmed\"] \n",
    "\n",
    "covid_df_kaggle_Switzerland_plt.iloc[-5,4] = X_Switzerland_test.loc[0,'predicted_infections']\n",
    "covid_df_kaggle_Switzerland_plt.iloc[-4,4] = X_Switzerland_test.loc[1,'predicted_infections']\n",
    "covid_df_kaggle_Switzerland_plt.iloc[-3,4] = X_Switzerland_test.loc[2,'predicted_infections']\n",
    "covid_df_kaggle_Switzerland_plt.iloc[-2,4] = X_Switzerland_test.loc[3,'predicted_infections']\n",
    "covid_df_kaggle_Switzerland_plt.iloc[-1,4] = X_Switzerland_test.loc[4,'predicted_infections']\n",
    "    \n",
    "\n",
    "X_Switzerland_test=X_Switzerland_test[{'predicted_infections'}]\n",
    "# Creating new column to have actual predictions and date from Kaggle dataset\n",
    "X_Switzerland_test[\"Actual infections\"] = covid_df_kaggle_Switzerland[\"Confirmed\"]\n",
    "X_Switzerland_test[\"Date\"] = covid_df_kaggle_Switzerland[\"ObservationDate\"]\n",
    "X_Switzerland_test = X_Switzerland_test.iloc[0:5]\n",
    "X_Switzerland_test  "
   ]
  },
  {
   "cell_type": "code",
   "execution_count": 75,
   "metadata": {},
   "outputs": [
    {
     "data": {
      "text/plain": [
       "(array([737480., 737484., 737485., 737489., 737493., 737497., 737501.,\n",
       "        737505., 737509.]),\n",
       " <a list of 9 Text major ticklabel objects>)"
      ]
     },
     "execution_count": 75,
     "metadata": {},
     "output_type": "execute_result"
    },
    {
     "data": {
      "image/png": "[encoded data removed]",
      "text/plain": [
       "<Figure size 720x360 with 1 Axes>"
      ]
     },
     "metadata": {},
     "output_type": "display_data"
    }
   ],
   "source": [
    "import matplotlib.pyplot as plt\n",
    "\n",
    "plt.figure(figsize=(10,5))\n",
    "plt.plot(covid_df_kaggle_Switzerland_plt[\"ObservationDate\"],covid_df_kaggle_Switzerland_plt[\"Confirmed\"],label=\"Actual values\",color = \"#9400D3\", marker='o')\n",
    "plt.plot(covid_df_kaggle_Switzerland_plt[\"ObservationDate\"],covid_df_kaggle_Switzerland_plt[\"predicted_infections\"],label=\"Predicted Values\", color = \"#05eeff\", marker='*')\n",
    "plt.legend()\n",
    "plt.xlabel(\"Date Time\")\n",
    "plt.ylabel('Confirmed Cases')\n",
    "plt.title(\"Confirmed Cases XGBoost Regressor Forecasting\")\n",
    "plt.xticks(rotation=90)"
   ]
  },
  {
   "cell_type": "code",
   "execution_count": null,
   "metadata": {},
   "outputs": [],
   "source": []
  },
  {
   "cell_type": "markdown",
   "metadata": {},
   "source": [
    "### XGBoost Regression - Italy"
   ]
  },
  {
   "cell_type": "code",
   "execution_count": 54,
   "metadata": {},
   "outputs": [],
   "source": [
    "covid_df_kaggle_Italy = covid_df_kaggle[covid_df_kaggle[\"Country/Region\"] == \"Italy\"].groupby(\"ObservationDate\").agg(\n",
    "                {\n",
    "                     'Confirmed':sum,    # Sum duration per group\n",
    "                     'Deaths':sum,    # Sum duration per group\n",
    "                     'Recovered':sum    # Sum duration per group\n",
    "                }).sort_values([\"ObservationDate\"]).reset_index()"
   ]
  },
  {
   "cell_type": "code",
   "execution_count": 55,
   "metadata": {},
   "outputs": [],
   "source": [
    "covid_df_kaggle_Italy_plt = covid_df_kaggle_Italy[covid_df_kaggle_Italy['ObservationDate'] <= '2020-03-26'].reset_index(drop=True)"
   ]
  },
  {
   "cell_type": "code",
   "execution_count": 57,
   "metadata": {},
   "outputs": [
    {
     "data": {
      "text/html": [
       "<div>\n",
       "<style scoped>\n",
       "    .dataframe tbody tr th:only-of-type {\n",
       "        vertical-align: middle;\n",
       "    }\n",
       "\n",
       "    .dataframe tbody tr th {\n",
       "        vertical-align: top;\n",
       "    }\n",
       "\n",
       "    .dataframe thead th {\n",
       "        text-align: right;\n",
       "    }\n",
       "</style>\n",
       "<table border=\"1\" class=\"dataframe\">\n",
       "  <thead>\n",
       "    <tr style=\"text-align: right;\">\n",
       "      <th></th>\n",
       "      <th>predicted_infections</th>\n",
       "      <th>Actual infections</th>\n",
       "      <th>Date</th>\n",
       "    </tr>\n",
       "  </thead>\n",
       "  <tbody>\n",
       "    <tr>\n",
       "      <th>0</th>\n",
       "      <td>57,548</td>\n",
       "      <td>59,138</td>\n",
       "      <td>2020-03-22</td>\n",
       "    </tr>\n",
       "    <tr>\n",
       "      <th>1</th>\n",
       "      <td>57,548</td>\n",
       "      <td>63,927</td>\n",
       "      <td>2020-03-23</td>\n",
       "    </tr>\n",
       "    <tr>\n",
       "      <th>2</th>\n",
       "      <td>57,548</td>\n",
       "      <td>69,176</td>\n",
       "      <td>2020-03-24</td>\n",
       "    </tr>\n",
       "    <tr>\n",
       "      <th>3</th>\n",
       "      <td>57,548</td>\n",
       "      <td>74,386</td>\n",
       "      <td>2020-03-25</td>\n",
       "    </tr>\n",
       "    <tr>\n",
       "      <th>4</th>\n",
       "      <td>57,548</td>\n",
       "      <td>80,589</td>\n",
       "      <td>2020-03-26</td>\n",
       "    </tr>\n",
       "  </tbody>\n",
       "</table>\n",
       "</div>"
      ],
      "text/plain": [
       "   predicted_infections    Actual infections       Date\n",
       "0                57,548               59,138 2020-03-22\n",
       "1                57,548               63,927 2020-03-23\n",
       "2                57,548               69,176 2020-03-24\n",
       "3                57,548               74,386 2020-03-25\n",
       "4                57,548               80,589 2020-03-26"
      ]
     },
     "execution_count": 57,
     "metadata": {},
     "output_type": "execute_result"
    }
   ],
   "source": [
    "filter_condn = (covid_df_kaggle_Italy['ObservationDate'] > '2020-03-21') & (covid_df_kaggle_Italy['ObservationDate'] <= '2020-03-26')\n",
    "covid_df_kaggle_Italy = covid_df_kaggle_Italy[filter_condn].reset_index(drop=True)\n",
    "covid_df_kaggle_Italy\n",
    "\n",
    "X_Italy_df = X[X.index == \"Italy\"].copy()\n",
    "X_Italy_test = X_Italy_df.head().copy()\n",
    "X_Italy_test=X_Italy_test.reset_index(drop=True)\n",
    "X_Italy_test['days_since_first'] = X_Italy_test['previous_Confirmed'] = X_Italy_test['increase_rate'] = 0\n",
    "X_Italy_test.loc[0,'days_since_first'] =  X_Italy_df[\"days_since_first\"].iloc[-1]+1\n",
    "X_Italy_test.loc[0,'increase_rate']=X_Italy_df[\"increase_rate\"].iloc[-1]+1\n",
    "X_Italy_test.loc[0,'previous_Confirmed'] = y[y.index == \"Italy\"].max()\n",
    "\n",
    "X_Italy_test['increase_rate']=X_Italy_df[\"increase_rate\"].max()\n",
    "\n",
    "\n",
    "for i in range(0,5):\n",
    "    X_Italy_test.loc[i,'days_since_first'] = X_Italy_test.loc[0,'days_since_first'] + i\n",
    "\n",
    "X_Italy_test\n",
    "\n",
    "predictions=[]\n",
    "\n",
    "for i in range(0,5):\n",
    "    pred=int(xgb_reg.predict(X_Italy_test.iloc[i]))\n",
    "    X_Italy_test.loc[i+1,'previous_Confirmed']=pred    \n",
    "    predictions.append(pred)\n",
    "\n",
    "pred = pd.DataFrame(predictions)\n",
    "\n",
    "#### Prediction results\n",
    "X_Italy_test['predicted_infections']= pred.iloc[:, 0] \n",
    "\n",
    "X_Italy_test[\"ObservationDate\"] = covid_df_kaggle_Italy[\"ObservationDate\"]\n",
    "covid_df_kaggle_Italy_plt[\"predicted_infections\"] = covid_df_kaggle_Italy_plt[\"Confirmed\"] \n",
    "\n",
    "covid_df_kaggle_Italy_plt.iloc[-5,4] = X_Italy_test.loc[0,'predicted_infections']\n",
    "covid_df_kaggle_Italy_plt.iloc[-4,4] = X_Italy_test.loc[1,'predicted_infections']\n",
    "covid_df_kaggle_Italy_plt.iloc[-3,4] = X_Italy_test.loc[2,'predicted_infections']\n",
    "covid_df_kaggle_Italy_plt.iloc[-2,4] = X_Italy_test.loc[3,'predicted_infections']\n",
    "covid_df_kaggle_Italy_plt.iloc[-1,4] = X_Italy_test.loc[4,'predicted_infections']\n",
    "    \n",
    "\n",
    "X_Italy_test=X_Italy_test[{'predicted_infections'}]\n",
    "# Creating new column to have actual predictions and date from Kaggle dataset\n",
    "X_Italy_test[\"Actual infections\"] = covid_df_kaggle_Italy[\"Confirmed\"]\n",
    "X_Italy_test[\"Date\"] = covid_df_kaggle_Italy[\"ObservationDate\"]\n",
    "X_Italy_test = X_Italy_test.iloc[0:5]\n",
    "X_Italy_test "
   ]
  },
  {
   "cell_type": "code",
   "execution_count": 58,
   "metadata": {},
   "outputs": [
    {
     "data": {
      "text/plain": [
       "(array([737456., 737463., 737470., 737477., 737485., 737492., 737499.,\n",
       "        737506.]),\n",
       " <a list of 8 Text major ticklabel objects>)"
      ]
     },
     "execution_count": 58,
     "metadata": {},
     "output_type": "execute_result"
    },
    {
     "data": {
      "image/png": "[encoded data removed]",
      "text/plain": [
       "<Figure size 720x360 with 1 Axes>"
      ]
     },
     "metadata": {},
     "output_type": "display_data"
    }
   ],
   "source": [
    "import matplotlib.pyplot as plt\n",
    "\n",
    "plt.figure(figsize=(10,5))\n",
    "plt.plot(covid_df_kaggle_Italy_plt[\"ObservationDate\"],covid_df_kaggle_Italy_plt[\"Confirmed\"],label=\"Actual values\",color = \"#9400D3\", marker='o')\n",
    "plt.plot(covid_df_kaggle_Italy_plt[\"ObservationDate\"],covid_df_kaggle_Italy_plt[\"predicted_infections\"],label=\"Predicted Values\", color = \"#05eeff\", marker='*')\n",
    "plt.legend()\n",
    "plt.xlabel(\"Date Time\")\n",
    "plt.ylabel('Confirmed Cases')\n",
    "plt.title(\"Confirmed Cases XGBoost Regressor Forecasting\")\n",
    "plt.xticks(rotation=90)"
   ]
  }
 ],
 "metadata": {
  "kernelspec": {
   "display_name": "Python 3",
   "language": "python",
   "name": "python3"
  },
  "language_info": {
   "codemirror_mode": {
    "name": "ipython",
    "version": 3
   },
   "file_extension": ".py",
   "mimetype": "text/x-python",
   "name": "python",
   "nbconvert_exporter": "python",
   "pygments_lexer": "ipython3",
   "version": "3.7.6"
  }
 },
 "nbformat": 4,
 "nbformat_minor": 2
}
