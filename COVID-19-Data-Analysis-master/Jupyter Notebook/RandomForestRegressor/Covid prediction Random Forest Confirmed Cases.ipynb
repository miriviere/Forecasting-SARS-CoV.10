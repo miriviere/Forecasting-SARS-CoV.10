{
 "cells": [
  {
   "cell_type": "markdown",
   "metadata": {},
   "source": [
    "# Covid prediction Random Forest Confirmed Cases"
   ]
  },
  {
   "cell_type": "markdown",
   "metadata": {},
   "source": [
    "### Loading libraries"
   ]
  },
  {
   "cell_type": "code",
   "execution_count": 35,
   "metadata": {},
   "outputs": [],
   "source": [
    "import pandas as pd\n",
    "import pandas as pd \n",
    "import random"
   ]
  },
  {
   "cell_type": "code",
   "execution_count": 36,
   "metadata": {},
   "outputs": [],
   "source": [
    "import math\n",
    "import time\n",
    "import datetime\n",
    "import operator \n",
    "import statsmodels.api as sm\n",
    "from statsmodels.tsa.stattools import adfuller"
   ]
  },
  {
   "cell_type": "code",
   "execution_count": 37,
   "metadata": {},
   "outputs": [],
   "source": [
    "from sklearn.linear_model import LinearRegression, BayesianRidge\n",
    "from sklearn.model_selection import RandomizedSearchCV, train_test_split\n",
    "from sklearn.preprocessing import PolynomialFeatures\n",
    "from sklearn.tree import DecisionTreeRegressor\n",
    "from sklearn.svm import SVR\n",
    "from sklearn.metrics import mean_squared_error, mean_absolute_error, explained_variance_score"
   ]
  },
  {
   "cell_type": "code",
   "execution_count": 38,
   "metadata": {},
   "outputs": [],
   "source": [
    "import numpy as np \n",
    "import matplotlib.pyplot as plt\n",
    "import matplotlib.colors as mcolors\n",
    "import seaborn as sns\n",
    "plt.style.use('seaborn-dark')\n",
    "#print(plt.style.available)\n",
    "%matplotlib inline\n",
    "\n",
    "from sklearn import metrics"
   ]
  },
  {
   "cell_type": "code",
   "execution_count": 39,
   "metadata": {},
   "outputs": [],
   "source": [
    "from sklearn.ensemble import RandomForestRegressor \n",
    "from sklearn.model_selection import GridSearchCV"
   ]
  },
  {
   "cell_type": "code",
   "execution_count": 40,
   "metadata": {},
   "outputs": [],
   "source": [
    "import warnings\n",
    "warnings.filterwarnings(\"ignore\")"
   ]
  },
  {
   "cell_type": "markdown",
   "metadata": {},
   "source": [
    "### Preparation for predictions"
   ]
  },
  {
   "cell_type": "markdown",
   "metadata": {},
   "source": [
    "#### Data Loading"
   ]
  },
  {
   "cell_type": "code",
   "execution_count": 41,
   "metadata": {},
   "outputs": [
    {
     "data": {
      "text/html": [
       "<div>\n",
       "<style scoped>\n",
       "    .dataframe tbody tr th:only-of-type {\n",
       "        vertical-align: middle;\n",
       "    }\n",
       "\n",
       "    .dataframe tbody tr th {\n",
       "        vertical-align: top;\n",
       "    }\n",
       "\n",
       "    .dataframe thead th {\n",
       "        text-align: right;\n",
       "    }\n",
       "</style>\n",
       "<table border=\"1\" class=\"dataframe\">\n",
       "  <thead>\n",
       "    <tr style=\"text-align: right;\">\n",
       "      <th></th>\n",
       "      <th>ObservationDate</th>\n",
       "      <th>Country</th>\n",
       "      <th>Continent</th>\n",
       "      <th>Confirmed</th>\n",
       "      <th>Deaths</th>\n",
       "      <th>Recovered</th>\n",
       "      <th>Active Cases</th>\n",
       "      <th>Population</th>\n",
       "      <th>Area (sq. mi.)</th>\n",
       "      <th>Pop. Density (per sq. mi.)</th>\n",
       "      <th>Net migration</th>\n",
       "      <th>GDP ($ per capita)</th>\n",
       "    </tr>\n",
       "  </thead>\n",
       "  <tbody>\n",
       "    <tr>\n",
       "      <th>0</th>\n",
       "      <td>2020-01-22</td>\n",
       "      <td>Hong Kong</td>\n",
       "      <td>Asia</td>\n",
       "      <td>0</td>\n",
       "      <td>0</td>\n",
       "      <td>0</td>\n",
       "      <td>0</td>\n",
       "      <td>6,940,432</td>\n",
       "      <td>1,092</td>\n",
       "      <td>6355,7</td>\n",
       "      <td>5,24</td>\n",
       "      <td>28,800</td>\n",
       "    </tr>\n",
       "    <tr>\n",
       "      <th>1</th>\n",
       "      <td>2020-01-22</td>\n",
       "      <td>Japan</td>\n",
       "      <td>Asia</td>\n",
       "      <td>2</td>\n",
       "      <td>0</td>\n",
       "      <td>0</td>\n",
       "      <td>2</td>\n",
       "      <td>127,463,611</td>\n",
       "      <td>377,835</td>\n",
       "      <td>337,4</td>\n",
       "      <td>0</td>\n",
       "      <td>28,200</td>\n",
       "    </tr>\n",
       "    <tr>\n",
       "      <th>2</th>\n",
       "      <td>2020-01-22</td>\n",
       "      <td>Macao</td>\n",
       "      <td>Asia</td>\n",
       "      <td>1</td>\n",
       "      <td>0</td>\n",
       "      <td>0</td>\n",
       "      <td>1</td>\n",
       "      <td>453,125</td>\n",
       "      <td>28</td>\n",
       "      <td>16183,0</td>\n",
       "      <td>4,86</td>\n",
       "      <td>19,400</td>\n",
       "    </tr>\n",
       "    <tr>\n",
       "      <th>3</th>\n",
       "      <td>2020-01-22</td>\n",
       "      <td>South Korea</td>\n",
       "      <td>Asia</td>\n",
       "      <td>1</td>\n",
       "      <td>0</td>\n",
       "      <td>0</td>\n",
       "      <td>1</td>\n",
       "      <td>48,846,823</td>\n",
       "      <td>98,480</td>\n",
       "      <td>496,0</td>\n",
       "      <td>0</td>\n",
       "      <td>17,800</td>\n",
       "    </tr>\n",
       "    <tr>\n",
       "      <th>4</th>\n",
       "      <td>2020-01-22</td>\n",
       "      <td>Taiwan</td>\n",
       "      <td>Asia</td>\n",
       "      <td>1</td>\n",
       "      <td>0</td>\n",
       "      <td>0</td>\n",
       "      <td>1</td>\n",
       "      <td>23,036,087</td>\n",
       "      <td>35,980</td>\n",
       "      <td>640,3</td>\n",
       "      <td>0</td>\n",
       "      <td>23,400</td>\n",
       "    </tr>\n",
       "  </tbody>\n",
       "</table>\n",
       "</div>"
      ],
      "text/plain": [
       "  ObservationDate      Country Continent            Confirmed  \\\n",
       "0      2020-01-22    Hong Kong      Asia                    0   \n",
       "1      2020-01-22        Japan      Asia                    2   \n",
       "2      2020-01-22        Macao      Asia                    1   \n",
       "3      2020-01-22  South Korea      Asia                    1   \n",
       "4      2020-01-22       Taiwan      Asia                    1   \n",
       "\n",
       "                Deaths            Recovered         Active Cases  \\\n",
       "0                    0                    0                    0   \n",
       "1                    0                    0                    2   \n",
       "2                    0                    0                    1   \n",
       "3                    0                    0                    1   \n",
       "4                    0                    0                    1   \n",
       "\n",
       "            Population       Area (sq. mi.) Pop. Density (per sq. mi.)  \\\n",
       "0            6,940,432                1,092                     6355,7   \n",
       "1          127,463,611              377,835                      337,4   \n",
       "2              453,125                   28                    16183,0   \n",
       "3           48,846,823               98,480                      496,0   \n",
       "4           23,036,087               35,980                      640,3   \n",
       "\n",
       "  Net migration   GDP ($ per capita)  \n",
       "0          5,24               28,800  \n",
       "1             0               28,200  \n",
       "2          4,86               19,400  \n",
       "3             0               17,800  \n",
       "4             0               23,400  "
      ]
     },
     "execution_count": 41,
     "metadata": {},
     "output_type": "execute_result"
    }
   ],
   "source": [
    "#dataset\n",
    "covid_df= pd.read_csv(\"corona_pred_china.csv\")\n",
    "covid_df.head()"
   ]
  },
  {
   "cell_type": "markdown",
   "metadata": {},
   "source": [
    "#### Data transformations"
   ]
  },
  {
   "cell_type": "code",
   "execution_count": 42,
   "metadata": {},
   "outputs": [
    {
     "name": "stdout",
     "output_type": "stream",
     "text": [
      "<class 'pandas.core.frame.DataFrame'>\n",
      "RangeIndex: 3811 entries, 0 to 3810\n",
      "Data columns (total 12 columns):\n",
      " #   Column                      Non-Null Count  Dtype         \n",
      "---  ------                      --------------  -----         \n",
      " 0   ObservationDate             3811 non-null   datetime64[ns]\n",
      " 1   Country                     3811 non-null   object        \n",
      " 2   Continent                   3811 non-null   object        \n",
      " 3   Confirmed                   3811 non-null   float64       \n",
      " 4   Deaths                      3811 non-null   float64       \n",
      " 5   Recovered                   3811 non-null   float64       \n",
      " 6   Active Cases                3811 non-null   float64       \n",
      " 7   Population                  3811 non-null   float64       \n",
      " 8   Area (sq. mi.)              3811 non-null   float64       \n",
      " 9   Pop. Density (per sq. mi.)  3811 non-null   object        \n",
      " 10  Net migration               3811 non-null   object        \n",
      " 11  GDP ($ per capita)          3811 non-null   float64       \n",
      "dtypes: datetime64[ns](1), float64(7), object(4)\n",
      "memory usage: 357.4+ KB\n"
     ]
    }
   ],
   "source": [
    "#Converting \"Observation Date\" into Datetime format\n",
    "covid_df[\"ObservationDate\"]=pd.to_datetime(covid_df[\"ObservationDate\"])\n",
    "covid_df.info()"
   ]
  },
  {
   "cell_type": "code",
   "execution_count": 43,
   "metadata": {},
   "outputs": [
    {
     "name": "stdout",
     "output_type": "stream",
     "text": [
      "<class 'pandas.core.frame.DataFrame'>\n",
      "RangeIndex: 3811 entries, 0 to 3810\n",
      "Data columns (total 12 columns):\n",
      " #   Column                      Non-Null Count  Dtype         \n",
      "---  ------                      --------------  -----         \n",
      " 0   ObservationDate             3811 non-null   datetime64[ns]\n",
      " 1   Country                     3811 non-null   object        \n",
      " 2   Continent                   3811 non-null   object        \n",
      " 3   Confirmed                   3811 non-null   float64       \n",
      " 4   Deaths                      3811 non-null   float64       \n",
      " 5   Recovered                   3811 non-null   float64       \n",
      " 6   Active Cases                3811 non-null   float64       \n",
      " 7   Population                  3811 non-null   float64       \n",
      " 8   Area (sq. mi.)              3811 non-null   float64       \n",
      " 9   Pop. Density (per sq. mi.)  3811 non-null   float64       \n",
      " 10  Net migration               3811 non-null   float64       \n",
      " 11  GDP ($ per capita)          3811 non-null   float64       \n",
      "dtypes: datetime64[ns](1), float64(9), object(2)\n",
      "memory usage: 357.4+ KB\n"
     ]
    }
   ],
   "source": [
    "# Changing datatype of Population density and Net Migration columns as float\n",
    "cols=[\"Pop. Density (per sq. mi.)\",\"Net migration\"]                             \n",
    "for i in cols:\n",
    "    covid_df[i]=covid_df[i].str.replace(\",\",\"\").astype(float)\n",
    "covid_df.info()    "
   ]
  },
  {
   "cell_type": "code",
   "execution_count": 44,
   "metadata": {},
   "outputs": [
    {
     "data": {
      "text/html": [
       "<div>\n",
       "<style scoped>\n",
       "    .dataframe tbody tr th:only-of-type {\n",
       "        vertical-align: middle;\n",
       "    }\n",
       "\n",
       "    .dataframe tbody tr th {\n",
       "        vertical-align: top;\n",
       "    }\n",
       "\n",
       "    .dataframe thead th {\n",
       "        text-align: right;\n",
       "    }\n",
       "</style>\n",
       "<table border=\"1\" class=\"dataframe\">\n",
       "  <thead>\n",
       "    <tr style=\"text-align: right;\">\n",
       "      <th></th>\n",
       "      <th>ObservationDate</th>\n",
       "      <th>Country</th>\n",
       "      <th>Continent</th>\n",
       "      <th>Confirmed</th>\n",
       "      <th>Deaths</th>\n",
       "      <th>Recovered</th>\n",
       "      <th>Active Cases</th>\n",
       "      <th>Population</th>\n",
       "      <th>Area (sq. mi.)</th>\n",
       "      <th>Pop. Density (per sq. mi.)</th>\n",
       "      <th>Net migration</th>\n",
       "      <th>GDP ($ per capita)</th>\n",
       "    </tr>\n",
       "  </thead>\n",
       "  <tbody>\n",
       "    <tr>\n",
       "      <th>0</th>\n",
       "      <td>2020-01-22</td>\n",
       "      <td>Hong Kong</td>\n",
       "      <td>Asia</td>\n",
       "      <td>0</td>\n",
       "      <td>0</td>\n",
       "      <td>0</td>\n",
       "      <td>0</td>\n",
       "      <td>6,940,432</td>\n",
       "      <td>1,092</td>\n",
       "      <td>63,557</td>\n",
       "      <td>524</td>\n",
       "      <td>28,800</td>\n",
       "    </tr>\n",
       "    <tr>\n",
       "      <th>1</th>\n",
       "      <td>2020-01-22</td>\n",
       "      <td>Japan</td>\n",
       "      <td>Asia</td>\n",
       "      <td>2</td>\n",
       "      <td>0</td>\n",
       "      <td>0</td>\n",
       "      <td>2</td>\n",
       "      <td>127,463,611</td>\n",
       "      <td>377,835</td>\n",
       "      <td>3,374</td>\n",
       "      <td>0</td>\n",
       "      <td>28,200</td>\n",
       "    </tr>\n",
       "    <tr>\n",
       "      <th>2</th>\n",
       "      <td>2020-01-22</td>\n",
       "      <td>Macao</td>\n",
       "      <td>Asia</td>\n",
       "      <td>1</td>\n",
       "      <td>0</td>\n",
       "      <td>0</td>\n",
       "      <td>1</td>\n",
       "      <td>453,125</td>\n",
       "      <td>28</td>\n",
       "      <td>161,830</td>\n",
       "      <td>486</td>\n",
       "      <td>19,400</td>\n",
       "    </tr>\n",
       "    <tr>\n",
       "      <th>3</th>\n",
       "      <td>2020-01-22</td>\n",
       "      <td>South Korea</td>\n",
       "      <td>Asia</td>\n",
       "      <td>1</td>\n",
       "      <td>0</td>\n",
       "      <td>0</td>\n",
       "      <td>1</td>\n",
       "      <td>48,846,823</td>\n",
       "      <td>98,480</td>\n",
       "      <td>4,960</td>\n",
       "      <td>0</td>\n",
       "      <td>17,800</td>\n",
       "    </tr>\n",
       "    <tr>\n",
       "      <th>4</th>\n",
       "      <td>2020-01-22</td>\n",
       "      <td>Taiwan</td>\n",
       "      <td>Asia</td>\n",
       "      <td>1</td>\n",
       "      <td>0</td>\n",
       "      <td>0</td>\n",
       "      <td>1</td>\n",
       "      <td>23,036,087</td>\n",
       "      <td>35,980</td>\n",
       "      <td>6,403</td>\n",
       "      <td>0</td>\n",
       "      <td>23,400</td>\n",
       "    </tr>\n",
       "  </tbody>\n",
       "</table>\n",
       "</div>"
      ],
      "text/plain": [
       "  ObservationDate      Country Continent            Confirmed  \\\n",
       "0      2020-01-22    Hong Kong      Asia                    0   \n",
       "1      2020-01-22        Japan      Asia                    2   \n",
       "2      2020-01-22        Macao      Asia                    1   \n",
       "3      2020-01-22  South Korea      Asia                    1   \n",
       "4      2020-01-22       Taiwan      Asia                    1   \n",
       "\n",
       "                Deaths            Recovered         Active Cases  \\\n",
       "0                    0                    0                    0   \n",
       "1                    0                    0                    2   \n",
       "2                    0                    0                    1   \n",
       "3                    0                    0                    1   \n",
       "4                    0                    0                    1   \n",
       "\n",
       "            Population       Area (sq. mi.)  Pop. Density (per sq. mi.)  \\\n",
       "0            6,940,432                1,092                      63,557   \n",
       "1          127,463,611              377,835                       3,374   \n",
       "2              453,125                   28                     161,830   \n",
       "3           48,846,823               98,480                       4,960   \n",
       "4           23,036,087               35,980                       6,403   \n",
       "\n",
       "         Net migration   GDP ($ per capita)  \n",
       "0                  524               28,800  \n",
       "1                    0               28,200  \n",
       "2                  486               19,400  \n",
       "3                    0               17,800  \n",
       "4                    0               23,400  "
      ]
     },
     "execution_count": 44,
     "metadata": {},
     "output_type": "execute_result"
    }
   ],
   "source": [
    "covid_df.head()"
   ]
  },
  {
   "cell_type": "code",
   "execution_count": 45,
   "metadata": {},
   "outputs": [],
   "source": [
    "# Sorting based on the country names\n",
    "covid_df = covid_df.sort_values([\"Country\", \"ObservationDate\"]).reset_index(drop=True)"
   ]
  },
  {
   "cell_type": "code",
   "execution_count": 46,
   "metadata": {},
   "outputs": [
    {
     "data": {
      "text/plain": [
       "(3811, 12)"
      ]
     },
     "execution_count": 46,
     "metadata": {},
     "output_type": "execute_result"
    }
   ],
   "source": [
    "covid_df.shape"
   ]
  },
  {
   "cell_type": "code",
   "execution_count": 47,
   "metadata": {
    "scrolled": false
   },
   "outputs": [],
   "source": [
    "# Calculating days since the first occurance for each country\n",
    "covid_df['days_since_first']=0\n",
    "covid_df['previous_Confirmed'] = 0\n",
    "covid_df['increase_rate'] = 0\n",
    "previous_Confirmed=0\n",
    "confirm_difference=0\n",
    "\n",
    "for i in covid_df.index[1:]:\n",
    "    if covid_df['Country'][i]==covid_df['Country'][i-1]:\n",
    "        covid_df.loc[i,'days_since_first']=(covid_df.at[i-1,'days_since_first']+1)\n",
    "        previous_Confirmed=covid_df.at[i-1,'Confirmed']\n",
    "        confirm_difference= covid_df.at[i,'Confirmed']-previous_Confirmed\n",
    "        covid_df.loc[i,'previous_Confirmed']=previous_Confirmed        \n",
    "        if ((previous_Confirmed!=0) & (confirm_difference>0) ):\n",
    "            covid_df.loc[i,'increase_rate']=((confirm_difference/previous_Confirmed))       \n",
    "        else:\n",
    "            covid_df.loc[i,'increase_rate']=0\n",
    "    else:\n",
    "        covid_df.loc[i,'days_since_first'] = 0\n",
    "        covid_df.loc[i,'previous_Confirmed'] = 0\n",
    "        covid_df.loc[i,'increase_rate'] = 0  "
   ]
  },
  {
   "cell_type": "code",
   "execution_count": 48,
   "metadata": {},
   "outputs": [
    {
     "data": {
      "text/html": [
       "<div>\n",
       "<style scoped>\n",
       "    .dataframe tbody tr th:only-of-type {\n",
       "        vertical-align: middle;\n",
       "    }\n",
       "\n",
       "    .dataframe tbody tr th {\n",
       "        vertical-align: top;\n",
       "    }\n",
       "\n",
       "    .dataframe thead th {\n",
       "        text-align: right;\n",
       "    }\n",
       "</style>\n",
       "<table border=\"1\" class=\"dataframe\">\n",
       "  <thead>\n",
       "    <tr style=\"text-align: right;\">\n",
       "      <th></th>\n",
       "      <th>ObservationDate</th>\n",
       "      <th>Country</th>\n",
       "      <th>Continent</th>\n",
       "      <th>Confirmed</th>\n",
       "      <th>Deaths</th>\n",
       "      <th>Recovered</th>\n",
       "      <th>Active Cases</th>\n",
       "      <th>Population</th>\n",
       "      <th>Area (sq. mi.)</th>\n",
       "      <th>Pop. Density (per sq. mi.)</th>\n",
       "      <th>Net migration</th>\n",
       "      <th>GDP ($ per capita)</th>\n",
       "      <th>days_since_first</th>\n",
       "      <th>previous_Confirmed</th>\n",
       "      <th>increase_rate</th>\n",
       "    </tr>\n",
       "  </thead>\n",
       "  <tbody>\n",
       "    <tr>\n",
       "      <th>0</th>\n",
       "      <td>2020-02-24</td>\n",
       "      <td>Afghanistan</td>\n",
       "      <td>Asia</td>\n",
       "      <td>1</td>\n",
       "      <td>0</td>\n",
       "      <td>0</td>\n",
       "      <td>1</td>\n",
       "      <td>31,056,997</td>\n",
       "      <td>647,500</td>\n",
       "      <td>480</td>\n",
       "      <td>2,306</td>\n",
       "      <td>700</td>\n",
       "      <td>0</td>\n",
       "      <td>0</td>\n",
       "      <td>0</td>\n",
       "    </tr>\n",
       "    <tr>\n",
       "      <th>1</th>\n",
       "      <td>2020-02-25</td>\n",
       "      <td>Afghanistan</td>\n",
       "      <td>Asia</td>\n",
       "      <td>1</td>\n",
       "      <td>0</td>\n",
       "      <td>0</td>\n",
       "      <td>1</td>\n",
       "      <td>31,056,997</td>\n",
       "      <td>647,500</td>\n",
       "      <td>480</td>\n",
       "      <td>2,306</td>\n",
       "      <td>700</td>\n",
       "      <td>1</td>\n",
       "      <td>1</td>\n",
       "      <td>0</td>\n",
       "    </tr>\n",
       "    <tr>\n",
       "      <th>2</th>\n",
       "      <td>2020-02-26</td>\n",
       "      <td>Afghanistan</td>\n",
       "      <td>Asia</td>\n",
       "      <td>1</td>\n",
       "      <td>0</td>\n",
       "      <td>0</td>\n",
       "      <td>1</td>\n",
       "      <td>31,056,997</td>\n",
       "      <td>647,500</td>\n",
       "      <td>480</td>\n",
       "      <td>2,306</td>\n",
       "      <td>700</td>\n",
       "      <td>2</td>\n",
       "      <td>1</td>\n",
       "      <td>0</td>\n",
       "    </tr>\n",
       "    <tr>\n",
       "      <th>3</th>\n",
       "      <td>2020-02-27</td>\n",
       "      <td>Afghanistan</td>\n",
       "      <td>Asia</td>\n",
       "      <td>1</td>\n",
       "      <td>0</td>\n",
       "      <td>0</td>\n",
       "      <td>1</td>\n",
       "      <td>31,056,997</td>\n",
       "      <td>647,500</td>\n",
       "      <td>480</td>\n",
       "      <td>2,306</td>\n",
       "      <td>700</td>\n",
       "      <td>3</td>\n",
       "      <td>1</td>\n",
       "      <td>0</td>\n",
       "    </tr>\n",
       "    <tr>\n",
       "      <th>4</th>\n",
       "      <td>2020-02-28</td>\n",
       "      <td>Afghanistan</td>\n",
       "      <td>Asia</td>\n",
       "      <td>1</td>\n",
       "      <td>0</td>\n",
       "      <td>0</td>\n",
       "      <td>1</td>\n",
       "      <td>31,056,997</td>\n",
       "      <td>647,500</td>\n",
       "      <td>480</td>\n",
       "      <td>2,306</td>\n",
       "      <td>700</td>\n",
       "      <td>4</td>\n",
       "      <td>1</td>\n",
       "      <td>0</td>\n",
       "    </tr>\n",
       "  </tbody>\n",
       "</table>\n",
       "</div>"
      ],
      "text/plain": [
       "  ObservationDate      Country Continent            Confirmed  \\\n",
       "0      2020-02-24  Afghanistan      Asia                    1   \n",
       "1      2020-02-25  Afghanistan      Asia                    1   \n",
       "2      2020-02-26  Afghanistan      Asia                    1   \n",
       "3      2020-02-27  Afghanistan      Asia                    1   \n",
       "4      2020-02-28  Afghanistan      Asia                    1   \n",
       "\n",
       "                Deaths            Recovered         Active Cases  \\\n",
       "0                    0                    0                    1   \n",
       "1                    0                    0                    1   \n",
       "2                    0                    0                    1   \n",
       "3                    0                    0                    1   \n",
       "4                    0                    0                    1   \n",
       "\n",
       "            Population       Area (sq. mi.)  Pop. Density (per sq. mi.)  \\\n",
       "0           31,056,997              647,500                         480   \n",
       "1           31,056,997              647,500                         480   \n",
       "2           31,056,997              647,500                         480   \n",
       "3           31,056,997              647,500                         480   \n",
       "4           31,056,997              647,500                         480   \n",
       "\n",
       "         Net migration   GDP ($ per capita)  days_since_first  \\\n",
       "0                2,306                  700                 0   \n",
       "1                2,306                  700                 1   \n",
       "2                2,306                  700                 2   \n",
       "3                2,306                  700                 3   \n",
       "4                2,306                  700                 4   \n",
       "\n",
       "    previous_Confirmed        increase_rate  \n",
       "0                    0                    0  \n",
       "1                    1                    0  \n",
       "2                    1                    0  \n",
       "3                    1                    0  \n",
       "4                    1                    0  "
      ]
     },
     "execution_count": 48,
     "metadata": {},
     "output_type": "execute_result"
    }
   ],
   "source": [
    "covid_df.head()"
   ]
  },
  {
   "cell_type": "code",
   "execution_count": 49,
   "metadata": {},
   "outputs": [],
   "source": [
    "# Ensuring that previous confirmed column type is int\n",
    "covid_df['previous_Confirmed'].astype(int)\n",
    "covid_df=covid_df[covid_df['increase_rate']>=0]"
   ]
  },
  {
   "cell_type": "code",
   "execution_count": 50,
   "metadata": {},
   "outputs": [],
   "source": [
    "covid_df.set_index('Country',inplace=True)"
   ]
  },
  {
   "cell_type": "markdown",
   "metadata": {},
   "source": [
    "#### Check for highest number of confirmed cases in Europe"
   ]
  },
  {
   "cell_type": "code",
   "execution_count": 51,
   "metadata": {},
   "outputs": [
    {
     "data": {
      "text/html": [
       "<div>\n",
       "<style scoped>\n",
       "    .dataframe tbody tr th:only-of-type {\n",
       "        vertical-align: middle;\n",
       "    }\n",
       "\n",
       "    .dataframe tbody tr th {\n",
       "        vertical-align: top;\n",
       "    }\n",
       "\n",
       "    .dataframe thead th {\n",
       "        text-align: right;\n",
       "    }\n",
       "</style>\n",
       "<table border=\"1\" class=\"dataframe\">\n",
       "  <thead>\n",
       "    <tr style=\"text-align: right;\">\n",
       "      <th></th>\n",
       "      <th>Confirmed</th>\n",
       "      <th>days_since_first</th>\n",
       "    </tr>\n",
       "    <tr>\n",
       "      <th>Country</th>\n",
       "      <th></th>\n",
       "      <th></th>\n",
       "    </tr>\n",
       "  </thead>\n",
       "  <tbody>\n",
       "    <tr>\n",
       "      <th>Switzerland</th>\n",
       "      <td>39,168</td>\n",
       "      <td>26</td>\n",
       "    </tr>\n",
       "    <tr>\n",
       "      <th>France</th>\n",
       "      <td>101,887</td>\n",
       "      <td>58</td>\n",
       "    </tr>\n",
       "    <tr>\n",
       "      <th>Germany</th>\n",
       "      <td>136,100</td>\n",
       "      <td>54</td>\n",
       "    </tr>\n",
       "    <tr>\n",
       "      <th>Spain</th>\n",
       "      <td>157,432</td>\n",
       "      <td>50</td>\n",
       "    </tr>\n",
       "    <tr>\n",
       "      <th>Italy</th>\n",
       "      <td>438,821</td>\n",
       "      <td>51</td>\n",
       "    </tr>\n",
       "  </tbody>\n",
       "</table>\n",
       "</div>"
      ],
      "text/plain": [
       "                       Confirmed  days_since_first\n",
       "Country                                           \n",
       "Switzerland               39,168                26\n",
       "France                   101,887                58\n",
       "Germany                  136,100                54\n",
       "Spain                    157,432                50\n",
       "Italy                    438,821                51"
      ]
     },
     "execution_count": 51,
     "metadata": {},
     "output_type": "execute_result"
    }
   ],
   "source": [
    "covid_df[covid_df['Continent'] == \"Europe\"].groupby('Country').agg(\n",
    "                {\n",
    "                     'Confirmed':sum,    # Sum duration per group\n",
    "                     'days_since_first': max,  # get the max of days\n",
    "                }).sort_values([\"Confirmed\", \"days_since_first\"]).tail()"
   ]
  },
  {
   "cell_type": "code",
   "execution_count": 52,
   "metadata": {},
   "outputs": [
    {
     "data": {
      "text/plain": [
       "Index(['ObservationDate', 'Continent', 'Confirmed', 'Deaths', 'Recovered',\n",
       "       'Active Cases', 'Population', 'Area (sq. mi.)',\n",
       "       'Pop. Density (per sq. mi.)', 'Net migration', 'GDP ($ per capita)',\n",
       "       'days_since_first', 'previous_Confirmed', 'increase_rate'],\n",
       "      dtype='object')"
      ]
     },
     "execution_count": 52,
     "metadata": {},
     "output_type": "execute_result"
    }
   ],
   "source": [
    "covid_df.columns"
   ]
  },
  {
   "cell_type": "code",
   "execution_count": 53,
   "metadata": {},
   "outputs": [],
   "source": [
    "covid_df.to_csv(\"COVID_For_Orange.csv\")"
   ]
  },
  {
   "cell_type": "markdown",
   "metadata": {},
   "source": [
    "### Random Forest Regressor"
   ]
  },
  {
   "cell_type": "code",
   "execution_count": 54,
   "metadata": {},
   "outputs": [],
   "source": [
    "X=covid_df.copy()\n",
    "del X['Continent']\n",
    "del X['ObservationDate']\n",
    "del X['Deaths']\n",
    "del X['Recovered']\n",
    "del X['Active Cases']\n",
    "del X['GDP ($ per capita)']\n",
    "#del X['previous_Activecases']\n",
    "#del X['previous_Death']\n",
    "#del X['previous_Recovered']\n",
    "\n"
   ]
  },
  {
   "cell_type": "code",
   "execution_count": 55,
   "metadata": {},
   "outputs": [
    {
     "name": "stdout",
     "output_type": "stream",
     "text": [
      "<class 'pandas.core.frame.DataFrame'>\n",
      "Index: 3811 entries, Afghanistan to Zimbabwe\n",
      "Data columns (total 8 columns):\n",
      " #   Column                      Non-Null Count  Dtype  \n",
      "---  ------                      --------------  -----  \n",
      " 0   Confirmed                   3811 non-null   float64\n",
      " 1   Population                  3811 non-null   float64\n",
      " 2   Area (sq. mi.)              3811 non-null   float64\n",
      " 3   Pop. Density (per sq. mi.)  3811 non-null   float64\n",
      " 4   Net migration               3811 non-null   float64\n",
      " 5   days_since_first            3811 non-null   int64  \n",
      " 6   previous_Confirmed          3811 non-null   float64\n",
      " 7   increase_rate               3811 non-null   float64\n",
      "dtypes: float64(7), int64(1)\n",
      "memory usage: 268.0+ KB\n"
     ]
    }
   ],
   "source": [
    "X.info()"
   ]
  },
  {
   "cell_type": "code",
   "execution_count": 56,
   "metadata": {},
   "outputs": [],
   "source": [
    "X[\"Net migration\"].fillna(0, inplace=True)\n",
    "X[\"Pop. Density (per sq. mi.)\"].fillna(0, inplace=True)"
   ]
  },
  {
   "cell_type": "code",
   "execution_count": 57,
   "metadata": {},
   "outputs": [
    {
     "data": {
      "text/plain": [
       "Confirmed                     False\n",
       "Population                    False\n",
       "Area (sq. mi.)                False\n",
       "Pop. Density (per sq. mi.)    False\n",
       "Net migration                 False\n",
       "days_since_first              False\n",
       "previous_Confirmed            False\n",
       "increase_rate                 False\n",
       "dtype: bool"
      ]
     },
     "execution_count": 57,
     "metadata": {},
     "output_type": "execute_result"
    }
   ],
   "source": [
    "X.isnull().any()"
   ]
  },
  {
   "cell_type": "code",
   "execution_count": 58,
   "metadata": {},
   "outputs": [
    {
     "data": {
      "text/html": [
       "<style  type=\"text/css\" >\n",
       "    #T_f624a9fa_7fc2_11ea_a002_d0c5d384fb94row0_col0 {\n",
       "            background-color:  #b40426;\n",
       "            color:  #f1f1f1;\n",
       "        }    #T_f624a9fa_7fc2_11ea_a002_d0c5d384fb94row0_col1 {\n",
       "            background-color:  #5673e0;\n",
       "            color:  #000000;\n",
       "        }    #T_f624a9fa_7fc2_11ea_a002_d0c5d384fb94row0_col2 {\n",
       "            background-color:  #5a78e4;\n",
       "            color:  #000000;\n",
       "        }    #T_f624a9fa_7fc2_11ea_a002_d0c5d384fb94row0_col3 {\n",
       "            background-color:  #4e68d8;\n",
       "            color:  #000000;\n",
       "        }    #T_f624a9fa_7fc2_11ea_a002_d0c5d384fb94row0_col4 {\n",
       "            background-color:  #4c66d6;\n",
       "            color:  #000000;\n",
       "        }    #T_f624a9fa_7fc2_11ea_a002_d0c5d384fb94row0_col5 {\n",
       "            background-color:  #a9c6fd;\n",
       "            color:  #000000;\n",
       "        }    #T_f624a9fa_7fc2_11ea_a002_d0c5d384fb94row0_col6 {\n",
       "            background-color:  #b40426;\n",
       "            color:  #f1f1f1;\n",
       "        }    #T_f624a9fa_7fc2_11ea_a002_d0c5d384fb94row0_col7 {\n",
       "            background-color:  #4a63d3;\n",
       "            color:  #f1f1f1;\n",
       "        }    #T_f624a9fa_7fc2_11ea_a002_d0c5d384fb94row1_col0 {\n",
       "            background-color:  #4c66d6;\n",
       "            color:  #000000;\n",
       "        }    #T_f624a9fa_7fc2_11ea_a002_d0c5d384fb94row1_col1 {\n",
       "            background-color:  #b40426;\n",
       "            color:  #f1f1f1;\n",
       "        }    #T_f624a9fa_7fc2_11ea_a002_d0c5d384fb94row1_col2 {\n",
       "            background-color:  #b5cdfa;\n",
       "            color:  #000000;\n",
       "        }    #T_f624a9fa_7fc2_11ea_a002_d0c5d384fb94row1_col3 {\n",
       "            background-color:  #4358cb;\n",
       "            color:  #f1f1f1;\n",
       "        }    #T_f624a9fa_7fc2_11ea_a002_d0c5d384fb94row1_col4 {\n",
       "            background-color:  #3b4cc0;\n",
       "            color:  #f1f1f1;\n",
       "        }    #T_f624a9fa_7fc2_11ea_a002_d0c5d384fb94row1_col5 {\n",
       "            background-color:  #7ea1fa;\n",
       "            color:  #000000;\n",
       "        }    #T_f624a9fa_7fc2_11ea_a002_d0c5d384fb94row1_col6 {\n",
       "            background-color:  #4b64d5;\n",
       "            color:  #f1f1f1;\n",
       "        }    #T_f624a9fa_7fc2_11ea_a002_d0c5d384fb94row1_col7 {\n",
       "            background-color:  #4961d2;\n",
       "            color:  #f1f1f1;\n",
       "        }    #T_f624a9fa_7fc2_11ea_a002_d0c5d384fb94row2_col0 {\n",
       "            background-color:  #485fd1;\n",
       "            color:  #f1f1f1;\n",
       "        }    #T_f624a9fa_7fc2_11ea_a002_d0c5d384fb94row2_col1 {\n",
       "            background-color:  #aec9fc;\n",
       "            color:  #000000;\n",
       "        }    #T_f624a9fa_7fc2_11ea_a002_d0c5d384fb94row2_col2 {\n",
       "            background-color:  #b40426;\n",
       "            color:  #f1f1f1;\n",
       "        }    #T_f624a9fa_7fc2_11ea_a002_d0c5d384fb94row2_col3 {\n",
       "            background-color:  #3b4cc0;\n",
       "            color:  #f1f1f1;\n",
       "        }    #T_f624a9fa_7fc2_11ea_a002_d0c5d384fb94row2_col4 {\n",
       "            background-color:  #6282ea;\n",
       "            color:  #000000;\n",
       "        }    #T_f624a9fa_7fc2_11ea_a002_d0c5d384fb94row2_col5 {\n",
       "            background-color:  #81a4fb;\n",
       "            color:  #000000;\n",
       "        }    #T_f624a9fa_7fc2_11ea_a002_d0c5d384fb94row2_col6 {\n",
       "            background-color:  #455cce;\n",
       "            color:  #f1f1f1;\n",
       "        }    #T_f624a9fa_7fc2_11ea_a002_d0c5d384fb94row2_col7 {\n",
       "            background-color:  #485fd1;\n",
       "            color:  #f1f1f1;\n",
       "        }    #T_f624a9fa_7fc2_11ea_a002_d0c5d384fb94row3_col0 {\n",
       "            background-color:  #3b4cc0;\n",
       "            color:  #f1f1f1;\n",
       "        }    #T_f624a9fa_7fc2_11ea_a002_d0c5d384fb94row3_col1 {\n",
       "            background-color:  #3b4cc0;\n",
       "            color:  #f1f1f1;\n",
       "        }    #T_f624a9fa_7fc2_11ea_a002_d0c5d384fb94row3_col2 {\n",
       "            background-color:  #3b4cc0;\n",
       "            color:  #f1f1f1;\n",
       "        }    #T_f624a9fa_7fc2_11ea_a002_d0c5d384fb94row3_col3 {\n",
       "            background-color:  #b40426;\n",
       "            color:  #f1f1f1;\n",
       "        }    #T_f624a9fa_7fc2_11ea_a002_d0c5d384fb94row3_col4 {\n",
       "            background-color:  #a7c5fe;\n",
       "            color:  #000000;\n",
       "        }    #T_f624a9fa_7fc2_11ea_a002_d0c5d384fb94row3_col5 {\n",
       "            background-color:  #7b9ff9;\n",
       "            color:  #000000;\n",
       "        }    #T_f624a9fa_7fc2_11ea_a002_d0c5d384fb94row3_col6 {\n",
       "            background-color:  #3b4cc0;\n",
       "            color:  #f1f1f1;\n",
       "        }    #T_f624a9fa_7fc2_11ea_a002_d0c5d384fb94row3_col7 {\n",
       "            background-color:  #4358cb;\n",
       "            color:  #f1f1f1;\n",
       "        }    #T_f624a9fa_7fc2_11ea_a002_d0c5d384fb94row4_col0 {\n",
       "            background-color:  #465ecf;\n",
       "            color:  #f1f1f1;\n",
       "        }    #T_f624a9fa_7fc2_11ea_a002_d0c5d384fb94row4_col1 {\n",
       "            background-color:  #3e51c5;\n",
       "            color:  #f1f1f1;\n",
       "        }    #T_f624a9fa_7fc2_11ea_a002_d0c5d384fb94row4_col2 {\n",
       "            background-color:  #6e90f2;\n",
       "            color:  #000000;\n",
       "        }    #T_f624a9fa_7fc2_11ea_a002_d0c5d384fb94row4_col3 {\n",
       "            background-color:  #b2ccfb;\n",
       "            color:  #000000;\n",
       "        }    #T_f624a9fa_7fc2_11ea_a002_d0c5d384fb94row4_col4 {\n",
       "            background-color:  #b40426;\n",
       "            color:  #f1f1f1;\n",
       "        }    #T_f624a9fa_7fc2_11ea_a002_d0c5d384fb94row4_col5 {\n",
       "            background-color:  #799cf8;\n",
       "            color:  #000000;\n",
       "        }    #T_f624a9fa_7fc2_11ea_a002_d0c5d384fb94row4_col6 {\n",
       "            background-color:  #455cce;\n",
       "            color:  #f1f1f1;\n",
       "        }    #T_f624a9fa_7fc2_11ea_a002_d0c5d384fb94row4_col7 {\n",
       "            background-color:  #4e68d8;\n",
       "            color:  #000000;\n",
       "        }    #T_f624a9fa_7fc2_11ea_a002_d0c5d384fb94row5_col0 {\n",
       "            background-color:  #9fbfff;\n",
       "            color:  #000000;\n",
       "        }    #T_f624a9fa_7fc2_11ea_a002_d0c5d384fb94row5_col1 {\n",
       "            background-color:  #7da0f9;\n",
       "            color:  #000000;\n",
       "        }    #T_f624a9fa_7fc2_11ea_a002_d0c5d384fb94row5_col2 {\n",
       "            background-color:  #88abfd;\n",
       "            color:  #000000;\n",
       "        }    #T_f624a9fa_7fc2_11ea_a002_d0c5d384fb94row5_col3 {\n",
       "            background-color:  #82a6fb;\n",
       "            color:  #000000;\n",
       "        }    #T_f624a9fa_7fc2_11ea_a002_d0c5d384fb94row5_col4 {\n",
       "            background-color:  #7295f4;\n",
       "            color:  #000000;\n",
       "        }    #T_f624a9fa_7fc2_11ea_a002_d0c5d384fb94row5_col5 {\n",
       "            background-color:  #b40426;\n",
       "            color:  #f1f1f1;\n",
       "        }    #T_f624a9fa_7fc2_11ea_a002_d0c5d384fb94row5_col6 {\n",
       "            background-color:  #9dbdff;\n",
       "            color:  #000000;\n",
       "        }    #T_f624a9fa_7fc2_11ea_a002_d0c5d384fb94row5_col7 {\n",
       "            background-color:  #3b4cc0;\n",
       "            color:  #f1f1f1;\n",
       "        }    #T_f624a9fa_7fc2_11ea_a002_d0c5d384fb94row6_col0 {\n",
       "            background-color:  #b40426;\n",
       "            color:  #f1f1f1;\n",
       "        }    #T_f624a9fa_7fc2_11ea_a002_d0c5d384fb94row6_col1 {\n",
       "            background-color:  #5572df;\n",
       "            color:  #000000;\n",
       "        }    #T_f624a9fa_7fc2_11ea_a002_d0c5d384fb94row6_col2 {\n",
       "            background-color:  #5977e3;\n",
       "            color:  #000000;\n",
       "        }    #T_f624a9fa_7fc2_11ea_a002_d0c5d384fb94row6_col3 {\n",
       "            background-color:  #4e68d8;\n",
       "            color:  #000000;\n",
       "        }    #T_f624a9fa_7fc2_11ea_a002_d0c5d384fb94row6_col4 {\n",
       "            background-color:  #4c66d6;\n",
       "            color:  #000000;\n",
       "        }    #T_f624a9fa_7fc2_11ea_a002_d0c5d384fb94row6_col5 {\n",
       "            background-color:  #a7c5fe;\n",
       "            color:  #000000;\n",
       "        }    #T_f624a9fa_7fc2_11ea_a002_d0c5d384fb94row6_col6 {\n",
       "            background-color:  #b40426;\n",
       "            color:  #f1f1f1;\n",
       "        }    #T_f624a9fa_7fc2_11ea_a002_d0c5d384fb94row6_col7 {\n",
       "            background-color:  #4961d2;\n",
       "            color:  #f1f1f1;\n",
       "        }    #T_f624a9fa_7fc2_11ea_a002_d0c5d384fb94row7_col0 {\n",
       "            background-color:  #3e51c5;\n",
       "            color:  #f1f1f1;\n",
       "        }    #T_f624a9fa_7fc2_11ea_a002_d0c5d384fb94row7_col1 {\n",
       "            background-color:  #465ecf;\n",
       "            color:  #f1f1f1;\n",
       "        }    #T_f624a9fa_7fc2_11ea_a002_d0c5d384fb94row7_col2 {\n",
       "            background-color:  #4e68d8;\n",
       "            color:  #000000;\n",
       "        }    #T_f624a9fa_7fc2_11ea_a002_d0c5d384fb94row7_col3 {\n",
       "            background-color:  #4a63d3;\n",
       "            color:  #f1f1f1;\n",
       "        }    #T_f624a9fa_7fc2_11ea_a002_d0c5d384fb94row7_col4 {\n",
       "            background-color:  #4961d2;\n",
       "            color:  #f1f1f1;\n",
       "        }    #T_f624a9fa_7fc2_11ea_a002_d0c5d384fb94row7_col5 {\n",
       "            background-color:  #3b4cc0;\n",
       "            color:  #f1f1f1;\n",
       "        }    #T_f624a9fa_7fc2_11ea_a002_d0c5d384fb94row7_col6 {\n",
       "            background-color:  #3d50c3;\n",
       "            color:  #f1f1f1;\n",
       "        }    #T_f624a9fa_7fc2_11ea_a002_d0c5d384fb94row7_col7 {\n",
       "            background-color:  #b40426;\n",
       "            color:  #f1f1f1;\n",
       "        }</style><table id=\"T_f624a9fa_7fc2_11ea_a002_d0c5d384fb94\" ><thead>    <tr>        <th class=\"blank level0\" ></th>        <th class=\"col_heading level0 col0\" >Confirmed</th>        <th class=\"col_heading level0 col1\" >Population</th>        <th class=\"col_heading level0 col2\" >Area (sq. mi.)</th>        <th class=\"col_heading level0 col3\" >Pop. Density (per sq. mi.)</th>        <th class=\"col_heading level0 col4\" >Net migration</th>        <th class=\"col_heading level0 col5\" >days_since_first</th>        <th class=\"col_heading level0 col6\" >previous_Confirmed</th>        <th class=\"col_heading level0 col7\" >increase_rate</th>    </tr></thead><tbody>\n",
       "                <tr>\n",
       "                        <th id=\"T_f624a9fa_7fc2_11ea_a002_d0c5d384fb94level0_row0\" class=\"row_heading level0 row0\" >Confirmed</th>\n",
       "                        <td id=\"T_f624a9fa_7fc2_11ea_a002_d0c5d384fb94row0_col0\" class=\"data row0 col0\" >1.00</td>\n",
       "                        <td id=\"T_f624a9fa_7fc2_11ea_a002_d0c5d384fb94row0_col1\" class=\"data row0 col1\" >0.03</td>\n",
       "                        <td id=\"T_f624a9fa_7fc2_11ea_a002_d0c5d384fb94row0_col2\" class=\"data row0 col2\" >0.01</td>\n",
       "                        <td id=\"T_f624a9fa_7fc2_11ea_a002_d0c5d384fb94row0_col3\" class=\"data row0 col3\" >-0.03</td>\n",
       "                        <td id=\"T_f624a9fa_7fc2_11ea_a002_d0c5d384fb94row0_col4\" class=\"data row0 col4\" >0.01</td>\n",
       "                        <td id=\"T_f624a9fa_7fc2_11ea_a002_d0c5d384fb94row0_col5\" class=\"data row0 col5\" >0.28</td>\n",
       "                        <td id=\"T_f624a9fa_7fc2_11ea_a002_d0c5d384fb94row0_col6\" class=\"data row0 col6\" >1.00</td>\n",
       "                        <td id=\"T_f624a9fa_7fc2_11ea_a002_d0c5d384fb94row0_col7\" class=\"data row0 col7\" >-0.02</td>\n",
       "            </tr>\n",
       "            <tr>\n",
       "                        <th id=\"T_f624a9fa_7fc2_11ea_a002_d0c5d384fb94level0_row1\" class=\"row_heading level0 row1\" >Population</th>\n",
       "                        <td id=\"T_f624a9fa_7fc2_11ea_a002_d0c5d384fb94row1_col0\" class=\"data row1 col0\" >0.03</td>\n",
       "                        <td id=\"T_f624a9fa_7fc2_11ea_a002_d0c5d384fb94row1_col1\" class=\"data row1 col1\" >1.00</td>\n",
       "                        <td id=\"T_f624a9fa_7fc2_11ea_a002_d0c5d384fb94row1_col2\" class=\"data row1 col2\" >0.30</td>\n",
       "                        <td id=\"T_f624a9fa_7fc2_11ea_a002_d0c5d384fb94row1_col3\" class=\"data row1 col3\" >-0.07</td>\n",
       "                        <td id=\"T_f624a9fa_7fc2_11ea_a002_d0c5d384fb94row1_col4\" class=\"data row1 col4\" >-0.06</td>\n",
       "                        <td id=\"T_f624a9fa_7fc2_11ea_a002_d0c5d384fb94row1_col5\" class=\"data row1 col5\" >0.15</td>\n",
       "                        <td id=\"T_f624a9fa_7fc2_11ea_a002_d0c5d384fb94row1_col6\" class=\"data row1 col6\" >0.03</td>\n",
       "                        <td id=\"T_f624a9fa_7fc2_11ea_a002_d0c5d384fb94row1_col7\" class=\"data row1 col7\" >-0.02</td>\n",
       "            </tr>\n",
       "            <tr>\n",
       "                        <th id=\"T_f624a9fa_7fc2_11ea_a002_d0c5d384fb94level0_row2\" class=\"row_heading level0 row2\" >Area (sq. mi.)</th>\n",
       "                        <td id=\"T_f624a9fa_7fc2_11ea_a002_d0c5d384fb94row2_col0\" class=\"data row2 col0\" >0.01</td>\n",
       "                        <td id=\"T_f624a9fa_7fc2_11ea_a002_d0c5d384fb94row2_col1\" class=\"data row2 col1\" >0.30</td>\n",
       "                        <td id=\"T_f624a9fa_7fc2_11ea_a002_d0c5d384fb94row2_col2\" class=\"data row2 col2\" >1.00</td>\n",
       "                        <td id=\"T_f624a9fa_7fc2_11ea_a002_d0c5d384fb94row2_col3\" class=\"data row2 col3\" >-0.10</td>\n",
       "                        <td id=\"T_f624a9fa_7fc2_11ea_a002_d0c5d384fb94row2_col4\" class=\"data row2 col4\" >0.08</td>\n",
       "                        <td id=\"T_f624a9fa_7fc2_11ea_a002_d0c5d384fb94row2_col5\" class=\"data row2 col5\" >0.16</td>\n",
       "                        <td id=\"T_f624a9fa_7fc2_11ea_a002_d0c5d384fb94row2_col6\" class=\"data row2 col6\" >0.01</td>\n",
       "                        <td id=\"T_f624a9fa_7fc2_11ea_a002_d0c5d384fb94row2_col7\" class=\"data row2 col7\" >-0.03</td>\n",
       "            </tr>\n",
       "            <tr>\n",
       "                        <th id=\"T_f624a9fa_7fc2_11ea_a002_d0c5d384fb94level0_row3\" class=\"row_heading level0 row3\" >Pop. Density (per sq. mi.)</th>\n",
       "                        <td id=\"T_f624a9fa_7fc2_11ea_a002_d0c5d384fb94row3_col0\" class=\"data row3 col0\" >-0.03</td>\n",
       "                        <td id=\"T_f624a9fa_7fc2_11ea_a002_d0c5d384fb94row3_col1\" class=\"data row3 col1\" >-0.07</td>\n",
       "                        <td id=\"T_f624a9fa_7fc2_11ea_a002_d0c5d384fb94row3_col2\" class=\"data row3 col2\" >-0.10</td>\n",
       "                        <td id=\"T_f624a9fa_7fc2_11ea_a002_d0c5d384fb94row3_col3\" class=\"data row3 col3\" >1.00</td>\n",
       "                        <td id=\"T_f624a9fa_7fc2_11ea_a002_d0c5d384fb94row3_col4\" class=\"data row3 col4\" >0.29</td>\n",
       "                        <td id=\"T_f624a9fa_7fc2_11ea_a002_d0c5d384fb94row3_col5\" class=\"data row3 col5\" >0.14</td>\n",
       "                        <td id=\"T_f624a9fa_7fc2_11ea_a002_d0c5d384fb94row3_col6\" class=\"data row3 col6\" >-0.03</td>\n",
       "                        <td id=\"T_f624a9fa_7fc2_11ea_a002_d0c5d384fb94row3_col7\" class=\"data row3 col7\" >-0.05</td>\n",
       "            </tr>\n",
       "            <tr>\n",
       "                        <th id=\"T_f624a9fa_7fc2_11ea_a002_d0c5d384fb94level0_row4\" class=\"row_heading level0 row4\" >Net migration</th>\n",
       "                        <td id=\"T_f624a9fa_7fc2_11ea_a002_d0c5d384fb94row4_col0\" class=\"data row4 col0\" >0.01</td>\n",
       "                        <td id=\"T_f624a9fa_7fc2_11ea_a002_d0c5d384fb94row4_col1\" class=\"data row4 col1\" >-0.06</td>\n",
       "                        <td id=\"T_f624a9fa_7fc2_11ea_a002_d0c5d384fb94row4_col2\" class=\"data row4 col2\" >0.08</td>\n",
       "                        <td id=\"T_f624a9fa_7fc2_11ea_a002_d0c5d384fb94row4_col3\" class=\"data row4 col3\" >0.29</td>\n",
       "                        <td id=\"T_f624a9fa_7fc2_11ea_a002_d0c5d384fb94row4_col4\" class=\"data row4 col4\" >1.00</td>\n",
       "                        <td id=\"T_f624a9fa_7fc2_11ea_a002_d0c5d384fb94row4_col5\" class=\"data row4 col5\" >0.13</td>\n",
       "                        <td id=\"T_f624a9fa_7fc2_11ea_a002_d0c5d384fb94row4_col6\" class=\"data row4 col6\" >0.01</td>\n",
       "                        <td id=\"T_f624a9fa_7fc2_11ea_a002_d0c5d384fb94row4_col7\" class=\"data row4 col7\" >-0.01</td>\n",
       "            </tr>\n",
       "            <tr>\n",
       "                        <th id=\"T_f624a9fa_7fc2_11ea_a002_d0c5d384fb94level0_row5\" class=\"row_heading level0 row5\" >days_since_first</th>\n",
       "                        <td id=\"T_f624a9fa_7fc2_11ea_a002_d0c5d384fb94row5_col0\" class=\"data row5 col0\" >0.28</td>\n",
       "                        <td id=\"T_f624a9fa_7fc2_11ea_a002_d0c5d384fb94row5_col1\" class=\"data row5 col1\" >0.15</td>\n",
       "                        <td id=\"T_f624a9fa_7fc2_11ea_a002_d0c5d384fb94row5_col2\" class=\"data row5 col2\" >0.16</td>\n",
       "                        <td id=\"T_f624a9fa_7fc2_11ea_a002_d0c5d384fb94row5_col3\" class=\"data row5 col3\" >0.14</td>\n",
       "                        <td id=\"T_f624a9fa_7fc2_11ea_a002_d0c5d384fb94row5_col4\" class=\"data row5 col4\" >0.13</td>\n",
       "                        <td id=\"T_f624a9fa_7fc2_11ea_a002_d0c5d384fb94row5_col5\" class=\"data row5 col5\" >1.00</td>\n",
       "                        <td id=\"T_f624a9fa_7fc2_11ea_a002_d0c5d384fb94row5_col6\" class=\"data row5 col6\" >0.27</td>\n",
       "                        <td id=\"T_f624a9fa_7fc2_11ea_a002_d0c5d384fb94row5_col7\" class=\"data row5 col7\" >-0.08</td>\n",
       "            </tr>\n",
       "            <tr>\n",
       "                        <th id=\"T_f624a9fa_7fc2_11ea_a002_d0c5d384fb94level0_row6\" class=\"row_heading level0 row6\" >previous_Confirmed</th>\n",
       "                        <td id=\"T_f624a9fa_7fc2_11ea_a002_d0c5d384fb94row6_col0\" class=\"data row6 col0\" >1.00</td>\n",
       "                        <td id=\"T_f624a9fa_7fc2_11ea_a002_d0c5d384fb94row6_col1\" class=\"data row6 col1\" >0.03</td>\n",
       "                        <td id=\"T_f624a9fa_7fc2_11ea_a002_d0c5d384fb94row6_col2\" class=\"data row6 col2\" >0.01</td>\n",
       "                        <td id=\"T_f624a9fa_7fc2_11ea_a002_d0c5d384fb94row6_col3\" class=\"data row6 col3\" >-0.03</td>\n",
       "                        <td id=\"T_f624a9fa_7fc2_11ea_a002_d0c5d384fb94row6_col4\" class=\"data row6 col4\" >0.01</td>\n",
       "                        <td id=\"T_f624a9fa_7fc2_11ea_a002_d0c5d384fb94row6_col5\" class=\"data row6 col5\" >0.27</td>\n",
       "                        <td id=\"T_f624a9fa_7fc2_11ea_a002_d0c5d384fb94row6_col6\" class=\"data row6 col6\" >1.00</td>\n",
       "                        <td id=\"T_f624a9fa_7fc2_11ea_a002_d0c5d384fb94row6_col7\" class=\"data row6 col7\" >-0.02</td>\n",
       "            </tr>\n",
       "            <tr>\n",
       "                        <th id=\"T_f624a9fa_7fc2_11ea_a002_d0c5d384fb94level0_row7\" class=\"row_heading level0 row7\" >increase_rate</th>\n",
       "                        <td id=\"T_f624a9fa_7fc2_11ea_a002_d0c5d384fb94row7_col0\" class=\"data row7 col0\" >-0.02</td>\n",
       "                        <td id=\"T_f624a9fa_7fc2_11ea_a002_d0c5d384fb94row7_col1\" class=\"data row7 col1\" >-0.02</td>\n",
       "                        <td id=\"T_f624a9fa_7fc2_11ea_a002_d0c5d384fb94row7_col2\" class=\"data row7 col2\" >-0.03</td>\n",
       "                        <td id=\"T_f624a9fa_7fc2_11ea_a002_d0c5d384fb94row7_col3\" class=\"data row7 col3\" >-0.05</td>\n",
       "                        <td id=\"T_f624a9fa_7fc2_11ea_a002_d0c5d384fb94row7_col4\" class=\"data row7 col4\" >-0.01</td>\n",
       "                        <td id=\"T_f624a9fa_7fc2_11ea_a002_d0c5d384fb94row7_col5\" class=\"data row7 col5\" >-0.08</td>\n",
       "                        <td id=\"T_f624a9fa_7fc2_11ea_a002_d0c5d384fb94row7_col6\" class=\"data row7 col6\" >-0.02</td>\n",
       "                        <td id=\"T_f624a9fa_7fc2_11ea_a002_d0c5d384fb94row7_col7\" class=\"data row7 col7\" >1.00</td>\n",
       "            </tr>\n",
       "    </tbody></table>"
      ],
      "text/plain": [
       "<pandas.io.formats.style.Styler at 0x299d057e948>"
      ]
     },
     "execution_count": 58,
     "metadata": {},
     "output_type": "execute_result"
    }
   ],
   "source": [
    "corr = X.corr()\n",
    "corr.style.background_gradient(cmap='coolwarm').set_precision(2)"
   ]
  },
  {
   "cell_type": "code",
   "execution_count": 59,
   "metadata": {},
   "outputs": [],
   "source": [
    "# Pick only features that are correlated more than 0.2\n",
    "y = X['Confirmed']     "
   ]
  },
  {
   "cell_type": "code",
   "execution_count": 60,
   "metadata": {},
   "outputs": [
    {
     "name": "stdout",
     "output_type": "stream",
     "text": [
      "(3811, 8)\n"
     ]
    },
    {
     "data": {
      "text/html": [
       "<div>\n",
       "<style scoped>\n",
       "    .dataframe tbody tr th:only-of-type {\n",
       "        vertical-align: middle;\n",
       "    }\n",
       "\n",
       "    .dataframe tbody tr th {\n",
       "        vertical-align: top;\n",
       "    }\n",
       "\n",
       "    .dataframe thead th {\n",
       "        text-align: right;\n",
       "    }\n",
       "</style>\n",
       "<table border=\"1\" class=\"dataframe\">\n",
       "  <thead>\n",
       "    <tr style=\"text-align: right;\">\n",
       "      <th></th>\n",
       "      <th>Confirmed</th>\n",
       "      <th>Population</th>\n",
       "      <th>Area (sq. mi.)</th>\n",
       "      <th>Pop. Density (per sq. mi.)</th>\n",
       "      <th>Net migration</th>\n",
       "      <th>days_since_first</th>\n",
       "      <th>previous_Confirmed</th>\n",
       "      <th>increase_rate</th>\n",
       "    </tr>\n",
       "    <tr>\n",
       "      <th>Country</th>\n",
       "      <th></th>\n",
       "      <th></th>\n",
       "      <th></th>\n",
       "      <th></th>\n",
       "      <th></th>\n",
       "      <th></th>\n",
       "      <th></th>\n",
       "      <th></th>\n",
       "    </tr>\n",
       "  </thead>\n",
       "  <tbody>\n",
       "    <tr>\n",
       "      <th>Afghanistan</th>\n",
       "      <td>1</td>\n",
       "      <td>31,056,997</td>\n",
       "      <td>647,500</td>\n",
       "      <td>480</td>\n",
       "      <td>2,306</td>\n",
       "      <td>0</td>\n",
       "      <td>0</td>\n",
       "      <td>0</td>\n",
       "    </tr>\n",
       "    <tr>\n",
       "      <th>Afghanistan</th>\n",
       "      <td>1</td>\n",
       "      <td>31,056,997</td>\n",
       "      <td>647,500</td>\n",
       "      <td>480</td>\n",
       "      <td>2,306</td>\n",
       "      <td>1</td>\n",
       "      <td>1</td>\n",
       "      <td>0</td>\n",
       "    </tr>\n",
       "    <tr>\n",
       "      <th>Afghanistan</th>\n",
       "      <td>1</td>\n",
       "      <td>31,056,997</td>\n",
       "      <td>647,500</td>\n",
       "      <td>480</td>\n",
       "      <td>2,306</td>\n",
       "      <td>2</td>\n",
       "      <td>1</td>\n",
       "      <td>0</td>\n",
       "    </tr>\n",
       "    <tr>\n",
       "      <th>Afghanistan</th>\n",
       "      <td>1</td>\n",
       "      <td>31,056,997</td>\n",
       "      <td>647,500</td>\n",
       "      <td>480</td>\n",
       "      <td>2,306</td>\n",
       "      <td>3</td>\n",
       "      <td>1</td>\n",
       "      <td>0</td>\n",
       "    </tr>\n",
       "    <tr>\n",
       "      <th>Afghanistan</th>\n",
       "      <td>1</td>\n",
       "      <td>31,056,997</td>\n",
       "      <td>647,500</td>\n",
       "      <td>480</td>\n",
       "      <td>2,306</td>\n",
       "      <td>4</td>\n",
       "      <td>1</td>\n",
       "      <td>0</td>\n",
       "    </tr>\n",
       "  </tbody>\n",
       "</table>\n",
       "</div>"
      ],
      "text/plain": [
       "                       Confirmed           Population       Area (sq. mi.)  \\\n",
       "Country                                                                      \n",
       "Afghanistan                    1           31,056,997              647,500   \n",
       "Afghanistan                    1           31,056,997              647,500   \n",
       "Afghanistan                    1           31,056,997              647,500   \n",
       "Afghanistan                    1           31,056,997              647,500   \n",
       "Afghanistan                    1           31,056,997              647,500   \n",
       "\n",
       "             Pop. Density (per sq. mi.)        Net migration  \\\n",
       "Country                                                        \n",
       "Afghanistan                         480                2,306   \n",
       "Afghanistan                         480                2,306   \n",
       "Afghanistan                         480                2,306   \n",
       "Afghanistan                         480                2,306   \n",
       "Afghanistan                         480                2,306   \n",
       "\n",
       "             days_since_first   previous_Confirmed        increase_rate  \n",
       "Country                                                                  \n",
       "Afghanistan                 0                    0                    0  \n",
       "Afghanistan                 1                    1                    0  \n",
       "Afghanistan                 2                    1                    0  \n",
       "Afghanistan                 3                    1                    0  \n",
       "Afghanistan                 4                    1                    0  "
      ]
     },
     "execution_count": 60,
     "metadata": {},
     "output_type": "execute_result"
    }
   ],
   "source": [
    "print(X.shape)\n",
    "X.head()"
   ]
  },
  {
   "cell_type": "code",
   "execution_count": 61,
   "metadata": {},
   "outputs": [],
   "source": [
    "# To get rid of +e format\n",
    "pd.options.display.float_format = '{:20,.0f}'.format"
   ]
  },
  {
   "cell_type": "markdown",
   "metadata": {},
   "source": [
    "#### Train Test Split"
   ]
  },
  {
   "cell_type": "code",
   "execution_count": 62,
   "metadata": {},
   "outputs": [],
   "source": [
    "X.drop(['Confirmed'], axis=1, inplace=True)\n",
    "\n",
    "\n",
    "# Break off validation set from training data\n",
    "\n",
    "X_train, X_test, y_train, y_test = train_test_split(X, y, train_size=0.85, test_size=0.15, random_state=1)"
   ]
  },
  {
   "cell_type": "code",
   "execution_count": 63,
   "metadata": {},
   "outputs": [
    {
     "name": "stdout",
     "output_type": "stream",
     "text": [
      "X_train shape is (3239, 7)\n",
      "X_test shape is (572, 7)\n",
      "y_train is (3239,)\n",
      "y_test shape is (572,)\n"
     ]
    }
   ],
   "source": [
    "print(f\"X_train shape is {X_train.shape}\")\n",
    "print(f\"X_test shape is {X_test.shape}\")\n",
    "# print(f\"X_validate shape is {X_validate.shape}\")\n",
    "print(f\"y_train is {y_train.shape}\")\n",
    "# print(f\"y_validate shape is {y_validate.shape}\")\n",
    "print(f\"y_test shape is {y_test.shape}\")"
   ]
  },
  {
   "cell_type": "markdown",
   "metadata": {},
   "source": [
    "## Random Forest"
   ]
  },
  {
   "cell_type": "markdown",
   "metadata": {},
   "source": [
    "#### Defining the model and checking the best score"
   ]
  },
  {
   "cell_type": "code",
   "execution_count": 64,
   "metadata": {},
   "outputs": [],
   "source": [
    "#DEFINE YOUR REGRESSOR and THE PARAMETERS GRID\n",
    "\n",
    "regressor = RandomForestRegressor()\n",
    "parameters = {\"criterion\": ['mse'], \n",
    "              \"n_estimators\":[10, 100, 400], \n",
    "              \"min_samples_leaf\": [0.1, 1, 5, 10, 20, 50], \n",
    "              \"random_state\" : [1]\n",
    "            #  \"max_features\": \"auto\"\n",
    "            # \"oob_score \": TRUE\n",
    "             }"
   ]
  },
  {
   "cell_type": "code",
   "execution_count": 65,
   "metadata": {},
   "outputs": [],
   "source": [
    "#DEFINE YOUR GRIDSEARCH \n",
    "gs = GridSearchCV(regressor, parameters, cv=3) #with no params it reduces to a CV\n",
    "\n",
    "gs = gs.fit(X_train.to_numpy(),y_train.to_numpy())"
   ]
  },
  {
   "cell_type": "code",
   "execution_count": 66,
   "metadata": {},
   "outputs": [
    {
     "name": "stdout",
     "output_type": "stream",
     "text": [
      "***GRIDSEARCH RESULTS***\n",
      "Best score: 0.982507 using {'criterion': 'mse', 'min_samples_leaf': 1, 'n_estimators': 400, 'random_state': 1}\n"
     ]
    }
   ],
   "source": [
    "#summarize the results of your GRIDSEARCH\n",
    "print('***GRIDSEARCH RESULTS***')\n",
    "print(\"Best score: %f using %s\" % (gs.best_score_, gs.best_params_))\n",
    "means = gs.cv_results_['mean_test_score']\n",
    "stds = gs.cv_results_['std_test_score']\n",
    "params = gs.cv_results_['params']\n"
   ]
  },
  {
   "cell_type": "code",
   "execution_count": 67,
   "metadata": {},
   "outputs": [
    {
     "name": "stdout",
     "output_type": "stream",
     "text": [
      "|--- previous_Confirmed <= 8925.50\n",
      "|   |--- previous_Confirmed <= 2679.00\n",
      "|   |   |--- previous_Confirmed <= 587.00\n",
      "|   |   |   |--- previous_Confirmed <= 164.50\n",
      "|   |   |   |   |--- truncated branch of depth 21\n",
      "|   |   |   |--- previous_Confirmed >  164.50\n",
      "|   |   |   |   |--- truncated branch of depth 14\n",
      "|   |   |--- previous_Confirmed >  587.00\n",
      "|   |   |   |--- previous_Confirmed <= 1199.50\n",
      "|   |   |   |   |--- truncated branch of depth 11\n",
      "|   |   |   |--- previous_Confirmed >  1199.50\n",
      "|   |   |   |   |--- truncated branch of depth 9\n",
      "|   |--- previous_Confirmed >  2679.00\n",
      "|   |   |--- previous_Confirmed <= 5708.00\n",
      "|   |   |   |--- previous_Confirmed <= 4532.50\n",
      "|   |   |   |   |--- truncated branch of depth 6\n",
      "|   |   |   |--- previous_Confirmed >  4532.50\n",
      "|   |   |   |   |--- truncated branch of depth 5\n",
      "|   |   |--- previous_Confirmed >  5708.00\n",
      "|   |   |   |--- Area (sq. mi.) <= 5639710.00\n",
      "|   |   |   |   |--- truncated branch of depth 7\n",
      "|   |   |   |--- Area (sq. mi.) >  5639710.00\n",
      "|   |   |   |   |--- value: [13680.00]\n",
      "|--- previous_Confirmed >  8925.50\n",
      "|   |--- previous_Confirmed <= 30543.50\n",
      "|   |   |--- previous_Confirmed <= 16914.50\n",
      "|   |   |   |--- previous_Confirmed <= 11606.50\n",
      "|   |   |   |   |--- truncated branch of depth 4\n",
      "|   |   |   |--- previous_Confirmed >  11606.50\n",
      "|   |   |   |   |--- truncated branch of depth 7\n",
      "|   |   |--- previous_Confirmed >  16914.50\n",
      "|   |   |   |--- previous_Confirmed <= 20883.50\n",
      "|   |   |   |   |--- truncated branch of depth 6\n",
      "|   |   |   |--- previous_Confirmed >  20883.50\n",
      "|   |   |   |   |--- truncated branch of depth 3\n",
      "|   |--- previous_Confirmed >  30543.50\n",
      "|   |   |--- days_since_first <= 49.50\n",
      "|   |   |   |--- previous_Confirmed <= 38374.00\n",
      "|   |   |   |   |--- value: [41035.00]\n",
      "|   |   |   |--- previous_Confirmed >  38374.00\n",
      "|   |   |   |   |--- value: [47021.00]\n",
      "|   |   |--- days_since_first >  49.50\n",
      "|   |   |   |--- value: [53578.00]\n",
      "\n"
     ]
    }
   ],
   "source": [
    "columns = np.asarray(X.columns)\n",
    "#columns = np.asarray([columns])\n",
    "from sklearn import tree\n",
    "r = tree.export_text(gs.best_estimator_.estimators_[0],feature_names=columns.tolist(), max_depth=3)\n",
    "print(r)"
   ]
  },
  {
   "cell_type": "code",
   "execution_count": 68,
   "metadata": {},
   "outputs": [
    {
     "data": {
      "text/plain": [
       "RandomForestRegressor(bootstrap=True, ccp_alpha=0.0, criterion='mse',\n",
       "                      max_depth=None, max_features='auto', max_leaf_nodes=None,\n",
       "                      max_samples=None, min_impurity_decrease=0.0,\n",
       "                      min_impurity_split=None, min_samples_leaf=1,\n",
       "                      min_samples_split=2, min_weight_fraction_leaf=0.0,\n",
       "                      n_estimators=400, n_jobs=None, oob_score=False,\n",
       "                      random_state=1, verbose=0, warm_start=False)"
      ]
     },
     "execution_count": 68,
     "metadata": {},
     "output_type": "execute_result"
    }
   ],
   "source": [
    "gs.best_estimator_"
   ]
  },
  {
   "cell_type": "markdown",
   "metadata": {},
   "source": [
    "####  Training the model"
   ]
  },
  {
   "cell_type": "code",
   "execution_count": 69,
   "metadata": {},
   "outputs": [],
   "source": [
    "#we establish the model with the best estimator according to Gridsearch results\n",
    "gs = gs.best_estimator_ \n",
    "\n",
    "gs = gs.fit(X_train.to_numpy(),y_train.to_numpy())"
   ]
  },
  {
   "cell_type": "code",
   "execution_count": 70,
   "metadata": {},
   "outputs": [
    {
     "data": {
      "text/plain": [
       "0.9950354977045082"
      ]
     },
     "execution_count": 70,
     "metadata": {},
     "output_type": "execute_result"
    }
   ],
   "source": [
    "#Returns the coefficient of determination R^2 of the prediction.\n",
    "#Explained variance score: 1 is perfect prediction\n",
    "gs.score(X_test.to_numpy(), y_test.to_numpy())"
   ]
  },
  {
   "cell_type": "markdown",
   "metadata": {},
   "source": [
    "#### Testing the model"
   ]
  },
  {
   "cell_type": "code",
   "execution_count": 71,
   "metadata": {},
   "outputs": [],
   "source": [
    "y_pred = gs.predict(X_test.to_numpy())"
   ]
  },
  {
   "cell_type": "code",
   "execution_count": 72,
   "metadata": {},
   "outputs": [
    {
     "data": {
      "text/html": [
       "<div>\n",
       "<style scoped>\n",
       "    .dataframe tbody tr th:only-of-type {\n",
       "        vertical-align: middle;\n",
       "    }\n",
       "\n",
       "    .dataframe tbody tr th {\n",
       "        vertical-align: top;\n",
       "    }\n",
       "\n",
       "    .dataframe thead th {\n",
       "        text-align: right;\n",
       "    }\n",
       "</style>\n",
       "<table border=\"1\" class=\"dataframe\">\n",
       "  <thead>\n",
       "    <tr style=\"text-align: right;\">\n",
       "      <th></th>\n",
       "      <th>Actual</th>\n",
       "      <th>Predicted</th>\n",
       "    </tr>\n",
       "  </thead>\n",
       "  <tbody>\n",
       "    <tr>\n",
       "      <th>0</th>\n",
       "      <td>133</td>\n",
       "      <td>131</td>\n",
       "    </tr>\n",
       "    <tr>\n",
       "      <th>1</th>\n",
       "      <td>1</td>\n",
       "      <td>1</td>\n",
       "    </tr>\n",
       "    <tr>\n",
       "      <th>2</th>\n",
       "      <td>109</td>\n",
       "      <td>92</td>\n",
       "    </tr>\n",
       "    <tr>\n",
       "      <th>3</th>\n",
       "      <td>1</td>\n",
       "      <td>1</td>\n",
       "    </tr>\n",
       "    <tr>\n",
       "      <th>4</th>\n",
       "      <td>10</td>\n",
       "      <td>10</td>\n",
       "    </tr>\n",
       "    <tr>\n",
       "      <th>...</th>\n",
       "      <td>...</td>\n",
       "      <td>...</td>\n",
       "    </tr>\n",
       "    <tr>\n",
       "      <th>567</th>\n",
       "      <td>1</td>\n",
       "      <td>1</td>\n",
       "    </tr>\n",
       "    <tr>\n",
       "      <th>568</th>\n",
       "      <td>134</td>\n",
       "      <td>132</td>\n",
       "    </tr>\n",
       "    <tr>\n",
       "      <th>569</th>\n",
       "      <td>4</td>\n",
       "      <td>4</td>\n",
       "    </tr>\n",
       "    <tr>\n",
       "      <th>570</th>\n",
       "      <td>1</td>\n",
       "      <td>1</td>\n",
       "    </tr>\n",
       "    <tr>\n",
       "      <th>571</th>\n",
       "      <td>15</td>\n",
       "      <td>15</td>\n",
       "    </tr>\n",
       "  </tbody>\n",
       "</table>\n",
       "<p>572 rows × 2 columns</p>\n",
       "</div>"
      ],
      "text/plain": [
       "                  Actual            Predicted\n",
       "0                    133                  131\n",
       "1                      1                    1\n",
       "2                    109                   92\n",
       "3                      1                    1\n",
       "4                     10                   10\n",
       "..                   ...                  ...\n",
       "567                    1                    1\n",
       "568                  134                  132\n",
       "569                    4                    4\n",
       "570                    1                    1\n",
       "571                   15                   15\n",
       "\n",
       "[572 rows x 2 columns]"
      ]
     },
     "execution_count": 72,
     "metadata": {},
     "output_type": "execute_result"
    }
   ],
   "source": [
    "df=pd.DataFrame({'Actual':y_test, 'Predicted':y_pred}).reset_index(drop=True)\n",
    "df"
   ]
  },
  {
   "cell_type": "markdown",
   "metadata": {},
   "source": [
    "#### Evaluation results"
   ]
  },
  {
   "cell_type": "code",
   "execution_count": 73,
   "metadata": {},
   "outputs": [
    {
     "name": "stdout",
     "output_type": "stream",
     "text": [
      "explained_variance_score:  0.9950547759271776\n"
     ]
    }
   ],
   "source": [
    "print(\"explained_variance_score: \",explained_variance_score(y_test, y_pred))"
   ]
  },
  {
   "cell_type": "code",
   "execution_count": 74,
   "metadata": {},
   "outputs": [
    {
     "name": "stdout",
     "output_type": "stream",
     "text": [
      "MAE train:  12.55647376739714\n",
      "MSE train:  12739.658144235762\n",
      "RMSE train:  112.8700941092713\n",
      "r2:  0.9992367123517645\n",
      "MAE test:  14.575479161227033\n",
      "MSE test:  8219.474125974813\n",
      "RMSE test:  90.6613154877802\n",
      "r2:  0.99751466039578\n"
     ]
    }
   ],
   "source": [
    "print(\"MAE train: \", metrics.mean_absolute_error(y_train.to_numpy(), gs.predict(X_train.to_numpy()))) \n",
    "print(\"MSE train: \",metrics.mean_squared_error(y_train.to_numpy(), gs.predict(X_train.to_numpy())))\n",
    "print(\"RMSE train: \",np.sqrt(metrics.mean_squared_error(y_train.to_numpy(), gs.predict(X_train.to_numpy()))))\n",
    "print(\"r2: \",np.sqrt(metrics.r2_score(y_train.to_numpy(), gs.predict(X_train.to_numpy()))))\n",
    "\n",
    "print(\"MAE test: \", metrics.mean_absolute_error(y_test.to_numpy(), gs.predict(X_test.to_numpy()))) \n",
    "print(\"MSE test: \",metrics.mean_squared_error(y_test.to_numpy(), gs.predict(X_test.to_numpy())))\n",
    "print(\"RMSE test: \",np.sqrt(metrics.mean_squared_error(y_test.to_numpy(), gs.predict(X_test.to_numpy()))))\n",
    "print(\"r2: \",np.sqrt(metrics.r2_score(y_test.to_numpy(), gs.predict(X_test.to_numpy()))))"
   ]
  },
  {
   "cell_type": "markdown",
   "metadata": {},
   "source": [
    "## Random Forest Regression -  For different countries"
   ]
  },
  {
   "cell_type": "code",
   "execution_count": 101,
   "metadata": {},
   "outputs": [],
   "source": [
    "import plotly.io as pio"
   ]
  },
  {
   "cell_type": "code",
   "execution_count": 102,
   "metadata": {},
   "outputs": [],
   "source": [
    "plt.style.use('dark_background')"
   ]
  },
  {
   "cell_type": "markdown",
   "metadata": {},
   "source": [
    "### Using Kaggle dataset to cross check the results of future prediction "
   ]
  },
  {
   "cell_type": "code",
   "execution_count": 75,
   "metadata": {},
   "outputs": [],
   "source": [
    "covid_df_kaggle= pd.read_csv(\"covid_19_data_Kaggle.csv\")"
   ]
  },
  {
   "cell_type": "code",
   "execution_count": 76,
   "metadata": {},
   "outputs": [],
   "source": [
    "covid_df_kaggle[\"ObservationDate\"]=pd.to_datetime(covid_df_kaggle[\"ObservationDate\"])"
   ]
  },
  {
   "cell_type": "code",
   "execution_count": 77,
   "metadata": {},
   "outputs": [
    {
     "data": {
      "text/plain": [
       "(13850, 8)"
      ]
     },
     "execution_count": 77,
     "metadata": {},
     "output_type": "execute_result"
    }
   ],
   "source": [
    "covid_df_kaggle.shape"
   ]
  },
  {
   "cell_type": "markdown",
   "metadata": {},
   "source": [
    "### Random Forest Regression - France"
   ]
  },
  {
   "cell_type": "code",
   "execution_count": 82,
   "metadata": {},
   "outputs": [],
   "source": [
    "covid_df_kaggle_France = covid_df_kaggle[covid_df_kaggle[\"Country/Region\"] == \"France\"].groupby(\"ObservationDate\").agg(\n",
    "                {\n",
    "                     'Confirmed':sum,    # Sum duration per group\n",
    "                     'Deaths':sum,    # Sum duration per group\n",
    "                     'Recovered':sum    # Sum duration per group\n",
    "                }).sort_values([\"ObservationDate\"]).reset_index()"
   ]
  },
  {
   "cell_type": "code",
   "execution_count": 83,
   "metadata": {},
   "outputs": [],
   "source": [
    "covid_df_kaggle_France_plt = covid_df_kaggle_France[covid_df_kaggle_France['ObservationDate'] <= '2020-03-26'].reset_index(drop=True)"
   ]
  },
  {
   "cell_type": "code",
   "execution_count": 84,
   "metadata": {},
   "outputs": [
    {
     "data": {
      "text/html": [
       "<div>\n",
       "<style scoped>\n",
       "    .dataframe tbody tr th:only-of-type {\n",
       "        vertical-align: middle;\n",
       "    }\n",
       "\n",
       "    .dataframe tbody tr th {\n",
       "        vertical-align: top;\n",
       "    }\n",
       "\n",
       "    .dataframe thead th {\n",
       "        text-align: right;\n",
       "    }\n",
       "</style>\n",
       "<table border=\"1\" class=\"dataframe\">\n",
       "  <thead>\n",
       "    <tr style=\"text-align: right;\">\n",
       "      <th></th>\n",
       "      <th>predicted_infections</th>\n",
       "      <th>Actual infections</th>\n",
       "      <th>Date</th>\n",
       "    </tr>\n",
       "  </thead>\n",
       "  <tbody>\n",
       "    <tr>\n",
       "      <th>0</th>\n",
       "      <td>18,817</td>\n",
       "      <td>16,214</td>\n",
       "      <td>2020-03-22</td>\n",
       "    </tr>\n",
       "    <tr>\n",
       "      <th>1</th>\n",
       "      <td>23,535</td>\n",
       "      <td>20,123</td>\n",
       "      <td>2020-03-23</td>\n",
       "    </tr>\n",
       "    <tr>\n",
       "      <th>2</th>\n",
       "      <td>28,121</td>\n",
       "      <td>22,622</td>\n",
       "      <td>2020-03-24</td>\n",
       "    </tr>\n",
       "    <tr>\n",
       "      <th>3</th>\n",
       "      <td>32,158</td>\n",
       "      <td>25,600</td>\n",
       "      <td>2020-03-25</td>\n",
       "    </tr>\n",
       "    <tr>\n",
       "      <th>4</th>\n",
       "      <td>38,682</td>\n",
       "      <td>29,551</td>\n",
       "      <td>2020-03-26</td>\n",
       "    </tr>\n",
       "  </tbody>\n",
       "</table>\n",
       "</div>"
      ],
      "text/plain": [
       "   predicted_infections    Actual infections       Date\n",
       "0                18,817               16,214 2020-03-22\n",
       "1                23,535               20,123 2020-03-23\n",
       "2                28,121               22,622 2020-03-24\n",
       "3                32,158               25,600 2020-03-25\n",
       "4                38,682               29,551 2020-03-26"
      ]
     },
     "execution_count": 84,
     "metadata": {},
     "output_type": "execute_result"
    }
   ],
   "source": [
    "filter_condn = (covid_df_kaggle_France['ObservationDate'] > '2020-03-21') & (covid_df_kaggle_France['ObservationDate'] <= '2020-03-26')\n",
    "covid_df_kaggle_France = covid_df_kaggle_France[filter_condn].reset_index(drop=True)\n",
    "covid_df_kaggle_France\n",
    "\n",
    "X_France_df = X[X.index == \"France\"].copy()\n",
    "X_France_test = X_France_df.head().copy()\n",
    "X_France_test=X_France_test.reset_index(drop=True)\n",
    "X_France_test['days_since_first'] = X_France_test['previous_Confirmed'] = X_France_test['increase_rate'] = 0\n",
    "X_France_test.loc[0,'days_since_first'] =  X_France_df[\"days_since_first\"].iloc[-1]+1\n",
    "X_France_test.loc[0,'increase_rate']=X_France_df[\"increase_rate\"].iloc[-1]+1\n",
    "X_France_test.loc[0,'previous_Confirmed'] = y[y.index == \"France\"].max()\n",
    "\n",
    "X_France_test['increase_rate']=X_France_df[\"increase_rate\"].max()\n",
    "\n",
    "\n",
    "for i in range(0,5):\n",
    "    X_France_test.loc[i,'days_since_first'] = X_France_test.loc[0,'days_since_first'] + i\n",
    "\n",
    "X_France_test\n",
    "\n",
    "predictions=[]\n",
    "\n",
    "for i in range(0,5):\n",
    "    pred=int(gs.predict([X_France_test.iloc[i].to_numpy()]))\n",
    "    X_France_test.loc[i+1,'previous_Confirmed']=pred    \n",
    "    predictions.append(pred)\n",
    "\n",
    "pred = pd.DataFrame(predictions)\n",
    "\n",
    "#### Prediction results\n",
    "X_France_test['predicted_infections']= pred.iloc[:, 0] \n",
    "\n",
    "X_France_test[\"ObservationDate\"] = covid_df_kaggle_France[\"ObservationDate\"]\n",
    "covid_df_kaggle_France_plt[\"predicted_infections\"] = covid_df_kaggle_France_plt[\"Confirmed\"] \n",
    "\n",
    "covid_df_kaggle_France_plt.iloc[-5,4] = X_France_test.loc[0,'predicted_infections']\n",
    "covid_df_kaggle_France_plt.iloc[-4,4] = X_France_test.loc[1,'predicted_infections']\n",
    "covid_df_kaggle_France_plt.iloc[-3,4] = X_France_test.loc[2,'predicted_infections']\n",
    "covid_df_kaggle_France_plt.iloc[-2,4] = X_France_test.loc[3,'predicted_infections']\n",
    "covid_df_kaggle_France_plt.iloc[-1,4] = X_France_test.loc[4,'predicted_infections']\n",
    "    \n",
    "\n",
    "X_France_test=X_France_test[{'predicted_infections'}]\n",
    "# Creating new column to have actual predictions and date from Kaggle dataset\n",
    "X_France_test[\"Actual infections\"] = covid_df_kaggle_France[\"Confirmed\"]\n",
    "X_France_test[\"Date\"] = covid_df_kaggle_France[\"ObservationDate\"]\n",
    "X_France_test = X_France_test.iloc[0:5]\n",
    "X_France_test "
   ]
  },
  {
   "cell_type": "code",
   "execution_count": 113,
   "metadata": {},
   "outputs": [
    {
     "data": {
      "text/plain": [
       "(array([737446., 737456., 737463., 737470., 737477., 737485., 737492.,\n",
       "        737499., 737506.]),\n",
       " <a list of 9 Text major ticklabel objects>)"
      ]
     },
     "execution_count": 113,
     "metadata": {},
     "output_type": "execute_result"
    },
    {
     "data": {
      "image/png": "[encoded data removed]",
      "text/plain": [
       "<Figure size 720x360 with 1 Axes>"
      ]
     },
     "metadata": {},
     "output_type": "display_data"
    }
   ],
   "source": [
    "import matplotlib.pyplot as plt\n",
    "\n",
    "plt.figure(figsize=(10,5))\n",
    "plt.plot(covid_df_kaggle_France_plt[\"ObservationDate\"],covid_df_kaggle_France_plt[\"Confirmed\"],label=\"Actual values\",color = \"#9400D3\", marker='o')\n",
    "plt.plot(covid_df_kaggle_France_plt[\"ObservationDate\"],covid_df_kaggle_France_plt[\"predicted_infections\"],color = \"#05eeff\",label=\"Predicted Values\",marker='*')\n",
    "plt.legend()\n",
    "plt.xlabel(\"Date Time\")\n",
    "plt.ylabel('Confirmed Cases')\n",
    "plt.title(\"Confirmed Cases Random Forest Regressor Forecasting\")\n",
    "plt.xticks(rotation=90)"
   ]
  },
  {
   "cell_type": "markdown",
   "metadata": {},
   "source": [
    "### Random Forest Regression - Spain"
   ]
  },
  {
   "cell_type": "code",
   "execution_count": 138,
   "metadata": {},
   "outputs": [],
   "source": [
    "covid_df_kaggle_Spain = covid_df_kaggle[covid_df_kaggle[\"Country/Region\"] == \"Spain\"].groupby(\"ObservationDate\").agg(\n",
    "                {\n",
    "                     'Confirmed':sum,    # Sum duration per group\n",
    "                     'Deaths':sum,    # Sum duration per group\n",
    "                     'Recovered':sum    # Sum duration per group\n",
    "                }).sort_values([\"ObservationDate\"]).reset_index()"
   ]
  },
  {
   "cell_type": "code",
   "execution_count": 139,
   "metadata": {},
   "outputs": [
    {
     "data": {
      "text/html": [
       "<div>\n",
       "<style scoped>\n",
       "    .dataframe tbody tr th:only-of-type {\n",
       "        vertical-align: middle;\n",
       "    }\n",
       "\n",
       "    .dataframe tbody tr th {\n",
       "        vertical-align: top;\n",
       "    }\n",
       "\n",
       "    .dataframe thead th {\n",
       "        text-align: right;\n",
       "    }\n",
       "</style>\n",
       "<table border=\"1\" class=\"dataframe\">\n",
       "  <thead>\n",
       "    <tr style=\"text-align: right;\">\n",
       "      <th></th>\n",
       "      <th>predicted_infections</th>\n",
       "      <th>Actual infections</th>\n",
       "      <th>Date</th>\n",
       "    </tr>\n",
       "  </thead>\n",
       "  <tbody>\n",
       "    <tr>\n",
       "      <th>0</th>\n",
       "      <td>33,399</td>\n",
       "      <td>28,603</td>\n",
       "      <td>2020-03-22</td>\n",
       "    </tr>\n",
       "    <tr>\n",
       "      <th>1</th>\n",
       "      <td>39,150</td>\n",
       "      <td>35,136</td>\n",
       "      <td>2020-03-23</td>\n",
       "    </tr>\n",
       "    <tr>\n",
       "      <th>2</th>\n",
       "      <td>46,449</td>\n",
       "      <td>39,885</td>\n",
       "      <td>2020-03-24</td>\n",
       "    </tr>\n",
       "    <tr>\n",
       "      <th>3</th>\n",
       "      <td>51,092</td>\n",
       "      <td>49,515</td>\n",
       "      <td>2020-03-25</td>\n",
       "    </tr>\n",
       "    <tr>\n",
       "      <th>4</th>\n",
       "      <td>52,245</td>\n",
       "      <td>57,786</td>\n",
       "      <td>2020-03-26</td>\n",
       "    </tr>\n",
       "  </tbody>\n",
       "</table>\n",
       "</div>"
      ],
      "text/plain": [
       "   predicted_infections    Actual infections       Date\n",
       "0                33,399               28,603 2020-03-22\n",
       "1                39,150               35,136 2020-03-23\n",
       "2                46,449               39,885 2020-03-24\n",
       "3                51,092               49,515 2020-03-25\n",
       "4                52,245               57,786 2020-03-26"
      ]
     },
     "execution_count": 139,
     "metadata": {},
     "output_type": "execute_result"
    }
   ],
   "source": [
    "covid_df_kaggle_Spain_plt = covid_df_kaggle_Spain[covid_df_kaggle_Spain['ObservationDate'] <= '2020-03-26'].reset_index(drop=True)\n",
    "\n",
    "filter_condn = (covid_df_kaggle_Spain['ObservationDate'] > '2020-03-21') & (covid_df_kaggle_Spain['ObservationDate'] <= '2020-03-26')\n",
    "covid_df_kaggle_Spain = covid_df_kaggle_Spain[filter_condn].reset_index(drop=True)\n",
    "covid_df_kaggle_Spain\n",
    "\n",
    "X_Spain_df = X[X.index == \"Spain\"].copy()\n",
    "X_Spain_test = X_Spain_df.head().copy()\n",
    "X_Spain_test=X_Spain_test.reset_index(drop=True)\n",
    "X_Spain_test['days_since_first'] = X_Spain_test['previous_Confirmed'] = X_Spain_test['increase_rate'] = 0\n",
    "X_Spain_test.loc[0,'days_since_first'] =  X_Spain_df[\"days_since_first\"].iloc[-1]+1\n",
    "X_Spain_test.loc[0,'increase_rate']=X_Spain_df[\"increase_rate\"].iloc[-1]+1\n",
    "X_Spain_test.loc[0,'previous_Confirmed'] = y[y.index == \"Spain\"].max()\n",
    "\n",
    "X_Spain_test['increase_rate']=X_Spain_df[\"increase_rate\"].max()\n",
    "\n",
    "\n",
    "for i in range(0,5):\n",
    "    X_Spain_test.loc[i,'days_since_first'] = X_Spain_test.loc[0,'days_since_first'] + i\n",
    "\n",
    "X_Spain_test\n",
    "\n",
    "predictions=[]\n",
    "\n",
    "for i in range(0,5):\n",
    "    pred=int(gs.predict([X_Spain_test.iloc[i].to_numpy()]))\n",
    "    X_Spain_test.loc[i+1,'previous_Confirmed']=pred    \n",
    "    predictions.append(pred)\n",
    "\n",
    "pred = pd.DataFrame(predictions)\n",
    "\n",
    "#### Prediction results\n",
    "X_Spain_test['predicted_infections']= pred.iloc[:, 0] \n",
    "\n",
    "X_Spain_test[\"ObservationDate\"] = covid_df_kaggle_Spain[\"ObservationDate\"]\n",
    "covid_df_kaggle_Spain_plt[\"predicted_infections\"] = covid_df_kaggle_Spain_plt[\"Confirmed\"] \n",
    "\n",
    "covid_df_kaggle_Spain_plt.iloc[-5,4] = X_Spain_test.loc[0,'predicted_infections']\n",
    "covid_df_kaggle_Spain_plt.iloc[-4,4] = X_Spain_test.loc[1,'predicted_infections']\n",
    "covid_df_kaggle_Spain_plt.iloc[-3,4] = X_Spain_test.loc[2,'predicted_infections']\n",
    "covid_df_kaggle_Spain_plt.iloc[-2,4] = X_Spain_test.loc[3,'predicted_infections']\n",
    "covid_df_kaggle_Spain_plt.iloc[-1,4] = X_Spain_test.loc[4,'predicted_infections']\n",
    "    \n",
    "\n",
    "X_Spain_test=X_Spain_test[{'predicted_infections'}]\n",
    "# Creating new column to have actual predictions and date from Kaggle dataset\n",
    "X_Spain_test[\"Actual infections\"] = covid_df_kaggle_Spain[\"Confirmed\"]\n",
    "X_Spain_test[\"Date\"] = covid_df_kaggle_Spain[\"ObservationDate\"]\n",
    "X_Spain_test = X_Spain_test.iloc[0:5]\n",
    "X_Spain_test "
   ]
  },
  {
   "cell_type": "code",
   "execution_count": 140,
   "metadata": {},
   "outputs": [
    {
     "data": {
      "text/plain": [
       "(array([737456., 737463., 737470., 737477., 737485., 737492., 737499.,\n",
       "        737506.]),\n",
       " <a list of 8 Text major ticklabel objects>)"
      ]
     },
     "execution_count": 140,
     "metadata": {},
     "output_type": "execute_result"
    },
    {
     "data": {
      "image/png": "[encoded data removed]",
      "text/plain": [
       "<Figure size 720x360 with 1 Axes>"
      ]
     },
     "metadata": {},
     "output_type": "display_data"
    }
   ],
   "source": [
    "import matplotlib.pyplot as plt\n",
    "\n",
    "plt.figure(figsize=(10,5))\n",
    "plt.plot(covid_df_kaggle_Spain_plt[\"ObservationDate\"],covid_df_kaggle_Spain_plt[\"Confirmed\"],label=\"Actual values\", color = \"#9400D3\", marker='o')\n",
    "plt.plot(covid_df_kaggle_Spain_plt[\"ObservationDate\"],covid_df_kaggle_Spain_plt[\"predicted_infections\"],color = \"#05eeff\",label=\"Predicted Values\",marker='*')\n",
    "plt.legend()\n",
    "plt.xlabel(\"Date Time\")\n",
    "plt.ylabel('Confirmed Cases')\n",
    "plt.title(\"Confirmed Cases Random Forest Regressor Forecasting\")\n",
    "plt.xticks(rotation=90)"
   ]
  },
  {
   "cell_type": "markdown",
   "metadata": {},
   "source": [
    "### Random Forest Regression - Germany"
   ]
  },
  {
   "cell_type": "code",
   "execution_count": 89,
   "metadata": {},
   "outputs": [],
   "source": [
    "covid_df_kaggle_Germany = covid_df_kaggle[covid_df_kaggle[\"Country/Region\"] == \"Germany\"].groupby(\"ObservationDate\").agg(\n",
    "                {\n",
    "                     'Confirmed':sum,    # Sum duration per group\n",
    "                     'Deaths':sum,    # Sum duration per group\n",
    "                     'Recovered':sum    # Sum duration per group\n",
    "                }).sort_values([\"ObservationDate\"]).reset_index()"
   ]
  },
  {
   "cell_type": "code",
   "execution_count": 90,
   "metadata": {},
   "outputs": [
    {
     "data": {
      "text/html": [
       "<div>\n",
       "<style scoped>\n",
       "    .dataframe tbody tr th:only-of-type {\n",
       "        vertical-align: middle;\n",
       "    }\n",
       "\n",
       "    .dataframe tbody tr th {\n",
       "        vertical-align: top;\n",
       "    }\n",
       "\n",
       "    .dataframe thead th {\n",
       "        text-align: right;\n",
       "    }\n",
       "</style>\n",
       "<table border=\"1\" class=\"dataframe\">\n",
       "  <thead>\n",
       "    <tr style=\"text-align: right;\">\n",
       "      <th></th>\n",
       "      <th>predicted_infections</th>\n",
       "      <th>Actual infections</th>\n",
       "      <th>Date</th>\n",
       "    </tr>\n",
       "  </thead>\n",
       "  <tbody>\n",
       "    <tr>\n",
       "      <th>0</th>\n",
       "      <td>29,107</td>\n",
       "      <td>24,873</td>\n",
       "      <td>2020-03-22</td>\n",
       "    </tr>\n",
       "    <tr>\n",
       "      <th>1</th>\n",
       "      <td>33,874</td>\n",
       "      <td>29,056</td>\n",
       "      <td>2020-03-23</td>\n",
       "    </tr>\n",
       "    <tr>\n",
       "      <th>2</th>\n",
       "      <td>41,471</td>\n",
       "      <td>32,986</td>\n",
       "      <td>2020-03-24</td>\n",
       "    </tr>\n",
       "    <tr>\n",
       "      <th>3</th>\n",
       "      <td>49,317</td>\n",
       "      <td>37,323</td>\n",
       "      <td>2020-03-25</td>\n",
       "    </tr>\n",
       "    <tr>\n",
       "      <th>4</th>\n",
       "      <td>51,765</td>\n",
       "      <td>43,938</td>\n",
       "      <td>2020-03-26</td>\n",
       "    </tr>\n",
       "  </tbody>\n",
       "</table>\n",
       "</div>"
      ],
      "text/plain": [
       "   predicted_infections    Actual infections       Date\n",
       "0                29,107               24,873 2020-03-22\n",
       "1                33,874               29,056 2020-03-23\n",
       "2                41,471               32,986 2020-03-24\n",
       "3                49,317               37,323 2020-03-25\n",
       "4                51,765               43,938 2020-03-26"
      ]
     },
     "execution_count": 90,
     "metadata": {},
     "output_type": "execute_result"
    }
   ],
   "source": [
    "covid_df_kaggle_Germany_plt = covid_df_kaggle_Germany[covid_df_kaggle_Germany['ObservationDate'] <= '2020-03-26'].reset_index(drop=True)\n",
    "\n",
    "filter_condn = (covid_df_kaggle_Germany['ObservationDate'] > '2020-03-21') & (covid_df_kaggle_Germany['ObservationDate'] <= '2020-03-26')\n",
    "covid_df_kaggle_Germany = covid_df_kaggle_Germany[filter_condn].reset_index(drop=True)\n",
    "covid_df_kaggle_Germany\n",
    "\n",
    "X_Germany_df = X[X.index == \"Germany\"].copy()\n",
    "X_Germany_test = X_Germany_df.head().copy()\n",
    "X_Germany_test=X_Germany_test.reset_index(drop=True)\n",
    "X_Germany_test['days_since_first'] = X_Germany_test['previous_Confirmed'] = X_Germany_test['increase_rate'] = 0\n",
    "X_Germany_test.loc[0,'days_since_first'] =  X_Germany_df[\"days_since_first\"].iloc[-1]+1\n",
    "X_Germany_test.loc[0,'increase_rate']=X_Germany_df[\"increase_rate\"].iloc[-1]+1\n",
    "X_Germany_test.loc[0,'previous_Confirmed'] = y[y.index == \"Germany\"].max()\n",
    "\n",
    "X_Germany_test['increase_rate']=X_Germany_df[\"increase_rate\"].max()\n",
    "\n",
    "\n",
    "for i in range(0,5):\n",
    "    X_Germany_test.loc[i,'days_since_first'] = X_Germany_test.loc[0,'days_since_first'] + i\n",
    "\n",
    "X_Germany_test\n",
    "\n",
    "predictions=[]\n",
    "\n",
    "for i in range(0,5):\n",
    "    pred=int(gs.predict([X_Germany_test.iloc[i].to_numpy()]))\n",
    "    X_Germany_test.loc[i+1,'previous_Confirmed']=pred    \n",
    "    predictions.append(pred)\n",
    "\n",
    "pred = pd.DataFrame(predictions)\n",
    "\n",
    "#### Prediction results\n",
    "X_Germany_test['predicted_infections']= pred.iloc[:, 0] \n",
    "\n",
    "X_Germany_test[\"ObservationDate\"] = covid_df_kaggle_Germany[\"ObservationDate\"]\n",
    "covid_df_kaggle_Germany_plt[\"predicted_infections\"] = covid_df_kaggle_Germany_plt[\"Confirmed\"] \n",
    "\n",
    "covid_df_kaggle_Germany_plt.iloc[-5,4] = X_Germany_test.loc[0,'predicted_infections']\n",
    "covid_df_kaggle_Germany_plt.iloc[-4,4] = X_Germany_test.loc[1,'predicted_infections']\n",
    "covid_df_kaggle_Germany_plt.iloc[-3,4] = X_Germany_test.loc[2,'predicted_infections']\n",
    "covid_df_kaggle_Germany_plt.iloc[-2,4] = X_Germany_test.loc[3,'predicted_infections']\n",
    "covid_df_kaggle_Germany_plt.iloc[-1,4] = X_Germany_test.loc[4,'predicted_infections']\n",
    "    \n",
    "\n",
    "X_Germany_test=X_Germany_test[{'predicted_infections'}]\n",
    "# Creating new column to have actual predictions and date from Kaggle dataset\n",
    "X_Germany_test[\"Actual infections\"] = covid_df_kaggle_Germany[\"Confirmed\"]\n",
    "X_Germany_test[\"Date\"] = covid_df_kaggle_Germany[\"ObservationDate\"]\n",
    "X_Germany_test = X_Germany_test.iloc[0:5]\n",
    "X_Germany_test "
   ]
  },
  {
   "cell_type": "code",
   "execution_count": 115,
   "metadata": {},
   "outputs": [
    {
     "data": {
      "text/plain": [
       "(array([737456., 737463., 737470., 737477., 737485., 737492., 737499.,\n",
       "        737506.]),\n",
       " <a list of 8 Text major ticklabel objects>)"
      ]
     },
     "execution_count": 115,
     "metadata": {},
     "output_type": "execute_result"
    },
    {
     "data": {
      "image/png": "[encoded data removed]",
      "text/plain": [
       "<Figure size 720x360 with 1 Axes>"
      ]
     },
     "metadata": {},
     "output_type": "display_data"
    }
   ],
   "source": [
    "import matplotlib.pyplot as plt\n",
    "\n",
    "plt.figure(figsize=(10,5))\n",
    "plt.plot(covid_df_kaggle_Germany_plt[\"ObservationDate\"],covid_df_kaggle_Germany_plt[\"Confirmed\"],label=\"Actual values\", color = \"#9400D3\",marker='o')\n",
    "plt.plot(covid_df_kaggle_Germany_plt[\"ObservationDate\"],covid_df_kaggle_Germany_plt[\"predicted_infections\"],label=\"Predicted Values\",marker='*')\n",
    "plt.legend()\n",
    "plt.xlabel(\"Date Time\")\n",
    "plt.ylabel('Confirmed Cases')\n",
    "plt.title(\"Confirmed Cases Random Forest Regressor Forecasting\")\n",
    "plt.xticks(rotation=90)"
   ]
  },
  {
   "cell_type": "markdown",
   "metadata": {},
   "source": [
    "### Random Forest Regression - Switzerland"
   ]
  },
  {
   "cell_type": "code",
   "execution_count": 92,
   "metadata": {},
   "outputs": [],
   "source": [
    "covid_df_kaggle_Switzerland = covid_df_kaggle[covid_df_kaggle[\"Country/Region\"] == \"Switzerland\"].groupby(\"ObservationDate\").agg(\n",
    "                {\n",
    "                     'Confirmed':sum,    # Sum duration per group\n",
    "                     'Deaths':sum,    # Sum duration per group\n",
    "                     'Recovered':sum    # Sum duration per group\n",
    "                }).sort_values([\"ObservationDate\"]).reset_index()"
   ]
  },
  {
   "cell_type": "code",
   "execution_count": 93,
   "metadata": {},
   "outputs": [
    {
     "data": {
      "text/html": [
       "<div>\n",
       "<style scoped>\n",
       "    .dataframe tbody tr th:only-of-type {\n",
       "        vertical-align: middle;\n",
       "    }\n",
       "\n",
       "    .dataframe tbody tr th {\n",
       "        vertical-align: top;\n",
       "    }\n",
       "\n",
       "    .dataframe thead th {\n",
       "        text-align: right;\n",
       "    }\n",
       "</style>\n",
       "<table border=\"1\" class=\"dataframe\">\n",
       "  <thead>\n",
       "    <tr style=\"text-align: right;\">\n",
       "      <th></th>\n",
       "      <th>predicted_infections</th>\n",
       "      <th>Actual infections</th>\n",
       "      <th>Date</th>\n",
       "    </tr>\n",
       "  </thead>\n",
       "  <tbody>\n",
       "    <tr>\n",
       "      <th>0</th>\n",
       "      <td>9,265</td>\n",
       "      <td>7,474</td>\n",
       "      <td>2020-03-22</td>\n",
       "    </tr>\n",
       "    <tr>\n",
       "      <th>1</th>\n",
       "      <td>11,960</td>\n",
       "      <td>8,795</td>\n",
       "      <td>2020-03-23</td>\n",
       "    </tr>\n",
       "    <tr>\n",
       "      <th>2</th>\n",
       "      <td>15,833</td>\n",
       "      <td>9,877</td>\n",
       "      <td>2020-03-24</td>\n",
       "    </tr>\n",
       "    <tr>\n",
       "      <th>3</th>\n",
       "      <td>19,015</td>\n",
       "      <td>10,897</td>\n",
       "      <td>2020-03-25</td>\n",
       "    </tr>\n",
       "    <tr>\n",
       "      <th>4</th>\n",
       "      <td>22,989</td>\n",
       "      <td>11,811</td>\n",
       "      <td>2020-03-26</td>\n",
       "    </tr>\n",
       "  </tbody>\n",
       "</table>\n",
       "</div>"
      ],
      "text/plain": [
       "   predicted_infections    Actual infections       Date\n",
       "0                 9,265                7,474 2020-03-22\n",
       "1                11,960                8,795 2020-03-23\n",
       "2                15,833                9,877 2020-03-24\n",
       "3                19,015               10,897 2020-03-25\n",
       "4                22,989               11,811 2020-03-26"
      ]
     },
     "execution_count": 93,
     "metadata": {},
     "output_type": "execute_result"
    }
   ],
   "source": [
    "covid_df_kaggle_Switzerland_plt = covid_df_kaggle_Switzerland[covid_df_kaggle_Switzerland['ObservationDate'] <= '2020-03-26'].reset_index(drop=True)\n",
    "\n",
    "filter_condn = (covid_df_kaggle_Switzerland['ObservationDate'] > '2020-03-21') & (covid_df_kaggle_Switzerland['ObservationDate'] <= '2020-03-26')\n",
    "covid_df_kaggle_Switzerland = covid_df_kaggle_Switzerland[filter_condn].reset_index(drop=True)\n",
    "covid_df_kaggle_Switzerland\n",
    "\n",
    "X_Switzerland_df = X[X.index == \"Switzerland\"].copy()\n",
    "X_Switzerland_test = X_Switzerland_df.head().copy()\n",
    "X_Switzerland_test=X_Switzerland_test.reset_index(drop=True)\n",
    "X_Switzerland_test['days_since_first'] = X_Switzerland_test['previous_Confirmed'] = X_Switzerland_test['increase_rate'] = 0\n",
    "X_Switzerland_test.loc[0,'days_since_first'] =  X_Switzerland_df[\"days_since_first\"].iloc[-1]+1\n",
    "X_Switzerland_test.loc[0,'increase_rate']=X_Switzerland_df[\"increase_rate\"].iloc[-1]+1\n",
    "X_Switzerland_test.loc[0,'previous_Confirmed'] = y[y.index == \"Switzerland\"].max()\n",
    "\n",
    "X_Switzerland_test['increase_rate']=X_Switzerland_df[\"increase_rate\"].max()\n",
    "\n",
    "\n",
    "for i in range(0,5):\n",
    "    X_Switzerland_test.loc[i,'days_since_first'] = X_Switzerland_test.loc[0,'days_since_first'] + i\n",
    "\n",
    "X_Switzerland_test\n",
    "\n",
    "predictions=[]\n",
    "\n",
    "for i in range(0,5):\n",
    "    pred=int(gs.predict([X_Switzerland_test.iloc[i].to_numpy()]))\n",
    "    X_Switzerland_test.loc[i+1,'previous_Confirmed']=pred    \n",
    "    predictions.append(pred)\n",
    "\n",
    "pred = pd.DataFrame(predictions)\n",
    "\n",
    "#### Prediction results\n",
    "X_Switzerland_test['predicted_infections']= pred.iloc[:, 0] \n",
    "\n",
    "X_Switzerland_test[\"ObservationDate\"] = covid_df_kaggle_Switzerland[\"ObservationDate\"]\n",
    "covid_df_kaggle_Switzerland_plt[\"predicted_infections\"] = covid_df_kaggle_Switzerland_plt[\"Confirmed\"] \n",
    "\n",
    "covid_df_kaggle_Switzerland_plt.iloc[-5,4] = X_Switzerland_test.loc[0,'predicted_infections']\n",
    "covid_df_kaggle_Switzerland_plt.iloc[-4,4] = X_Switzerland_test.loc[1,'predicted_infections']\n",
    "covid_df_kaggle_Switzerland_plt.iloc[-3,4] = X_Switzerland_test.loc[2,'predicted_infections']\n",
    "covid_df_kaggle_Switzerland_plt.iloc[-2,4] = X_Switzerland_test.loc[3,'predicted_infections']\n",
    "covid_df_kaggle_Switzerland_plt.iloc[-1,4] = X_Switzerland_test.loc[4,'predicted_infections']\n",
    "    \n",
    "\n",
    "X_Switzerland_test=X_Switzerland_test[{'predicted_infections'}]\n",
    "# Creating new column to have actual predictions and date from Kaggle dataset\n",
    "X_Switzerland_test[\"Actual infections\"] = covid_df_kaggle_Switzerland[\"Confirmed\"]\n",
    "X_Switzerland_test[\"Date\"] = covid_df_kaggle_Switzerland[\"ObservationDate\"]\n",
    "X_Switzerland_test = X_Switzerland_test.iloc[0:5]\n",
    "X_Switzerland_test "
   ]
  },
  {
   "cell_type": "code",
   "execution_count": 116,
   "metadata": {},
   "outputs": [
    {
     "data": {
      "text/plain": [
       "(array([737456., 737463., 737470., 737477., 737485., 737492., 737499.,\n",
       "        737506.]),\n",
       " <a list of 8 Text major ticklabel objects>)"
      ]
     },
     "execution_count": 116,
     "metadata": {},
     "output_type": "execute_result"
    },
    {
     "data": {
      "image/png": "[encoded data removed]",
      "text/plain": [
       "<Figure size 720x360 with 1 Axes>"
      ]
     },
     "metadata": {},
     "output_type": "display_data"
    }
   ],
   "source": [
    "import matplotlib.pyplot as plt\n",
    "\n",
    "plt.figure(figsize=(10,5))\n",
    "plt.plot(covid_df_kaggle_Germany_plt[\"ObservationDate\"],covid_df_kaggle_Germany_plt[\"Confirmed\"],label=\"Actual values\",color = \"#9400D3\",marker='o')\n",
    "plt.plot(covid_df_kaggle_Germany_plt[\"ObservationDate\"],covid_df_kaggle_Germany_plt[\"predicted_infections\"],label=\"Predicted Values\",marker='*')\n",
    "plt.legend()\n",
    "plt.xlabel(\"Date Time\")\n",
    "plt.ylabel('Confirmed Cases')\n",
    "plt.title(\"Confirmed Cases Random Forest Regressor Forecasting\")\n",
    "plt.xticks(rotation=90)"
   ]
  },
  {
   "cell_type": "code",
   "execution_count": null,
   "metadata": {},
   "outputs": [],
   "source": []
  },
  {
   "cell_type": "markdown",
   "metadata": {},
   "source": [
    "### Random Forest Regression - Italy"
   ]
  },
  {
   "cell_type": "code",
   "execution_count": 171,
   "metadata": {},
   "outputs": [],
   "source": [
    "covid_df_kaggle_Italy = covid_df_kaggle[covid_df_kaggle[\"Country/Region\"] == \"Italy\"].groupby(\"ObservationDate\").agg(\n",
    "                {\n",
    "                     'Confirmed':sum,    # Sum duration per group\n",
    "                     'Deaths':sum,    # Sum duration per group\n",
    "                     'Recovered':sum    # Sum duration per group\n",
    "                }).sort_values([\"ObservationDate\"]).reset_index()"
   ]
  },
  {
   "cell_type": "code",
   "execution_count": 172,
   "metadata": {},
   "outputs": [],
   "source": [
    "covid_df_kaggle_Italy_plt = covid_df_kaggle_Italy[covid_df_kaggle_Italy['ObservationDate'] <= '2020-03-26'].reset_index(drop=True)"
   ]
  },
  {
   "cell_type": "code",
   "execution_count": 173,
   "metadata": {
    "scrolled": true
   },
   "outputs": [
    {
     "data": {
      "text/html": [
       "<div>\n",
       "<style scoped>\n",
       "    .dataframe tbody tr th:only-of-type {\n",
       "        vertical-align: middle;\n",
       "    }\n",
       "\n",
       "    .dataframe tbody tr th {\n",
       "        vertical-align: top;\n",
       "    }\n",
       "\n",
       "    .dataframe thead th {\n",
       "        text-align: right;\n",
       "    }\n",
       "</style>\n",
       "<table border=\"1\" class=\"dataframe\">\n",
       "  <thead>\n",
       "    <tr style=\"text-align: right;\">\n",
       "      <th></th>\n",
       "      <th>predicted_infections</th>\n",
       "      <th>Actual infections</th>\n",
       "      <th>Date</th>\n",
       "    </tr>\n",
       "  </thead>\n",
       "  <tbody>\n",
       "    <tr>\n",
       "      <th>0</th>\n",
       "      <td>52,420</td>\n",
       "      <td>59,138</td>\n",
       "      <td>2020-03-22</td>\n",
       "    </tr>\n",
       "    <tr>\n",
       "      <th>1</th>\n",
       "      <td>52,420</td>\n",
       "      <td>63,927</td>\n",
       "      <td>2020-03-23</td>\n",
       "    </tr>\n",
       "    <tr>\n",
       "      <th>2</th>\n",
       "      <td>52,420</td>\n",
       "      <td>69,176</td>\n",
       "      <td>2020-03-24</td>\n",
       "    </tr>\n",
       "    <tr>\n",
       "      <th>3</th>\n",
       "      <td>52,382</td>\n",
       "      <td>74,386</td>\n",
       "      <td>2020-03-25</td>\n",
       "    </tr>\n",
       "    <tr>\n",
       "      <th>4</th>\n",
       "      <td>52,382</td>\n",
       "      <td>80,589</td>\n",
       "      <td>2020-03-26</td>\n",
       "    </tr>\n",
       "  </tbody>\n",
       "</table>\n",
       "</div>"
      ],
      "text/plain": [
       "   predicted_infections    Actual infections       Date\n",
       "0                52,420               59,138 2020-03-22\n",
       "1                52,420               63,927 2020-03-23\n",
       "2                52,420               69,176 2020-03-24\n",
       "3                52,382               74,386 2020-03-25\n",
       "4                52,382               80,589 2020-03-26"
      ]
     },
     "execution_count": 173,
     "metadata": {},
     "output_type": "execute_result"
    }
   ],
   "source": [
    "filter_condn = (covid_df_kaggle_Italy['ObservationDate'] > '2020-03-21') & (covid_df_kaggle_Italy['ObservationDate'] <= '2020-03-26')\n",
    "covid_df_kaggle_Italy = covid_df_kaggle_Italy[filter_condn].reset_index(drop=True)\n",
    "covid_df_kaggle_Italy\n",
    "\n",
    "X_Italy_df = X[X.index == \"Italy\"].copy()\n",
    "X_Italy_test = X_Italy_df.head().copy()\n",
    "X_Italy_test=X_Italy_test.reset_index(drop=True)\n",
    "X_Italy_test['days_since_first'] = X_Italy_test['previous_Confirmed'] = X_Italy_test['increase_rate'] = 0\n",
    "X_Italy_test.loc[0,'days_since_first'] =  X_Italy_df[\"days_since_first\"].iloc[-1]+1\n",
    "X_Italy_test.loc[0,'increase_rate']=X_Italy_df[\"increase_rate\"].iloc[-1]+1\n",
    "X_Italy_test.loc[0,'previous_Confirmed'] = y[y.index == \"Italy\"].max()\n",
    "\n",
    "X_Italy_test['increase_rate']=X_Italy_df[\"increase_rate\"].max()\n",
    "\n",
    "\n",
    "for i in range(0,5):\n",
    "    X_Italy_test.loc[i,'days_since_first'] = X_Italy_test.loc[0,'days_since_first'] + i\n",
    "\n",
    "X_Italy_test\n",
    "\n",
    "predictions=[]\n",
    "\n",
    "for i in range(0,5):\n",
    "    pred=int(gs.predict([X_Italy_test.iloc[i].to_numpy()]))\n",
    "    X_Italy_test.loc[i+1,'previous_Confirmed']=pred    \n",
    "    predictions.append(pred)\n",
    "\n",
    "pred = pd.DataFrame(predictions)\n",
    "\n",
    "#### Prediction results\n",
    "X_Italy_test['predicted_infections']= pred.iloc[:, 0] \n",
    "\n",
    "X_Italy_test[\"ObservationDate\"] = covid_df_kaggle_Italy[\"ObservationDate\"]\n",
    "covid_df_kaggle_Italy_plt[\"predicted_infections\"] = covid_df_kaggle_Italy_plt[\"Confirmed\"] \n",
    "\n",
    "covid_df_kaggle_Italy_plt.iloc[-5,4] = X_Italy_test.loc[0,'predicted_infections']\n",
    "covid_df_kaggle_Italy_plt.iloc[-4,4] = X_Italy_test.loc[1,'predicted_infections']\n",
    "covid_df_kaggle_Italy_plt.iloc[-3,4] = X_Italy_test.loc[2,'predicted_infections']\n",
    "covid_df_kaggle_Italy_plt.iloc[-2,4] = X_Italy_test.loc[3,'predicted_infections']\n",
    "covid_df_kaggle_Italy_plt.iloc[-1,4] = X_Italy_test.loc[4,'predicted_infections']\n",
    "    \n",
    "\n",
    "X_Italy_test=X_Italy_test[{'predicted_infections'}]\n",
    "# Creating new column to have actual predictions and date from Kaggle dataset\n",
    "X_Italy_test[\"Actual infections\"] = covid_df_kaggle_Italy[\"Confirmed\"]\n",
    "X_Italy_test[\"Date\"] = covid_df_kaggle_Italy[\"ObservationDate\"]\n",
    "X_Italy_test = X_Italy_test.iloc[0:5]\n",
    "X_Italy_test \n"
   ]
  },
  {
   "cell_type": "code",
   "execution_count": 174,
   "metadata": {
    "scrolled": true
   },
   "outputs": [
    {
     "data": {
      "text/plain": [
       "(array([737456., 737463., 737470., 737477., 737485., 737492., 737499.,\n",
       "        737506.]),\n",
       " <a list of 8 Text major ticklabel objects>)"
      ]
     },
     "execution_count": 174,
     "metadata": {},
     "output_type": "execute_result"
    },
    {
     "data": {
      "image/png": "[encoded data removed]",
      "text/plain": [
       "<Figure size 720x360 with 1 Axes>"
      ]
     },
     "metadata": {},
     "output_type": "display_data"
    }
   ],
   "source": [
    "import matplotlib.pyplot as plt\n",
    "\n",
    "plt.figure(figsize=(10,5))\n",
    "plt.plot(covid_df_kaggle_Italy_plt[\"ObservationDate\"],covid_df_kaggle_Italy_plt[\"Confirmed\"],label=\"Actual values\",color = \"#9400D3\", marker='o')\n",
    "plt.plot(covid_df_kaggle_Italy_plt[\"ObservationDate\"],covid_df_kaggle_Italy_plt[\"predicted_infections\"],label=\"Predicted Values\", color = \"#05eeff\", marker='*')\n",
    "plt.legend()\n",
    "plt.xlabel(\"Date Time\")\n",
    "plt.ylabel('Confirmed Cases')\n",
    "plt.title(\"Confirmed Cases Random Forest Regressor Forecasting\")\n",
    "plt.xticks(rotation=90)"
   ]
  },
  {
   "cell_type": "code",
   "execution_count": 100,
   "metadata": {},
   "outputs": [],
   "source": []
  },
  {
   "cell_type": "code",
   "execution_count": null,
   "metadata": {},
   "outputs": [],
   "source": []
  }
 ],
 "metadata": {
  "kernelspec": {
   "display_name": "Python 3",
   "language": "python",
   "name": "python3"
  },
  "language_info": {
   "codemirror_mode": {
    "name": "ipython",
    "version": 3
   },
   "file_extension": ".py",
   "mimetype": "text/x-python",
   "name": "python",
   "nbconvert_exporter": "python",
   "pygments_lexer": "ipython3",
   "version": "3.7.6"
  }
 },
 "nbformat": 4,
 "nbformat_minor": 2
}
