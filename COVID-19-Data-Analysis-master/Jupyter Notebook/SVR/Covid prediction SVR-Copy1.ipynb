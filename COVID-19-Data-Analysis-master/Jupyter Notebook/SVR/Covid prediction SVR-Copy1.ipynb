{
 "cells": [
  {
   "cell_type": "markdown",
   "metadata": {},
   "source": [
    "# Covid 19 - predictions"
   ]
  },
  {
   "cell_type": "markdown",
   "metadata": {},
   "source": [
    "### Libraries"
   ]
  },
  {
   "cell_type": "code",
   "execution_count": 1,
   "metadata": {},
   "outputs": [],
   "source": [
    "import pandas as pd\n",
    "import pandas_profiling\n",
    "import pandas as pd \n",
    "import random\n",
    "import math\n",
    "import time"
   ]
  },
  {
   "cell_type": "code",
   "execution_count": 2,
   "metadata": {},
   "outputs": [],
   "source": [
    "import numpy as np \n",
    "import matplotlib.pyplot as plt\n",
    "import matplotlib.colors as mcolors\n",
    "import seaborn as sns\n",
    "plt.style.use('fivethirtyeight')\n",
    "%matplotlib inline"
   ]
  },
  {
   "cell_type": "code",
   "execution_count": 3,
   "metadata": {},
   "outputs": [],
   "source": [
    "from sklearn.linear_model import LinearRegression, BayesianRidge\n",
    "from sklearn.model_selection import RandomizedSearchCV, train_test_split\n",
    "from sklearn.preprocessing import PolynomialFeatures\n",
    "from sklearn.tree import DecisionTreeRegressor\n",
    "from sklearn.svm import SVR\n",
    "from sklearn.metrics import mean_squared_error, mean_absolute_error\n",
    "import datetime as dt\n",
    "from datetime import timedelta\n",
    "import operator \n"
   ]
  },
  {
   "cell_type": "code",
   "execution_count": 4,
   "metadata": {},
   "outputs": [],
   "source": [
    "from sklearn.model_selection import RandomizedSearchCV, train_test_split\n",
    "from sklearn.svm import SVR\n",
    "from sklearn.metrics import mean_squared_error, mean_absolute_error\n",
    "import datetime\n",
    "import operator "
   ]
  },
  {
   "cell_type": "markdown",
   "metadata": {},
   "source": [
    "### Preparation for predictions"
   ]
  },
  {
   "cell_type": "code",
   "execution_count": 5,
   "metadata": {},
   "outputs": [
    {
     "data": {
      "text/html": [
       "<div>\n",
       "<style scoped>\n",
       "    .dataframe tbody tr th:only-of-type {\n",
       "        vertical-align: middle;\n",
       "    }\n",
       "\n",
       "    .dataframe tbody tr th {\n",
       "        vertical-align: top;\n",
       "    }\n",
       "\n",
       "    .dataframe thead th {\n",
       "        text-align: right;\n",
       "    }\n",
       "</style>\n",
       "<table border=\"1\" class=\"dataframe\">\n",
       "  <thead>\n",
       "    <tr style=\"text-align: right;\">\n",
       "      <th></th>\n",
       "      <th>ObservationDate</th>\n",
       "      <th>Active Cases</th>\n",
       "      <th>Confirmed</th>\n",
       "      <th>Total Confirmed</th>\n",
       "      <th>Deaths</th>\n",
       "      <th>Total Deaths</th>\n",
       "      <th>Recovered</th>\n",
       "      <th>Total Recovered</th>\n",
       "      <th>Mortality Rate</th>\n",
       "      <th>Recovery Rate</th>\n",
       "      <th>Closed Cases</th>\n",
       "    </tr>\n",
       "  </thead>\n",
       "  <tbody>\n",
       "    <tr>\n",
       "      <td>0</td>\n",
       "      <td>2020-01-22</td>\n",
       "      <td>14823.0</td>\n",
       "      <td>555.0</td>\n",
       "      <td>13698.0</td>\n",
       "      <td>17.0</td>\n",
       "      <td>425.0</td>\n",
       "      <td>28.0</td>\n",
       "      <td>700.0</td>\n",
       "      <td>3.063063</td>\n",
       "      <td>5.045045</td>\n",
       "      <td>1125.0</td>\n",
       "    </tr>\n",
       "    <tr>\n",
       "      <td>1</td>\n",
       "      <td>2020-01-23</td>\n",
       "      <td>50209.0</td>\n",
       "      <td>653.0</td>\n",
       "      <td>46535.0</td>\n",
       "      <td>18.0</td>\n",
       "      <td>1380.0</td>\n",
       "      <td>30.0</td>\n",
       "      <td>2294.0</td>\n",
       "      <td>2.756508</td>\n",
       "      <td>4.594181</td>\n",
       "      <td>3674.0</td>\n",
       "    </tr>\n",
       "    <tr>\n",
       "      <td>2</td>\n",
       "      <td>2020-01-24</td>\n",
       "      <td>90875.0</td>\n",
       "      <td>941.0</td>\n",
       "      <td>84580.0</td>\n",
       "      <td>26.0</td>\n",
       "      <td>2455.0</td>\n",
       "      <td>36.0</td>\n",
       "      <td>3840.0</td>\n",
       "      <td>2.763018</td>\n",
       "      <td>3.825717</td>\n",
       "      <td>6295.0</td>\n",
       "    </tr>\n",
       "    <tr>\n",
       "      <td>3</td>\n",
       "      <td>2020-01-25</td>\n",
       "      <td>161453.0</td>\n",
       "      <td>1438.0</td>\n",
       "      <td>151146.0</td>\n",
       "      <td>42.0</td>\n",
       "      <td>4491.0</td>\n",
       "      <td>39.0</td>\n",
       "      <td>5816.0</td>\n",
       "      <td>2.920723</td>\n",
       "      <td>2.712100</td>\n",
       "      <td>10307.0</td>\n",
       "    </tr>\n",
       "    <tr>\n",
       "      <td>4</td>\n",
       "      <td>2020-01-26</td>\n",
       "      <td>273936.0</td>\n",
       "      <td>2118.0</td>\n",
       "      <td>257974.0</td>\n",
       "      <td>56.0</td>\n",
       "      <td>7420.0</td>\n",
       "      <td>52.0</td>\n",
       "      <td>8542.0</td>\n",
       "      <td>2.644004</td>\n",
       "      <td>2.455146</td>\n",
       "      <td>15962.0</td>\n",
       "    </tr>\n",
       "  </tbody>\n",
       "</table>\n",
       "</div>"
      ],
      "text/plain": [
       "  ObservationDate  Active Cases  Confirmed  Total Confirmed  Deaths  \\\n",
       "0      2020-01-22       14823.0      555.0          13698.0    17.0   \n",
       "1      2020-01-23       50209.0      653.0          46535.0    18.0   \n",
       "2      2020-01-24       90875.0      941.0          84580.0    26.0   \n",
       "3      2020-01-25      161453.0     1438.0         151146.0    42.0   \n",
       "4      2020-01-26      273936.0     2118.0         257974.0    56.0   \n",
       "\n",
       "   Total Deaths  Recovered  Total Recovered  Mortality Rate  Recovery Rate  \\\n",
       "0         425.0       28.0            700.0        3.063063       5.045045   \n",
       "1        1380.0       30.0           2294.0        2.756508       4.594181   \n",
       "2        2455.0       36.0           3840.0        2.763018       3.825717   \n",
       "3        4491.0       39.0           5816.0        2.920723       2.712100   \n",
       "4        7420.0       52.0           8542.0        2.644004       2.455146   \n",
       "\n",
       "   Closed Cases  \n",
       "0        1125.0  \n",
       "1        3674.0  \n",
       "2        6295.0  \n",
       "3       10307.0  \n",
       "4       15962.0  "
      ]
     },
     "execution_count": 5,
     "metadata": {},
     "output_type": "execute_result"
    }
   ],
   "source": [
    "covid_df= pd.read_csv(\"Corona.csv\")\n",
    "del covid_df[\"Unnamed: 0\"]\n",
    "covid_df.head()"
   ]
  },
  {
   "cell_type": "code",
   "execution_count": 8,
   "metadata": {
    "scrolled": false
   },
   "outputs": [
    {
     "data": {
      "text/html": [
       "<div>\n",
       "<style scoped>\n",
       "    .dataframe tbody tr th:only-of-type {\n",
       "        vertical-align: middle;\n",
       "    }\n",
       "\n",
       "    .dataframe tbody tr th {\n",
       "        vertical-align: top;\n",
       "    }\n",
       "\n",
       "    .dataframe thead th {\n",
       "        text-align: right;\n",
       "    }\n",
       "</style>\n",
       "<table border=\"1\" class=\"dataframe\">\n",
       "  <thead>\n",
       "    <tr style=\"text-align: right;\">\n",
       "      <th></th>\n",
       "      <th>ObservationDate</th>\n",
       "      <th>Active Cases</th>\n",
       "      <th>Confirmed</th>\n",
       "      <th>Total Confirmed</th>\n",
       "      <th>Deaths</th>\n",
       "      <th>Total Deaths</th>\n",
       "      <th>Recovered</th>\n",
       "      <th>Total Recovered</th>\n",
       "      <th>Mortality Rate</th>\n",
       "      <th>Recovery Rate</th>\n",
       "      <th>Closed Cases</th>\n",
       "    </tr>\n",
       "  </thead>\n",
       "  <tbody>\n",
       "    <tr>\n",
       "      <td>56</td>\n",
       "      <td>2020-03-18</td>\n",
       "      <td>1.602065e+09</td>\n",
       "      <td>214203.0</td>\n",
       "      <td>1.135116e+09</td>\n",
       "      <td>8726.0</td>\n",
       "      <td>37697731.0</td>\n",
       "      <td>82988.0</td>\n",
       "      <td>429252148.0</td>\n",
       "      <td>4.073706</td>\n",
       "      <td>38.742688</td>\n",
       "      <td>466949879.0</td>\n",
       "    </tr>\n",
       "    <tr>\n",
       "      <td>57</td>\n",
       "      <td>2020-03-19</td>\n",
       "      <td>1.744737e+09</td>\n",
       "      <td>242001.0</td>\n",
       "      <td>1.237146e+09</td>\n",
       "      <td>9860.0</td>\n",
       "      <td>41624303.0</td>\n",
       "      <td>84637.0</td>\n",
       "      <td>465966986.0</td>\n",
       "      <td>4.074363</td>\n",
       "      <td>34.973822</td>\n",
       "      <td>507591289.0</td>\n",
       "    </tr>\n",
       "    <tr>\n",
       "      <td>58</td>\n",
       "      <td>2020-03-20</td>\n",
       "      <td>1.896370e+09</td>\n",
       "      <td>271455.0</td>\n",
       "      <td>1.347335e+09</td>\n",
       "      <td>11292.0</td>\n",
       "      <td>45979738.0</td>\n",
       "      <td>87078.0</td>\n",
       "      <td>503055377.0</td>\n",
       "      <td>4.159805</td>\n",
       "      <td>32.078245</td>\n",
       "      <td>549035115.0</td>\n",
       "    </tr>\n",
       "    <tr>\n",
       "      <td>59</td>\n",
       "      <td>2020-03-21</td>\n",
       "      <td>2.051173e+09</td>\n",
       "      <td>303816.0</td>\n",
       "      <td>1.461426e+09</td>\n",
       "      <td>12965.0</td>\n",
       "      <td>50668353.0</td>\n",
       "      <td>91351.0</td>\n",
       "      <td>539078878.0</td>\n",
       "      <td>4.267386</td>\n",
       "      <td>30.067870</td>\n",
       "      <td>589747231.0</td>\n",
       "    </tr>\n",
       "    <tr>\n",
       "      <td>60</td>\n",
       "      <td>2020-03-22</td>\n",
       "      <td>2.222105e+09</td>\n",
       "      <td>335245.0</td>\n",
       "      <td>1.588194e+09</td>\n",
       "      <td>14626.0</td>\n",
       "      <td>55996377.0</td>\n",
       "      <td>97557.0</td>\n",
       "      <td>577914253.0</td>\n",
       "      <td>4.362779</td>\n",
       "      <td>29.100210</td>\n",
       "      <td>633910630.0</td>\n",
       "    </tr>\n",
       "  </tbody>\n",
       "</table>\n",
       "</div>"
      ],
      "text/plain": [
       "   ObservationDate  Active Cases  Confirmed  Total Confirmed   Deaths  \\\n",
       "56      2020-03-18  1.602065e+09   214203.0     1.135116e+09   8726.0   \n",
       "57      2020-03-19  1.744737e+09   242001.0     1.237146e+09   9860.0   \n",
       "58      2020-03-20  1.896370e+09   271455.0     1.347335e+09  11292.0   \n",
       "59      2020-03-21  2.051173e+09   303816.0     1.461426e+09  12965.0   \n",
       "60      2020-03-22  2.222105e+09   335245.0     1.588194e+09  14626.0   \n",
       "\n",
       "    Total Deaths  Recovered  Total Recovered  Mortality Rate  Recovery Rate  \\\n",
       "56    37697731.0    82988.0      429252148.0        4.073706      38.742688   \n",
       "57    41624303.0    84637.0      465966986.0        4.074363      34.973822   \n",
       "58    45979738.0    87078.0      503055377.0        4.159805      32.078245   \n",
       "59    50668353.0    91351.0      539078878.0        4.267386      30.067870   \n",
       "60    55996377.0    97557.0      577914253.0        4.362779      29.100210   \n",
       "\n",
       "    Closed Cases  \n",
       "56   466949879.0  \n",
       "57   507591289.0  \n",
       "58   549035115.0  \n",
       "59   589747231.0  \n",
       "60   633910630.0  "
      ]
     },
     "execution_count": 8,
     "metadata": {},
     "output_type": "execute_result"
    }
   ],
   "source": [
    "covid_df.tail()"
   ]
  },
  {
   "cell_type": "code",
   "execution_count": 6,
   "metadata": {},
   "outputs": [],
   "source": [
    "#Converting \"Observation Date\" into Datetime format\n",
    "covid_df[\"ObservationDate\"]=pd.to_datetime(covid_df[\"ObservationDate\"])"
   ]
  },
  {
   "cell_type": "code",
   "execution_count": 7,
   "metadata": {},
   "outputs": [
    {
     "data": {
      "text/html": [
       "<div>\n",
       "<style scoped>\n",
       "    .dataframe tbody tr th:only-of-type {\n",
       "        vertical-align: middle;\n",
       "    }\n",
       "\n",
       "    .dataframe tbody tr th {\n",
       "        vertical-align: top;\n",
       "    }\n",
       "\n",
       "    .dataframe thead th {\n",
       "        text-align: right;\n",
       "    }\n",
       "</style>\n",
       "<table border=\"1\" class=\"dataframe\">\n",
       "  <thead>\n",
       "    <tr style=\"text-align: right;\">\n",
       "      <th></th>\n",
       "      <th>0</th>\n",
       "    </tr>\n",
       "  </thead>\n",
       "  <tbody>\n",
       "    <tr>\n",
       "      <td>0</td>\n",
       "      <td>2020-03-23</td>\n",
       "    </tr>\n",
       "    <tr>\n",
       "      <td>1</td>\n",
       "      <td>2020-03-24</td>\n",
       "    </tr>\n",
       "    <tr>\n",
       "      <td>2</td>\n",
       "      <td>2020-03-25</td>\n",
       "    </tr>\n",
       "    <tr>\n",
       "      <td>3</td>\n",
       "      <td>2020-03-26</td>\n",
       "    </tr>\n",
       "    <tr>\n",
       "      <td>4</td>\n",
       "      <td>2020-03-27</td>\n",
       "    </tr>\n",
       "  </tbody>\n",
       "</table>\n",
       "</div>"
      ],
      "text/plain": [
       "           0\n",
       "0 2020-03-23\n",
       "1 2020-03-24\n",
       "2 2020-03-25\n",
       "3 2020-03-26\n",
       "4 2020-03-27"
      ]
     },
     "execution_count": 7,
     "metadata": {},
     "output_type": "execute_result"
    }
   ],
   "source": [
    "\n",
    "new_date=[]\n",
    "for i in range(1,18):\n",
    "    new_date.append(covid_df[\"ObservationDate\"].iloc[-1] + timedelta(days=i) )\n",
    "model_predictions=pd.DataFrame(new_date) \n",
    "model_predictions.head()"
   ]
  },
  {
   "cell_type": "code",
   "execution_count": 8,
   "metadata": {},
   "outputs": [
    {
     "data": {
      "text/html": [
       "<div>\n",
       "<style scoped>\n",
       "    .dataframe tbody tr th:only-of-type {\n",
       "        vertical-align: middle;\n",
       "    }\n",
       "\n",
       "    .dataframe tbody tr th {\n",
       "        vertical-align: top;\n",
       "    }\n",
       "\n",
       "    .dataframe thead th {\n",
       "        text-align: right;\n",
       "    }\n",
       "</style>\n",
       "<table border=\"1\" class=\"dataframe\">\n",
       "  <thead>\n",
       "    <tr style=\"text-align: right;\">\n",
       "      <th></th>\n",
       "      <th>0</th>\n",
       "    </tr>\n",
       "  </thead>\n",
       "  <tbody>\n",
       "    <tr>\n",
       "      <td>0</td>\n",
       "      <td>2020-03-23</td>\n",
       "    </tr>\n",
       "    <tr>\n",
       "      <td>1</td>\n",
       "      <td>2020-03-24</td>\n",
       "    </tr>\n",
       "    <tr>\n",
       "      <td>2</td>\n",
       "      <td>2020-03-25</td>\n",
       "    </tr>\n",
       "    <tr>\n",
       "      <td>3</td>\n",
       "      <td>2020-03-26</td>\n",
       "    </tr>\n",
       "    <tr>\n",
       "      <td>4</td>\n",
       "      <td>2020-03-27</td>\n",
       "    </tr>\n",
       "    <tr>\n",
       "      <td>5</td>\n",
       "      <td>2020-03-28</td>\n",
       "    </tr>\n",
       "    <tr>\n",
       "      <td>6</td>\n",
       "      <td>2020-03-29</td>\n",
       "    </tr>\n",
       "    <tr>\n",
       "      <td>7</td>\n",
       "      <td>2020-03-30</td>\n",
       "    </tr>\n",
       "    <tr>\n",
       "      <td>8</td>\n",
       "      <td>2020-03-31</td>\n",
       "    </tr>\n",
       "    <tr>\n",
       "      <td>9</td>\n",
       "      <td>2020-04-01</td>\n",
       "    </tr>\n",
       "    <tr>\n",
       "      <td>10</td>\n",
       "      <td>2020-04-02</td>\n",
       "    </tr>\n",
       "    <tr>\n",
       "      <td>11</td>\n",
       "      <td>2020-04-03</td>\n",
       "    </tr>\n",
       "    <tr>\n",
       "      <td>12</td>\n",
       "      <td>2020-04-04</td>\n",
       "    </tr>\n",
       "    <tr>\n",
       "      <td>13</td>\n",
       "      <td>2020-04-05</td>\n",
       "    </tr>\n",
       "    <tr>\n",
       "      <td>14</td>\n",
       "      <td>2020-04-06</td>\n",
       "    </tr>\n",
       "    <tr>\n",
       "      <td>15</td>\n",
       "      <td>2020-04-07</td>\n",
       "    </tr>\n",
       "    <tr>\n",
       "      <td>16</td>\n",
       "      <td>2020-04-08</td>\n",
       "    </tr>\n",
       "  </tbody>\n",
       "</table>\n",
       "</div>"
      ],
      "text/plain": [
       "            0\n",
       "0  2020-03-23\n",
       "1  2020-03-24\n",
       "2  2020-03-25\n",
       "3  2020-03-26\n",
       "4  2020-03-27\n",
       "5  2020-03-28\n",
       "6  2020-03-29\n",
       "7  2020-03-30\n",
       "8  2020-03-31\n",
       "9  2020-04-01\n",
       "10 2020-04-02\n",
       "11 2020-04-03\n",
       "12 2020-04-04\n",
       "13 2020-04-05\n",
       "14 2020-04-06\n",
       "15 2020-04-07\n",
       "16 2020-04-08"
      ]
     },
     "execution_count": 8,
     "metadata": {},
     "output_type": "execute_result"
    }
   ],
   "source": [
    "new_date=[]\n",
    "for i in range(1,18):\n",
    "    new_date.append(covid_df[\"ObservationDate\"].iloc[-1] + timedelta(days=i) )\n",
    "model_predictions=pd.DataFrame(new_date) \n",
    "model_predictions"
   ]
  },
  {
   "cell_type": "markdown",
   "metadata": {},
   "source": [
    "#### model"
   ]
  },
  {
   "cell_type": "code",
   "execution_count": 9,
   "metadata": {},
   "outputs": [
    {
     "data": {
      "text/plain": [
       "RangeIndex(start=0, stop=61, step=1)"
      ]
     },
     "execution_count": 9,
     "metadata": {},
     "output_type": "execute_result"
    }
   ],
   "source": [
    "covid_df[\"Days Since\"]=covid_df.index-covid_df.index[0]\n",
    "covid_df.index\n",
    "#covid_df[\"Days Since\"]=covid_df[\"Days Since\"].dt.days"
   ]
  },
  {
   "cell_type": "code",
   "execution_count": 10,
   "metadata": {},
   "outputs": [],
   "source": [
    "train_ml=covid_df.iloc[:int(covid_df.shape[0]*0.90)]\n",
    "valid_ml=covid_df.iloc[int(covid_df.shape[0]*0.90):]\n",
    "model_scores=[]"
   ]
  },
  {
   "cell_type": "code",
   "execution_count": 11,
   "metadata": {},
   "outputs": [],
   "source": [
    "# To include standard scaler\n",
    "from sklearn.preprocessing import StandardScaler\n",
    "sc_X = StandardScaler()\n",
    "sc_y = StandardScaler()\n"
   ]
  },
  {
   "cell_type": "code",
   "execution_count": 67,
   "metadata": {},
   "outputs": [],
   "source": [
    "#X_train = np.array(train_ml[\"Days Since\"]).reshape(-1,1)\n",
    "#X_test = np.array(valid_ml[\"Days Since\"]).reshape(-1,1)\n",
    "#y_train = np.array(train_ml[\"Confirmed\"]).reshape(-1,1)\n",
    "#y_test= np.array(valid_ml[\"Days Since\"]).reshape(-1,1)\n",
    "from sklearn import preprocessing\n",
    "#test size of 30% and train of 70%\n",
    "X=np.array(covid_df[[\"Days Since\"]])\n",
    "y=np.array(covid_df[\"Confirmed\"])\n",
    "\n",
    "#SCALING\n",
    "#X = sc_X.fit_transform(X)\n",
    "#y = sc_y.fit_transform(y)\n",
    "\n",
    "X_train, X_test, y_train, y_test = train_test_split(X,y,\n",
    "                                                    test_size=0.3,\n",
    "                                                    shuffle=False)\n",
    "\n",
    "\n",
    "#train_test_split(x, y, test_size=0.10, shuffle=False) "
   ]
  },
  {
   "cell_type": "markdown",
   "metadata": {},
   "source": [
    "### SVM"
   ]
  },
  {
   "cell_type": "code",
   "execution_count": 68,
   "metadata": {},
   "outputs": [
    {
     "name": "stdout",
     "output_type": "stream",
     "text": [
      "Fitting 3 folds for each of 30 candidates, totalling 90 fits\n"
     ]
    },
    {
     "name": "stderr",
     "output_type": "stream",
     "text": [
      "[Parallel(n_jobs=-1)]: Using backend LokyBackend with 4 concurrent workers.\n",
      "[Parallel(n_jobs=-1)]: Done  90 out of  90 | elapsed:   11.2s finished\n"
     ]
    }
   ],
   "source": [
    "# find the optimal parameters for SVR\n",
    "kernel =[\"poly\", \"sigmoid\", \"rbf\"] #if not specified rbf will be used\n",
    "c = [0.01, 0.1, 1, 10, 100, 100]\n",
    "gamma = ['auto','scale']\n",
    "epsilon = [0.01, 0.1, 1]\n",
    "shrinking = [True, False]\n",
    "degree = [3, 4, 5, 6, 7]\n",
    "\n",
    "svm_grid = {'C': c, 'gamma' : gamma, 'epsilon': epsilon, 'shrinking' : shrinking, 'degree': degree}\n",
    "\n",
    "svm = SVR()\n",
    "svm_search = RandomizedSearchCV(svm, svm_grid, scoring='neg_mean_squared_error', cv=3, return_train_score=True, n_jobs=-1, n_iter=30, verbose=1)\n",
    "svm_search = svm_search.fit(X_train,y_train)"
   ]
  },
  {
   "cell_type": "code",
   "execution_count": 69,
   "metadata": {},
   "outputs": [
    {
     "data": {
      "text/plain": [
       "{'shrinking': True, 'gamma': 'scale', 'epsilon': 1, 'degree': 3, 'C': 100}"
      ]
     },
     "execution_count": 69,
     "metadata": {},
     "output_type": "execute_result"
    }
   ],
   "source": [
    "svm_search.best_params_"
   ]
  },
  {
   "cell_type": "code",
   "execution_count": 64,
   "metadata": {},
   "outputs": [],
   "source": [
    "#Intializing SVR Model and with hyperparameters for GridSearchCV\n",
    "svm = SVR(shrinking=True, kernel='poly',gamma='scale', epsilon=0.01, degree=7, C=100)\n",
    "\n",
    "#Performing GridSearchCV to find the Best Estimator\n",
    "#svm_confirmed.fit(X_train_confirmed, y_train_confirmed)\n",
    "svm=svm.fit(X_train, y_train)"
   ]
  },
  {
   "cell_type": "code",
   "execution_count": 65,
   "metadata": {},
   "outputs": [
    {
     "name": "stdout",
     "output_type": "stream",
     "text": [
      "-77124.71999363218\n"
     ]
    }
   ],
   "source": [
    "confidence = svm.score(X_test, y_test)\n",
    "print(confidence)"
   ]
  },
  {
   "cell_type": "code",
   "execution_count": 66,
   "metadata": {},
   "outputs": [],
   "source": [
    "#svm_pred = svm_confirmed.predict(future_forecast)\n",
    "y_pred=svm.predict(X_test)"
   ]
  },
  {
   "cell_type": "code",
   "execution_count": 44,
   "metadata": {},
   "outputs": [
    {
     "data": {
      "text/plain": [
       "array([114525.33297117, 120940.21363289, 127660.50843204, 134693.32002298,\n",
       "       142045.75106007, 149724.90419765, 157737.88209011, 166091.78739178,\n",
       "       174793.72275704, 183850.79084023, 193270.09429573, 203058.73577788,\n",
       "       213223.81794105, 223772.44343959, 234711.71492787, 246048.73506024,\n",
       "       257790.60649106, 269944.4318747 , 282517.3138655 ])"
      ]
     },
     "execution_count": 44,
     "metadata": {},
     "output_type": "execute_result"
    }
   ],
   "source": [
    "y_pred"
   ]
  },
  {
   "cell_type": "code",
   "execution_count": 45,
   "metadata": {},
   "outputs": [],
   "source": [
    "#print(len(y))"
   ]
  },
  {
   "cell_type": "code",
   "execution_count": 46,
   "metadata": {},
   "outputs": [
    {
     "name": "stdout",
     "output_type": "stream",
     "text": [
      "MAE: 31350.91592668792\n",
      "MSE: 1111504523.9416578\n",
      "RMSE 33339.234003522906\n"
     ]
    }
   ],
   "source": [
    "# check w/ testing data\n",
    "mse=mean_squared_error(y_test, y_pred)\n",
    "print('MAE:', mean_absolute_error(y_test, y_pred))\n",
    "print('MSE:',mean_squared_error(y_test, y_pred))\n",
    "print(\"RMSE\", np.sqrt(mse))"
   ]
  },
  {
   "cell_type": "code",
   "execution_count": 21,
   "metadata": {},
   "outputs": [],
   "source": [
    "#covid_df.columns"
   ]
  },
  {
   "cell_type": "code",
   "execution_count": 47,
   "metadata": {},
   "outputs": [
    {
     "data": {
      "text/plain": [
       "<matplotlib.legend.Legend at 0x1a1bd5d910>"
      ]
     },
     "execution_count": 47,
     "metadata": {},
     "output_type": "execute_result"
    },
    {
     "data": {
      "image/png": "[encoded data removed]",
      "text/plain": [
       "<Figure size 792x432 with 1 Axes>"
      ]
     },
     "metadata": {
      "needs_background": "light"
     },
     "output_type": "display_data"
    }
   ],
   "source": [
    "\n",
    "#svm_test_pred = svm_confirmed.predict(X_test_confirmed)\n",
    "#plt.plot(y_test_confirmed)\n",
    "#plt.plot(svm_test_pred)\n",
    "#plt.legend(['Test Data', 'SVM Predictions'])\n",
    "#print('MAE:', mean_absolute_error(svm_test_pred, y_test_confirmed))\n",
    "#print('MSE:',mean_squared_error(svm_test_pred, y_test_confirmed))\n",
    "\n",
    "#plt.figure(figsize=(20,12))\n",
    "#plt.plot(adjusted_dates, total_deaths)\n",
    "#plt.plot(future_forecast, svm_pred, linestyle =\"dashed\", color=\"purple\")\n",
    "#plt.title(\"Number of Coronavirus Over Time\", size=30)\n",
    "#plt.xlabel(\"Dayse since 1/22/2020\", size=30)\n",
    "#plt.ylabel(\"Number of Cases\", size=30)\n",
    "#plt.legend([\"Confirmed Cases\", \"SVM predictions\"])\n",
    "#plt.xticks(size=15)\n",
    "#plt.yticks(size=15)\n",
    "\n",
    "# nº cases of coronavirus over time\n",
    "plt.figure(figsize=(11,6))\n",
    "prediction_svm=svm.predict(X)\n",
    "\n",
    "plt.plot(X, y,label= \"Train Confirmed Cases\",linewidth=3)\n",
    "plt.plot(X, prediction_svm, linestyle='--',label=\"Best Fit for SVR\",color='black')\n",
    "plt.xlabel(\"Days since 1/22/2020\", size=30)\n",
    "plt.ylabel('Confirmed Cases')\n",
    "plt.title('Confirmed Cases')\n",
    "plt.xticks(size=15)\n",
    "plt.yticks(size=15)\n",
    "plt.legend()"
   ]
  },
  {
   "cell_type": "code",
   "execution_count": 48,
   "metadata": {},
   "outputs": [
    {
     "data": {
      "image/png": "[encoded data removed]",
      "text/plain": [
       "<Figure size 432x288 with 1 Axes>"
      ]
     },
     "metadata": {
      "needs_background": "light"
     },
     "output_type": "display_data"
    }
   ],
   "source": [
    "plt.scatter(X, y, color = 'magenta')\n",
    "plt.plot(X, prediction_svm, color = 'green')\n",
    "plt.title('Confirmed Cases')\n",
    "plt.xlabel(\"Days since 1/22/2020\", size=30)\n",
    "plt.ylabel('Confirmed Cases')\n",
    "plt.show()"
   ]
  },
  {
   "cell_type": "code",
   "execution_count": 49,
   "metadata": {},
   "outputs": [],
   "source": [
    "#new_date=[]\n",
    "#new_prediction_lr=[]\n",
    "#new_prediction_svm=[]\n",
    "#for i in range(1,18):\n",
    "#    new_date.append(covid_df.index[\"Observation Date\"]+timedelta(days=i))\n",
    "#    new_prediction_lr.append(lin_reg.predict(np.array(covid_df[\"Days Since\"].max()+i).reshape(-1,1))[0][0])\n",
    "#    new_prediction_svm.append(svm.predict(np.array(covid_df[\"Days Since\"].max()+i).reshape(-1,1))[0])"
   ]
  },
  {
   "cell_type": "code",
   "execution_count": 228,
   "metadata": {
    "collapsed": true
   },
   "outputs": [
    {
     "data": {
      "image/png": "[encoded data removed]",
      "text/plain": [
       "<Figure size 1440x864 with 1 Axes>"
      ]
     },
     "metadata": {
      "needs_background": "light"
     },
     "output_type": "display_data"
    }
   ],
   "source": [
    "#pd.set_option('display.float_format', lambda x: '%.6f' % x)\n",
    "#model_predictions=pd.DataFrame(zip(new_date,new_prediction_lr,new_prediction_svm),columns=[\"Dates\",\"Linear Regression Prediction\",\"SVM Prediction\"])\n",
    "#model_predictions.head()"
   ]
  },
  {
   "cell_type": "code",
   "execution_count": 229,
   "metadata": {
    "collapsed": true
   },
   "outputs": [
    {
     "name": "stdout",
     "output_type": "stream",
     "text": [
      "SVM future predictions: \n"
     ]
    },
    {
     "data": {
      "text/plain": [
       "{('2020-03-23', 2819670917.294566),\n",
       " ('2020-03-24', 3104594220.2932205),\n",
       " ('2020-03-25', 3413445525.6330996),\n",
       " ('2020-03-26', 3747806118.2634664),\n",
       " ('2020-03-27', 4109334395.7670126),\n",
       " ('2020-03-28', 4499768335.601486),\n",
       " ('2020-03-29', 4920928001.195536),\n",
       " ('2020-03-30', 5374718086.898724),\n",
       " ('2020-03-31', 5863130501.785756),\n",
       " ('2020-04-01', 6388246992.314905)}"
      ]
     },
     "execution_count": 229,
     "metadata": {},
     "output_type": "execute_result"
    }
   ],
   "source": [
    "# prediction for the future 10 days\n",
    "#print(\"SVM future predictions: \")\n",
    "#set(zip(future_forecast_dates[-10:], svm_pred[-10:]))"
   ]
  },
  {
   "cell_type": "code",
   "execution_count": 53,
   "metadata": {},
   "outputs": [
    {
     "data": {
      "image/png": "[encoded data removed]",
      "text/plain": [
       "<Figure size 432x288 with 1 Axes>"
      ]
     },
     "metadata": {
      "needs_background": "light"
     },
     "output_type": "display_data"
    }
   ],
   "source": [
    "%matplotlib inline\n",
    "import matplotlib.pyplot as plt\n",
    "\n",
    "plt.scatter(svm.predict(X_train), svm.predict(X_train)-y_train, c=\"b\", label=\"training data\")\n",
    "plt.scatter(svm.predict(X_test), svm.predict(X_test)-y_test, c=\"g\", label=\"hold out data\")\n",
    "plt.xlabel(\"Predicted Values\")\n",
    "plt.ylabel(\"Residuals\")\n",
    "plt.legend(loc=\"upper left\")\n",
    "#plt.hlines(y=0, xmin=-10, xmax=4000, color=\"r\")\n",
    "#plt.xlim([-10,50000])\n",
    "plt.show()"
   ]
  },
  {
   "cell_type": "code",
   "execution_count": 54,
   "metadata": {},
   "outputs": [
    {
     "name": "stdout",
     "output_type": "stream",
     "text": [
      "MAE train:  14664.164009984472\n",
      "MSE train:  289688039.8199848\n",
      "RMSE train:  17020.224435065033\n",
      "r2:  0.8478328298933218\n",
      "MAE test:  31350.91592668792\n",
      "MSE test:  1111504523.9416578\n",
      "RMSE test:  33339.234003522906\n",
      "r2:  0.8854078267088908\n"
     ]
    }
   ],
   "source": [
    "from sklearn import metrics\n",
    "\n",
    "print(\"MAE train: \", metrics.mean_absolute_error(y_train, svm.predict(X_train).reshape(-1,1))) \n",
    "print(\"MSE train: \",metrics.mean_squared_error(y_train, svm.predict(X_train).reshape(-1,1)))\n",
    "print(\"RMSE train: \",np.sqrt(metrics.mean_squared_error(y_train, svm.predict(X_train).reshape(-1,1))))\n",
    "print(\"r2: \",np.sqrt(metrics.r2_score(y_train, svm.predict(X_train).reshape(-1,1))))\n",
    "\n",
    "print(\"MAE test: \", metrics.mean_absolute_error(y_test, svm.predict(X_test).reshape(-1,1))) \n",
    "print(\"MSE test: \",metrics.mean_squared_error(y_test, svm.predict(X_test).reshape(-1,1)))\n",
    "print(\"RMSE test: \",np.sqrt(metrics.mean_squared_error(y_test, svm.predict(X_test).reshape(-1,1))))\n",
    "print(\"r2: \",np.sqrt(metrics.r2_score(y_test, svm.predict(X_test).reshape(-1,1))))"
   ]
  },
  {
   "cell_type": "code",
   "execution_count": null,
   "metadata": {},
   "outputs": [],
   "source": []
  }
 ],
 "metadata": {
  "kernelspec": {
   "display_name": "Python 3",
   "language": "python",
   "name": "python3"
  },
  "language_info": {
   "codemirror_mode": {
    "name": "ipython",
    "version": 3
   },
   "file_extension": ".py",
   "mimetype": "text/x-python",
   "name": "python",
   "nbconvert_exporter": "python",
   "pygments_lexer": "ipython3",
   "version": "3.7.6"
  }
 },
 "nbformat": 4,
 "nbformat_minor": 2
}
